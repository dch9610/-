{
 "cells": [
  {
   "cell_type": "markdown",
   "metadata": {},
   "source": [
    "## WHERE절 사용\n",
    "- 많은 행 중에서 필요한 자료만 검색하기 위해 WHERE절을 사용\n",
    "- WHERE은 FROM 다음에 표기"
   ]
  },
  {
   "cell_type": "markdown",
   "metadata": {},
   "source": [
    "<pre>\n",
    "SELECT 컬럼1, 컬럼2..\n",
    "FROM 테이블명\n",
    "WHERE 조건식;\n",
    "</pre>"
   ]
  },
  {
   "cell_type": "markdown",
   "metadata": {},
   "source": [
    "---"
   ]
  },
  {
   "cell_type": "markdown",
   "metadata": {},
   "source": [
    "## 문자, 날짜 자료비교\n",
    "- 문자열 컬럼을 비교하는 경우에는 문자값에 단일인용부호('')로 묶어서 지정"
   ]
  },
  {
   "cell_type": "markdown",
   "metadata": {},
   "source": [
    "<pre>\n",
    "SELECT * \n",
    "FROM player \n",
    "WHERE player_name = '이규호'\n",
    "\n",
    "\n",
    "SELECT * \n",
    "FROM player \n",
    "WHERE birth_date = '1972-11-02'\n",
    "</pre>"
   ]
  },
  {
   "cell_type": "markdown",
   "metadata": {},
   "source": [
    "---"
   ]
  },
  {
   "cell_type": "markdown",
   "metadata": {},
   "source": [
    "## <> 비교연산자\n",
    "- <>연산자는 서로 다른값인지를 비교하는 연산자\n",
    "- <>연산자는 서로 다른 값인 경우 조건을 참(True)"
   ]
  },
  {
   "cell_type": "markdown",
   "metadata": {},
   "source": [
    "<pre>\n",
    "SELECT player_name, height\n",
    "FROM player\n",
    "WHERE height <> 192;\n",
    "</pre>"
   ]
  },
  {
   "cell_type": "markdown",
   "metadata": {},
   "source": [
    "---"
   ]
  },
  {
   "cell_type": "markdown",
   "metadata": {},
   "source": [
    "## >, < 비교연산자\n",
    "- 대소관계를 비교하는 연산자"
   ]
  },
  {
   "cell_type": "markdown",
   "metadata": {},
   "source": [
    "<pre>\n",
    "SELECT  * \n",
    "FROM player \n",
    "WHERE weight <= 70; \n",
    "</pre>"
   ]
  },
  {
   "cell_type": "markdown",
   "metadata": {},
   "source": [
    "---"
   ]
  },
  {
   "cell_type": "markdown",
   "metadata": {},
   "source": [
    "## NULL값 비교하기\n",
    "- NULL 값은 현재 정해지지 않은 미정의 상태 값을 의미\n",
    "- NULL 값은 비교연산자를 사용한 경우 항상 조건결과가 FALSE가 나옴\n",
    "- NULL 값이 아닌 행을 검색하고 싶다면 IS NOT NULL을 사용\n"
   ]
  },
  {
   "cell_type": "markdown",
   "metadata": {},
   "source": [
    "position이 NULL값이 아닌 선수들만 이름, 포지션을 조회\n",
    "\n",
    "<pre>\n",
    "SELECT player_name , position\n",
    "FROM  player\n",
    "WHERE position IS NOT NULL; \n",
    "</pre>"
   ]
  },
  {
   "cell_type": "markdown",
   "metadata": {},
   "source": [
    "---"
   ]
  },
  {
   "cell_type": "markdown",
   "metadata": {},
   "source": [
    "## BETWEEN 연산자\n",
    "- 특정 범위에 해당되는 데이터를 조회하기 위해 사용\n",
    "- 시작하는 값과 끝나는 값이 필요\n",
    "- 양극단의 값도 포함\n"
   ]
  },
  {
   "cell_type": "markdown",
   "metadata": {},
   "source": [
    "소속팀이 K05부터 K08사이에 해당되는 선수들의 이름, 팀id, 포지션을 조회\n",
    "\n",
    "<pre>\n",
    "SELECT player_name, team_id, position\n",
    "FROM player\n",
    "WHERE team_id BETWEEN 'K02' AND 'K04'; \n",
    "</pre>"
   ]
  },
  {
   "cell_type": "markdown",
   "metadata": {},
   "source": [
    "---"
   ]
  },
  {
   "cell_type": "markdown",
   "metadata": {},
   "source": [
    "## IN 연산자\n",
    "- 비교대상이 되는 열의 값이 괄호()안에 지정한 값과 알치하는 데이터만 조회하는데 사용\n",
    "- 비교하는 값이 하나이더라도 반드시 괄호와 같이 사용"
   ]
  },
  {
   "cell_type": "markdown",
   "metadata": {},
   "source": [
    "포지션이 GK, MF, TC인 선수들의 이름, 포지션, 팀id를 조회\n",
    "\n",
    "<pre>\n",
    "SELECT player_name, position, team_id\n",
    "FROM player\n",
    "WHERE position IN ('GK','MF','TC');\n",
    "</pre>"
   ]
  },
  {
   "cell_type": "markdown",
   "metadata": {},
   "source": [
    "---"
   ]
  },
  {
   "cell_type": "markdown",
   "metadata": {},
   "source": [
    "## LIKE 연산자\n",
    "- 특정문자나 문자열이 해당열에 포함되어있는지를 확인\n",
    "- (%, _)를 이용해 문자열 부분 매칭 여부를 확인\n",
    "- %는 0개 문자 또는 1개 이상의 문자열이 올수 있음을 의미\n",
    "- _는 반드시 1개 문자가 있어야 함을 의미"
   ]
  },
  {
   "cell_type": "markdown",
   "metadata": {},
   "source": [
    "첫번째 글자가 '김'인 선수들의 이름, 포지션 조회\n",
    "\n",
    "<pre>\n",
    "SELECT player_name, position\n",
    "FROM player\n",
    "WHERE player_name LIKE '김%';\n",
    "</pre>\n",
    "<br>\n",
    "\n",
    "\n",
    "두번째 글자가 '기'인 선수들의 이름, 팀id 조회\n",
    "\n",
    "<pre>\n",
    "SELECT player_name, position\n",
    "FROM player\n",
    "WHERE player_name LIKE '_기%';\n",
    "</pre>"
   ]
  },
  {
   "cell_type": "markdown",
   "metadata": {},
   "source": [
    "---"
   ]
  },
  {
   "cell_type": "markdown",
   "metadata": {},
   "source": [
    "## AND로 조건 연결하기\n",
    "- WHERE절에 여러조건을 지정할 때 좌우에 있는 두 조건을 모두 만족하는 자료만 선택하기 위해 AND 사용"
   ]
  },
  {
   "cell_type": "markdown",
   "metadata": {},
   "source": [
    "키가 190이상이면서 194이하에 범위 안에 해당되는 선수들만 조회\n",
    "\n",
    "<pre>\n",
    "SELECT player_name, team_id, position, height\n",
    "FROM player\n",
    "WHERE height >= 190 AND height <= 194;\n",
    "</pre>"
   ]
  },
  {
   "cell_type": "markdown",
   "metadata": {},
   "source": [
    "---"
   ]
  },
  {
   "cell_type": "markdown",
   "metadata": {},
   "source": [
    "## OR로 조건 연결하기\n",
    "- 두 조건 중 하나만 만족하더라도 자료를 조회"
   ]
  },
  {
   "cell_type": "markdown",
   "metadata": {},
   "source": [
    "FW 포지션이거나 키가 190보다 큰 선수이름, 포지션, 키 조회\n",
    "\n",
    "<pre>\n",
    "SELECT player_name, position, height \n",
    "FROM player\n",
    "WHERE position ='FW' OR height > 190;\n",
    "</pre>\n",
    "\n"
   ]
  },
  {
   "cell_type": "markdown",
   "metadata": {},
   "source": [
    "### 주의점\n",
    "- AND는 OR에 비해 연산자 우선 순위가 높음\n",
    "- ( )를 사용해 먼저 처리하고 싶은 부분을 지정가능"
   ]
  },
  {
   "cell_type": "code",
   "execution_count": null,
   "metadata": {},
   "outputs": [],
   "source": []
  }
 ],
 "metadata": {
  "kernelspec": {
   "display_name": "Python 3",
   "language": "python",
   "name": "python3"
  },
  "language_info": {
   "codemirror_mode": {
    "name": "ipython",
    "version": 3
   },
   "file_extension": ".py",
   "mimetype": "text/x-python",
   "name": "python",
   "nbconvert_exporter": "python",
   "pygments_lexer": "ipython3",
   "version": "3.8.5"
  }
 },
 "nbformat": 4,
 "nbformat_minor": 4
}
