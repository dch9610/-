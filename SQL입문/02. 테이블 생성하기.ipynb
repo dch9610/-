{
 "cells": [
  {
   "cell_type": "markdown",
   "metadata": {},
   "source": [
    "## 테이블"
   ]
  },
  {
   "cell_type": "markdown",
   "metadata": {},
   "source": [
    "### 테이블이란?\n",
    "- 데이터베이스의 기본적인 자료 (데이터)저장 단위\n",
    "- 테이블은 사용자가 접근 가능한 모든 데이터를 보유하며 열과 행으로 구성\n",
    "- 데이터 모델링 단계에서 생성된 엔티티들이 테이블로 생성\n",
    "- 테이블은 두 엔티티간의 관계를 지정\n",
    "- 테이블내에 있는 외래키(Foreign Key)는 두 엔티티 사이의 관계를 표현"
   ]
  },
  {
   "cell_type": "markdown",
   "metadata": {},
   "source": [
    "### 주의 사항\n",
    "- 테이블 생성시 컬럼을 정의할 때 선언한 데이터 유형은 그 컬럼이 받아들일 수 있는 자료의 유형으로 규정\n",
    "    - 기본 데이터 타입의 종류는 크게 문자형, 숫자형, 날짜형으로 구분\n",
    "- 데이터 유형과 더불어 지정한 크기도 중요한 기능을 제공"
   ]
  },
  {
   "cell_type": "markdown",
   "metadata": {},
   "source": [
    "### 테이블 생성 구문\n",
    "- CREATE TABLE 키워드 다음에 생성할 테이블 이름을 지정\n",
    "- 각 컬럼명을 지정한 다음 데이터 타입은 필수로 지정해야 하고 기본값이나 제약조건은 설정할 필요가 있는 컬럼에만 선택적으로 지정\n",
    "\n",
    "<pre>\n",
    "CREATE TABLE 테이블 이름(\n",
    "컬럼1 데이터타입 [DEFAULT 기본값] [제약조건],\n",
    "컬럼2 데이터타입 [DEFAULT 기본값] [제약조건],\n",
    "컬럼3 데이터타입 [DEFAULT 기본값] [제약조건]\n",
    ");\n",
    "</pre>"
   ]
  },
  {
   "cell_type": "markdown",
   "metadata": {},
   "source": [
    "---"
   ]
  },
  {
   "cell_type": "markdown",
   "metadata": {},
   "source": [
    "## 데이터 타입"
   ]
  },
  {
   "cell_type": "markdown",
   "metadata": {},
   "source": [
    "### 문자 데이터 타입\n",
    "- 영문자, 한글 자료를 저장하기 위해 사용하는 자료형\n",
    "- 사용자가 입력한 글자만큼만 저장 공간을 할당하는 경우 **VARCHAR**\n",
    "- 사용자 입력 글자가 아닌 설정한 크기만큼 저장공간을 할당하는 경우 **CHAR**\n",
    "\n",
    "<img src=\"img/문자데이터타입.png\" width=\"80%\" height=\"40%\" title=\"문자 데이터 타입\" alt=\"문자 데이터 타입\"></img>"
   ]
  },
  {
   "cell_type": "markdown",
   "metadata": {},
   "source": [
    "### 숫자 데이터 타입\n",
    "- 정수를 저장하기 위한 자료형 **INT형** \n",
    "- 실수가 포함될 수도 있는 자료형 **NUMBER형**\n",
    "    - 소수점 자리 지정 **NUMBER(숫자, 소수점자리수)**\n",
    "        - NUMBER(4,2)인 경우 -99.99 ~ 99.99 까지 입력\n",
    "    - 정수만을 표현 **NUMBER(자리수)**\n",
    "        - NUMBER(4)인 경우 -9999 ~ 9999 까지 입력"
   ]
  },
  {
   "cell_type": "markdown",
   "metadata": {},
   "source": [
    "### 날짜 데이터 타입\n",
    "- DATE형을 사용\n",
    "    - DATE형으로 지정하면 년, 월, 일까지 저장"
   ]
  },
  {
   "cell_type": "markdown",
   "metadata": {},
   "source": [
    "---"
   ]
  },
  {
   "cell_type": "markdown",
   "metadata": {},
   "source": [
    "## 제약조건 \n",
    "- 테이블에 부적절한 자료가 입력되는 것을 방지하기 위해서 여러가지 규칙을 적용하는것을 의미\n",
    "- 테이블에 행이 삽입, 갱신, 삭제될 때마다 제약 조건을 만족하는지 확인 작업이 수행되고 만족하지 않는 자료는 입력/ 수정이 거부"
   ]
  },
  {
   "cell_type": "markdown",
   "metadata": {},
   "source": [
    "### 제약조건 종류\n",
    "<img src=\"img/제약조건종류.png\" width=\"80%\" height=\"40%\" title=\"문자 데이터 타입\" alt=\"문자 데이터 타입\"></img>"
   ]
  },
  {
   "cell_type": "markdown",
   "metadata": {},
   "source": [
    "### NOT NULL 제약조건\n",
    "- 해당 컬럼에 NULL값을 허용하지 않도록 하는 설정 (문자열상의 공백을 뜻하는 것은 아님)\n",
    "- NOT NULL로 설정된 컬럼에는 아무런 값도 들어가지 않게 하려는 입력 / 수정하는 작업이 수행되지 않음"
   ]
  },
  {
   "cell_type": "markdown",
   "metadata": {},
   "source": [
    "<img src=\"img/NOTNULL.png\" width=\"80%\" height=\"40%\" title=\"문자 데이터 타입\" alt=\"문자 데이터 타입\"></img>"
   ]
  },
  {
   "cell_type": "markdown",
   "metadata": {},
   "source": [
    "<pre>\n",
    "CREATE TABLE test1 \n",
    "( \n",
    "\tempno  INT , \n",
    "\tename  VARCHAR(20) NOT NULL\n",
    ");\n",
    "\n",
    "INSERT INTO test1 (empno) VALUES (7567);\n",
    "\n",
    "SELECT * FROM test1;\n",
    "</pre>\n",
    "\n",
    "#### ename에 NOT NULL인데 입력값에 ename에 관한 값이 들어있지 않으므로 제약조건에 위배"
   ]
  },
  {
   "cell_type": "markdown",
   "metadata": {},
   "source": [
    "### UNIQUE 제약조건\n",
    "- 컬럼에 중복값이 들어가지 않도록 설정\n",
    "- 기존에 등록된 자료와 동일한 값으로는 입력/수정작업을 수행 할 수 없음"
   ]
  },
  {
   "cell_type": "markdown",
   "metadata": {},
   "source": [
    "<img src=\"img/UNIQUE.png\" width=\"80%\" height=\"40%\" title=\"문자 데이터 타입\" alt=\"문자 데이터 타입\"></img>"
   ]
  },
  {
   "cell_type": "markdown",
   "metadata": {},
   "source": [
    "<pre>\n",
    "CREATE TABLE test2 \n",
    "( \n",
    "\tempno\tINT, \n",
    "\tename\tVARCHAR(20) ,\n",
    " \ttel    \tVARCHAR(20) UNIQUE \n",
    ");\n",
    "\n",
    "INSERT INTO test2 (empno,ename,tel) VALUES (1,'tommy','0101234567');\n",
    "INSERT INTO test2 (empno,ename,tel) VALUES (2,'jane','0106781234');\n",
    "INSERT INTO test2 (empno,ename,tel) VALUES (3,'scott','0101234567');\n",
    "\n",
    "SELECT * FROM test2;\n",
    "</pre>\n",
    "\n",
    "#### tel 컬럼에 UNIQUE 제약조건\n",
    "    * tel 세번째 입력값과 첫번째 입력값이 같으므로 제약조건에 위배"
   ]
  },
  {
   "cell_type": "markdown",
   "metadata": {},
   "source": [
    "### PRIMARY KEY 제약조건\n",
    "- PRIMARY KEY는 기본키라 부르는, 테이블의 각 행들을 구분할 수 있는 식별자\n",
    "- 중복될 수 없고, NULL값이 입력될수 없습니다.\n",
    "- 기본키로 설정하면 자동으로 인덱스가 생성\n",
    "- 기본키는 하나의 컬럼 또는 여러 개의 컬럼을 합쳐서 설정할 수는 있으나, 하나의 테이블에는 한개만 설정"
   ]
  },
  {
   "cell_type": "markdown",
   "metadata": {},
   "source": [
    "<img src=\"img/PRIMARY.png\" width=\"80%\" height=\"40%\" title=\"문자 데이터 타입\" alt=\"문자 데이터 타입\"></img>"
   ]
  },
  {
   "cell_type": "markdown",
   "metadata": {},
   "source": [
    "<pre>\n",
    "CREATE TABLE test3 \n",
    "(\n",
    "\tempno INT PRIMARY KEY, \n",
    " \tename VARCHAR(20) \n",
    ");\n",
    "\n",
    "INSERT INTO test3 (empno,ename) VALUES (100,'홍길동');\n",
    "INSERT INTO test3 (empno,ename) VALUES (101,'임꺽정');\n",
    "INSERT INTO test3 (empno,ename) VALUES (100,'일지매');\n",
    "\n",
    "SELECT * FROM test3;\n",
    "</pre>\n",
    "\n",
    "#### empno 컬럼이 PRIMARY KEY 제약조건이 되있음\n",
    "    - 첫번째 입력값과 세번째 입력값의 empno의 값이 같으므로 제약조건 위배"
   ]
  },
  {
   "cell_type": "markdown",
   "metadata": {},
   "source": [
    "### FOREIGN KEY 제약조건\n",
    "- 외래키라 부르는 두 테이블 간의 관계를 선언하는 제약조건\n",
    "- 데이터의 무결성을 보장\n",
    "- 외래키를 설정하면 하나의 테이블이 다른 테이블에 의존\n",
    "- 꼭 기준 테이블 컬럼을 참조해서, 기준 테이블 컬럼에 해당 데이터가 존재해야만 함"
   ]
  },
  {
   "cell_type": "markdown",
   "metadata": {},
   "source": [
    "<img src=\"img/FOREIGN.png\" width=\"80%\" height=\"40%\" title=\"문자 데이터 타입\" alt=\"문자 데이터 타입\"></img>"
   ]
  },
  {
   "cell_type": "markdown",
   "metadata": {},
   "source": [
    "<pre>\n",
    "CREATE TABLE test4 ( \n",
    "\tempno\tINT PRIMARY KEY , \n",
    "\tename\tVARCHAR(20) ,\n",
    "\tmgr\t\tINT REFERENCES test4(empno) \n",
    ");\n",
    "\n",
    "INSERT INTO test4 (empno,ename) VALUES (100,'scott');\n",
    "INSERT INTO test4 (empno,ename) VALUES (101,'tomas');\n",
    "INSERT INTO test4 (empno,ename,mgr) VALUES ( 102, 'ward', 100);\n",
    "INSERT INTO test4 (empno,ename,mgr) VALUES ( 103, 'smith', 101);\n",
    "INSERT INTO test4 (empno,ename,mgr) VALUES ( 104, 'allen', 99);\n",
    "\n",
    "SELECT * FROM test4; \n",
    "</pre>\n",
    "\n",
    "#### mgr 컬럼에 FORIEGN KEY 제약조건 설정\n",
    "    - test4 테이블에 empno 컬럼을 참조\n",
    "    - 5번째로 입력된 값은 empno 컬럼에 값이 없으므로 제약조건 위배"
   ]
  },
  {
   "cell_type": "markdown",
   "metadata": {},
   "source": [
    "### CHECK 제약조건\n",
    "- 제약이 되는 조건을 직접 입력\n",
    "- 지정한 조건을 만족하는 자료만 입력/수정 가능\n",
    "- 다른 컬럼을 참조하는 것이 아니라 지정된 조건을 만족하는지 확인"
   ]
  },
  {
   "cell_type": "markdown",
   "metadata": {},
   "source": [
    "<img src=\"img/CHECK.png\" width=\"80%\" height=\"40%\" title=\"문자 데이터 타입\" alt=\"문자 데이터 타입\"></img>"
   ]
  },
  {
   "cell_type": "markdown",
   "metadata": {},
   "source": [
    "<pre>\n",
    "CREATE TABLE test5 \n",
    "( \n",
    "\tempno\tINT PRIMARY KEY , \n",
    "\tename\tVARCHAR(20) ,\n",
    "\tsal\t\tINT CHECK (sal > 2000)  \n",
    ");\n",
    "\n",
    "INSERT INTO test5 (empno,ename,sal) VALUES (123, '김동수',2900);\n",
    "INSERT INTO test5 (empno,ename,sal) VALUES (124, '이동수',3900);\n",
    "INSERT INTO test5 (empno,ename,sal) VALUES (125, '김동수',4900);\n",
    "INSERT INTO test5 (empno,ename,sal) VALUES (126, '이동수',5900);\n",
    "INSERT INTO test5 (empno,ename,sal) VALUES (127, '한동수',1900);\n",
    "\n",
    "SELECT * FROM test5;\n",
    "</pre>\n",
    "\n",
    "#### sal 컬럼에 CHECK 제약조건 설정\n",
    "    - sal 컬럼에 입력되는 값은 2000 초과이여야함\n",
    "    - 5번째 입력값은 1900이므로 제약조건 위배"
   ]
  },
  {
   "cell_type": "markdown",
   "metadata": {},
   "source": [
    "---"
   ]
  },
  {
   "cell_type": "markdown",
   "metadata": {},
   "source": [
    "## 테이블 create \n",
    "- 문자로 시작해야함\n",
    "- 1자부터 30자까지 입력 가능\n",
    "- 다른 객체의 이름과 중복되지 않아야함\n",
    "- DB 서버의 예약어는 사용할 수 없음"
   ]
  },
  {
   "cell_type": "markdown",
   "metadata": {},
   "source": [
    "### 테이블 DEFAULT \n",
    "- 테이블에 데이터를 입력시 컬럼 목록에서 해당 컬럼을 생략한 경우 기본값으로 입력\n",
    "\n",
    "<pre>\n",
    "CREATE TABLE test1(\n",
    "    col1 int primary key,\n",
    "    col2 varchar default 'DEFAULT' NOT NULL,\n",
    "    col3 int default 200 NOT NULL\n",
    ");\n",
    "</pre>"
   ]
  },
  {
   "cell_type": "markdown",
   "metadata": {},
   "source": [
    "---"
   ]
  },
  {
   "cell_type": "markdown",
   "metadata": {},
   "source": [
    "## 테이블 제거하기\n",
    "- drop키워드 사용\n",
    "- 데이터와 저장 구조 모두 삭제\n",
    "\n",
    "drop table 테이블명;"
   ]
  },
  {
   "cell_type": "markdown",
   "metadata": {},
   "source": [
    "---"
   ]
  },
  {
   "cell_type": "markdown",
   "metadata": {},
   "source": [
    "## 학습정리\n",
    "1. **데이터형 지정하기**\n",
    "    - 문자형 자료를 저장 : CHAR, VARCHAR\n",
    "    - 숫자형 자료를 저장 : NUMBER, INT\n",
    "    - 날짜형 자료를 저장 : DATE\n",
    "    \n",
    "    \n",
    "2. **제약조건 설정**\n",
    "- NOT NULL : 열이 NULL 값을 포함하지 못하도록 지정\n",
    "- UNIQUE : 테이블의 모든 행에서 고유한 값을 저장\n",
    "- PRIMARY KEY : 테이블의 각 행을 고유하게 식별\n",
    "- FOREIGN KEY : 한 열과 참조된 테이블의 열 사이에 외래키 관계를 설정하고 실행\n",
    "- CHECK : 참이어야하는 조건을 지정\n",
    "\n",
    "\n",
    "3. **테이블 생성하기**\n",
    "- CREATE TABLE을 사용하여 생성\n",
    "- 테이블 생성시 각 컬럼의 데이터 타입, 기본값, 제약조건을 설정\n",
    "- 테이블을 삭제할 때 DROP TABLE"
   ]
  }
 ],
 "metadata": {
  "kernelspec": {
   "display_name": "Python 3",
   "language": "python",
   "name": "python3"
  },
  "language_info": {
   "codemirror_mode": {
    "name": "ipython",
    "version": 3
   },
   "file_extension": ".py",
   "mimetype": "text/x-python",
   "name": "python",
   "nbconvert_exporter": "python",
   "pygments_lexer": "ipython3",
   "version": "3.8.5"
  }
 },
 "nbformat": 4,
 "nbformat_minor": 4
}
