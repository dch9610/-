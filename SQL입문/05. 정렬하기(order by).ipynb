{
 "cells": [
  {
   "cell_type": "markdown",
   "metadata": {},
   "source": [
    "## 정렬 작업 요청하기\n",
    "- 테이블 자료를 조회하면 대부분 테이블에 저장되어 있는 순서대로 화면에 출력\n",
    "- 특정 값 기준 정렬된 결과형태로 자료를 확인하고 싶은 경우 ORDER BY절을 사용해서 정렬 요청\n",
    "- ORDER BY절을 사용할 떄는 SELECT문장의 가장 마지막에 사용\n",
    "- 기본 오름차순으로 수행하며 내림차순 정렬시 DESC키워드를 사용"
   ]
  },
  {
   "cell_type": "markdown",
   "metadata": {},
   "source": [
    "내림차순 정렬\n",
    "\n",
    "<pre>\n",
    "SELECT 컬럼1, 컬럼2\n",
    "FROM 테이블명\n",
    "WHERE 조건식\n",
    "ORDER BY 정렬기준컬럼[DESC];\n",
    "</pre>"
   ]
  },
  {
   "cell_type": "markdown",
   "metadata": {},
   "source": [
    "---"
   ]
  },
  {
   "cell_type": "markdown",
   "metadata": {},
   "source": [
    "## 숫자 자료를 이용해 정렬하기\n",
    "- 숫자 자료를 정렬할 경우 오름차순은 작은 숫자부터 먼저 나오도록함\n",
    "- 가장 큰 숫자부터 먼저 표시하고 싶은 경우 내림차순"
   ]
  },
  {
   "cell_type": "markdown",
   "metadata": {},
   "source": [
    "player 선수들의 이름, 키를 키가 작은 선수부터 먼저 나오도록 오름차순 정렬\n",
    "\n",
    "<pre>\n",
    "SELECT player_name, height\n",
    "FROM player\n",
    "ORDER BY height;\n",
    "</pre>"
   ]
  },
  {
   "cell_type": "markdown",
   "metadata": {},
   "source": [
    "---"
   ]
  },
  {
   "cell_type": "markdown",
   "metadata": {},
   "source": [
    "## 문자 자료를 이용해 정렬하기\n",
    "- 영문자가 한글보다 작은 값으로 처리\n",
    "- 대문자가 소문자보다 작은 값으로 처리\n",
    "- 사전에 나오는 순서대로 크기 비교\n",
    "\n",
    "A < B < Z < a < b < z < 가구 < 가족 < 나"
   ]
  },
  {
   "cell_type": "markdown",
   "metadata": {},
   "source": [
    "player선수들의 이름, 키를 이름이 큰 값을 가진 선수부터 먼저 나오도록 내림차순 정렬\n",
    "\n",
    "<pre>\n",
    "SELECT player_name, height\n",
    "FROM   player\n",
    "ORDER BY player_name DESC;\n",
    "</pre>"
   ]
  },
  {
   "cell_type": "markdown",
   "metadata": {},
   "source": [
    "--- "
   ]
  },
  {
   "cell_type": "markdown",
   "metadata": {},
   "source": [
    "## 날짜 자료를 이용해 정렬하기\n",
    "- 날짜 자료는 오래된 자료 일수록 작은 값으로 최근 자료일수록 큰 값으로 처리\n",
    "- 주문 목록에서 가장 최근에 주문한 자료부터 먼저 보여주고 싶은경우 내림차순 정렬"
   ]
  },
  {
   "cell_type": "markdown",
   "metadata": {},
   "source": [
    "선수 이름, 생일정보를 먼저 태어난 선수부터 먼저 나오도록 정렬 조회\n",
    "\n",
    "<pre>\n",
    "SELECT player_name, birth_date\n",
    "FROM player\n",
    "ORDER BY birth_date;\n",
    "</pre>"
   ]
  },
  {
   "cell_type": "markdown",
   "metadata": {},
   "source": [
    "### 주의사항\n",
    "- NULL값은 가장 낮은 값으로 정렬"
   ]
  },
  {
   "cell_type": "markdown",
   "metadata": {},
   "source": [
    "---"
   ]
  },
  {
   "cell_type": "markdown",
   "metadata": {},
   "source": [
    "## 컬럼 별칭을 이용해 정렬하기\n",
    "- 계산식에 컬럼 별칭을 지정했다면 계산식 대신 해당 별칭을 이용하여 정렬작업을 요청 할 수 있다"
   ]
  },
  {
   "cell_type": "markdown",
   "metadata": {},
   "source": [
    "정렬기준으로 컬럼 별칭은 result로 지정\n",
    "\n",
    "<pre>\n",
    "SELECT player_name, height, weight, height + weight result\n",
    "FROM   player\n",
    "ORDER BY result DESC;\n",
    "</pre>\n",
    "<br>\n",
    "\n",
    "ORDER BY절에 select절에 나오는 순서를 숫자로 지정\n",
    "\n",
    "<pre>\n",
    "SELECT player_name, height, weight, height + weight result\n",
    "FROM   player\n",
    "ORDER BY 4 DESC;\n",
    "</pre>"
   ]
  },
  {
   "cell_type": "markdown",
   "metadata": {},
   "source": [
    "---"
   ]
  },
  {
   "cell_type": "markdown",
   "metadata": {},
   "source": [
    "## ORDER BY 기준 여러개로 지정하기\n",
    "- ORDER BY 절에 여러 컬럼 사용시 콤마(,)로 구분하여 지정\n",
    "- 컬럼마다 오름차순 정렬인지 내림차순 정렬인지를 개별 지정"
   ]
  },
  {
   "cell_type": "markdown",
   "metadata": {},
   "source": [
    "팀id를 오름차순, 키를 내림차순으로 정렬\n",
    "\n",
    "<pre>\n",
    "SELECT player_name, team_id, height \n",
    "FROM player\n",
    "WHERE position='GK'\n",
    "ORDER BY team_id, height DESC;\n",
    "</pre>"
   ]
  },
  {
   "cell_type": "markdown",
   "metadata": {},
   "source": [
    "---"
   ]
  },
  {
   "cell_type": "markdown",
   "metadata": {},
   "source": [
    "## LIMIT으로 결과 행 제한하기\n",
    "- SELECT 결과로 반환되는 행의 최대치를 LIMIT를 이용해 설정할 수 있음"
   ]
  },
  {
   "cell_type": "markdown",
   "metadata": {},
   "source": [
    "player 테이블 자료중 10개의 자료만 추출하기\n",
    "\n",
    "<pre>\n",
    "SELECT player_name, team_id, position, height\n",
    "FROM player \n",
    "LIMIT 10; \n",
    "</pre>"
   ]
  },
  {
   "cell_type": "code",
   "execution_count": null,
   "metadata": {},
   "outputs": [],
   "source": []
  }
 ],
 "metadata": {
  "kernelspec": {
   "display_name": "Python 3",
   "language": "python",
   "name": "python3"
  },
  "language_info": {
   "codemirror_mode": {
    "name": "ipython",
    "version": 3
   },
   "file_extension": ".py",
   "mimetype": "text/x-python",
   "name": "python",
   "nbconvert_exporter": "python",
   "pygments_lexer": "ipython3",
   "version": "3.8.5"
  }
 },
 "nbformat": 4,
 "nbformat_minor": 4
}
