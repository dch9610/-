{
 "cells": [
  {
   "cell_type": "markdown",
   "id": "bba345de",
   "metadata": {},
   "source": [
    "## 조인(JOIN)이란?\n",
    "- 여러 테이블의 데이터를 병합하여 조회할 경우 조인을 사용\n",
    "- 조인은 관계형 데이터베이스에서 가장 기본적이고 가장 중요한 기능\n",
    "- 관계형 데이터베이스에서 서로 독립적인 데이터들간의 조인을 이용하여 필요시 다양한 정보를 참조\n",
    "- 해당 컬럼에 존재하는 공통 값, 기본키 또는 외래키 컬럼을 조인 조건으로 사용하여 한 테이블의 행을 다른 테이블의 행에 조인"
   ]
  },
  {
   "cell_type": "markdown",
   "id": "94542ade",
   "metadata": {},
   "source": [
    "### CROSS JOIN\n",
    "- 두 테이블에 있는 모든 레코드를 가지고 가능한 모든 조합을 만들어 내는 결합 방법\n",
    "    - 실무에서 사용하는 경우는 거의 없음\n",
    "    - ex) 'A 테이블 CROSS JOIN B 테이블'을 수행하면 A 테이블의 모든 행이 B 테이블의 모든 행과 연결"
   ]
  },
  {
   "cell_type": "markdown",
   "id": "f33f816a",
   "metadata": {},
   "source": [
    "player테이블과 team테이블을 CROSS JOIN\n",
    "\n",
    "<pre>\n",
    "SELECT *\n",
    "FROM player CROSS JOIN team\n",
    "ORDER BY player_name; \n",
    "</pre>\n",
    "<br>\n",
    "\n",
    "결과 행의 갯수 파악\n",
    "<pre>\n",
    "SELECT COUNT(*)\n",
    "FROM player CROSS JOIN team; \n",
    "</pre>"
   ]
  },
  {
   "cell_type": "markdown",
   "id": "4d05c76d",
   "metadata": {},
   "source": [
    "---"
   ]
  },
  {
   "cell_type": "markdown",
   "id": "5de78b28",
   "metadata": {},
   "source": [
    "## = 조건을 이용한 모든 자료 조인\n",
    "- 조인 조건에 (=)등호 연산자를 사용하여 값들이 정확하게 일치하는 경우에 연결작업을 수행\n",
    "- 기본 키와 참조키의 관계를 이용하여 조인하는 경우 등호 조인을 사용\n",
    "- 두 테이블 모두 존재하는 컬럼명이 존재한다면 해당 컬럼 앞에는 반드시 테이블명을 표시"
   ]
  },
  {
   "cell_type": "markdown",
   "id": "74b5ed1b",
   "metadata": {},
   "source": [
    "player테이블,team테이블을 JOIN하여 선수이름, 키, 포지션, 팀명(team_name)을 조회\n",
    "\n",
    "<pre>\n",
    "SELECT player_name, height, position, team.team_id, team_name\n",
    "FROM player JOIN team\n",
    "ON player.team_id =team.team_id ;\n",
    "</pre>"
   ]
  },
  {
   "cell_type": "markdown",
   "id": "587998fd",
   "metadata": {},
   "source": [
    "---"
   ]
  },
  {
   "cell_type": "markdown",
   "id": "2c04bd01",
   "metadata": {},
   "source": [
    "## 테이블 별칭 지정하기\n",
    "- 어느 테이블 컬럼인지 구분하기 위해 컬럼명 앞에 테이블명을 붙여서 사용\n",
    "- 테이블 Alias를 이용하여 짧게 사용가능\n",
    "- 테이블 Alias를 지정한 후 기존 테이블 명을 컬럼앞에 붙여서 사용하면 에러가 발생"
   ]
  },
  {
   "cell_type": "markdown",
   "id": "5460e5c0",
   "metadata": {},
   "source": [
    "player테이블명은 p, team 테이블명은 t로 줄여서 선수이름, 키, 포지션, 팀명, 연고지정보를 조회\n",
    "\n",
    "<pre>\n",
    "SELECT\tp.player_name,  \n",
    "\t\tp.height,  \n",
    "\t\tp.position, \n",
    "        t.team_name, \n",
    "\t\tt.region_name\n",
    "FROM player p JOIN team t\n",
    "ON p.team_id = t.team_id;\n",
    "</pre>"
   ]
  },
  {
   "cell_type": "markdown",
   "id": "4fd1e34d",
   "metadata": {},
   "source": [
    "---"
   ]
  },
  {
   "cell_type": "markdown",
   "id": "672b0bb4",
   "metadata": {},
   "source": [
    "## 일부 자료만 선택해서 조인하기\n",
    "- 일부 자료만 조인하고 싶은 경우 WHERE절 사용\n",
    "- 일반적으로 JOIN 조건은 ON절에 지정하고 JOIN 조건이 아닌 일반 조건들은 ON보다 WHERE절에 지정\n"
   ]
  },
  {
   "cell_type": "markdown",
   "id": "44ef8f9c",
   "metadata": {},
   "source": [
    "player, team테이블을 JOIN해서 K03, K07팀에 소속된 선수들중 키가 188보다 큰 선수들만 이름, 포지션,키, 팀명(team_name)을 조회\n",
    "<pre>\n",
    "SELECT\tp.player_name, \n",
    "\t\tp.position,\n",
    "\t\tp.height, \n",
    "\t\tt.team_name\n",
    "FROM player p JOIN team t\n",
    "ON p.team_id = t.team_id\n",
    "WHERE p.team_id IN ('K03','K07') AND p.height > 188; \n",
    "</pre>\n",
    "<br>\n",
    "\n",
    "player, team테이블을 JOIN해서 몸무게가 80에서 85사이에 해당되는 선수들중 포지션이 MF가 아닌 선수들만 선수이름, 포지션,키 ,팀명(team_name), 연고지(region_name)를 조회\n",
    "<pre>\n",
    "SELECT\tp.player_name, \n",
    "\t\tp.position,\n",
    "\t\tp.height, \n",
    "\t\tt.team_name\n",
    "FROM player p JOIN  team t\n",
    "ON p.team_id = t.team_id\n",
    "WHERE p.weight BETWEEN 80 AND 85\n",
    "AND p.position <> 'MF' ; \n",
    "</pre>"
   ]
  },
  {
   "cell_type": "markdown",
   "id": "ef3337d1",
   "metadata": {},
   "source": [
    "---"
   ]
  },
  {
   "cell_type": "markdown",
   "id": "2b537137",
   "metadata": {},
   "source": [
    "## N개 이상 테이블 조인하기\n",
    "- SELECT문에서 조인할 수 있는 테이블의 수에  제한이 없습니다.\n",
    "- 여러 개의 테이블을 조인하는 경우에도  기본 구문은 동일 합니다."
   ]
  },
  {
   "cell_type": "markdown",
   "id": "9b50d3bb",
   "metadata": {},
   "source": [
    "player, team, stadium테이블을 JOIN해서 포지션GK이고 소속팀이 K05팀 아닌 선수들의 이름, 포지션, 키, 소속팀명, 홈구장명을 확인\n",
    "<pre>\n",
    "SELECT p.player_name,  p.position, p.height, t.team_name, s.stadium_name\n",
    "FROM player p JOIN team t\n",
    "ON p.team_id = t.team_id \n",
    "JOIN stadium s \n",
    "ON t.team_id = s.hometeam_id\n",
    "WHERE p.position='GK' AND p.team_id <> 'K05';\n",
    "</pre>"
   ]
  },
  {
   "cell_type": "markdown",
   "id": "082f2477",
   "metadata": {},
   "source": [
    "---"
   ]
  },
  {
   "cell_type": "markdown",
   "id": "a446b78a",
   "metadata": {},
   "source": [
    "## 아우터조인이란?\n",
    "- 어느 한쪽 테이블이 기준이 되어 JOIN 성공 여부에 상관없이 기준이 되는 테이블의 자료를 무조건 추출하는 조인방법\n",
    "- 즉, OUTER 조인의 기준이 되는 집합은 항상 조인에 성공해서 결과에 표시\n",
    "- 3가지 형태가 가능\n",
    "    - LEFT OUTER JOIN\n",
    "    - RIGHT OUTER JOIN\n",
    "    - FULL OUTER JOIN"
   ]
  },
  {
   "cell_type": "markdown",
   "id": "b0682ff9",
   "metadata": {},
   "source": [
    "### LEFT OUTER JOIN\n",
    "- 왼편에 있는 테이블 기준으로 JOIN결과를 추출\n",
    "    - JOIN 키워드 왼쪽에 player테이블이 지정되어 있으므로 조인 조건을 만족하지 못해서 결과에서 빠졌던 김구 선수의 자료가 추가되어 나오는 것을 확인"
   ]
  },
  {
   "cell_type": "markdown",
   "id": "3157dc18",
   "metadata": {},
   "source": [
    "player,team테이블을 JOIN해서 선수이름, 소속팀명을 조회합니다. 소속 선수들이 없더라도 team테이블 팀명이 표시될수 있도록 지정\n",
    "\n",
    "<pre>\n",
    "SELECT p.player_name, t.team_id, t.team_name\n",
    "FROM team t LEFT OUTER JOIN player p\n",
    "ON p.team_id = t.team_id\n",
    "ORDER BY t.team_id;\n",
    "</pre>"
   ]
  },
  {
   "cell_type": "markdown",
   "id": "fe2dbba2",
   "metadata": {},
   "source": [
    "### RIGHT OUTER JOIN\n",
    "- 오른쪽에 있는 테이블을 기준 으로 조인결과를 추출\n",
    "    - JOIN키워드 오른쪽에 있는 team 테이블 자료 중 조인 조건을 만족하지 않는 K08팀 유니콘스 자료가 추가되어 나오는 것을 확인"
   ]
  },
  {
   "cell_type": "markdown",
   "id": "f4f79a53",
   "metadata": {},
   "source": [
    "player,team테이블을 JOIN해서 선수이름, 소속팀명을 조회합니다. 소속 선수들이 없더라도 team테이블 팀명이 표시될수 있도록 지정\n",
    "\n",
    "<pre>\n",
    "SELECT p.player_name, t.team_id, t.team_name\n",
    "FROM player p RIGHT OUTER JOIN team t\n",
    "ON p.team_id  = t.team_id\n",
    "ORDER BY t.team_id;\n",
    "</pre>"
   ]
  },
  {
   "cell_type": "markdown",
   "id": "ac9d407a",
   "metadata": {},
   "source": [
    "### FULL OUTER JOIN\n",
    "- 양쪽 모두에서 조인 조건을 만족하지 않은 자료를 포함시켜 JOIN결과를 추출\n",
    "    - JOIN 양쪽 테이블 모두에서 조인에 빠졌던 자료들이 추가되어 나온 것을 확인"
   ]
  },
  {
   "cell_type": "markdown",
   "id": "76f863d9",
   "metadata": {},
   "source": [
    "각 팀에서 사용하는 홈구장 정보확인해서 팀id, 팀명, 홈팀id, 구장명을 조회합니다. team테이블, stadium테이블 양쪽 테이블 모두 기준으로 조인한 결과를 확인\n",
    "\n",
    "<pre>\n",
    "SELECT t.team_id, t.team_name, s.hometeam_id, s.stadium_name\n",
    "FROM stadium s FULL OUTER JOIN team t\n",
    "ON t.team_id = s.hometeam_id \n",
    "ORDER BY t.team_id DESC; \n",
    "</pre>"
   ]
  }
 ],
 "metadata": {
  "kernelspec": {
   "display_name": "Python 3",
   "language": "python",
   "name": "python3"
  },
  "language_info": {
   "codemirror_mode": {
    "name": "ipython",
    "version": 3
   },
   "file_extension": ".py",
   "mimetype": "text/x-python",
   "name": "python",
   "nbconvert_exporter": "python",
   "pygments_lexer": "ipython3",
   "version": "3.8.8"
  }
 },
 "nbformat": 4,
 "nbformat_minor": 5
}
