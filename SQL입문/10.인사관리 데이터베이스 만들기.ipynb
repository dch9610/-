{
 "cells": [
  {
   "cell_type": "markdown",
   "metadata": {},
   "source": [
    "## 프로젝트 설명\n",
    "- 인사정보 : 개인사원, 조직, 급여 등의 포괄적인 업무를 말함 (기본 인사정보를 관리하기 위해 필요한 테이블을 생성하고 자료 등록\n",
    "- 개인 사원정보, 부양 가족정보, 부서정보, 직급정보로 분리해서 관리\n",
    "    - 개인 사원정보 : 이름, 직급, 부서, 입사일 등 개개인의 정보를 관리하도록함\n",
    "    - 부양가족 : 사원과의 관계, 이름 등 부양가족정보를 관리\n",
    "    - 부서와 직급 : 사원에서 코드정보만 등록하기 때문에 해당 코드의 코드명을 관리\n",
    "    - 급여내역 : 지급일자, 급여종류, 총 지급액, 총 공제액, 실제 지급액 정보만 관리"
   ]
  },
  {
   "cell_type": "markdown",
   "metadata": {},
   "source": [
    "---"
   ]
  },
  {
   "cell_type": "markdown",
   "metadata": {},
   "source": [
    "# 실습"
   ]
  },
  {
   "cell_type": "markdown",
   "metadata": {},
   "source": [
    "## 생성하기"
   ]
  },
  {
   "cell_type": "markdown",
   "metadata": {},
   "source": [
    "### 부서 테이블 생성하기\n",
    "- 부서코드, 부서명, 지역 컬럼으로 구성\n",
    "\n",
    "<pre>\n",
    "CREATE TABLE dept (\n",
    "\tdeptno INT PRIMARY KEY,\n",
    "\tdname VARCHAR(20) NOT NULL,\n",
    "\tloc VARCHAR(20) \n",
    "); \n",
    "</pre>"
   ]
  },
  {
   "cell_type": "markdown",
   "metadata": {},
   "source": [
    "### 직급테이블 생성하기\n",
    "- 직급코드, 직급명칭, 소트순서 컬럼으로 구성\n",
    "\n",
    "<pre>\n",
    "CREATE TABLE jikgb (\n",
    "\tjikgb_code char(2) PRIMARY KEY,\n",
    "\tjikgb_name VARCHAR(20) NOT NULL,\n",
    "\tjikgb_sort char(2) \n",
    ");\n",
    "</pre>"
   ]
  },
  {
   "cell_type": "markdown",
   "metadata": {},
   "source": [
    "### 사원테이블 생성하기\n",
    "- 사원번호, 이름, 부서코드, 직급코드, 입사일, 생년월일 컬럼으로 구성\n",
    "\n",
    "<pre>\n",
    "CREATE TABLE emp ( \n",
    "\tempno INT PRIMARY KEY,\n",
    "\tename VARCHAR(20) NOT NULL,\n",
    "\tdeptno INT REFERENCES dept(deptno),\n",
    "\tjikgb_code CHAR(2) REFERENCES jikgb(jikgb_code),\n",
    "\thiredate DATE,\n",
    "\tbirth_date CHAR(8)\n",
    ");\n",
    "</pre>"
   ]
  },
  {
   "cell_type": "markdown",
   "metadata": {},
   "source": [
    "### 부양가족 테이블 생성하기\n",
    "- 사번, 관계코드, 가족이름으로 구성\n",
    "\n",
    "<pre>\n",
    "CREATE TABLE family ( \n",
    "\tempno INT,\n",
    "\tf_code INT,\n",
    "\tf_name VARCHAR(20) NOT NULL,\n",
    " \tPRIMARY KEY( empno, f_code) \n",
    ");\n",
    "</pre>"
   ]
  },
  {
   "cell_type": "markdown",
   "metadata": {},
   "source": [
    "### 급여지급 테이블 생성하기\n",
    "- 급여년월, 사원번호, 급여구분, 지급총액, 공제총액, 차감지급액으로 구성\n",
    "\n",
    "<pre>\n",
    "CREATE TABLE salary (\n",
    "\tyymm CHAR(6),\n",
    "\tempno INT,\n",
    "\tgubun CHAR(1) ,\n",
    "\ttotal_amt INT,\n",
    "\tdeduct_amt INT,\n",
    "\tpay_amt INT,\n",
    " \tPRIMARY KEY ( yymm, empno, gubun) \n",
    ");\n",
    "</pre>"
   ]
  },
  {
   "cell_type": "markdown",
   "metadata": {},
   "source": [
    "---"
   ]
  },
  {
   "cell_type": "markdown",
   "metadata": {},
   "source": [
    "## 입력하기"
   ]
  },
  {
   "cell_type": "markdown",
   "metadata": {},
   "source": [
    "### 부서테이블 자료 입력하기\n",
    "\n",
    "<pre>\n",
    "INSERT INTO dept VALUES (10,'인사팀','서울');\n",
    "INSERT INTO dept VALUES (20,'개발팀','대전');\n",
    "INSERT INTO dept VALUES (30,'지원팀','인천');\n",
    "INSERT INTO dept VALUES (40,'홍보팀','서울');\n",
    "INSERT INTO dept(deptno,dname) VALUES ( 50,'기술팀'); \n",
    "</pre>"
   ]
  },
  {
   "cell_type": "markdown",
   "metadata": {},
   "source": [
    "### 직급테이블 자료 입력하기\n",
    "\n",
    "<pre>\n",
    "INSERT INTO jikgb VALUES ('S1','사장','A1');\n",
    "INSERT INTO jikgb VALUES ('S2','이사','A2');\n",
    "INSERT INTO jikgb VALUES ('M1','부장','B1');\n",
    "INSERT INTO jikgb VALUES ('M2','차장','B2');\n",
    "INSERT INTO jikgb VALUES ('M3','과장','B3');\n",
    "INSERT INTO jikgb VALUES ('G1','대리','C1');\n",
    "INSERT INTO jikgb VALUES ('G2','사원','C2');\n",
    "</pre>"
   ]
  },
  {
   "cell_type": "markdown",
   "metadata": {},
   "source": [
    "### 사원테이블 자료 입력하기\n",
    "\n",
    "<pre>\n",
    "INSERT INTO emp VALUES (100,'홍길동',20,'G1','1998-12-01','19750123');\n",
    "INSERT INTO emp VALUES (101,'박길동',10,'G2','1999-01-15','19821011');\n",
    "INSERT INTO emp VALUES (102,'최길동',10,'G1','1999-01-15','19781212');\n",
    "INSERT INTO emp VALUES (103,'김훈'  ,30,'M1','2000-01-03','19650417');\n",
    "INSERT INTO emp VALUES (104,'박준'  ,20,'M2','2001-04-04','19760321');\n",
    "INSERT INTO emp VALUES (105,'이공명',10,'M3','2001-07-25','19720505');\n",
    "INSERT INTO emp VALUES (106,'문국장',10,'S1','2001-08-15','19600101');\n",
    "INSERT INTO emp VALUES (107,'김현기',40,'S2','2005-07-07','19620809');\n",
    "INSERT INTO emp VALUES (108,'이종법',20,'G2','2007-05-06','19801110');\n",
    "INSERT INTO emp VALUES (109,'이지수',10,'G2','2010-10-10','19851231');\n",
    "INSERT INTO emp VALUES (110,'박현숙',40,'M3','2010-12-01','19811205');\n",
    "INSERT INTO emp VALUES (111,'최숙명',10,'G1','2011-01-05','19820303');\n",
    "INSERT INTO emp VALUES (112,'이상용',20,'M2','2012-12-01','19760808');\n",
    "INSERT INTO emp VALUES (113,'류성용',30,'M1','2013-01-01','19750529');\n",
    "</pre>"
   ]
  },
  {
   "cell_type": "markdown",
   "metadata": {},
   "source": [
    "### 부양가족 테이블 자료 입력하기\n",
    "\n",
    "<pre>\n",
    "INSERT INTO family VALUES (100,1,'홍길수');\n",
    "INSERT INTO family VALUES (100,2,'김영자');\n",
    "INSERT INTO family VALUES (103,1,'최영');\n",
    "INSERT INTO family VALUES (107,1,'김부자');\n",
    "INSERT INTO family VALUES (110,1,'박공') ;\n",
    "INSERT INTO family VALUES (110,2,'김연수');\n",
    "INSERT INTO family VALUES (113,1,'류지훈');\n",
    "</pre>"
   ]
  },
  {
   "cell_type": "markdown",
   "metadata": {},
   "source": [
    "### 급여 지급 테이블 자료 입력하기\n",
    "<pre>\n",
    "INSERT INTO salary VALUES ('201812',100,'1',2500000,88000,2412000);\n",
    "INSERT INTO salary VALUES ('201812',101,'1',2700000,93000,2607000);\n",
    "INSERT INTO salary VALUES ('201812',102,'1',3200000,120000,3080000);\n",
    "INSERT INTO salary VALUES ('201812',103,'1',4300000,450000,3850000);\n",
    "INSERT INTO salary VALUES ('201812',104,'1',5300000,770000,4530000);\n",
    "INSERT INTO salary VALUES ('201812',105,'1',6600000,990000,5610000);\n",
    "INSERT INTO salary VALUES ('201812',106,'1',7700000,1230000,6470000);\n",
    "INSERT INTO salary VALUES ('201812',107,'1',7210000,1102890,6107110);\n",
    "</pre>\n",
    "\n"
   ]
  },
  {
   "cell_type": "markdown",
   "metadata": {},
   "source": [
    "---"
   ]
  },
  {
   "cell_type": "markdown",
   "metadata": {},
   "source": [
    "## 조회하기"
   ]
  },
  {
   "cell_type": "markdown",
   "metadata": {},
   "source": [
    "### 정렬해서 조회하기\n",
    "- 사원테이블 자료에서 사원이름, 입사일, 생년월일을 조회합니다\n",
    "- 결과는 생일이 빠른 순으로 정렬해서 나오도록 합니다.\n",
    "\n",
    "<pre>\n",
    "SELECT ename,hiredate,birth_date\n",
    "FROM emp\n",
    "ORDER BY birth_date;\n",
    "</pre>"
   ]
  },
  {
   "cell_type": "markdown",
   "metadata": {},
   "source": [
    "### 그룹함수 이용해서 조회하기\n",
    "- 급여지급 테이블 이용해서 2018년 12월 급여중 지급액 총합계와 지급액 평균, 지급액 중 최대값, 지급액 중 최소값 조회\n",
    "\n",
    "<pre>\n",
    "SELECT sum(pay_amt), avg(pay_amt), max(pay_amt), min(pay_amt) \n",
    "FROM salary\n",
    "WHERE yymm = '201812' AND gubun = '1';\n",
    "</pre>\n",
    "\n"
   ]
  },
  {
   "cell_type": "markdown",
   "metadata": {},
   "source": [
    "### 조인 이용해서 조회하기\n",
    "- 사원테이블, 부서테이블 이용해서 서울지역에서 근무하는 사원들의 사원번호, 이름, 직급코드, 부서명 조회\n",
    "\n",
    "<pre>\n",
    "SELECT e.empno, e.ename, e.jikgb_code, d.dname\n",
    "FROM emp e JOIN dept d\n",
    "ON e.deptno = d.deptno\n",
    "WHERE d.loc = '서울';\n",
    "</pre>\n",
    "<br>\n",
    "\n",
    "- 사원테이블, 직급테이블 이용해서 사원 중 직급이름이 대리, 차장인 사원들만 이름, 입사일, 직급이름을 조회\n",
    "<pre>\n",
    "SELECT e.ename, e.hiredate, j.jikgb_name\n",
    "FROM emp e JOIN jikgb j\n",
    "ON e.jikgb_code = j.jikgb_code\n",
    "WHERE j.jikgb_name IN ('대리','차장');\n",
    "</pre>\n",
    "<br>\n",
    "\n",
    "- 사원테이블, 직급테이블, 부서테이블 이용해서 사원번호, 사원이름, 부서명, 직급이름을 직급이 높은 사원부터 나오도록 정렬해서 조회\n",
    "<pre>\n",
    "SELECT e.empno, e.ename, d.dname, j.jikgb_name\n",
    "FROM emp e JOIN dept d \n",
    "ON e.deptno = d.deptno\n",
    "JOIN jikgb j \n",
    "ON e.jikgb_code = j.jikgb_code\n",
    "ORDER BY j.jikgb_sort;\n",
    "</pre>"
   ]
  },
  {
   "cell_type": "markdown",
   "metadata": {},
   "source": [
    "### 서브쿼리를 이용해서 조회하기\n",
    "- 사원테이블, 급여지급 테이블 이용해서 2018년 12월 상여를 받은 사원들의 이름, 직급코드, 부서번호를 조회 (상여는 salary 테이블 gugbun이 2)\n",
    "\n",
    "<pre>\n",
    "SELECT ename, jikgb_code, deptno\n",
    "FROM emp\n",
    "WHERE empno IN ( SELECT empno \n",
    "                 FROM salary\n",
    "                 WHERE yymm = '201812' AND gubun = '2');\n",
    "</pre>"
   ]
  }
 ],
 "metadata": {
  "kernelspec": {
   "display_name": "Python 3",
   "language": "python",
   "name": "python3"
  },
  "language_info": {
   "codemirror_mode": {
    "name": "ipython",
    "version": 3
   },
   "file_extension": ".py",
   "mimetype": "text/x-python",
   "name": "python",
   "nbconvert_exporter": "python",
   "pygments_lexer": "ipython3",
   "version": "3.8.5"
  }
 },
 "nbformat": 4,
 "nbformat_minor": 4
}
