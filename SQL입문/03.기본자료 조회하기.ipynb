{
 "cells": [
  {
   "cell_type": "markdown",
   "metadata": {},
   "source": [
    "## 일부 컬럼 선택해서 조회하기\n",
    "- select 구문은 테이블에서 정보를 가져오기 위해 사용\n",
    "- select 구문으로 데이터를 가져오려면 무엇을 가져올지, 어디에서 가져올지 2가지 정보를 명시\n",
    "- select 키워드 다음에 가져오고 싶은 컬럼을 적고, from 키워드에 자료가 있는 테이블을 지정\n",
    "- 여러 컬럼을 조회하는 경우 ',' 콤마로 구분해서 나열"
   ]
  },
  {
   "cell_type": "markdown",
   "metadata": {},
   "source": [
    "<pre>\n",
    "SELECT player_id, player_name, height, weight, position\n",
    "FROM   player; \n",
    "</pre>"
   ]
  },
  {
   "cell_type": "markdown",
   "metadata": {},
   "source": [
    "---"
   ]
  },
  {
   "cell_type": "markdown",
   "metadata": {},
   "source": [
    "## 모든 컬럼 조회하기\n",
    "- 컬럼명을 모두 나열하지 않고, * 기호를 사용해 모든 컬럼을 가져올 수 있습니다."
   ]
  },
  {
   "cell_type": "markdown",
   "metadata": {},
   "source": [
    "<pre>\n",
    "select * from player;\n",
    "</pre>"
   ]
  },
  {
   "cell_type": "markdown",
   "metadata": {},
   "source": [
    "---"
   ]
  },
  {
   "cell_type": "markdown",
   "metadata": {},
   "source": [
    "## 상수 출력하기\n",
    "- 테이블에 저장된 컬럼이 아닌 특정 문자나 숫자, 날짜를 select에 지정\n",
    "- 문자, 날짜를 상수로 출력할 때는 작은 따옴표('')를 붙여서 지정, 숫자는 작은 따옴표 없이 사용\n",
    "- 해당 문자, 날짜, 숫 상수 값은 모든 행마다 반복 출력 <br>\n",
    "\n",
    "\n",
    "* 상수 : 그 값이 변하지 않는 불변량으로, 변수의 반대말"
   ]
  },
  {
   "cell_type": "markdown",
   "metadata": {},
   "source": [
    "<pre>\n",
    "select 1234, 'player_name', player_name \n",
    "from player;\n",
    "</pre>\n",
    "\n",
    "<br>\n",
    "\n",
    "| 1234 | 'player_name' | player_name |\n",
    "|---|:---:|---:|\n",
    "| 1234 | 'player_name' | 손흥민 |\n",
    "| 1234 | 'player_name' | 이강인 |\n",
    "| 1234 | 'player_name' | 황의조 |\n",
    "| 1234 | 'player_name' | 이승우 |"
   ]
  },
  {
   "cell_type": "markdown",
   "metadata": {},
   "source": [
    "---"
   ]
  },
  {
   "cell_type": "markdown",
   "metadata": {},
   "source": [
    "## 사칙연산 수행하기\n",
    "- 더하기, 빼기, 곱하기, 나누기 작업을 수행가능"
   ]
  },
  {
   "cell_type": "markdown",
   "metadata": {},
   "source": [
    "<pre>\n",
    "SELECT player_name , weight, (weight +100) *2 ,weight + 200\n",
    "FROM   player ; \n",
    "</pre>"
   ]
  },
  {
   "cell_type": "markdown",
   "metadata": {},
   "source": [
    "---"
   ]
  },
  {
   "cell_type": "markdown",
   "metadata": {},
   "source": [
    "## 컬럼 연결하기\n",
    "- 여러 컬럼을 하나의 필드로 연결해서 조회가능\n",
    "- DB종류에 따라 조금 다르지만 + 또는 ||를 지정\n",
    "- 컬럼뿐 아니라 다른 문자와도 결합시켜 조회 가능"
   ]
  },
  {
   "cell_type": "markdown",
   "metadata": {},
   "source": [
    "<pre>\n",
    " SELECT  player_name, position, player_name + position\n",
    " FROM    player; \n",
    "</pre>\n",
    "\n",
    "| player_name | position | player_name + position |\n",
    "|---|:---:|---:|\n",
    "| 우르모브 | DF | 우르모브DF |\n",
    "| 윤희준 | DF | 윤희준DF |\n",
    "| 최윤겸 | GK | 최윤겸GK |\n",
    "| 서동명 | GK | 서동명GK |\n"
   ]
  },
  {
   "cell_type": "markdown",
   "metadata": {},
   "source": [
    "---"
   ]
  },
  {
   "cell_type": "markdown",
   "metadata": {},
   "source": [
    "## 별칭 지정 방법\n",
    "- 조회한 컬럼 또는 계산식 뒤에 별칭을 지정합니다.\n",
    "- 특수문자, 한글을 사용한 경우 []로 묶어서 지정\n",
    "- 별칭 지정시 as 키워드를 사용\n"
   ]
  },
  {
   "cell_type": "markdown",
   "metadata": {},
   "source": [
    "<pre>\n",
    "SELECT  player_name AS [선수이름 ] ,\n",
    "        height   AS [키],\n",
    "        weight   AS [몸무게]\n",
    "FROM    player; \n",
    "</pre>\n",
    "\n",
    "\n",
    "| 선수이름 | 키 | 몸무게 |\n",
    "|---|:---:|---:|\n",
    "| 우르모브 | 180 | 70 |\n",
    "| 윤희준 | 181 | 74 |\n",
    "| 최윤겸 | 178 | 80 |\n",
    "| 서동명 | 196 | 91 |"
   ]
  },
  {
   "cell_type": "markdown",
   "metadata": {},
   "source": [
    "---"
   ]
  },
  {
   "cell_type": "markdown",
   "metadata": {},
   "source": [
    "## 단일컬럼 중복 제거하기\n",
    "- 테이블 컬럼값 중 중복된 값을 제외하고 확인하고 싶은 경우\n",
    "- DISTINCT 키워드를 select 바로 뒤에 사용"
   ]
  },
  {
   "cell_type": "markdown",
   "metadata": {},
   "source": [
    "<pre>\n",
    "SELECT DISTINCT team_id\n",
    "FROM   player; \n",
    "</pre>"
   ]
  },
  {
   "cell_type": "markdown",
   "metadata": {},
   "source": [
    "---"
   ]
  },
  {
   "cell_type": "markdown",
   "metadata": {},
   "source": [
    "## 다중컬럼 중복 제거하기\n",
    "- 두 컬럼을 조합한 결과를 대상으로 중복값이 존재하는 행이 있는지 확인하여 중복행 제거 작업 수행가능"
   ]
  },
  {
   "cell_type": "markdown",
   "metadata": {},
   "source": [
    "<pre>\n",
    " SELECT DISTINCT  position, team_id\n",
    " FROM  player; \n",
    "</pre>"
   ]
  },
  {
   "cell_type": "markdown",
   "metadata": {},
   "source": [
    "---"
   ]
  },
  {
   "cell_type": "markdown",
   "metadata": {},
   "source": [
    "## 실습\n",
    "<pre>\n",
    "SELECT  prod_name || '( ' || category || ' ) '\n",
    "FROM    product; \n",
    "</pre>\n",
    "\n",
    "| prod_name + '( ' + category + ' ) ' |\n",
    "|---|\n",
    "| TV(가전) | \n",
    "| 세탁기(가전) | \n",
    "| 청바지(의류) |  "
   ]
  }
 ],
 "metadata": {
  "kernelspec": {
   "display_name": "Python 3",
   "language": "python",
   "name": "python3"
  },
  "language_info": {
   "codemirror_mode": {
    "name": "ipython",
    "version": 3
   },
   "file_extension": ".py",
   "mimetype": "text/x-python",
   "name": "python",
   "nbconvert_exporter": "python",
   "pygments_lexer": "ipython3",
   "version": "3.8.5"
  }
 },
 "nbformat": 4,
 "nbformat_minor": 4
}
