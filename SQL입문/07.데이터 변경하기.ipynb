{
 "cells": [
  {
   "cell_type": "markdown",
   "metadata": {},
   "source": [
    "## INSERT란?\n",
    "- 테이블에 데이터(행)을 등록하려면 INSERT 문장을 사용\n",
    "- 문자와 날짜 자료에 입력값을 지정할때 작은 따옴표(' ')로 묶어서 지정\n",
    "\n",
    "1. 완전한 행 입력하기\n",
    "2. 부분 행 입력하기\n",
    "3. 쿼리 결과 입력하기"
   ]
  },
  {
   "cell_type": "markdown",
   "metadata": {},
   "source": [
    "### 완전한 행 입력하기\n",
    "- 테이블에 있는 모든 컬럼에 값을 지정해서 입력\n",
    "- INSERT INTO 테이블명 뒤에 테이블의 모든 컬럼을 ()로 묶어서 지정"
   ]
  },
  {
   "cell_type": "markdown",
   "metadata": {},
   "source": [
    "newproduct 테이블 생성\n",
    "\n",
    "<pre>\n",
    "CREATE  TABLE newproduct\n",
    "( \n",
    "\tprod_id CHAR(3) PRIMARY KEY,\n",
    "\tprod_name VARCHAR(20),\n",
    "\tcategory VARCHAR(20),\n",
    "\tsell_price INT,\n",
    "\tbuy_price INT\n",
    ");\n",
    "</pre>\n",
    "<br>\n",
    "\n",
    "insert구문을 이용해 자료를 입력\n",
    "<pre>\n",
    "INSERT INTO newproduct  \n",
    "VALUES ('101', '아이패드', '컴퓨터', 700000, 550000 );\n",
    "</pre>"
   ]
  },
  {
   "cell_type": "markdown",
   "metadata": {},
   "source": [
    "### 부분행 입력하기\n",
    "- 테이블의 컬럼 중 일부 컬럼에만 값을 지정해서 자료를 입력할 수 있음\n",
    "- 입력 컬럼 목록에 없는 컬럼값은 기본값으로 저장\n",
    "- 컬럼의 기본값을 따로 설정하지 않은 경우 NULL값\n",
    "- NULL 값을 허용하지 않고 기본값이 없는 컬럼을 목록에서 누락시키면 오류"
   ]
  },
  {
   "cell_type": "markdown",
   "metadata": {},
   "source": [
    "해당 컬럼외에는 NULL값이 입력\n",
    "\n",
    "<pre>\n",
    "INSERT INTO newproduct ( prod_name, prod_id)  VALUES ('책장','104');\n",
    "</pre>"
   ]
  },
  {
   "cell_type": "markdown",
   "metadata": {},
   "source": [
    "### 쿼리 결과 입력하기\n",
    "- 보통의 경우 VALUES 키워드 다음 입력 값을 지정하지만 다른 테이블에서 SELECT한 자료를 이용해 입력 작업을 할 수 있음\n",
    "- INSERT ~ SELECT 형태로 사용"
   ]
  },
  {
   "cell_type": "markdown",
   "metadata": {},
   "source": [
    "product라는 테이블에서 종류가 '가전'인 데이터를 조회한 다음, 조회한 결과를 일괄적으로 newproduct 테이블에 등록\n",
    "\n",
    "<pre>\n",
    "INSERT INTO newproduct\n",
    "SELECT prod_id, prod_name, category, sell_price, buy_price\n",
    "FROM product\n",
    "WHERE category='가전';\n",
    "\n",
    "\n",
    "SELECT  * \n",
    "FROM   newproduct; \n",
    "\n",
    "</pre>"
   ]
  },
  {
   "cell_type": "markdown",
   "metadata": {},
   "source": [
    "---"
   ]
  },
  {
   "cell_type": "markdown",
   "metadata": {},
   "source": [
    "## UPDATE 기본 구문\n",
    "- 데이터를 수정하기 위해 UPDATE문이 사용\n",
    "- UPDATE 명령에서는 SET 다음에 갱신할 컬럼과 변경값을 지정\n",
    "- 문법은 SET 컬럼명 = 값 형태"
   ]
  },
  {
   "cell_type": "markdown",
   "metadata": {},
   "source": [
    "newproduct의 모든 buy_price값을 기존값에 100씩 더해주는 변경작업\n",
    "\n",
    "<pre>\n",
    "UPDATE newproduct\n",
    "SET buy_price = buy_price +100; \n",
    "\n",
    "SELECT * \n",
    "FROM newproduct; \n",
    "</pre>"
   ]
  },
  {
   "cell_type": "markdown",
   "metadata": {},
   "source": [
    "### 조건을 지정한 UPDATE\n",
    "- 변경 대상 행을 제한하고 싶은 경우 WHERE절에 조건을 지정\n"
   ]
  },
  {
   "cell_type": "markdown",
   "metadata": {},
   "source": [
    "102번 제품의 sell_price를 999000으로 변경\n",
    "\n",
    "<pre>\n",
    "UPDATE newproduct \n",
    "SET sell_price = 999000\n",
    "WHERE prod_id = '102';\n",
    "\n",
    "SELECT * \n",
    "FROM newproduct; \n",
    "</pre>"
   ]
  },
  {
   "cell_type": "markdown",
   "metadata": {},
   "source": [
    "### 여러 컬럼 갱신하기\n",
    "- UPDATE문 SET 위치에 여러 컬럼을 지정하면 동시에 여러 컬럼의 값을 변경\n",
    "- SET 뒤에 사용할 수 있는 컬럼수는 제한이 없습니다.\n",
    "- SET 다음에 (,)로 구분하여 SET 컬럼명1 = 변경값, 컬럼명2 = 변경값 .. "
   ]
  },
  {
   "cell_type": "markdown",
   "metadata": {},
   "source": [
    "newproduct 테이블 101번 자료의 제품이름은 맥북으로, 판매가격은 431000, 구매가격은 220000으로 변경하는 문장을 수행\n",
    "\n",
    "<pre>\n",
    "UPDATE newproduct \n",
    "SET\tsell_price = 431000 ,\n",
    "\tbuy_price = 220000,\n",
    "\tprod_name = '맥북'\n",
    "WHERE prod_id = '101';\n",
    "\n",
    "SELECT * \n",
    "FROM newproduct; \n",
    "</pre>"
   ]
  },
  {
   "cell_type": "markdown",
   "metadata": {},
   "source": [
    "---"
   ]
  },
  {
   "cell_type": "markdown",
   "metadata": {},
   "source": [
    "## DELETE 기본 구문\n",
    "- 테이블에 저장되어 있는 행을 삭제\n",
    "- 테이블 자체를 삭제하지는 않음\n",
    "- 조건을 지정하지 않으면 해당 테이블 모든 행을 삭제 (DELETE FROM 테이블명;)"
   ]
  },
  {
   "cell_type": "markdown",
   "metadata": {},
   "source": [
    "newproduct 테이블 자료를 모두 삭제\n",
    "\n",
    "<pre>\n",
    "DELETE FROM newproduct; \n",
    "\n",
    "SELECT COUNT(*) \n",
    "FROM newproduct;\n",
    "</pre>"
   ]
  },
  {
   "cell_type": "markdown",
   "metadata": {},
   "source": [
    "### 삭제 대상 제한하는 DELETE\n",
    "- 일부 행만 삭제하는 경우 WHERE에 조건을 지정\n",
    "- DELETE 구문에서는 컬럼명이나 *를 사용하지 않습니다."
   ]
  },
  {
   "cell_type": "markdown",
   "metadata": {},
   "source": [
    "newproduct 자료 중 category 가구인 제품만 삭제합니다.\n",
    "\n",
    "<pre>\n",
    "DELETE FROM newproduct\n",
    "WHERE category ='가구';\n",
    "\n",
    "SELECT * \n",
    "FROM newproduct; \n",
    "</pre>"
   ]
  },
  {
   "cell_type": "code",
   "execution_count": null,
   "metadata": {},
   "outputs": [],
   "source": []
  }
 ],
 "metadata": {
  "kernelspec": {
   "display_name": "Python 3",
   "language": "python",
   "name": "python3"
  },
  "language_info": {
   "codemirror_mode": {
    "name": "ipython",
    "version": 3
   },
   "file_extension": ".py",
   "mimetype": "text/x-python",
   "name": "python",
   "nbconvert_exporter": "python",
   "pygments_lexer": "ipython3",
   "version": "3.8.5"
  }
 },
 "nbformat": 4,
 "nbformat_minor": 4
}
