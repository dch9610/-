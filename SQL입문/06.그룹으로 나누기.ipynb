{
 "cells": [
  {
   "cell_type": "markdown",
   "metadata": {},
   "source": [
    "## COUNT로 행 개수 구하기\n",
    "- 함수는 어떤 값을 입력하면 그에 대응하는 결과 값을 출력하는 작업을 수행하는 상자와 같은 것\n",
    "- COUNT 함수 ()안에 행 수를 알고 싶은 컬럼을 넣어서 출력\n",
    "    - COUNT(*) : NULL 값은 제외한 모든 행 수 구하기"
   ]
  },
  {
   "cell_type": "markdown",
   "metadata": {},
   "source": [
    "<pre>\n",
    "SELECT COUNT(*), COUNT(position), COUNT(birth_date)\n",
    "FROM player; \n",
    "</pre>"
   ]
  },
  {
   "cell_type": "markdown",
   "metadata": {},
   "source": [
    "---"
   ]
  },
  {
   "cell_type": "markdown",
   "metadata": {},
   "source": [
    "## SUM으로 합계 구하기\n",
    "- SUM 함수에 지정되는 컬럼은 숫자형만 가능\n",
    "- NULL값은 무시한 뒤 합계를 구함"
   ]
  },
  {
   "cell_type": "markdown",
   "metadata": {},
   "source": [
    "<pre>\n",
    "SELECT SUM(sell_price) ,SUM (buy_price)\n",
    "FROM product; \n",
    "</pre>"
   ]
  },
  {
   "cell_type": "markdown",
   "metadata": {},
   "source": [
    "---"
   ]
  },
  {
   "cell_type": "markdown",
   "metadata": {},
   "source": [
    "## AVG로 평균 구하기\n",
    "- 평균값 구하기 : SUM(컬럼)/COUNT(컬럼) or AVG 함수 사용\n",
    "- AVG함수에 지정되는 컬럼은 숫자형만 가능\n",
    "- NULL값은 무시한 뒤 평균을 계산"
   ]
  },
  {
   "cell_type": "markdown",
   "metadata": {},
   "source": [
    "<pre>\n",
    "SELECT AVG(sell_price)\n",
    "FROM product;\n",
    "</pre>"
   ]
  },
  {
   "cell_type": "markdown",
   "metadata": {},
   "source": [
    "---"
   ]
  },
  {
   "cell_type": "markdown",
   "metadata": {},
   "source": [
    "## MIN/MAX로 최소값/최대값 구하기\n",
    "- MIN(), MAX() 함수를 사용해 최소값과 최대값 구하기\n",
    "- 숫자형 자료뿐 아니라 문자형, 날짜형 자료에도 사용"
   ]
  },
  {
   "cell_type": "markdown",
   "metadata": {},
   "source": [
    "<pre>\n",
    "SELECT MAX(height), MIN(height)\n",
    "FROM player;\n",
    "</pre>"
   ]
  },
  {
   "cell_type": "markdown",
   "metadata": {},
   "source": [
    "---"
   ]
  },
  {
   "cell_type": "markdown",
   "metadata": {},
   "source": [
    "## GROUP BY로 그룹나누기\n",
    "- 테이블을 몇개의 그룹으로 나누어서 집계작업을 수행\n",
    "- ~마다, ~별, ~단위등으로 표현되는 것을 GROUP BY"
   ]
  },
  {
   "cell_type": "markdown",
   "metadata": {},
   "source": [
    "team_id별로 행의 개수를 추출하고, 팀별 등록 선수의 수를 구함\n",
    "\n",
    "<pre>\n",
    "SELECT team_id, COUNT(*)\n",
    "FROM player\n",
    "GROUP BY team_id;\n",
    "</pre>"
   ]
  },
  {
   "cell_type": "markdown",
   "metadata": {},
   "source": [
    "### 주의사항\n",
    "- 집계함수 계산을 수행할때는 NULL값을 제외시키고 처리하지만 GROUP BY에 사용한 컬럼에 NULL값이 있는 경우 NULL값도 별도의 그룹으로 처리\n"
   ]
  },
  {
   "cell_type": "markdown",
   "metadata": {},
   "source": [
    "---"
   ]
  },
  {
   "cell_type": "markdown",
   "metadata": {},
   "source": [
    "## 여러 컬럼으로 그룹 나누기\n",
    "- 좀 더 세밀하게 나누어서 조회하고 싶은 경우 GROUP BY절에 여러 항목을 지정\n"
   ]
  },
  {
   "cell_type": "markdown",
   "metadata": {},
   "source": [
    "position별, team_id별로 데이터의 개수를 구하는 SQL문\n",
    "\n",
    "<pre>\n",
    "SELECT position, team_id, COUNT(*)\n",
    "FROM player\n",
    "GROUP BY position, team_id; \n",
    "</pre>\n",
    "\n",
    "- position이 같은 선수들을 하나의 그룹으로 나누는 것이 아니라 동일한 포지션을 담당하더라도 소속팀이 다른 경우 서로 다른 그룹"
   ]
  },
  {
   "cell_type": "markdown",
   "metadata": {},
   "source": [
    "---"
   ]
  },
  {
   "cell_type": "markdown",
   "metadata": {},
   "source": [
    "## WHERE와 GROUP BY 함께 사용하기\n",
    "- GROUP BY와 WHERE절을 함께 사용하는 경우 WHERE절 뒤에 사용\n",
    "- WHERE에 지정한 조건을 만족하는 자료를 먼저 추출한 다음 분류작업을 수행"
   ]
  },
  {
   "cell_type": "markdown",
   "metadata": {},
   "source": [
    "team_id가 'K06'이라는 값을 가진 행들을 position별로 그룹핑하고, 각 포지션별 데이터 개수를 구하고 그들의 키 평균을 구하라\n",
    "\n",
    "<pre>\n",
    "SELECT position, COUNT(*), AVG(height)\n",
    "FROM player\n",
    "WHERE team_id ='K06'\n",
    "GROUP BY position;\n",
    "</pre>"
   ]
  },
  {
   "cell_type": "markdown",
   "metadata": {},
   "source": [
    "---"
   ]
  },
  {
   "cell_type": "markdown",
   "metadata": {},
   "source": [
    "## HAVING절 이용하기\n",
    "- GROUP BY로 나눈 그룹 중 어떤 그룹을 포함하고 어떤 그룹을 배제할 것인지 필터링 하고 싶은 경우 사용\n"
   ]
  },
  {
   "cell_type": "markdown",
   "metadata": {},
   "source": [
    "해당 포지션을 담당하는 선수인원이 3명보다 많은 포지션만 결과에 나오도록 포지션, 소속인원을 조회\n",
    "\n",
    "<pre>\n",
    "SELECT position, COUNT(*)\n",
    "FROM player\n",
    "GROUP BY position\n",
    "HAVING COUNT(*) > 3;\n",
    "</pre>"
   ]
  },
  {
   "cell_type": "markdown",
   "metadata": {},
   "source": [
    "---"
   ]
  },
  {
   "cell_type": "markdown",
   "metadata": {},
   "source": [
    "## 그룹 결과 정렬하기\n",
    "- GROUP BY로 그룹화된 자료들을 특정 기준으로 정렬된 형태로 조회하고 싶은 경우 별도로 ORDER BY절을 지정"
   ]
  },
  {
   "cell_type": "markdown",
   "metadata": {},
   "source": [
    "인원수가 많은 팀부터 나오도록 정렬을 수행해서 조회\n",
    "\n",
    "<pre>\n",
    "SELECT team_id, COUNT(*)\n",
    "FROM player\n",
    "GROUP BY team_id\n",
    "ORDER BY count(*) DESC;\n",
    "</pre>"
   ]
  }
 ],
 "metadata": {
  "kernelspec": {
   "display_name": "Python 3",
   "language": "python",
   "name": "python3"
  },
  "language_info": {
   "codemirror_mode": {
    "name": "ipython",
    "version": 3
   },
   "file_extension": ".py",
   "mimetype": "text/x-python",
   "name": "python",
   "nbconvert_exporter": "python",
   "pygments_lexer": "ipython3",
   "version": "3.8.5"
  }
 },
 "nbformat": 4,
 "nbformat_minor": 4
}
