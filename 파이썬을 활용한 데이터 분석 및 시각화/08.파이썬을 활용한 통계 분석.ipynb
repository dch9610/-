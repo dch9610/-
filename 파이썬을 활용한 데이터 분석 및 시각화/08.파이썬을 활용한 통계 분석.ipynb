{
 "cells": [
  {
   "cell_type": "markdown",
   "metadata": {},
   "source": [
    "## 빈도 분석하기"
   ]
  },
  {
   "cell_type": "code",
   "execution_count": 8,
   "metadata": {},
   "outputs": [
    {
     "name": "stdout",
     "output_type": "stream",
     "text": [
      "Counter({3800: 3, 9700: 2, 4300: 2, 4200: 2, 3200: 2, 9500: 1, 9900: 1, 4500: 1, 5500: 1})\n"
     ]
    },
    {
     "data": {
      "text/plain": [
       "1"
      ]
     },
     "execution_count": 8,
     "metadata": {},
     "output_type": "execute_result"
    }
   ],
   "source": [
    "import collections\n",
    "\n",
    "sal_all = [9700, 9500, 9900, 3800, 4300, 4300, 3800, 4200, 4500, 3200, 5500, 3200, 3800, 4200, 9700]\n",
    "sal_count = collections.Counter(sal_all)\n",
    "print(sal_count)\n",
    "sal_count[9900]"
   ]
  },
  {
   "cell_type": "markdown",
   "metadata": {},
   "source": [
    "### 최대, 최소 구하기"
   ]
  },
  {
   "cell_type": "code",
   "execution_count": 7,
   "metadata": {},
   "outputs": [
    {
     "name": "stdout",
     "output_type": "stream",
     "text": [
      "최대 연봉: 9900\n",
      "최소 연봉: 3200\n",
      "전체 건수: 15\n"
     ]
    }
   ],
   "source": [
    "print('최대 연봉:',max(sal_all))\n",
    "print('최소 연봉:',min(sal_all))\n",
    "print('전체 건수:',len(sal_all))"
   ]
  },
  {
   "cell_type": "markdown",
   "metadata": {},
   "source": [
    "### 전체 값을 정렬하기"
   ]
  },
  {
   "cell_type": "code",
   "execution_count": 12,
   "metadata": {},
   "outputs": [
    {
     "name": "stdout",
     "output_type": "stream",
     "text": [
      "[3200, 3200, 3800, 3800, 3800, 4200, 4200, 4300, 4300, 4500, 5500, 9500, 9700, 9700, 9900]\n",
      "첫번째 값: 3200\n",
      "마지막 값: 9900\n",
      "--------------------\n",
      "[9900, 9700, 9700, 9500, 5500, 4500, 4300, 4300, 4200, 4200, 3800, 3800, 3800, 3200, 3200]\n"
     ]
    }
   ],
   "source": [
    "sal_sort = sorted(sal_all)\n",
    "print(sal_sort)\n",
    "\n",
    "print('첫번째 값:',sal_sort[0])\n",
    "print('마지막 값:',sal_sort[-1])\n",
    "print('-'*20)\n",
    "# 역정렬하기\n",
    "sal_sort_rev = sorted(sal_all, reverse=True)\n",
    "print(sal_sort_rev)"
   ]
  },
  {
   "cell_type": "markdown",
   "metadata": {},
   "source": [
    "### 평균값 계산하기"
   ]
  },
  {
   "cell_type": "code",
   "execution_count": 14,
   "metadata": {},
   "outputs": [
    {
     "name": "stdout",
     "output_type": "stream",
     "text": [
      "평균값: 5573.333333333333\n",
      "numpy 평균값 5573.333333333333\n"
     ]
    }
   ],
   "source": [
    "mean_sal = sum(sal_all) / len(sal_all)\n",
    "print('평균값:',mean_sal)\n",
    "\n",
    "# numpy 모듈 사용하기\n",
    "import numpy as np\n",
    "print('numpy 평균값',np.mean(sal_all))"
   ]
  },
  {
   "cell_type": "markdown",
   "metadata": {},
   "source": [
    "### 중앙값 계산하기\n",
    "1. 데이터 정렬\n",
    "2. 정렬 데이터 2로 나누기\n",
    "    - 나머지 = 1(홀수) : 가운데 값\n",
    "    - 나머지 = 0(짝수) : 가운데 두개의 평균값"
   ]
  },
  {
   "cell_type": "markdown",
   "metadata": {},
   "source": [
    "#### 홀수인 경우"
   ]
  },
  {
   "cell_type": "code",
   "execution_count": 19,
   "metadata": {},
   "outputs": [
    {
     "name": "stdout",
     "output_type": "stream",
     "text": [
      "전체 갯수: 15\n",
      "가운데 값의 자리번호: 7\n",
      "중앙값:  4300\n",
      "numpy 중앙값: 4300.0\n"
     ]
    }
   ],
   "source": [
    "sal_sort = sorted(sal_all)\n",
    "print('전체 갯수:',len(sal_all))\n",
    "\n",
    "# //시 소수점은 생략\n",
    "print('가운데 값의 자리번호:', len(sal_all)//2)\n",
    "print('중앙값: ', sal_sort[len(sal_all)//2])\n",
    "\n",
    "# numpy로 중앙값 찾기\n",
    "print('numpy 중앙값:', np.median(sal_all))"
   ]
  },
  {
   "cell_type": "markdown",
   "metadata": {},
   "source": [
    "#### 짝수인 경우"
   ]
  },
  {
   "cell_type": "code",
   "execution_count": 28,
   "metadata": {},
   "outputs": [
    {
     "name": "stdout",
     "output_type": "stream",
     "text": [
      "한명을 제외한 전체 갯수:  14\n",
      "한명을 제외한 평균:  5742.857\n",
      "--------------------\n",
      "가운데 값의 자리: 7\n",
      "중앙값의 왼쪽값 위치 번호: 6\n",
      "중앙값의 오른쪽값 위치 번호: 7\n",
      "중앙값: 4300.0\n",
      "--------------------\n",
      "numpy 중앙값: 4300.0\n"
     ]
    }
   ],
   "source": [
    "sal_all_1 = [9700, 9500, 9900, 3800, 4300, 4300, 3800, 4200, 4500, 5500, 3200, 3800, 4200, 9700]\n",
    "print('한명을 제외한 전체 갯수: ', len(sal_all_1))\n",
    "\n",
    "mean_sal_1 = sum(sal_all_1)/len(sal_all_1)\n",
    "print('한명을 제외한 평균: ', round(mean_sal_1,3))\n",
    "print('-'*20)\n",
    "\n",
    "print('가운데 값의 자리:', len(sal_all_1) // 2)\n",
    "sal_sort_1 = sorted(sal_all_1)\n",
    "left_value = (len(sal_all_1)//2)-1\n",
    "right_value = len(sal_all_1) // 2\n",
    "\n",
    "print('중앙값의 왼쪽값 위치 번호:',left_value )\n",
    "print('중앙값의 오른쪽값 위치 번호:',right_value )\n",
    "\n",
    "mid_value = (sal_sort_1[left_value] + sal_sort_1[right_value]) / 2\n",
    "print('중앙값:',mid_value)\n",
    "print('-'*20)\n",
    "\n",
    "# numpy를 이용한 중앙값 찾기\n",
    "print('numpy 중앙값:', np.median(sal_all_1))"
   ]
  },
  {
   "cell_type": "markdown",
   "metadata": {},
   "source": [
    "### 분산과 표준편차\n",
    "- 편차 : 평균과 원본 데이터를 비교한 차이값\n",
    "- 분산 : 편차를 제곱하여 구한 값\n",
    "- 표준편차 : 분산에 루트를 계산 -> 편차의 평균을 구한 값"
   ]
  },
  {
   "cell_type": "code",
   "execution_count": 29,
   "metadata": {},
   "outputs": [
    {
     "name": "stdout",
     "output_type": "stream",
     "text": [
      "분산값:  6471288.89\n",
      "표준편차값:  2543.87\n"
     ]
    }
   ],
   "source": [
    "print('분산값: ', round(np.var(sal_all),2))\n",
    "\n",
    "# 평균값과 표준편차 값만큼 떨어져있다고 보면 됨\n",
    "print('표준편차값: ', round(np.std(sal_all),2))"
   ]
  },
  {
   "cell_type": "markdown",
   "metadata": {},
   "source": [
    "### 상관관계 분석"
   ]
  },
  {
   "cell_type": "code",
   "execution_count": 37,
   "metadata": {},
   "outputs": [
    {
     "name": "stdout",
     "output_type": "stream",
     "text": [
      "          0         1\n",
      "0  1.000000  0.997054\n",
      "1  0.997054  1.000000\n"
     ]
    }
   ],
   "source": [
    "# 피어슨 상관계수 \n",
    "import pandas as pd\n",
    "\n",
    "lst =[[1,2,3,4,5],\n",
    "      [3,5,8,11,13]]\n",
    "\n",
    "df = pd.DataFrame(lst).T\n",
    "corr = df.corr(method = 'pearson')\n",
    "print(corr)"
   ]
  },
  {
   "cell_type": "markdown",
   "metadata": {},
   "source": [
    "### 선형회귀 분석"
   ]
  },
  {
   "cell_type": "code",
   "execution_count": 39,
   "metadata": {},
   "outputs": [
    {
     "name": "stdout",
     "output_type": "stream",
     "text": [
      "slope: 0.94 / intercept -4.199999999999989 / 상관계수 0.8660744134561783 / P-Value 0.057637687745097074 / 에러의 표준편차 0.3132624033192196\n",
      "예상IQ: 105.78\n"
     ]
    },
    {
     "name": "stderr",
     "output_type": "stream",
     "text": [
      "<ipython-input-39-424b3ff85525>:7: DeprecationWarning: scipy.polyval is deprecated and will be removed in SciPy 2.0.0, use numpy.polyval instead\n",
      "  ry = polyval([slope, intercept], x)\n"
     ]
    },
    {
     "data": {
      "image/png": "[encoded data removed]",
      "text/plain": [
       "<Figure size 432x288 with 1 Axes>"
      ]
     },
     "metadata": {
      "needs_background": "light"
     },
     "output_type": "display_data"
    }
   ],
   "source": [
    "from scipy import stats, polyval\n",
    "from pylab import plot, title, show, legend\n",
    "x = [110, 120, 130, 140, 150]\n",
    "y = [100, 105, 128, 115, 142]\n",
    "\n",
    "slope, intercept, r, p, std = stats.linregress(x,y)\n",
    "ry = polyval([slope, intercept], x)\n",
    "\n",
    "print('slope:',slope,'/','intercept',intercept,'/','상관계수',r,'/','P-Value',p,'/','에러의 표준편차',std)\n",
    "print('예상IQ:',117*slope + intercept)\n",
    "\n",
    "# 시각화\n",
    "plot(x,y,'k.')\n",
    "plot(x,ry,'r,-')\n",
    "title('regression')\n",
    "\n",
    "legend(['original','regression'])\n",
    "show()"
   ]
  }
 ],
 "metadata": {
  "kernelspec": {
   "display_name": "Python 3",
   "language": "python",
   "name": "python3"
  },
  "language_info": {
   "codemirror_mode": {
    "name": "ipython",
    "version": 3
   },
   "file_extension": ".py",
   "mimetype": "text/x-python",
   "name": "python",
   "nbconvert_exporter": "python",
   "pygments_lexer": "ipython3",
   "version": "3.8.5"
  }
 },
 "nbformat": 4,
 "nbformat_minor": 4
}
