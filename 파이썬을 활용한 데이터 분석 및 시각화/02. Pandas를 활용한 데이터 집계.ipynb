{
 "cells": [
  {
   "cell_type": "code",
   "execution_count": 1,
   "metadata": {},
   "outputs": [],
   "source": [
    "import pandas as pd"
   ]
  },
  {
   "cell_type": "markdown",
   "metadata": {},
   "source": [
    "## csv파일 불러오기\n",
    "- 파일 내용을 불러오는데 에러가 나는 경우 : encoding = 'euc-kr'"
   ]
  },
  {
   "cell_type": "code",
   "execution_count": 4,
   "metadata": {},
   "outputs": [],
   "source": [
    "pop_1 = pd.read_csv('data/pop_2014.csv', encoding='euc-kr')"
   ]
  },
  {
   "cell_type": "code",
   "execution_count": 6,
   "metadata": {},
   "outputs": [
    {
     "data": {
      "text/html": [
       "<div>\n",
       "<style scoped>\n",
       "    .dataframe tbody tr th:only-of-type {\n",
       "        vertical-align: middle;\n",
       "    }\n",
       "\n",
       "    .dataframe tbody tr th {\n",
       "        vertical-align: top;\n",
       "    }\n",
       "\n",
       "    .dataframe thead th {\n",
       "        text-align: right;\n",
       "    }\n",
       "</style>\n",
       "<table border=\"1\" class=\"dataframe\">\n",
       "  <thead>\n",
       "    <tr style=\"text-align: right;\">\n",
       "      <th></th>\n",
       "      <th>행정구역명</th>\n",
       "      <th>위치</th>\n",
       "      <th>총인구수</th>\n",
       "      <th>남자 인구수</th>\n",
       "      <th>여자 인구수</th>\n",
       "    </tr>\n",
       "  </thead>\n",
       "  <tbody>\n",
       "    <tr>\n",
       "      <th>0</th>\n",
       "      <td>창원시</td>\n",
       "      <td>창원시청</td>\n",
       "      <td>1075168</td>\n",
       "      <td>546530</td>\n",
       "      <td>528638</td>\n",
       "    </tr>\n",
       "    <tr>\n",
       "      <th>1</th>\n",
       "      <td>진주시</td>\n",
       "      <td>진주시청</td>\n",
       "      <td>340241</td>\n",
       "      <td>168480</td>\n",
       "      <td>171761</td>\n",
       "    </tr>\n",
       "    <tr>\n",
       "      <th>2</th>\n",
       "      <td>통영시</td>\n",
       "      <td>통영시청</td>\n",
       "      <td>139439</td>\n",
       "      <td>70639</td>\n",
       "      <td>68800</td>\n",
       "    </tr>\n",
       "    <tr>\n",
       "      <th>3</th>\n",
       "      <td>사천시</td>\n",
       "      <td>사천시청</td>\n",
       "      <td>116485</td>\n",
       "      <td>58392</td>\n",
       "      <td>58093</td>\n",
       "    </tr>\n",
       "    <tr>\n",
       "      <th>4</th>\n",
       "      <td>김해시</td>\n",
       "      <td>김해시청</td>\n",
       "      <td>527240</td>\n",
       "      <td>266361</td>\n",
       "      <td>260879</td>\n",
       "    </tr>\n",
       "  </tbody>\n",
       "</table>\n",
       "</div>"
      ],
      "text/plain": [
       "    행정구역명    위치     총인구수  남자 인구수  여자 인구수\n",
       "0  　　　창원시  창원시청  1075168  546530  528638\n",
       "1  　　　진주시  진주시청   340241  168480  171761\n",
       "2  　　　통영시  통영시청   139439   70639   68800\n",
       "3  　　　사천시  사천시청   116485   58392   58093\n",
       "4  　　　김해시  김해시청   527240  266361  260879"
      ]
     },
     "execution_count": 6,
     "metadata": {},
     "output_type": "execute_result"
    }
   ],
   "source": [
    "pop_1.head()"
   ]
  },
  {
   "cell_type": "markdown",
   "metadata": {},
   "source": [
    "## excel 파일 불러오기\n",
    "- Xlrd 패키지 설치가 되어있어야함"
   ]
  },
  {
   "cell_type": "code",
   "execution_count": 8,
   "metadata": {},
   "outputs": [],
   "source": [
    "pop_2 = pd.read_excel('data/경상남도_년도별_지역별_인구수_2014년.xlsx')"
   ]
  },
  {
   "cell_type": "code",
   "execution_count": 9,
   "metadata": {},
   "outputs": [
    {
     "data": {
      "text/html": [
       "<div>\n",
       "<style scoped>\n",
       "    .dataframe tbody tr th:only-of-type {\n",
       "        vertical-align: middle;\n",
       "    }\n",
       "\n",
       "    .dataframe tbody tr th {\n",
       "        vertical-align: top;\n",
       "    }\n",
       "\n",
       "    .dataframe thead th {\n",
       "        text-align: right;\n",
       "    }\n",
       "</style>\n",
       "<table border=\"1\" class=\"dataframe\">\n",
       "  <thead>\n",
       "    <tr style=\"text-align: right;\">\n",
       "      <th></th>\n",
       "      <th>행정구역명</th>\n",
       "      <th>위치</th>\n",
       "      <th>총인구수</th>\n",
       "      <th>남자 인구수</th>\n",
       "      <th>여자 인구수</th>\n",
       "    </tr>\n",
       "  </thead>\n",
       "  <tbody>\n",
       "    <tr>\n",
       "      <th>0</th>\n",
       "      <td>창원시</td>\n",
       "      <td>창원시청</td>\n",
       "      <td>1075168</td>\n",
       "      <td>546530</td>\n",
       "      <td>528638</td>\n",
       "    </tr>\n",
       "    <tr>\n",
       "      <th>1</th>\n",
       "      <td>진주시</td>\n",
       "      <td>진주시청</td>\n",
       "      <td>340241</td>\n",
       "      <td>168480</td>\n",
       "      <td>171761</td>\n",
       "    </tr>\n",
       "    <tr>\n",
       "      <th>2</th>\n",
       "      <td>통영시</td>\n",
       "      <td>통영시청</td>\n",
       "      <td>139439</td>\n",
       "      <td>70639</td>\n",
       "      <td>68800</td>\n",
       "    </tr>\n",
       "    <tr>\n",
       "      <th>3</th>\n",
       "      <td>사천시</td>\n",
       "      <td>사천시청</td>\n",
       "      <td>116485</td>\n",
       "      <td>58392</td>\n",
       "      <td>58093</td>\n",
       "    </tr>\n",
       "    <tr>\n",
       "      <th>4</th>\n",
       "      <td>김해시</td>\n",
       "      <td>김해시청</td>\n",
       "      <td>527240</td>\n",
       "      <td>266361</td>\n",
       "      <td>260879</td>\n",
       "    </tr>\n",
       "  </tbody>\n",
       "</table>\n",
       "</div>"
      ],
      "text/plain": [
       "    행정구역명    위치     총인구수  남자 인구수  여자 인구수\n",
       "0  　　　창원시  창원시청  1075168  546530  528638\n",
       "1  　　　진주시  진주시청   340241  168480  171761\n",
       "2  　　　통영시  통영시청   139439   70639   68800\n",
       "3  　　　사천시  사천시청   116485   58392   58093\n",
       "4  　　　김해시  김해시청   527240  266361  260879"
      ]
     },
     "execution_count": 9,
     "metadata": {},
     "output_type": "execute_result"
    }
   ],
   "source": [
    "pop_2.head()"
   ]
  },
  {
   "cell_type": "markdown",
   "metadata": {},
   "source": [
    "### 행 지정하여 불러오기"
   ]
  },
  {
   "cell_type": "code",
   "execution_count": 12,
   "metadata": {},
   "outputs": [],
   "source": [
    "# 입력한 줄 번호부터 호출 : header= 숫자\n",
    "pop_3 = pd.read_excel('data/경상남도_년도별_지역별_인구수_2014년.xlsx', header=1)"
   ]
  },
  {
   "cell_type": "code",
   "execution_count": 15,
   "metadata": {},
   "outputs": [
    {
     "data": {
      "text/html": [
       "<div>\n",
       "<style scoped>\n",
       "    .dataframe tbody tr th:only-of-type {\n",
       "        vertical-align: middle;\n",
       "    }\n",
       "\n",
       "    .dataframe tbody tr th {\n",
       "        vertical-align: top;\n",
       "    }\n",
       "\n",
       "    .dataframe thead th {\n",
       "        text-align: right;\n",
       "    }\n",
       "</style>\n",
       "<table border=\"1\" class=\"dataframe\">\n",
       "  <thead>\n",
       "    <tr style=\"text-align: right;\">\n",
       "      <th></th>\n",
       "      <th>창원시</th>\n",
       "      <th>창원시청</th>\n",
       "      <th>1075168</th>\n",
       "      <th>546530</th>\n",
       "      <th>528638</th>\n",
       "    </tr>\n",
       "  </thead>\n",
       "  <tbody>\n",
       "    <tr>\n",
       "      <th>0</th>\n",
       "      <td>진주시</td>\n",
       "      <td>진주시청</td>\n",
       "      <td>340241</td>\n",
       "      <td>168480</td>\n",
       "      <td>171761</td>\n",
       "    </tr>\n",
       "    <tr>\n",
       "      <th>1</th>\n",
       "      <td>통영시</td>\n",
       "      <td>통영시청</td>\n",
       "      <td>139439</td>\n",
       "      <td>70639</td>\n",
       "      <td>68800</td>\n",
       "    </tr>\n",
       "    <tr>\n",
       "      <th>2</th>\n",
       "      <td>사천시</td>\n",
       "      <td>사천시청</td>\n",
       "      <td>116485</td>\n",
       "      <td>58392</td>\n",
       "      <td>58093</td>\n",
       "    </tr>\n",
       "    <tr>\n",
       "      <th>3</th>\n",
       "      <td>김해시</td>\n",
       "      <td>김해시청</td>\n",
       "      <td>527240</td>\n",
       "      <td>266361</td>\n",
       "      <td>260879</td>\n",
       "    </tr>\n",
       "    <tr>\n",
       "      <th>4</th>\n",
       "      <td>밀양시</td>\n",
       "      <td>밀양시청</td>\n",
       "      <td>107765</td>\n",
       "      <td>52759</td>\n",
       "      <td>55006</td>\n",
       "    </tr>\n",
       "  </tbody>\n",
       "</table>\n",
       "</div>"
      ],
      "text/plain": [
       "   　　　창원시  창원시청  1075168  546530  528638\n",
       "0  　　　진주시  진주시청   340241  168480  171761\n",
       "1  　　　통영시  통영시청   139439   70639   68800\n",
       "2  　　　사천시  사천시청   116485   58392   58093\n",
       "3  　　　김해시  김해시청   527240  266361  260879\n",
       "4  　　　밀양시  밀양시청   107765   52759   55006"
      ]
     },
     "execution_count": 15,
     "metadata": {},
     "output_type": "execute_result"
    }
   ],
   "source": [
    "pop_3.head()"
   ]
  },
  {
   "cell_type": "markdown",
   "metadata": {},
   "source": [
    "### 컬럼 지정하여 불러오기\n",
    "- parse_cols, usecols = \"excel 내에 컬럼명\""
   ]
  },
  {
   "cell_type": "code",
   "execution_count": 27,
   "metadata": {},
   "outputs": [],
   "source": [
    "pop_4 = pd.read_excel('data/경상남도_년도별_지역별_인구수_2014년.xlsx', usecols=\"A,D,E\")"
   ]
  },
  {
   "cell_type": "code",
   "execution_count": 28,
   "metadata": {},
   "outputs": [
    {
     "data": {
      "text/html": [
       "<div>\n",
       "<style scoped>\n",
       "    .dataframe tbody tr th:only-of-type {\n",
       "        vertical-align: middle;\n",
       "    }\n",
       "\n",
       "    .dataframe tbody tr th {\n",
       "        vertical-align: top;\n",
       "    }\n",
       "\n",
       "    .dataframe thead th {\n",
       "        text-align: right;\n",
       "    }\n",
       "</style>\n",
       "<table border=\"1\" class=\"dataframe\">\n",
       "  <thead>\n",
       "    <tr style=\"text-align: right;\">\n",
       "      <th></th>\n",
       "      <th>행정구역명</th>\n",
       "      <th>남자 인구수</th>\n",
       "      <th>여자 인구수</th>\n",
       "    </tr>\n",
       "  </thead>\n",
       "  <tbody>\n",
       "    <tr>\n",
       "      <th>0</th>\n",
       "      <td>창원시</td>\n",
       "      <td>546530</td>\n",
       "      <td>528638</td>\n",
       "    </tr>\n",
       "    <tr>\n",
       "      <th>1</th>\n",
       "      <td>진주시</td>\n",
       "      <td>168480</td>\n",
       "      <td>171761</td>\n",
       "    </tr>\n",
       "    <tr>\n",
       "      <th>2</th>\n",
       "      <td>통영시</td>\n",
       "      <td>70639</td>\n",
       "      <td>68800</td>\n",
       "    </tr>\n",
       "    <tr>\n",
       "      <th>3</th>\n",
       "      <td>사천시</td>\n",
       "      <td>58392</td>\n",
       "      <td>58093</td>\n",
       "    </tr>\n",
       "    <tr>\n",
       "      <th>4</th>\n",
       "      <td>김해시</td>\n",
       "      <td>266361</td>\n",
       "      <td>260879</td>\n",
       "    </tr>\n",
       "  </tbody>\n",
       "</table>\n",
       "</div>"
      ],
      "text/plain": [
       "    행정구역명  남자 인구수  여자 인구수\n",
       "0  　　　창원시  546530  528638\n",
       "1  　　　진주시  168480  171761\n",
       "2  　　　통영시   70639   68800\n",
       "3  　　　사천시   58392   58093\n",
       "4  　　　김해시  266361  260879"
      ]
     },
     "execution_count": 28,
     "metadata": {},
     "output_type": "execute_result"
    }
   ],
   "source": [
    "pop_4.head()"
   ]
  },
  {
   "cell_type": "markdown",
   "metadata": {},
   "source": [
    "### 컬럼 이름 변경"
   ]
  },
  {
   "cell_type": "code",
   "execution_count": 30,
   "metadata": {},
   "outputs": [],
   "source": [
    "pop_4.rename(columns={pop_4.columns[1]:'남자',\n",
    "                      pop_4.columns[2]:'여자'}, inplace=True)"
   ]
  },
  {
   "cell_type": "code",
   "execution_count": 31,
   "metadata": {
    "scrolled": true
   },
   "outputs": [
    {
     "data": {
      "text/html": [
       "<div>\n",
       "<style scoped>\n",
       "    .dataframe tbody tr th:only-of-type {\n",
       "        vertical-align: middle;\n",
       "    }\n",
       "\n",
       "    .dataframe tbody tr th {\n",
       "        vertical-align: top;\n",
       "    }\n",
       "\n",
       "    .dataframe thead th {\n",
       "        text-align: right;\n",
       "    }\n",
       "</style>\n",
       "<table border=\"1\" class=\"dataframe\">\n",
       "  <thead>\n",
       "    <tr style=\"text-align: right;\">\n",
       "      <th></th>\n",
       "      <th>행정구역명</th>\n",
       "      <th>남자</th>\n",
       "      <th>여자</th>\n",
       "    </tr>\n",
       "  </thead>\n",
       "  <tbody>\n",
       "    <tr>\n",
       "      <th>0</th>\n",
       "      <td>창원시</td>\n",
       "      <td>546530</td>\n",
       "      <td>528638</td>\n",
       "    </tr>\n",
       "    <tr>\n",
       "      <th>1</th>\n",
       "      <td>진주시</td>\n",
       "      <td>168480</td>\n",
       "      <td>171761</td>\n",
       "    </tr>\n",
       "    <tr>\n",
       "      <th>2</th>\n",
       "      <td>통영시</td>\n",
       "      <td>70639</td>\n",
       "      <td>68800</td>\n",
       "    </tr>\n",
       "    <tr>\n",
       "      <th>3</th>\n",
       "      <td>사천시</td>\n",
       "      <td>58392</td>\n",
       "      <td>58093</td>\n",
       "    </tr>\n",
       "    <tr>\n",
       "      <th>4</th>\n",
       "      <td>김해시</td>\n",
       "      <td>266361</td>\n",
       "      <td>260879</td>\n",
       "    </tr>\n",
       "  </tbody>\n",
       "</table>\n",
       "</div>"
      ],
      "text/plain": [
       "    행정구역명      남자      여자\n",
       "0  　　　창원시  546530  528638\n",
       "1  　　　진주시  168480  171761\n",
       "2  　　　통영시   70639   68800\n",
       "3  　　　사천시   58392   58093\n",
       "4  　　　김해시  266361  260879"
      ]
     },
     "execution_count": 31,
     "metadata": {},
     "output_type": "execute_result"
    }
   ],
   "source": [
    "pop_4.head()"
   ]
  },
  {
   "cell_type": "markdown",
   "metadata": {},
   "source": [
    "## 데이터 정렬 방법"
   ]
  },
  {
   "cell_type": "code",
   "execution_count": 33,
   "metadata": {},
   "outputs": [],
   "source": [
    "# 행정구역명으로 오름차순 정렬\n",
    "# ascending = True\n",
    "# False : 내림차순\n",
    "pop_5 = pop_2.sort_values(by=\"행정구역명\", ascending=True)"
   ]
  },
  {
   "cell_type": "code",
   "execution_count": 35,
   "metadata": {},
   "outputs": [
    {
     "data": {
      "text/html": [
       "<div>\n",
       "<style scoped>\n",
       "    .dataframe tbody tr th:only-of-type {\n",
       "        vertical-align: middle;\n",
       "    }\n",
       "\n",
       "    .dataframe tbody tr th {\n",
       "        vertical-align: top;\n",
       "    }\n",
       "\n",
       "    .dataframe thead th {\n",
       "        text-align: right;\n",
       "    }\n",
       "</style>\n",
       "<table border=\"1\" class=\"dataframe\">\n",
       "  <thead>\n",
       "    <tr style=\"text-align: right;\">\n",
       "      <th></th>\n",
       "      <th>행정구역명</th>\n",
       "      <th>위치</th>\n",
       "      <th>총인구수</th>\n",
       "      <th>남자 인구수</th>\n",
       "      <th>여자 인구수</th>\n",
       "    </tr>\n",
       "  </thead>\n",
       "  <tbody>\n",
       "    <tr>\n",
       "      <th>6</th>\n",
       "      <td>거제시</td>\n",
       "      <td>거제시청</td>\n",
       "      <td>248287</td>\n",
       "      <td>130708</td>\n",
       "      <td>117579</td>\n",
       "    </tr>\n",
       "    <tr>\n",
       "      <th>16</th>\n",
       "      <td>거창군</td>\n",
       "      <td>거창군청</td>\n",
       "      <td>63137</td>\n",
       "      <td>30581</td>\n",
       "      <td>32556</td>\n",
       "    </tr>\n",
       "    <tr>\n",
       "      <th>11</th>\n",
       "      <td>고성군</td>\n",
       "      <td>고성군청</td>\n",
       "      <td>55916</td>\n",
       "      <td>28020</td>\n",
       "      <td>27896</td>\n",
       "    </tr>\n",
       "    <tr>\n",
       "      <th>4</th>\n",
       "      <td>김해시</td>\n",
       "      <td>김해시청</td>\n",
       "      <td>527240</td>\n",
       "      <td>266361</td>\n",
       "      <td>260879</td>\n",
       "    </tr>\n",
       "    <tr>\n",
       "      <th>12</th>\n",
       "      <td>남해군</td>\n",
       "      <td>남해군청</td>\n",
       "      <td>46638</td>\n",
       "      <td>22247</td>\n",
       "      <td>24391</td>\n",
       "    </tr>\n",
       "  </tbody>\n",
       "</table>\n",
       "</div>"
      ],
      "text/plain": [
       "     행정구역명    위치    총인구수  남자 인구수  여자 인구수\n",
       "6   　　　거제시  거제시청  248287  130708  117579\n",
       "16  　　　거창군  거창군청   63137   30581   32556\n",
       "11  　　　고성군  고성군청   55916   28020   27896\n",
       "4   　　　김해시  김해시청  527240  266361  260879\n",
       "12  　　　남해군  남해군청   46638   22247   24391"
      ]
     },
     "execution_count": 35,
     "metadata": {},
     "output_type": "execute_result"
    }
   ],
   "source": [
    "pop_5.head()"
   ]
  },
  {
   "cell_type": "markdown",
   "metadata": {},
   "source": [
    "## 즉시 컬럼 생성 방법"
   ]
  },
  {
   "cell_type": "code",
   "execution_count": 36,
   "metadata": {},
   "outputs": [
    {
     "data": {
      "text/html": [
       "<div>\n",
       "<style scoped>\n",
       "    .dataframe tbody tr th:only-of-type {\n",
       "        vertical-align: middle;\n",
       "    }\n",
       "\n",
       "    .dataframe tbody tr th {\n",
       "        vertical-align: top;\n",
       "    }\n",
       "\n",
       "    .dataframe thead th {\n",
       "        text-align: right;\n",
       "    }\n",
       "</style>\n",
       "<table border=\"1\" class=\"dataframe\">\n",
       "  <thead>\n",
       "    <tr style=\"text-align: right;\">\n",
       "      <th></th>\n",
       "      <th>행정구역명</th>\n",
       "      <th>위치</th>\n",
       "      <th>총인구수</th>\n",
       "      <th>남자 인구수</th>\n",
       "      <th>여자 인구수</th>\n",
       "    </tr>\n",
       "  </thead>\n",
       "  <tbody>\n",
       "    <tr>\n",
       "      <th>0</th>\n",
       "      <td>창원시</td>\n",
       "      <td>창원시청</td>\n",
       "      <td>1075168</td>\n",
       "      <td>546530</td>\n",
       "      <td>528638</td>\n",
       "    </tr>\n",
       "    <tr>\n",
       "      <th>1</th>\n",
       "      <td>진주시</td>\n",
       "      <td>진주시청</td>\n",
       "      <td>340241</td>\n",
       "      <td>168480</td>\n",
       "      <td>171761</td>\n",
       "    </tr>\n",
       "    <tr>\n",
       "      <th>2</th>\n",
       "      <td>통영시</td>\n",
       "      <td>통영시청</td>\n",
       "      <td>139439</td>\n",
       "      <td>70639</td>\n",
       "      <td>68800</td>\n",
       "    </tr>\n",
       "    <tr>\n",
       "      <th>3</th>\n",
       "      <td>사천시</td>\n",
       "      <td>사천시청</td>\n",
       "      <td>116485</td>\n",
       "      <td>58392</td>\n",
       "      <td>58093</td>\n",
       "    </tr>\n",
       "    <tr>\n",
       "      <th>4</th>\n",
       "      <td>김해시</td>\n",
       "      <td>김해시청</td>\n",
       "      <td>527240</td>\n",
       "      <td>266361</td>\n",
       "      <td>260879</td>\n",
       "    </tr>\n",
       "    <tr>\n",
       "      <th>5</th>\n",
       "      <td>밀양시</td>\n",
       "      <td>밀양시청</td>\n",
       "      <td>107765</td>\n",
       "      <td>52759</td>\n",
       "      <td>55006</td>\n",
       "    </tr>\n",
       "    <tr>\n",
       "      <th>6</th>\n",
       "      <td>거제시</td>\n",
       "      <td>거제시청</td>\n",
       "      <td>248287</td>\n",
       "      <td>130708</td>\n",
       "      <td>117579</td>\n",
       "    </tr>\n",
       "    <tr>\n",
       "      <th>7</th>\n",
       "      <td>양산시</td>\n",
       "      <td>양산시청</td>\n",
       "      <td>292376</td>\n",
       "      <td>147189</td>\n",
       "      <td>145187</td>\n",
       "    </tr>\n",
       "    <tr>\n",
       "      <th>8</th>\n",
       "      <td>의령군</td>\n",
       "      <td>의령군청</td>\n",
       "      <td>29209</td>\n",
       "      <td>14081</td>\n",
       "      <td>15128</td>\n",
       "    </tr>\n",
       "    <tr>\n",
       "      <th>9</th>\n",
       "      <td>함안군</td>\n",
       "      <td>함안군청</td>\n",
       "      <td>68741</td>\n",
       "      <td>34611</td>\n",
       "      <td>34130</td>\n",
       "    </tr>\n",
       "  </tbody>\n",
       "</table>\n",
       "</div>"
      ],
      "text/plain": [
       "    행정구역명    위치     총인구수  남자 인구수  여자 인구수\n",
       "0  　　　창원시  창원시청  1075168  546530  528638\n",
       "1  　　　진주시  진주시청   340241  168480  171761\n",
       "2  　　　통영시  통영시청   139439   70639   68800\n",
       "3  　　　사천시  사천시청   116485   58392   58093\n",
       "4  　　　김해시  김해시청   527240  266361  260879\n",
       "5  　　　밀양시  밀양시청   107765   52759   55006\n",
       "6  　　　거제시  거제시청   248287  130708  117579\n",
       "7  　　　양산시  양산시청   292376  147189  145187\n",
       "8  　　　의령군  의령군청    29209   14081   15128\n",
       "9  　　　함안군  함안군청    68741   34611   34130"
      ]
     },
     "execution_count": 36,
     "metadata": {},
     "output_type": "execute_result"
    }
   ],
   "source": [
    "pop_2.head(10)"
   ]
  },
  {
   "cell_type": "code",
   "execution_count": 40,
   "metadata": {},
   "outputs": [],
   "source": [
    "pop_2['남자인구비율'] = round((pop_2['남자 인구수']/pop_2['총인구수']) * 100,2)\n",
    "pop_2['여자인구비율'] = round((pop_2['여자 인구수']/pop_2['총인구수']) * 100,2)"
   ]
  },
  {
   "cell_type": "code",
   "execution_count": 41,
   "metadata": {},
   "outputs": [
    {
     "data": {
      "text/html": [
       "<div>\n",
       "<style scoped>\n",
       "    .dataframe tbody tr th:only-of-type {\n",
       "        vertical-align: middle;\n",
       "    }\n",
       "\n",
       "    .dataframe tbody tr th {\n",
       "        vertical-align: top;\n",
       "    }\n",
       "\n",
       "    .dataframe thead th {\n",
       "        text-align: right;\n",
       "    }\n",
       "</style>\n",
       "<table border=\"1\" class=\"dataframe\">\n",
       "  <thead>\n",
       "    <tr style=\"text-align: right;\">\n",
       "      <th></th>\n",
       "      <th>행정구역명</th>\n",
       "      <th>위치</th>\n",
       "      <th>총인구수</th>\n",
       "      <th>남자 인구수</th>\n",
       "      <th>여자 인구수</th>\n",
       "      <th>남자인구비율</th>\n",
       "      <th>여자인구비율</th>\n",
       "    </tr>\n",
       "  </thead>\n",
       "  <tbody>\n",
       "    <tr>\n",
       "      <th>0</th>\n",
       "      <td>창원시</td>\n",
       "      <td>창원시청</td>\n",
       "      <td>1075168</td>\n",
       "      <td>546530</td>\n",
       "      <td>528638</td>\n",
       "      <td>50.83</td>\n",
       "      <td>49.17</td>\n",
       "    </tr>\n",
       "    <tr>\n",
       "      <th>1</th>\n",
       "      <td>진주시</td>\n",
       "      <td>진주시청</td>\n",
       "      <td>340241</td>\n",
       "      <td>168480</td>\n",
       "      <td>171761</td>\n",
       "      <td>49.52</td>\n",
       "      <td>50.48</td>\n",
       "    </tr>\n",
       "    <tr>\n",
       "      <th>2</th>\n",
       "      <td>통영시</td>\n",
       "      <td>통영시청</td>\n",
       "      <td>139439</td>\n",
       "      <td>70639</td>\n",
       "      <td>68800</td>\n",
       "      <td>50.66</td>\n",
       "      <td>49.34</td>\n",
       "    </tr>\n",
       "    <tr>\n",
       "      <th>3</th>\n",
       "      <td>사천시</td>\n",
       "      <td>사천시청</td>\n",
       "      <td>116485</td>\n",
       "      <td>58392</td>\n",
       "      <td>58093</td>\n",
       "      <td>50.13</td>\n",
       "      <td>49.87</td>\n",
       "    </tr>\n",
       "    <tr>\n",
       "      <th>4</th>\n",
       "      <td>김해시</td>\n",
       "      <td>김해시청</td>\n",
       "      <td>527240</td>\n",
       "      <td>266361</td>\n",
       "      <td>260879</td>\n",
       "      <td>50.52</td>\n",
       "      <td>49.48</td>\n",
       "    </tr>\n",
       "  </tbody>\n",
       "</table>\n",
       "</div>"
      ],
      "text/plain": [
       "    행정구역명    위치     총인구수  남자 인구수  여자 인구수  남자인구비율  여자인구비율\n",
       "0  　　　창원시  창원시청  1075168  546530  528638   50.83   49.17\n",
       "1  　　　진주시  진주시청   340241  168480  171761   49.52   50.48\n",
       "2  　　　통영시  통영시청   139439   70639   68800   50.66   49.34\n",
       "3  　　　사천시  사천시청   116485   58392   58093   50.13   49.87\n",
       "4  　　　김해시  김해시청   527240  266361  260879   50.52   49.48"
      ]
     },
     "execution_count": 41,
     "metadata": {},
     "output_type": "execute_result"
    }
   ],
   "source": [
    "pop_2.head()"
   ]
  },
  {
   "cell_type": "markdown",
   "metadata": {},
   "source": [
    "## 데이터 프레임 합치기\n",
    "- concat : (axis=0 : 행으로 합침, axis=1 : 열로 합침, join : 공통적으로 존재하는 데이터만 표기)\n",
    "- merge"
   ]
  },
  {
   "cell_type": "code",
   "execution_count": 43,
   "metadata": {},
   "outputs": [],
   "source": [
    "sal_2016 = {'이름' : ['홍길동','일지매','전우치'],\n",
    "            '급여' : [200,150,250]}\n",
    "\n",
    "sal_2017 = {'이름' : ['일지매','강감찬','전우치','홍길동'],\n",
    "            '급여' : [180,210,270,220]}\n",
    "\n",
    "df_sal_2016 = pd.DataFrame(sal_2016, columns = ['이름','급여'])\n",
    "df_sal_2017 = pd.DataFrame(sal_2017, columns = ['이름','급여'])"
   ]
  },
  {
   "cell_type": "code",
   "execution_count": 44,
   "metadata": {},
   "outputs": [
    {
     "data": {
      "text/html": [
       "<div>\n",
       "<style scoped>\n",
       "    .dataframe tbody tr th:only-of-type {\n",
       "        vertical-align: middle;\n",
       "    }\n",
       "\n",
       "    .dataframe tbody tr th {\n",
       "        vertical-align: top;\n",
       "    }\n",
       "\n",
       "    .dataframe thead th {\n",
       "        text-align: right;\n",
       "    }\n",
       "</style>\n",
       "<table border=\"1\" class=\"dataframe\">\n",
       "  <thead>\n",
       "    <tr style=\"text-align: right;\">\n",
       "      <th></th>\n",
       "      <th>이름</th>\n",
       "      <th>급여</th>\n",
       "    </tr>\n",
       "  </thead>\n",
       "  <tbody>\n",
       "    <tr>\n",
       "      <th>0</th>\n",
       "      <td>홍길동</td>\n",
       "      <td>200</td>\n",
       "    </tr>\n",
       "    <tr>\n",
       "      <th>1</th>\n",
       "      <td>일지매</td>\n",
       "      <td>150</td>\n",
       "    </tr>\n",
       "    <tr>\n",
       "      <th>2</th>\n",
       "      <td>전우치</td>\n",
       "      <td>250</td>\n",
       "    </tr>\n",
       "  </tbody>\n",
       "</table>\n",
       "</div>"
      ],
      "text/plain": [
       "    이름   급여\n",
       "0  홍길동  200\n",
       "1  일지매  150\n",
       "2  전우치  250"
      ]
     },
     "execution_count": 44,
     "metadata": {},
     "output_type": "execute_result"
    }
   ],
   "source": [
    "df_sal_2016"
   ]
  },
  {
   "cell_type": "code",
   "execution_count": 45,
   "metadata": {},
   "outputs": [
    {
     "data": {
      "text/html": [
       "<div>\n",
       "<style scoped>\n",
       "    .dataframe tbody tr th:only-of-type {\n",
       "        vertical-align: middle;\n",
       "    }\n",
       "\n",
       "    .dataframe tbody tr th {\n",
       "        vertical-align: top;\n",
       "    }\n",
       "\n",
       "    .dataframe thead th {\n",
       "        text-align: right;\n",
       "    }\n",
       "</style>\n",
       "<table border=\"1\" class=\"dataframe\">\n",
       "  <thead>\n",
       "    <tr style=\"text-align: right;\">\n",
       "      <th></th>\n",
       "      <th>이름</th>\n",
       "      <th>급여</th>\n",
       "    </tr>\n",
       "  </thead>\n",
       "  <tbody>\n",
       "    <tr>\n",
       "      <th>0</th>\n",
       "      <td>일지매</td>\n",
       "      <td>180</td>\n",
       "    </tr>\n",
       "    <tr>\n",
       "      <th>1</th>\n",
       "      <td>강감찬</td>\n",
       "      <td>210</td>\n",
       "    </tr>\n",
       "    <tr>\n",
       "      <th>2</th>\n",
       "      <td>전우치</td>\n",
       "      <td>270</td>\n",
       "    </tr>\n",
       "    <tr>\n",
       "      <th>3</th>\n",
       "      <td>홍길동</td>\n",
       "      <td>220</td>\n",
       "    </tr>\n",
       "  </tbody>\n",
       "</table>\n",
       "</div>"
      ],
      "text/plain": [
       "    이름   급여\n",
       "0  일지매  180\n",
       "1  강감찬  210\n",
       "2  전우치  270\n",
       "3  홍길동  220"
      ]
     },
     "execution_count": 45,
     "metadata": {},
     "output_type": "execute_result"
    }
   ],
   "source": [
    "df_sal_2017"
   ]
  },
  {
   "cell_type": "code",
   "execution_count": 46,
   "metadata": {},
   "outputs": [],
   "source": [
    "sal_concat = pd.concat([df_sal_2016,df_sal_2017])"
   ]
  },
  {
   "cell_type": "code",
   "execution_count": 47,
   "metadata": {},
   "outputs": [
    {
     "data": {
      "text/html": [
       "<div>\n",
       "<style scoped>\n",
       "    .dataframe tbody tr th:only-of-type {\n",
       "        vertical-align: middle;\n",
       "    }\n",
       "\n",
       "    .dataframe tbody tr th {\n",
       "        vertical-align: top;\n",
       "    }\n",
       "\n",
       "    .dataframe thead th {\n",
       "        text-align: right;\n",
       "    }\n",
       "</style>\n",
       "<table border=\"1\" class=\"dataframe\">\n",
       "  <thead>\n",
       "    <tr style=\"text-align: right;\">\n",
       "      <th></th>\n",
       "      <th>이름</th>\n",
       "      <th>급여</th>\n",
       "    </tr>\n",
       "  </thead>\n",
       "  <tbody>\n",
       "    <tr>\n",
       "      <th>0</th>\n",
       "      <td>홍길동</td>\n",
       "      <td>200</td>\n",
       "    </tr>\n",
       "    <tr>\n",
       "      <th>1</th>\n",
       "      <td>일지매</td>\n",
       "      <td>150</td>\n",
       "    </tr>\n",
       "    <tr>\n",
       "      <th>2</th>\n",
       "      <td>전우치</td>\n",
       "      <td>250</td>\n",
       "    </tr>\n",
       "    <tr>\n",
       "      <th>0</th>\n",
       "      <td>일지매</td>\n",
       "      <td>180</td>\n",
       "    </tr>\n",
       "    <tr>\n",
       "      <th>1</th>\n",
       "      <td>강감찬</td>\n",
       "      <td>210</td>\n",
       "    </tr>\n",
       "    <tr>\n",
       "      <th>2</th>\n",
       "      <td>전우치</td>\n",
       "      <td>270</td>\n",
       "    </tr>\n",
       "    <tr>\n",
       "      <th>3</th>\n",
       "      <td>홍길동</td>\n",
       "      <td>220</td>\n",
       "    </tr>\n",
       "  </tbody>\n",
       "</table>\n",
       "</div>"
      ],
      "text/plain": [
       "    이름   급여\n",
       "0  홍길동  200\n",
       "1  일지매  150\n",
       "2  전우치  250\n",
       "0  일지매  180\n",
       "1  강감찬  210\n",
       "2  전우치  270\n",
       "3  홍길동  220"
      ]
     },
     "execution_count": 47,
     "metadata": {},
     "output_type": "execute_result"
    }
   ],
   "source": [
    "sal_concat"
   ]
  },
  {
   "cell_type": "code",
   "execution_count": 48,
   "metadata": {},
   "outputs": [],
   "source": [
    "sal_concat_2 = pd.concat([df_sal_2016, df_sal_2017], axis=1)"
   ]
  },
  {
   "cell_type": "code",
   "execution_count": 49,
   "metadata": {
    "scrolled": true
   },
   "outputs": [
    {
     "data": {
      "text/html": [
       "<div>\n",
       "<style scoped>\n",
       "    .dataframe tbody tr th:only-of-type {\n",
       "        vertical-align: middle;\n",
       "    }\n",
       "\n",
       "    .dataframe tbody tr th {\n",
       "        vertical-align: top;\n",
       "    }\n",
       "\n",
       "    .dataframe thead th {\n",
       "        text-align: right;\n",
       "    }\n",
       "</style>\n",
       "<table border=\"1\" class=\"dataframe\">\n",
       "  <thead>\n",
       "    <tr style=\"text-align: right;\">\n",
       "      <th></th>\n",
       "      <th>이름</th>\n",
       "      <th>급여</th>\n",
       "      <th>이름</th>\n",
       "      <th>급여</th>\n",
       "    </tr>\n",
       "  </thead>\n",
       "  <tbody>\n",
       "    <tr>\n",
       "      <th>0</th>\n",
       "      <td>홍길동</td>\n",
       "      <td>200.0</td>\n",
       "      <td>일지매</td>\n",
       "      <td>180</td>\n",
       "    </tr>\n",
       "    <tr>\n",
       "      <th>1</th>\n",
       "      <td>일지매</td>\n",
       "      <td>150.0</td>\n",
       "      <td>강감찬</td>\n",
       "      <td>210</td>\n",
       "    </tr>\n",
       "    <tr>\n",
       "      <th>2</th>\n",
       "      <td>전우치</td>\n",
       "      <td>250.0</td>\n",
       "      <td>전우치</td>\n",
       "      <td>270</td>\n",
       "    </tr>\n",
       "    <tr>\n",
       "      <th>3</th>\n",
       "      <td>NaN</td>\n",
       "      <td>NaN</td>\n",
       "      <td>홍길동</td>\n",
       "      <td>220</td>\n",
       "    </tr>\n",
       "  </tbody>\n",
       "</table>\n",
       "</div>"
      ],
      "text/plain": [
       "    이름     급여   이름   급여\n",
       "0  홍길동  200.0  일지매  180\n",
       "1  일지매  150.0  강감찬  210\n",
       "2  전우치  250.0  전우치  270\n",
       "3  NaN    NaN  홍길동  220"
      ]
     },
     "execution_count": 49,
     "metadata": {},
     "output_type": "execute_result"
    }
   ],
   "source": [
    "sal_concat_2"
   ]
  },
  {
   "cell_type": "markdown",
   "metadata": {},
   "source": [
    "### join"
   ]
  },
  {
   "cell_type": "code",
   "execution_count": 50,
   "metadata": {},
   "outputs": [],
   "source": [
    "sal_concat_3 = pd.concat([df_sal_2016,df_sal_2017], axis=1, join='inner')"
   ]
  },
  {
   "cell_type": "code",
   "execution_count": 51,
   "metadata": {
    "scrolled": true
   },
   "outputs": [
    {
     "data": {
      "text/html": [
       "<div>\n",
       "<style scoped>\n",
       "    .dataframe tbody tr th:only-of-type {\n",
       "        vertical-align: middle;\n",
       "    }\n",
       "\n",
       "    .dataframe tbody tr th {\n",
       "        vertical-align: top;\n",
       "    }\n",
       "\n",
       "    .dataframe thead th {\n",
       "        text-align: right;\n",
       "    }\n",
       "</style>\n",
       "<table border=\"1\" class=\"dataframe\">\n",
       "  <thead>\n",
       "    <tr style=\"text-align: right;\">\n",
       "      <th></th>\n",
       "      <th>이름</th>\n",
       "      <th>급여</th>\n",
       "      <th>이름</th>\n",
       "      <th>급여</th>\n",
       "    </tr>\n",
       "  </thead>\n",
       "  <tbody>\n",
       "    <tr>\n",
       "      <th>0</th>\n",
       "      <td>홍길동</td>\n",
       "      <td>200</td>\n",
       "      <td>일지매</td>\n",
       "      <td>180</td>\n",
       "    </tr>\n",
       "    <tr>\n",
       "      <th>1</th>\n",
       "      <td>일지매</td>\n",
       "      <td>150</td>\n",
       "      <td>강감찬</td>\n",
       "      <td>210</td>\n",
       "    </tr>\n",
       "    <tr>\n",
       "      <th>2</th>\n",
       "      <td>전우치</td>\n",
       "      <td>250</td>\n",
       "      <td>전우치</td>\n",
       "      <td>270</td>\n",
       "    </tr>\n",
       "  </tbody>\n",
       "</table>\n",
       "</div>"
      ],
      "text/plain": [
       "    이름   급여   이름   급여\n",
       "0  홍길동  200  일지매  180\n",
       "1  일지매  150  강감찬  210\n",
       "2  전우치  250  전우치  270"
      ]
     },
     "execution_count": 51,
     "metadata": {},
     "output_type": "execute_result"
    }
   ],
   "source": [
    "sal_concat_3"
   ]
  },
  {
   "cell_type": "markdown",
   "metadata": {},
   "source": [
    "### merge "
   ]
  },
  {
   "cell_type": "code",
   "execution_count": 56,
   "metadata": {},
   "outputs": [],
   "source": [
    "# on : 특정 컬럼을 기준으로 취합\n",
    "sal_merge_1 = pd.merge(df_sal_2016, df_sal_2017, on='이름')"
   ]
  },
  {
   "cell_type": "code",
   "execution_count": 57,
   "metadata": {},
   "outputs": [
    {
     "data": {
      "text/html": [
       "<div>\n",
       "<style scoped>\n",
       "    .dataframe tbody tr th:only-of-type {\n",
       "        vertical-align: middle;\n",
       "    }\n",
       "\n",
       "    .dataframe tbody tr th {\n",
       "        vertical-align: top;\n",
       "    }\n",
       "\n",
       "    .dataframe thead th {\n",
       "        text-align: right;\n",
       "    }\n",
       "</style>\n",
       "<table border=\"1\" class=\"dataframe\">\n",
       "  <thead>\n",
       "    <tr style=\"text-align: right;\">\n",
       "      <th></th>\n",
       "      <th>이름</th>\n",
       "      <th>급여_x</th>\n",
       "      <th>급여_y</th>\n",
       "    </tr>\n",
       "  </thead>\n",
       "  <tbody>\n",
       "    <tr>\n",
       "      <th>0</th>\n",
       "      <td>홍길동</td>\n",
       "      <td>200</td>\n",
       "      <td>220</td>\n",
       "    </tr>\n",
       "    <tr>\n",
       "      <th>1</th>\n",
       "      <td>일지매</td>\n",
       "      <td>150</td>\n",
       "      <td>180</td>\n",
       "    </tr>\n",
       "    <tr>\n",
       "      <th>2</th>\n",
       "      <td>전우치</td>\n",
       "      <td>250</td>\n",
       "      <td>270</td>\n",
       "    </tr>\n",
       "  </tbody>\n",
       "</table>\n",
       "</div>"
      ],
      "text/plain": [
       "    이름  급여_x  급여_y\n",
       "0  홍길동   200   220\n",
       "1  일지매   150   180\n",
       "2  전우치   250   270"
      ]
     },
     "execution_count": 57,
     "metadata": {},
     "output_type": "execute_result"
    }
   ],
   "source": [
    "sal_merge_1"
   ]
  },
  {
   "cell_type": "code",
   "execution_count": 58,
   "metadata": {},
   "outputs": [],
   "source": [
    "sal_merge_2 = pd.merge(df_sal_2016, df_sal_2017, on='이름', how='right')"
   ]
  },
  {
   "cell_type": "code",
   "execution_count": 59,
   "metadata": {},
   "outputs": [
    {
     "data": {
      "text/html": [
       "<div>\n",
       "<style scoped>\n",
       "    .dataframe tbody tr th:only-of-type {\n",
       "        vertical-align: middle;\n",
       "    }\n",
       "\n",
       "    .dataframe tbody tr th {\n",
       "        vertical-align: top;\n",
       "    }\n",
       "\n",
       "    .dataframe thead th {\n",
       "        text-align: right;\n",
       "    }\n",
       "</style>\n",
       "<table border=\"1\" class=\"dataframe\">\n",
       "  <thead>\n",
       "    <tr style=\"text-align: right;\">\n",
       "      <th></th>\n",
       "      <th>이름</th>\n",
       "      <th>급여_x</th>\n",
       "      <th>급여_y</th>\n",
       "    </tr>\n",
       "  </thead>\n",
       "  <tbody>\n",
       "    <tr>\n",
       "      <th>0</th>\n",
       "      <td>일지매</td>\n",
       "      <td>150.0</td>\n",
       "      <td>180</td>\n",
       "    </tr>\n",
       "    <tr>\n",
       "      <th>1</th>\n",
       "      <td>강감찬</td>\n",
       "      <td>NaN</td>\n",
       "      <td>210</td>\n",
       "    </tr>\n",
       "    <tr>\n",
       "      <th>2</th>\n",
       "      <td>전우치</td>\n",
       "      <td>250.0</td>\n",
       "      <td>270</td>\n",
       "    </tr>\n",
       "    <tr>\n",
       "      <th>3</th>\n",
       "      <td>홍길동</td>\n",
       "      <td>200.0</td>\n",
       "      <td>220</td>\n",
       "    </tr>\n",
       "  </tbody>\n",
       "</table>\n",
       "</div>"
      ],
      "text/plain": [
       "    이름   급여_x  급여_y\n",
       "0  일지매  150.0   180\n",
       "1  강감찬    NaN   210\n",
       "2  전우치  250.0   270\n",
       "3  홍길동  200.0   220"
      ]
     },
     "execution_count": 59,
     "metadata": {},
     "output_type": "execute_result"
    }
   ],
   "source": [
    "sal_merge_2"
   ]
  }
 ],
 "metadata": {
  "kernelspec": {
   "display_name": "Python 3",
   "language": "python",
   "name": "python3"
  },
  "language_info": {
   "codemirror_mode": {
    "name": "ipython",
    "version": 3
   },
   "file_extension": ".py",
   "mimetype": "text/x-python",
   "name": "python",
   "nbconvert_exporter": "python",
   "pygments_lexer": "ipython3",
   "version": "3.8.5"
  }
 },
 "nbformat": 4,
 "nbformat_minor": 4
}
