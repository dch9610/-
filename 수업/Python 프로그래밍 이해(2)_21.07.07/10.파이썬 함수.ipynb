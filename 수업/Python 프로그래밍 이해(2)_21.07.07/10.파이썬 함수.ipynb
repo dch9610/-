{
 "cells": [
  {
   "cell_type": "markdown",
   "id": "7f58dfa4-f74e-49b7-b0f0-92cd84e1bc47",
   "metadata": {},
   "source": [
    "# 10.파이썬 함수"
   ]
  },
  {
   "cell_type": "markdown",
   "id": "d042659e-785f-4472-822d-0aaec0c0346a",
   "metadata": {},
   "source": [
    "---"
   ]
  },
  {
   "cell_type": "markdown",
   "id": "c1c9c694-ee92-447d-88f4-5a388c721b18",
   "metadata": {},
   "source": [
    "## 10.1 파이썬 함수"
   ]
  },
  {
   "cell_type": "markdown",
   "id": "a2a14300-df85-4a68-8d37-bf733427d3a9",
   "metadata": {},
   "source": [
    "- 정의된 특정 기능을 수행하는 코드 집합\n",
    "- 호출되어야 실행되는 Callable Object\n",
    "- 빈번하게 사용되는 기능을 함수로 정의하여 재사용\n",
    "- 함수 정의와 함수 호출 및 실행으로 구분\n"
   ]
  },
  {
   "cell_type": "markdown",
   "id": "d74ae8ff-6986-4c19-8f50-2ac4b3c2843d",
   "metadata": {},
   "source": [
    "- 함수의 입력 (매개변수, parameter)\n",
    "- 함수의 기능 (실행코드)\n",
    "- 함수의 출력 (반환값, return value)\n",
    "\n",
    "* 함수의 매개변수와 반환값은 선택적 옵션"
   ]
  },
  {
   "cell_type": "markdown",
   "id": "619ebb22-fa2b-48e6-9448-d6dc9dc4b048",
   "metadata": {},
   "source": [
    "---"
   ]
  },
  {
   "cell_type": "markdown",
   "id": "b6118128-aa8b-4a3c-8721-b5ad71a4dda2",
   "metadata": {},
   "source": [
    "## 10.2 사용자 정의함수"
   ]
  },
  {
   "cell_type": "markdown",
   "id": "b4166e57-24ed-4f98-9dae-dffd50aa81bd",
   "metadata": {},
   "source": [
    "매개변수와 반환값이 없는 경우\n",
    "<pre>\n",
    "def 함수명():\n",
    "    함수 기능\n",
    "</pre>\n",
    "\n",
    "매개변수는 있고 반환값이 없는 경우\n",
    "<pre>\n",
    "def 함수명(매개변수):\n",
    "    함수 기능\n",
    "</pre>\n",
    "\n",
    "매개변수는 없고 반환값은 있는 경우\n",
    "<pre>\n",
    "def 함수명():\n",
    "    함수 기능\n",
    "    return 반환값\n",
    "</pre>\n",
    "\n",
    "매개변수와 반환값이 있는 경우\n",
    "<pre>\n",
    "def 함수명(매개변수):\n",
    "    함수 기능\n",
    "    return 반환값\n",
    "</pre>"
   ]
  },
  {
   "cell_type": "markdown",
   "id": "6a5152da-b273-4f04-98d1-24410f352ff0",
   "metadata": {},
   "source": [
    "다중 반환값\n",
    "\n",
    "<pre>\n",
    "def square(x,y):\n",
    "    x = x**2\n",
    "    y = y**2\n",
    "    return x,y\n",
    "</pre>"
   ]
  },
  {
   "cell_type": "markdown",
   "id": "0e54e7f3-6a64-4631-87c0-91c0d63462e0",
   "metadata": {},
   "source": [
    "### 실습"
   ]
  },
  {
   "cell_type": "code",
   "execution_count": 2,
   "id": "5f069248-dc78-4dd0-a8a8-2a0744312218",
   "metadata": {},
   "outputs": [
    {
     "name": "stdout",
     "output_type": "stream",
     "text": [
      "더하기 함수입니다\n"
     ]
    }
   ],
   "source": [
    "# 매개변수, 반환값 없는 경우\n",
    "def add1():\n",
    "    print('더하기 함수입니다')\n",
    "\n",
    "add1()"
   ]
  },
  {
   "cell_type": "code",
   "execution_count": 4,
   "id": "abbca2bc-c282-4861-84b2-f6d07038e605",
   "metadata": {},
   "outputs": [
    {
     "name": "stdout",
     "output_type": "stream",
     "text": [
      "8\n"
     ]
    }
   ],
   "source": [
    "# 매개변수 있고 반환값 없는 경우\n",
    "def add2(x,y):\n",
    "    print(x+y)\n",
    "\n",
    "add2(3,5)"
   ]
  },
  {
   "cell_type": "code",
   "execution_count": 5,
   "id": "11eb1578-c4fc-43e9-9d71-62f3ee2b06f2",
   "metadata": {},
   "outputs": [
    {
     "name": "stdout",
     "output_type": "stream",
     "text": [
      "7\n"
     ]
    }
   ],
   "source": [
    "# 매개변수 없고 반환값 있는 경우\n",
    "def add3():\n",
    "    x,y = 3,4\n",
    "    return x+y\n",
    "\n",
    "re_val = add3()\n",
    "print(re_val)"
   ]
  },
  {
   "cell_type": "code",
   "execution_count": 6,
   "id": "e399ae8f-27e3-48df-a79d-9dcdc62db75d",
   "metadata": {},
   "outputs": [
    {
     "name": "stdout",
     "output_type": "stream",
     "text": [
      "3\n"
     ]
    }
   ],
   "source": [
    "# 매개변수와 반환값이 있는 경우\n",
    "def add4(x,y):\n",
    "    return x-y\n",
    "\n",
    "re_val = add4(5,2)\n",
    "print(re_val)"
   ]
  },
  {
   "cell_type": "code",
   "execution_count": 7,
   "id": "d157a077-4ed9-46ed-93be-040c8aa98532",
   "metadata": {},
   "outputs": [
    {
     "name": "stdout",
     "output_type": "stream",
     "text": [
      "4\n",
      "9\n"
     ]
    }
   ],
   "source": [
    "# 다중 반환값\n",
    "def square(x,y):\n",
    "    x = x**2\n",
    "    y = y**2\n",
    "    return x,y\n",
    "\n",
    "a,b = square(2,3)\n",
    "print(a)\n",
    "print(b)"
   ]
  },
  {
   "cell_type": "markdown",
   "id": "3847c346-2902-4149-ada1-5fe51b4f6de0",
   "metadata": {},
   "source": [
    "---"
   ]
  },
  {
   "cell_type": "markdown",
   "id": "6e4bda42-ff85-4f18-8499-094dc91bdd54",
   "metadata": {},
   "source": [
    "## 10.3 함수의 매개변수"
   ]
  },
  {
   "cell_type": "markdown",
   "id": "596e1aaa-52ef-45e1-8044-18882375a4b0",
   "metadata": {},
   "source": [
    "- 매개변수 기본값 지정가능\n",
    "    - def add(x=2, y=4)\n",
    "    \n",
    "- 매개변수 지정 인자값도 가능\n",
    "    - add(y=4,x=2)"
   ]
  },
  {
   "cell_type": "markdown",
   "id": "93179e28-56f3-4776-ac01-ebe6d89bc3d7",
   "metadata": {},
   "source": [
    "가변 매개변수 : 크기가 정해져 있지않은 변수\n",
    "\n",
    "- 매개변수 앞에 *를 붙여서 매개변수 정의\n",
    "- 일반 매개변수 할당 후 나머지 인자는 튜플로 할당\n",
    "\n",
    "<pre>\n",
    "# a는 일반 매개변수, b는 가변 매개변수\n",
    "def 함수명(a, *b):\n",
    "    print(a,b)\n",
    "\n",
    "</pre>"
   ]
  },
  {
   "cell_type": "markdown",
   "id": "9ef1fadb-ffa6-4f29-a917-d2135cc02ce7",
   "metadata": {},
   "source": [
    "### 실습"
   ]
  },
  {
   "cell_type": "code",
   "execution_count": 8,
   "id": "acb7a5e4-b1a1-4f29-a8e3-2f9f89da0eda",
   "metadata": {},
   "outputs": [],
   "source": [
    "# 매개변수 기본값 지정\n",
    "def square2(x=2,y=3):\n",
    "    x = x**2\n",
    "    y = y**2\n",
    "    return x,y"
   ]
  },
  {
   "cell_type": "code",
   "execution_count": 10,
   "id": "fcd95585-2d32-46f9-b060-aa58c2f5b9a7",
   "metadata": {},
   "outputs": [
    {
     "name": "stdout",
     "output_type": "stream",
     "text": [
      "(4, 9)\n",
      "(4, 9)\n",
      "(9, 9)\n"
     ]
    }
   ],
   "source": [
    "print(square2())\n",
    "print(square2(2))\n",
    "print(square2(3,3))"
   ]
  },
  {
   "cell_type": "code",
   "execution_count": 11,
   "id": "235b721e-3cb1-4208-83be-6dcb4efe0b41",
   "metadata": {},
   "outputs": [
    {
     "name": "stdout",
     "output_type": "stream",
     "text": [
      "(25, 16)\n",
      "(16, 25)\n"
     ]
    }
   ],
   "source": [
    "# 매개변수 지정 인자값 \n",
    "print(square2(5,4))\n",
    "print(square2(y=5,x=4))\n"
   ]
  },
  {
   "cell_type": "code",
   "execution_count": 15,
   "id": "657dd6c0-df24-47a4-aa2c-82bf60437461",
   "metadata": {},
   "outputs": [],
   "source": [
    "# 가변 매개변수\n",
    "def changeable(x,*y):\n",
    "    return x,y"
   ]
  },
  {
   "cell_type": "code",
   "execution_count": 17,
   "id": "df594f86-e8d7-4d79-ab9a-b105396ade75",
   "metadata": {},
   "outputs": [
    {
     "name": "stdout",
     "output_type": "stream",
     "text": [
      "(1, ())\n",
      "(1, (2,))\n",
      "(1, (2, 3, 4, 5))\n"
     ]
    }
   ],
   "source": [
    "# 일반 매개변수 할당 후 튜플로 할당\n",
    "print(changeable(1))\n",
    "print(changeable(1,2))\n",
    "print(changeable(1,2,3,4,5))"
   ]
  }
 ],
 "metadata": {
  "kernelspec": {
   "display_name": "Python 3",
   "language": "python",
   "name": "python3"
  },
  "language_info": {
   "codemirror_mode": {
    "name": "ipython",
    "version": 3
   },
   "file_extension": ".py",
   "mimetype": "text/x-python",
   "name": "python",
   "nbconvert_exporter": "python",
   "pygments_lexer": "ipython3",
   "version": "3.8.8"
  }
 },
 "nbformat": 4,
 "nbformat_minor": 5
}
