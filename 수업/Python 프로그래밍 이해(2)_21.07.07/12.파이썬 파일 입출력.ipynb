{
 "cells": [
  {
   "cell_type": "markdown",
   "id": "ed5a698e-3fde-4240-a8a1-538fa51e2941",
   "metadata": {},
   "source": [
    "# 12. 파이썬 파일 입출력"
   ]
  },
  {
   "cell_type": "markdown",
   "id": "7ab81029-9abd-4fd4-b60f-72e06c74db95",
   "metadata": {},
   "source": [
    "---"
   ]
  },
  {
   "cell_type": "markdown",
   "id": "7de7613f-09d4-40ec-8973-881559f58fc2",
   "metadata": {},
   "source": [
    "## 12.1 파이썬 파일 입력"
   ]
  },
  {
   "cell_type": "markdown",
   "id": "40b9ced7-2672-4806-94ef-75ef81433afb",
   "metadata": {},
   "source": [
    "### 파일 읽기\n",
    "1. 파일 객체 생성\n",
    "    - 파일객체 = open(파일경로 / 파일명, 모드)\n",
    "2. 파일 읽기 (라인 단위)\n",
    "    - for 변수 in 파일객체\n",
    "3. 파일객체 닫기\n",
    "    - 파일객체.close()"
   ]
  },
  {
   "cell_type": "markdown",
   "id": "e0cb97c0-e8bc-484f-844c-2b1e077fd262",
   "metadata": {},
   "source": [
    "### 파일 읽기 - with구문\n",
    "1. 파일객체 생성\n",
    "    - with open(파일경로/파일명,모드) as 파일객체\n",
    "2. 파일 읽기 (라인 단위)\n",
    "    - for 변수 in 파일객체"
   ]
  },
  {
   "cell_type": "markdown",
   "id": "23c5b50e-751d-4d2b-95c7-502653207a1c",
   "metadata": {},
   "source": [
    "### 파일 읽기 - 모드\n",
    "\n",
    "모드 | 설명\n",
    "------------ | ------------- \n",
    "r | 파일을 읽기 모드로 open\n",
    "w | 파일을 쓰기 모드로 open (동일 경로 / 파일명 존재시 overwrite)\n",
    "x | 파일을 쓰기 모드로 open (동일 경로 / 파일명 존재시 error)\n",
    "a | 파일을 쓰기 모드로 open (동일 경로 / 파일명 존재시 append)\n",
    "'+' | 파일을 읽기/쓰기 모드로 open"
   ]
  },
  {
   "cell_type": "markdown",
   "id": "d9b7ceaf-c330-4623-8b12-ea5b2ee50c4d",
   "metadata": {},
   "source": [
    "### 실습"
   ]
  },
  {
   "cell_type": "code",
   "execution_count": 3,
   "id": "a81ae96c-7379-4a31-ab79-aecdabb803f6",
   "metadata": {},
   "outputs": [],
   "source": [
    " fr = open('./hello.txt','r')"
   ]
  },
  {
   "cell_type": "code",
   "execution_count": 4,
   "id": "f8af27db-0a4a-4d80-b701-37a3cd597e1a",
   "metadata": {},
   "outputs": [
    {
     "name": "stdout",
     "output_type": "stream",
     "text": [
      "Hello World Python!!!\n",
      "\n",
      "Welcome\n"
     ]
    }
   ],
   "source": [
    "# 한줄씩 출력\n",
    "for line in fr:\n",
    "    print(line)"
   ]
  },
  {
   "cell_type": "code",
   "execution_count": 5,
   "id": "2fc14de8-98e5-4fee-b567-9930c76d6ece",
   "metadata": {},
   "outputs": [],
   "source": [
    "fr.close()"
   ]
  },
  {
   "cell_type": "code",
   "execution_count": 8,
   "id": "f0a399c3-d525-4b35-94ee-a7a7710a773b",
   "metadata": {},
   "outputs": [
    {
     "name": "stdout",
     "output_type": "stream",
     "text": [
      "Hello World Python!!!\n",
      "\n",
      "Welcome\n"
     ]
    }
   ],
   "source": [
    "# close를 하지 않아도 됨\n",
    "with open('./hello.txt', 'r') as fr:\n",
    "    for line in fr:\n",
    "        print(line)"
   ]
  },
  {
   "cell_type": "markdown",
   "id": "095b19ed-775c-41e0-aba9-5a65703a3bc1",
   "metadata": {},
   "source": [
    "---"
   ]
  },
  {
   "cell_type": "markdown",
   "id": "211b41ef-d533-4c1d-b31e-cf04579e9884",
   "metadata": {},
   "source": [
    "## 12.2 파이썬 파일 출력"
   ]
  },
  {
   "cell_type": "markdown",
   "id": "e2bef52f-abfd-4601-9352-25e195f6e4b9",
   "metadata": {},
   "source": [
    "### 파일 쓰기\n",
    "1. 파일 객체 생성\n",
    "    - 파일객체 = open(파일경로 / 파일명, 모드)\n",
    "2. 파일 쓰기 (라인 단위)\n",
    "    - 파일객체.write()\n",
    "3. 파일객체 닫기\n",
    "    - 파일객체.close()\n"
   ]
  },
  {
   "cell_type": "markdown",
   "id": "7143dadf-d6c4-450a-a1ee-2d8f6d684c4d",
   "metadata": {},
   "source": [
    "### 파일 읽기 - 모드\n",
    "\n",
    "모드 | 설명\n",
    "------------ | ------------- \n",
    "r | 파일을 읽기 모드로 open\n",
    "w | 파일을 쓰기 모드로 open (동일 경로 / 파일명 존재시 overwrite)\n",
    "x | 파일을 쓰기 모드로 open (동일 경로 / 파일명 존재시 error)\n",
    "a | 파일을 쓰기 모드로 open (동일 경로 / 파일명 존재시 append)\n",
    "'+' | 파일을 읽기/쓰기 모드로 open"
   ]
  },
  {
   "cell_type": "markdown",
   "id": "c653cf3c-cbe5-41f2-bcb8-ef65add11cbe",
   "metadata": {},
   "source": [
    "### 실습"
   ]
  },
  {
   "cell_type": "code",
   "execution_count": 19,
   "id": "12de538e-be54-43fe-a2fd-060155d5cafe",
   "metadata": {},
   "outputs": [],
   "source": [
    "fw = open('./hello_write.txt', 'w')"
   ]
  },
  {
   "cell_type": "code",
   "execution_count": 20,
   "id": "b4ab9e3e-b234-43a7-898f-d2088f1fede4",
   "metadata": {},
   "outputs": [
    {
     "data": {
      "text/plain": [
       "21"
      ]
     },
     "execution_count": 20,
     "metadata": {},
     "output_type": "execute_result"
    }
   ],
   "source": [
    "fw.write('Hello World Python!!\\n')"
   ]
  },
  {
   "cell_type": "code",
   "execution_count": 21,
   "id": "5d0500b7-0d66-4044-a9aa-1c158739f248",
   "metadata": {},
   "outputs": [
    {
     "data": {
      "text/plain": [
       "19"
      ]
     },
     "execution_count": 21,
     "metadata": {},
     "output_type": "execute_result"
    }
   ],
   "source": [
    "fw.write('Welcome to Python!!')"
   ]
  },
  {
   "cell_type": "code",
   "execution_count": 22,
   "id": "d8901d08-93c6-42c7-8995-420008210cd1",
   "metadata": {},
   "outputs": [],
   "source": [
    "fw.close()"
   ]
  },
  {
   "cell_type": "code",
   "execution_count": null,
   "id": "4445ad78-7503-41e4-b8a7-c539afa9105f",
   "metadata": {},
   "outputs": [],
   "source": []
  },
  {
   "cell_type": "code",
   "execution_count": 31,
   "id": "aed36af4-6788-4228-b318-d134ba5367f0",
   "metadata": {},
   "outputs": [],
   "source": [
    "with open('./hello_write.txt', 'w') as fw:\n",
    "    fw.write('Hello World Python!!\\n')\n",
    "    fw.write('Welcome to Home!!\\n')"
   ]
  },
  {
   "cell_type": "code",
   "execution_count": 32,
   "id": "edef8cca-71a3-401d-b7e1-b11e1bab21d9",
   "metadata": {},
   "outputs": [],
   "source": [
    "with open('./hello_write.txt', 'a') as fw:\n",
    "    fw.write('new line append!!')"
   ]
  },
  {
   "cell_type": "markdown",
   "id": "e99b6f6c-50a2-4bdf-bedf-f81df1722b49",
   "metadata": {},
   "source": [
    "---"
   ]
  },
  {
   "cell_type": "markdown",
   "id": "5e9195af-211e-4c18-bc20-d348b1edc87a",
   "metadata": {},
   "source": [
    "## 12.3 파일 시스템"
   ]
  },
  {
   "cell_type": "markdown",
   "id": "527ccc66-4576-48b5-9bba-421c44e9e88e",
   "metadata": {},
   "source": [
    "### os 모듈을 이용한 파일시스템 접근\n",
    "- os 모듈은 운영체제와 관련된 파이썬 기본 모듈\n",
    "- 파일시스템 접근을 위해 os 모듈 사용\n",
    "- os 모듈을 import한 후 사용"
   ]
  },
  {
   "cell_type": "markdown",
   "id": "6cad74b6-41a3-4406-b9d2-4787331c1865",
   "metadata": {},
   "source": [
    "#### os.listdir() 함수\n",
    "- 지정된 디렉토리의 디렉토리/파일목록변환\n",
    "- 필터링 가능\n",
    "    - 리스트 컴프리헨션을 이용하여 필터링\n",
    "\n",
    ".ipynb 파일만 출력\n",
    "<pre>\n",
    "file_list = os.listdir('.')\n",
    "file_ipynb = [f for f in file_list if  f.endswith('.ipynb')]\n",
    "</pre>"
   ]
  },
  {
   "cell_type": "markdown",
   "id": "927e851c-a598-47e8-9b4c-f4fa07870fcd",
   "metadata": {},
   "source": [
    "#### os.getcwd() 함수\n",
    "- 현재 디렉토리 반환\n",
    "- os.getcwd()\n",
    "\n",
    "#### os.mkdir() 함수\n",
    "- 디렉토리 생성\n",
    "- os.mkdir('test')\n",
    "\n",
    "#### os.path.join() 함수\n",
    "- 현재 os의 파일구분자로 연결\n",
    "- os.path.join('.','test')\n",
    "\n",
    "#### os.path.abspath() 함수\n",
    "- 지정된 파일의 절대 경로 반환\n",
    "- os.path.abspath('hello.txt')\\\n",
    "\n",
    "#### os.path.isfile() / isdir() 함수\n",
    "- 디렉토리/파일 여부 출력\n",
    "- bool 값으로 출력\n",
    "\n",
    "#### os.path.split() 함수\n",
    "- 디렉토리명과 파일명의 분리\n",
    "- os.path.split(os.path.abspath('hello.txt'))\n",
    "\n",
    "#### os.path.splitext() 함수\n",
    "- 파일명과 확장자의 분리\n",
    "- os.path.splitext('hello.txt')"
   ]
  },
  {
   "cell_type": "markdown",
   "id": "65cd7201-150e-4fc4-aabc-169d490812bd",
   "metadata": {},
   "source": [
    "### 실습"
   ]
  },
  {
   "cell_type": "code",
   "execution_count": 33,
   "id": "c14eb71d-1215-49c2-b151-a3ec4ef77f2f",
   "metadata": {},
   "outputs": [],
   "source": [
    "import os"
   ]
  },
  {
   "cell_type": "code",
   "execution_count": 35,
   "id": "d76229b8-0292-4fe9-999d-79847f9c4637",
   "metadata": {},
   "outputs": [
    {
     "data": {
      "text/plain": [
       "['.ipynb_checkpoints',\n",
       " '07.파이썬 셋과 딕셔너리.ipynb',\n",
       " '08.파이썬 조건문.ipynb',\n",
       " '09.파이썬 반복문.ipynb',\n",
       " '10.파이썬 함수.ipynb',\n",
       " '11. 파이썬 모듈.ipynb',\n",
       " '12.파이썬 파일 입출력.ipynb',\n",
       " 'hello.txt',\n",
       " 'hello_write.txt',\n",
       " 'mymodule',\n",
       " 'myprint.py',\n",
       " '__pycache__']"
      ]
     },
     "execution_count": 35,
     "metadata": {},
     "output_type": "execute_result"
    }
   ],
   "source": [
    "# 지정된 디렉토리의 디렉토리/파일목록변환\n",
    "#  '.' : 현재 디렉토리\n",
    "\n",
    "os.listdir('.')"
   ]
  },
  {
   "cell_type": "code",
   "execution_count": 36,
   "id": "607a7d58-7067-4f7b-92fd-d24001e72d5f",
   "metadata": {},
   "outputs": [
    {
     "data": {
      "text/plain": [
       "['07.파이썬 셋과 딕셔너리.ipynb',\n",
       " '08.파이썬 조건문.ipynb',\n",
       " '09.파이썬 반복문.ipynb',\n",
       " '10.파이썬 함수.ipynb',\n",
       " '11. 파이썬 모듈.ipynb',\n",
       " '12.파이썬 파일 입출력.ipynb']"
      ]
     },
     "execution_count": 36,
     "metadata": {},
     "output_type": "execute_result"
    }
   ],
   "source": [
    "# 리스트컴프리헨션을 이용하여 .ipynb파일만 출력\n",
    "\n",
    "file_list = os.listdir('.')\n",
    "file_ipynb = [f for f in file_list if  f.endswith('.ipynb')]\n",
    "file_ipynb"
   ]
  },
  {
   "cell_type": "code",
   "execution_count": 37,
   "id": "18dd62b5-758f-4b80-afd2-a579240dec8e",
   "metadata": {},
   "outputs": [
    {
     "data": {
      "text/plain": [
       "'C:\\\\Users\\\\user\\\\Desktop\\\\Intern_Class\\\\Python(2)_21.07.07'"
      ]
     },
     "execution_count": 37,
     "metadata": {},
     "output_type": "execute_result"
    }
   ],
   "source": [
    "# 현재 디렉토리 반환\n",
    "\n",
    "os.getcwd()"
   ]
  },
  {
   "cell_type": "code",
   "execution_count": 38,
   "id": "84cb4f24-8191-4118-bede-9eb1073f0417",
   "metadata": {},
   "outputs": [],
   "source": [
    "# 디렉토리 생성 \n",
    "\n",
    "os.mkdir('test')"
   ]
  },
  {
   "cell_type": "code",
   "execution_count": 39,
   "id": "234c0762-fe0c-4d73-868f-a596759e02d8",
   "metadata": {},
   "outputs": [
    {
     "data": {
      "text/plain": [
       "'.\\\\test'"
      ]
     },
     "execution_count": 39,
     "metadata": {},
     "output_type": "execute_result"
    }
   ],
   "source": [
    "# 현재 os의 파일구분자로 연결\n",
    "\n",
    "os.path.join('.','test')"
   ]
  },
  {
   "cell_type": "code",
   "execution_count": 48,
   "id": "af1a61e0-7c85-440f-9ba8-1c09a06e4fa0",
   "metadata": {},
   "outputs": [
    {
     "data": {
      "text/plain": [
       "'C:\\\\Users\\\\user\\\\Desktop\\\\Intern_Class\\\\Python(2)_21.07.07\\\\hello_write.txt'"
      ]
     },
     "execution_count": 48,
     "metadata": {},
     "output_type": "execute_result"
    }
   ],
   "source": [
    "# 지정된 파일의 절대 경로 반환\n",
    "\n",
    "os.path.abspath('hello_write.txt')"
   ]
  },
  {
   "cell_type": "code",
   "execution_count": 47,
   "id": "f26d9a96-05db-4919-b872-75e8d5df7255",
   "metadata": {},
   "outputs": [
    {
     "name": "stdout",
     "output_type": "stream",
     "text": [
      "True\n",
      "False\n",
      "False\n",
      "True\n"
     ]
    }
   ],
   "source": [
    "# 디렉토리/파일 여부 출력\n",
    "# bool 값으로 출력\n",
    "\n",
    "print(os.path.isfile('hello_write.txt'))\n",
    "print(os.path.isdir('hello_write.txt'))\n",
    "print(os.path.isfile('test'))\n",
    "print(os.path.isdir('test'))"
   ]
  },
  {
   "cell_type": "code",
   "execution_count": 45,
   "id": "3487903c-e44d-495e-ac46-2c29ccaeb3f7",
   "metadata": {},
   "outputs": [
    {
     "data": {
      "text/plain": [
       "('C:\\\\Users\\\\user\\\\Desktop\\\\Intern_Class\\\\Python(2)_21.07.07',\n",
       " 'hello_write.txt')"
      ]
     },
     "execution_count": 45,
     "metadata": {},
     "output_type": "execute_result"
    }
   ],
   "source": [
    "# 디렉토리명과 파일명의 분리\n",
    "\n",
    "os.path.split(os.path.abspath('hello_write.txt'))"
   ]
  },
  {
   "cell_type": "code",
   "execution_count": 49,
   "id": "b602b4d9-b16d-4ba2-b63a-fce7e3750c6c",
   "metadata": {},
   "outputs": [
    {
     "data": {
      "text/plain": [
       "('hello_write', '.txt')"
      ]
     },
     "execution_count": 49,
     "metadata": {},
     "output_type": "execute_result"
    }
   ],
   "source": [
    "# 파일명과 확장자의 분리\n",
    "os.path.splitext('hello_write.txt')"
   ]
  }
 ],
 "metadata": {
  "kernelspec": {
   "display_name": "Python 3",
   "language": "python",
   "name": "python3"
  },
  "language_info": {
   "codemirror_mode": {
    "name": "ipython",
    "version": 3
   },
   "file_extension": ".py",
   "mimetype": "text/x-python",
   "name": "python",
   "nbconvert_exporter": "python",
   "pygments_lexer": "ipython3",
   "version": "3.8.8"
  }
 },
 "nbformat": 4,
 "nbformat_minor": 5
}
