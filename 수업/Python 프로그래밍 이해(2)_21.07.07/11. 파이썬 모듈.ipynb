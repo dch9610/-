{
 "cells": [
  {
   "cell_type": "markdown",
   "id": "e220a512-167d-4501-b914-735a4b8571b7",
   "metadata": {},
   "source": [
    "# 11.파이썬 모듈"
   ]
  },
  {
   "cell_type": "markdown",
   "id": "adb76b24-a9ba-44ce-bb26-62d238b52623",
   "metadata": {},
   "source": [
    "---"
   ]
  },
  {
   "cell_type": "markdown",
   "id": "4522097a-82b9-42ed-b246-9ce70aed7826",
   "metadata": {},
   "source": [
    "## 11.1 파이썬 모듈"
   ]
  },
  {
   "cell_type": "markdown",
   "id": "d05b3ae5-974f-4165-acce-f7f734807790",
   "metadata": {},
   "source": [
    "### 파이썬 모듈\n",
    "- 모듈은 파이썬 코드를 관리하기 위한 논리적 단위\n",
    "- 일반적으로 하나의 파이썬 .py 파일이 하나의 모듈\n",
    "- 모듈 내에는 함수, 클래스, 혹은 변수들의 정의가능, 실행 코드 포함\n",
    "\n",
    "### 파이썬 패키지\n",
    "- 관련된 모듈들의 집합\n",
    "    - 패키지는 디렉토리 단위로 관리"
   ]
  },
  {
   "cell_type": "markdown",
   "id": "37881bf4-be18-4a84-a391-f562fad1d971",
   "metadata": {},
   "source": [
    "- 파이썬 기본 모듈 (os, sys, random..)\n",
    "    - anaconda 설치 디렉토리의 Lib 디렉토리\n",
    "    - help() 내장함수를 이용하여 모듈 사용 도움말 확인\n",
    "        - help('모듈명') ex) help('sys')\n",
    "    \n",
    "<br>\n",
    "\n",
    "- 파이썬 3rd party 모듈 (numpy, pandas..)\n",
    "    - http://pypi.org 에 접속\n",
    "    - pip list로 모듈 확인\n",
    "\n"
   ]
  },
  {
   "cell_type": "markdown",
   "id": "90268476-8538-42f9-857d-a197b1941a17",
   "metadata": {},
   "source": [
    "---"
   ]
  },
  {
   "cell_type": "markdown",
   "id": "5a07d8f2-c67a-482c-8adb-6254e2285944",
   "metadata": {},
   "source": [
    "## 11.2 파이썬 모듈 설치 및 활용"
   ]
  },
  {
   "cell_type": "markdown",
   "id": "d6beffce-7095-4f60-9001-e66fb11a894f",
   "metadata": {},
   "source": [
    "### 모듈 import \n",
    "- 모듈을 사용하기 위해서는 from, import 구문 사용\n",
    "\n",
    "<pre>\n",
    "import [모듈명]\n",
    "import [모듈명] as [Alias명]\n",
    "from [패키지명] import [모듈명]\n",
    "from [패키지명] import [클래스명 / 함수명]\n",
    "</pre>"
   ]
  },
  {
   "cell_type": "markdown",
   "id": "892fc5f4-dce9-4ab7-90c7-4983a6970412",
   "metadata": {},
   "source": [
    "### 모듈의 활용\n",
    "- 파이썬에서 모듈 import시 해당 모듈의 물리적 위치 탐색 순서\n",
    "    1. 현재 디렉토리\n",
    "    2. 환경변수 PYTHONPATH에 지정된 경로\n",
    "    3. Python이 설치된 경로 및 하위 라이브러리 디렉토리 경로"
   ]
  },
  {
   "cell_type": "markdown",
   "id": "787bed38-8689-4b7e-be71-660c6211eb3e",
   "metadata": {},
   "source": [
    "### 실습"
   ]
  },
  {
   "cell_type": "code",
   "execution_count": 1,
   "id": "1f88397c-acfd-4306-adf0-0b3f74e9eba1",
   "metadata": {},
   "outputs": [
    {
     "name": "stdout",
     "output_type": "stream",
     "text": [
      "C:\\Users\\user\\Desktop\\Intern_Class\\Python(2)_21.07.07\n",
      "['.ipynb_checkpoints', '07.파이썬 셋과 딕셔너리.ipynb', '08.파이썬 조건문.ipynb', '09.파이썬 반복문.ipynb', '10.파이썬 함수.ipynb', '11. 파이썬 모듈.ipynb', 'mymodule', 'myprint.py', '__pycache__']\n"
     ]
    }
   ],
   "source": [
    "import os\n",
    "# 현재 경로\n",
    "print(os.getcwd())\n",
    "\n",
    "# 현재 디렉토리의 파일추출\n",
    "print(os.listdir())"
   ]
  },
  {
   "cell_type": "code",
   "execution_count": 2,
   "id": "08cd75dc-b32f-46fa-8097-d0c2fca806d2",
   "metadata": {},
   "outputs": [
    {
     "name": "stdout",
     "output_type": "stream",
     "text": [
      "3\n",
      "4.0\n"
     ]
    }
   ],
   "source": [
    "import numpy as np\n",
    "print(np.absolute(-3))\n",
    "print(np.sqrt(16))"
   ]
  },
  {
   "cell_type": "code",
   "execution_count": 3,
   "id": "1af51459-fcf8-40e8-b9cc-3821f8b8c3a8",
   "metadata": {},
   "outputs": [],
   "source": [
    "from scipy import stats"
   ]
  },
  {
   "cell_type": "code",
   "execution_count": 4,
   "id": "8efae987-b522-4a01-a82b-7dc11e71e8fd",
   "metadata": {},
   "outputs": [
    {
     "name": "stdout",
     "output_type": "stream",
     "text": [
      "1.6363636363636365\n",
      "0.408248290463863\n"
     ]
    }
   ],
   "source": [
    "print(stats.hmean([1,2,3]))\n",
    "print(stats.variation([1,2,3]))"
   ]
  },
  {
   "cell_type": "code",
   "execution_count": 5,
   "id": "345a0d32-8343-4e10-b045-df451b24d21e",
   "metadata": {},
   "outputs": [],
   "source": [
    "from datetime import datetime"
   ]
  },
  {
   "cell_type": "code",
   "execution_count": 6,
   "id": "846195da-cb05-41bb-a1c1-2ab69cfc84c8",
   "metadata": {},
   "outputs": [
    {
     "data": {
      "text/plain": [
       "datetime.datetime(2021, 7, 7, 15, 20, 15, 1627)"
      ]
     },
     "execution_count": 6,
     "metadata": {},
     "output_type": "execute_result"
    }
   ],
   "source": [
    "now = datetime.now()\n",
    "now"
   ]
  },
  {
   "cell_type": "code",
   "execution_count": 7,
   "id": "3a0463a8-c232-4674-ae0f-9f63c48b84ed",
   "metadata": {},
   "outputs": [
    {
     "name": "stdout",
     "output_type": "stream",
     "text": [
      "2021\n",
      "7\n",
      "15\n"
     ]
    }
   ],
   "source": [
    "print(now.year)\n",
    "print(now.month)\n",
    "print(now.hour)"
   ]
  },
  {
   "cell_type": "code",
   "execution_count": 8,
   "id": "931a9489-3765-4458-9651-cf8327f7681c",
   "metadata": {},
   "outputs": [
    {
     "data": {
      "text/plain": [
       "['C:\\\\Users\\\\user\\\\Desktop\\\\Intern_Class\\\\Python(2)_21.07.07',\n",
       " 'C:\\\\Users\\\\user\\\\anaconda3\\\\python38.zip',\n",
       " 'C:\\\\Users\\\\user\\\\anaconda3\\\\DLLs',\n",
       " 'C:\\\\Users\\\\user\\\\anaconda3\\\\lib',\n",
       " 'C:\\\\Users\\\\user\\\\anaconda3',\n",
       " '',\n",
       " 'C:\\\\Users\\\\user\\\\anaconda3\\\\lib\\\\site-packages',\n",
       " 'C:\\\\Users\\\\user\\\\anaconda3\\\\lib\\\\site-packages\\\\locket-0.2.1-py3.8.egg',\n",
       " 'C:\\\\Users\\\\user\\\\anaconda3\\\\lib\\\\site-packages\\\\win32',\n",
       " 'C:\\\\Users\\\\user\\\\anaconda3\\\\lib\\\\site-packages\\\\win32\\\\lib',\n",
       " 'C:\\\\Users\\\\user\\\\anaconda3\\\\lib\\\\site-packages\\\\Pythonwin',\n",
       " 'C:\\\\Users\\\\user\\\\anaconda3\\\\lib\\\\site-packages\\\\IPython\\\\extensions',\n",
       " 'C:\\\\Users\\\\user\\\\.ipython']"
      ]
     },
     "execution_count": 8,
     "metadata": {},
     "output_type": "execute_result"
    }
   ],
   "source": [
    "# sys 모듈 import 및 sys.path를 이용하여 확인\n",
    "import sys\n",
    "sys.path"
   ]
  },
  {
   "cell_type": "markdown",
   "id": "304a47f8-9144-4d09-bc65-fd3928087da7",
   "metadata": {},
   "source": [
    "---"
   ]
  },
  {
   "cell_type": "markdown",
   "id": "1d39c0e6-1c95-4fac-86c2-791d4e61deed",
   "metadata": {},
   "source": [
    "## 11.3 파이썬 사용자 정의 모듈"
   ]
  },
  {
   "cell_type": "code",
   "execution_count": 9,
   "id": "7f26932d-035a-40cd-a1ef-5549c3f5fe9d",
   "metadata": {},
   "outputs": [],
   "source": [
    "import myprint"
   ]
  },
  {
   "cell_type": "code",
   "execution_count": 10,
   "id": "ea12ab2e-4b0f-489b-b21b-19e8a73bf4bd",
   "metadata": {},
   "outputs": [
    {
     "name": "stdout",
     "output_type": "stream",
     "text": [
      "--------------------------------------------------\n",
      "Hello MyWorld\n",
      "--------------------------------------------------\n",
      "==================================================\n",
      "Hello MyWorld\n",
      "==================================================\n"
     ]
    }
   ],
   "source": [
    "hello = 'Hello MyWorld'\n",
    "myprint.print1(hello)\n",
    "myprint.print2(hello)"
   ]
  },
  {
   "cell_type": "code",
   "execution_count": 11,
   "id": "b225e7e4-f922-4791-ab23-1c744f9842b8",
   "metadata": {},
   "outputs": [],
   "source": [
    "from mymodule import myprint2"
   ]
  },
  {
   "cell_type": "code",
   "execution_count": 12,
   "id": "87cba059-a9f9-4c39-9c8a-25fcdd50c740",
   "metadata": {},
   "outputs": [
    {
     "name": "stdout",
     "output_type": "stream",
     "text": [
      "**************************************************\n",
      "Hello MyWorld\n",
      "--------------------------------------------------\n"
     ]
    }
   ],
   "source": [
    "myprint2.print3(hello)"
   ]
  },
  {
   "cell_type": "code",
   "execution_count": 13,
   "id": "218d8882-2649-4691-a70a-3f53b963bc13",
   "metadata": {},
   "outputs": [
    {
     "name": "stdout",
     "output_type": "stream",
     "text": [
      "==================================================\n",
      "Hello MyWorld\n",
      "**************************************************\n"
     ]
    }
   ],
   "source": [
    "myprint2.print4(hello)"
   ]
  }
 ],
 "metadata": {
  "kernelspec": {
   "display_name": "Python 3",
   "language": "python",
   "name": "python3"
  },
  "language_info": {
   "codemirror_mode": {
    "name": "ipython",
    "version": 3
   },
   "file_extension": ".py",
   "mimetype": "text/x-python",
   "name": "python",
   "nbconvert_exporter": "python",
   "pygments_lexer": "ipython3",
   "version": "3.8.8"
  }
 },
 "nbformat": 4,
 "nbformat_minor": 5
}
