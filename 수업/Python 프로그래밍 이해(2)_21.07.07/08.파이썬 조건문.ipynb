{
 "cells": [
  {
   "cell_type": "markdown",
   "id": "39bb7ba0-e9a1-4116-839a-43955bed2c8a",
   "metadata": {},
   "source": [
    "# 08. 파이썬 조건문"
   ]
  },
  {
   "cell_type": "markdown",
   "id": "81aa2d69-7881-46df-b827-ea36d7beff8a",
   "metadata": {},
   "source": [
    "---"
   ]
  },
  {
   "cell_type": "markdown",
   "id": "de42cd50-bcc4-4bfc-a075-4bf5f265be42",
   "metadata": {},
   "source": [
    "## 08.1 파이썬 비교 연산자와 논리 연산자"
   ]
  },
  {
   "cell_type": "markdown",
   "id": "d4b0ef03-e599-4564-a662-ad509ed747a5",
   "metadata": {},
   "source": [
    "### 파이썬 비교 연산자\n",
    "- x == y : x값과 y값이 같은지 확인\n",
    "- x != y : x값과 y값이 다른지 확인\n",
    "- x > y : x값이 y값보다 큰지 확인\n",
    "- x < y : x값이 y값보다 작은지 확인\n",
    "- x >= y : x값이 y값보다 크거나 같은지 확인\n",
    "- x <= y : x값이 y값보다\\ 작거나 같은지 확인"
   ]
  },
  {
   "cell_type": "markdown",
   "id": "5768d397-1c71-4ed2-b661-89ef4c2004a5",
   "metadata": {},
   "source": [
    "### 파이썬 논리 연산자\n",
    "- and\n",
    "    - 서로 True 일때만 True\n",
    "- or\n",
    "    - 둘 중 하나라도 True이면 True\n",
    "- not\n",
    "    - True -> False, False -> True"
   ]
  },
  {
   "cell_type": "markdown",
   "id": "5933ae1e-d69b-4072-b0a2-52ea6dc6bd3c",
   "metadata": {},
   "source": [
    "### 실습"
   ]
  },
  {
   "cell_type": "code",
   "execution_count": 1,
   "id": "1580e562-b097-4d5d-885d-cf0298d2ad2e",
   "metadata": {},
   "outputs": [],
   "source": [
    "x, y = 10, 5"
   ]
  },
  {
   "cell_type": "code",
   "execution_count": 2,
   "id": "f8326827-e664-4d93-b5d2-414781e47c5f",
   "metadata": {},
   "outputs": [
    {
     "data": {
      "text/plain": [
       "False"
      ]
     },
     "execution_count": 2,
     "metadata": {},
     "output_type": "execute_result"
    }
   ],
   "source": [
    "x == y"
   ]
  },
  {
   "cell_type": "code",
   "execution_count": 3,
   "id": "d09d429b-acdd-4f3f-b9e8-b91d72ddeb06",
   "metadata": {},
   "outputs": [
    {
     "data": {
      "text/plain": [
       "True"
      ]
     },
     "execution_count": 3,
     "metadata": {},
     "output_type": "execute_result"
    }
   ],
   "source": [
    "x != y"
   ]
  },
  {
   "cell_type": "code",
   "execution_count": 4,
   "id": "fbb3706d-e73f-483b-ace3-6489024fd4ef",
   "metadata": {},
   "outputs": [
    {
     "data": {
      "text/plain": [
       "True"
      ]
     },
     "execution_count": 4,
     "metadata": {},
     "output_type": "execute_result"
    }
   ],
   "source": [
    "x > y"
   ]
  },
  {
   "cell_type": "code",
   "execution_count": 5,
   "id": "5aa2a845-edc4-44bb-ac3c-318760a18568",
   "metadata": {},
   "outputs": [
    {
     "data": {
      "text/plain": [
       "False"
      ]
     },
     "execution_count": 5,
     "metadata": {},
     "output_type": "execute_result"
    }
   ],
   "source": [
    "x < y"
   ]
  },
  {
   "cell_type": "code",
   "execution_count": 6,
   "id": "ff3bfef9-91c1-40a5-9437-d463d588fd44",
   "metadata": {},
   "outputs": [
    {
     "data": {
      "text/plain": [
       "True"
      ]
     },
     "execution_count": 6,
     "metadata": {},
     "output_type": "execute_result"
    }
   ],
   "source": [
    "x >= y"
   ]
  },
  {
   "cell_type": "code",
   "execution_count": 7,
   "id": "2db2c7b8-287f-4681-b8f7-5f4f659c54f0",
   "metadata": {},
   "outputs": [
    {
     "data": {
      "text/plain": [
       "False"
      ]
     },
     "execution_count": 7,
     "metadata": {},
     "output_type": "execute_result"
    }
   ],
   "source": [
    "x <= y"
   ]
  },
  {
   "cell_type": "code",
   "execution_count": 9,
   "id": "b8abae4a-a5b4-4300-a8bf-c1de08fefc4e",
   "metadata": {},
   "outputs": [],
   "source": [
    "x = True \n",
    "y = False"
   ]
  },
  {
   "cell_type": "code",
   "execution_count": 14,
   "id": "606805aa-67d9-4c3e-b99a-a2a0b2eecf52",
   "metadata": {},
   "outputs": [
    {
     "data": {
      "text/plain": [
       "False"
      ]
     },
     "execution_count": 14,
     "metadata": {},
     "output_type": "execute_result"
    }
   ],
   "source": [
    "x and y\n",
    "x & y"
   ]
  },
  {
   "cell_type": "code",
   "execution_count": 13,
   "id": "14eeedde-549d-4492-bf56-4b83d3938fe5",
   "metadata": {},
   "outputs": [
    {
     "data": {
      "text/plain": [
       "True"
      ]
     },
     "execution_count": 13,
     "metadata": {},
     "output_type": "execute_result"
    }
   ],
   "source": [
    "x or y\n",
    "x | y"
   ]
  },
  {
   "cell_type": "code",
   "execution_count": 20,
   "id": "f657f92a-656d-48fb-826c-584e8078de72",
   "metadata": {},
   "outputs": [
    {
     "data": {
      "text/plain": [
       "False"
      ]
     },
     "execution_count": 20,
     "metadata": {},
     "output_type": "execute_result"
    }
   ],
   "source": [
    "not x"
   ]
  },
  {
   "cell_type": "markdown",
   "id": "5370210a-18c8-411b-888d-4ef229d82428",
   "metadata": {},
   "source": [
    "---"
   ]
  },
  {
   "cell_type": "markdown",
   "id": "2e6ab371-e86a-40b9-a2cf-8c6e84f3ce50",
   "metadata": {},
   "source": [
    "## 08.2 파이썬 조건문"
   ]
  },
  {
   "cell_type": "markdown",
   "id": "0f02d7fd-af6b-4f2e-8a78-5b8bea92f563",
   "metadata": {},
   "source": [
    "- 조건에 따라 특정 코드 블럭을 실행하도록 하기 위한 구문\n",
    "- 키워드는 if, elif, else가 있음\n",
    "- 키워드의 마지막은 블록의 시작을 표시하는 콜론(:) 사용\n",
    "- 조건문의 블록 범위는 들여쓰기에 의해 결정!"
   ]
  },
  {
   "cell_type": "markdown",
   "id": "9e123dad-145b-4300-ad2b-a6559ce5c442",
   "metadata": {},
   "source": [
    "조건이 True이 조건문만 실행\n",
    "\n",
    "<pre>\n",
    "if 조건1:\n",
    "    실행코드\n",
    "elif 조건2:\n",
    "    실행코드\n",
    "elif 조건3:\n",
    "    실행코드\n",
    "</pre>\n",
    "\n",
    "<pre>\n",
    "if 조건1:\n",
    "    실행코드\n",
    "elif 조건2:\n",
    "    실행코드\n",
    "else:\n",
    "    실행코드\n",
    "</pre>"
   ]
  },
  {
   "cell_type": "markdown",
   "id": "81c7a288-2194-477d-86e7-72fe4dccedd1",
   "metadata": {},
   "source": [
    "### 실습\n",
    "\n"
   ]
  },
  {
   "cell_type": "code",
   "execution_count": 28,
   "id": "a3961453-0715-4188-9084-c2fe1f48f27e",
   "metadata": {},
   "outputs": [],
   "source": [
    "x,y = 10,5"
   ]
  },
  {
   "cell_type": "code",
   "execution_count": 25,
   "id": "0b8c71d0-8551-4459-a31c-64235a39f0af",
   "metadata": {},
   "outputs": [
    {
     "name": "stdout",
     "output_type": "stream",
     "text": [
      "x가 y보다 큽니다\n"
     ]
    }
   ],
   "source": [
    "if x > y:\n",
    "    print('x가 y보다 큽니다')"
   ]
  },
  {
   "cell_type": "code",
   "execution_count": 26,
   "id": "82f726b0-1ed6-45ba-88ff-2def61cbf6d6",
   "metadata": {},
   "outputs": [],
   "source": [
    "x, y = 5, 10"
   ]
  },
  {
   "cell_type": "code",
   "execution_count": 27,
   "id": "38bf4124-a327-4435-996f-4d42bd9b2c29",
   "metadata": {},
   "outputs": [
    {
     "name": "stdout",
     "output_type": "stream",
     "text": [
      "x가 y보다 작습니다\n"
     ]
    }
   ],
   "source": [
    "if x > y:\n",
    "    print('x가 y보다 큽니다')\n",
    "else:\n",
    "    print('x가 y보다 작습니다')"
   ]
  },
  {
   "cell_type": "code",
   "execution_count": 29,
   "id": "5ae57a68-3309-47af-9c50-de635020d41f",
   "metadata": {},
   "outputs": [
    {
     "name": "stdout",
     "output_type": "stream",
     "text": [
      "x와 y가 같습니다\n"
     ]
    }
   ],
   "source": [
    "x, y = 10,10\n",
    "if x > y:\n",
    "    print('x가 y보다 큽니다')\n",
    "elif x == y:\n",
    "    print('x와 y가 같습니다')\n",
    "elif x < y:\n",
    "    print('x가 y보다 작습니다')"
   ]
  },
  {
   "cell_type": "code",
   "execution_count": 30,
   "id": "ef0d04bc-9742-4720-b5f6-59cfad607f09",
   "metadata": {},
   "outputs": [
    {
     "name": "stdout",
     "output_type": "stream",
     "text": [
      "A학점입니다\n"
     ]
    }
   ],
   "source": [
    "score = 90\n",
    "if score >= 90:\n",
    "    print('A학점입니다')\n",
    "elif score >= 80:\n",
    "    print('B학점입니다')\n",
    "elif score >= 70:\n",
    "    print('C학점입니다')\n",
    "elif score >= 60:\n",
    "    print('D학점입니다')\n",
    "else:\n",
    "    print('F학점입니다')"
   ]
  },
  {
   "cell_type": "code",
   "execution_count": 33,
   "id": "c5493729-11b2-4adb-9bc2-43cc5473b5e2",
   "metadata": {},
   "outputs": [
    {
     "name": "stdout",
     "output_type": "stream",
     "text": [
      "a는 True 입니다.\n",
      "True End..\n",
      "Real End..\n"
     ]
    }
   ],
   "source": [
    "a = True\n",
    "if a:\n",
    "    print('a는 True 입니다.')\n",
    "    print('True End..')\n",
    "else:\n",
    "    print('a는 False..')\n",
    "print('Real End..')"
   ]
  },
  {
   "cell_type": "markdown",
   "id": "144ac696-06df-41e0-83e8-ce7f116daa87",
   "metadata": {},
   "source": [
    "---"
   ]
  },
  {
   "cell_type": "markdown",
   "id": "e07f78e7-2ff1-4168-b89e-03022cecd13e",
   "metadata": {},
   "source": [
    "## 08.3 파이썬 중첩/복합 조건문"
   ]
  },
  {
   "cell_type": "markdown",
   "id": "606b7ec5-56ce-481b-b41a-12745fa4b26f",
   "metadata": {},
   "source": [
    "- 조건문 내에서 다른 조건문 포함\n",
    "- 서로 독립된 조건문을 사용하여 쉽게 구현"
   ]
  },
  {
   "cell_type": "markdown",
   "id": "f7ca3f0d-9a91-40cc-8a8f-b09cf4e1eb19",
   "metadata": {},
   "source": [
    "중첩 조건문\n",
    "\n",
    "<pre>\n",
    "a = True\n",
    "x,y = 10,5\n",
    "\n",
    "if a == True:\n",
    "    print('a는 True')\n",
    "    if x > y:\n",
    "        print('x가 y보다 큽니다')\n",
    "    else:\n",
    "        print('x가 y보다 작습니다')\n",
    "else:\n",
    "    print('a는 False입니다')\n",
    "</pre>"
   ]
  },
  {
   "cell_type": "markdown",
   "id": "0dbcd6b0-0b30-4fe6-9899-402d109a1558",
   "metadata": {},
   "source": [
    "복합 조건문\n",
    "\n",
    "<pre>\n",
    "입장료 = 0\n",
    "\n",
    "if 나이 < 6 or 나이 >=60:\n",
    "    입장료= 0\n",
    "elif 나이 > 6 and 나이 < 13:\n",
    "    입장료 = 5000\n",
    "    \n",
    "elif 나이 > 14 and 나이 < 59:\n",
    "    입장료 = 10000\n",
    "    \n",
    "if 회원:\n",
    "    입장료 = int(입장료*0.5)\n",
    "    \n",
    "print(f'입장료는 {입장료:,}원 입니다.')\n",
    "</pre>"
   ]
  },
  {
   "cell_type": "markdown",
   "id": "a556c36f-18f8-4a9d-a5ef-798765d14eb2",
   "metadata": {},
   "source": [
    "### 실습"
   ]
  },
  {
   "cell_type": "code",
   "execution_count": 34,
   "id": "c100e218-4e4d-43d2-9cba-ffd2a8c25763",
   "metadata": {},
   "outputs": [
    {
     "name": "stdout",
     "output_type": "stream",
     "text": [
      "a는 True\n",
      "x가 y보다 큽니다\n"
     ]
    }
   ],
   "source": [
    "a = True\n",
    "x,y = 10,5\n",
    "\n",
    "if a == True:\n",
    "    print('a는 True')\n",
    "    if x > y:\n",
    "        print('x가 y보다 큽니다')\n",
    "    else:\n",
    "        print('x가 y보다 작습니다')\n",
    "else:\n",
    "    print('a는 False입니다')"
   ]
  },
  {
   "cell_type": "code",
   "execution_count": 35,
   "id": "a8159cfc-1f8e-4068-9164-e2a14a1deb6f",
   "metadata": {},
   "outputs": [
    {
     "name": "stdout",
     "output_type": "stream",
     "text": [
      "입장료는 5,000원 입니다.\n"
     ]
    }
   ],
   "source": [
    "# 중첩 조건문\n",
    "나이 = 30\n",
    "회원 = True\n",
    "입장료 = 0\n",
    "\n",
    "if 회원:\n",
    "    if 나이 > 6 and 나이 <= 13:\n",
    "        입장료 = 2500\n",
    "\n",
    "    elif 나이 > 14 and 나이 <= 59:\n",
    "        입장료 = 5000\n",
    "else:\n",
    "    if 나이 > 6 and 나이 <= 13:\n",
    "        입장료 = 5000\n",
    "    \n",
    "    elif 나이 > 14 and 나이 <= 59:\n",
    "        입장료 = 10000\n",
    "\n",
    "print(f'입장료는 {입장료:,}원 입니다.')"
   ]
  },
  {
   "cell_type": "code",
   "execution_count": 36,
   "id": "603bcf8c-8d16-4275-b306-bda4c5399fd8",
   "metadata": {},
   "outputs": [
    {
     "name": "stdout",
     "output_type": "stream",
     "text": [
      "입장료는 5,000원 입니다.\n"
     ]
    }
   ],
   "source": [
    "# 복합 조건문\n",
    "나이 = 30\n",
    "회원 = True\n",
    "입장료 = 0\n",
    "\n",
    "if 나이 < 6 or 나이 >=60:\n",
    "    입장료= 0\n",
    "elif 나이 > 6 and 나이 <= 13:\n",
    "    입장료 = 5000\n",
    "    \n",
    "elif 나이 > 14 and 나이 <= 59:\n",
    "    입장료 = 10000\n",
    "    \n",
    "if 회원:\n",
    "    입장료 = int(입장료*0.5)\n",
    "    \n",
    "print(f'입장료는 {입장료:,}원 입니다.')"
   ]
  }
 ],
 "metadata": {
  "kernelspec": {
   "display_name": "Python 3",
   "language": "python",
   "name": "python3"
  },
  "language_info": {
   "codemirror_mode": {
    "name": "ipython",
    "version": 3
   },
   "file_extension": ".py",
   "mimetype": "text/x-python",
   "name": "python",
   "nbconvert_exporter": "python",
   "pygments_lexer": "ipython3",
   "version": "3.8.8"
  }
 },
 "nbformat": 4,
 "nbformat_minor": 5
}
