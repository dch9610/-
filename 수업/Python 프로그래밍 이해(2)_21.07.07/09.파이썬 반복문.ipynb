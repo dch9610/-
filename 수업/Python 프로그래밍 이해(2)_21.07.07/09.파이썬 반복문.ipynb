{
 "cells": [
  {
   "cell_type": "markdown",
   "id": "a14251ab-45ef-44d3-8a74-944d78dff1d8",
   "metadata": {},
   "source": [
    "# 09. 파이썬 반복문"
   ]
  },
  {
   "cell_type": "markdown",
   "id": "0d5524bd-9e06-489b-a093-fbf84b5912cb",
   "metadata": {},
   "source": [
    "---"
   ]
  },
  {
   "cell_type": "markdown",
   "id": "70b8af91-4edb-4dc3-8cfd-a9bd1a235bbf",
   "metadata": {},
   "source": [
    "## 09.1 파이썬 for 반복문"
   ]
  },
  {
   "cell_type": "markdown",
   "id": "9b8f2dc9-e176-48b8-abb1-f6f3a1f1e356",
   "metadata": {},
   "source": [
    "<pre>\n",
    "for 변수 in 컬렉션 객체:\n",
    "</pre>\n",
    "\n",
    "- 집합 객체에서 첫번째 요소 추출 및 변수 저장\n",
    "- 변수에 저장된 element 사용하여 코드 실행\n",
    "- 집합 객체의 모든 요소를 모두 사용할 때까지 반복 수행"
   ]
  },
  {
   "cell_type": "markdown",
   "id": "b60dc02d-f979-462b-a3b5-cdbe9352e326",
   "metadata": {},
   "source": [
    "ex)\n",
    "\n",
    "<pre>\n",
    "for num in [1,2,3]:\n",
    "</pre>\n",
    "\n",
    "- 리스트([1,2,3])에서 첫번째 element인 1 추출 및 num 변수에 저장 \n",
    "- 표준출력으로 num 변수 출력\n",
    "- element 1,2,3을 모두 사용할때 까지 반복수행 (3회반복)"
   ]
  },
  {
   "cell_type": "markdown",
   "id": "9a20f896-4bef-47dc-bdd1-e2af7a444bd3",
   "metadata": {},
   "source": [
    "#### range() 함수\n",
    "- 지정된 범위 내의 값들을 생성하기 위한 내장함수\n",
    "- range(start=0, stop, step=1)\n",
    "\n",
    "<pre>\n",
    "for i in range(1, 11,2):\n",
    "    print(i)\n",
    "</pre>"
   ]
  },
  {
   "cell_type": "markdown",
   "id": "b8fabd54-21b6-4c54-9186-7ae5065495e6",
   "metadata": {},
   "source": [
    "#### for 반복문과 else 구문\n",
    "- for 반복문의 else 구문은 반복 종료시 else 블록 실행\n",
    "\n",
    "<pre>\n",
    "for i in range(1,10):\n",
    "    ans = 2 * i\n",
    "    print(f'2 * {i} = {ans}')\n",
    "else:\n",
    "    print('2단종료')\n",
    "</pre>\n",
    "    "
   ]
  },
  {
   "cell_type": "markdown",
   "id": "3c0fbee3-0f23-4c0b-9226-cf102a0209e8",
   "metadata": {},
   "source": [
    "### 실습"
   ]
  },
  {
   "cell_type": "code",
   "execution_count": 3,
   "id": "aa87597e-8acb-46e9-afc1-2443c6e7ed11",
   "metadata": {},
   "outputs": [
    {
     "name": "stdout",
     "output_type": "stream",
     "text": [
      "1\n",
      "2\n",
      "3\n"
     ]
    }
   ],
   "source": [
    "for num in [1,2,3]:\n",
    "    print(num)"
   ]
  },
  {
   "cell_type": "code",
   "execution_count": 4,
   "id": "06eac0d3-7b0d-4b2d-9657-c348829a6e53",
   "metadata": {},
   "outputs": [
    {
     "name": "stdout",
     "output_type": "stream",
     "text": [
      "Hello\n",
      "World\n",
      "창환\n"
     ]
    }
   ],
   "source": [
    "for st in ['Hello','World','창환']:\n",
    "    print(st)"
   ]
  },
  {
   "cell_type": "code",
   "execution_count": 5,
   "id": "375b8ebd-8b3e-4709-b21c-2739c376f7e4",
   "metadata": {},
   "outputs": [],
   "source": [
    "score = {'국어':95,'수학':100,'영어':90}"
   ]
  },
  {
   "cell_type": "code",
   "execution_count": 6,
   "id": "aa3de1f6-391d-430a-9232-e6413e423198",
   "metadata": {},
   "outputs": [
    {
     "name": "stdout",
     "output_type": "stream",
     "text": [
      "국어\n",
      "수학\n",
      "영어\n"
     ]
    }
   ],
   "source": [
    "for item in score.keys():\n",
    "    print(item)"
   ]
  },
  {
   "cell_type": "code",
   "execution_count": 7,
   "id": "209fbb73-0277-42a3-913f-c2fdbfd5e3d6",
   "metadata": {},
   "outputs": [
    {
     "name": "stdout",
     "output_type": "stream",
     "text": [
      "95\n",
      "100\n",
      "90\n"
     ]
    }
   ],
   "source": [
    "for item in score.values():\n",
    "    print(item)"
   ]
  },
  {
   "cell_type": "code",
   "execution_count": 8,
   "id": "01c34357-b4e3-4f6d-837b-01e484643d45",
   "metadata": {},
   "outputs": [
    {
     "name": "stdout",
     "output_type": "stream",
     "text": [
      "국어과목 점수는 95점 입니다.\n",
      "수학과목 점수는 100점 입니다.\n",
      "영어과목 점수는 90점 입니다.\n"
     ]
    }
   ],
   "source": [
    "for key, value in score.items():\n",
    "    print(f'{key}과목 점수는 {value}점 입니다.')"
   ]
  },
  {
   "cell_type": "code",
   "execution_count": 10,
   "id": "de50b109-f168-47b6-aeb0-bd24d8fb8042",
   "metadata": {},
   "outputs": [
    {
     "name": "stdout",
     "output_type": "stream",
     "text": [
      "[0, 1, 2, 3, 4, 5, 6, 7, 8, 9]\n",
      "[1, 2, 3, 4, 5, 6, 7, 8, 9, 10]\n",
      "[10, 9, 8, 7, 6, 5, 4, 3, 2, 1]\n",
      "[0, 2, 4, 6, 8, 10]\n"
     ]
    }
   ],
   "source": [
    "print(list(range(10)))\n",
    "print(list(range(1,11)))\n",
    "print(list(range(10,0,-1)))\n",
    "print(list(range(0,11,2)))"
   ]
  },
  {
   "cell_type": "code",
   "execution_count": 11,
   "id": "ef8e63db-c8f8-462c-aeb0-5b2b883cf14a",
   "metadata": {},
   "outputs": [
    {
     "name": "stdout",
     "output_type": "stream",
     "text": [
      "1\n",
      "3\n",
      "5\n",
      "7\n",
      "9\n"
     ]
    }
   ],
   "source": [
    "for i in range(1, 11, 2):\n",
    "    print(i)"
   ]
  },
  {
   "cell_type": "code",
   "execution_count": 13,
   "id": "6c0460f4-1b40-477a-b603-69535f55a41e",
   "metadata": {},
   "outputs": [
    {
     "name": "stdout",
     "output_type": "stream",
     "text": [
      "0\n",
      "2\n",
      "4\n",
      "6\n",
      "8\n",
      "10\n"
     ]
    }
   ],
   "source": [
    "for i in range(0,11,2):\n",
    "    print(i)"
   ]
  },
  {
   "cell_type": "code",
   "execution_count": 17,
   "id": "98ed55bb-3d24-4137-83fc-86b6f5c6b4a1",
   "metadata": {},
   "outputs": [
    {
     "name": "stdout",
     "output_type": "stream",
     "text": [
      "2 * 1 = 2\n",
      "2 * 2 = 4\n",
      "2 * 3 = 6\n",
      "2 * 4 = 8\n",
      "2 * 5 = 10\n",
      "2 * 6 = 12\n",
      "2 * 7 = 14\n",
      "2 * 8 = 16\n",
      "2 * 9 = 18\n",
      "2단종료\n"
     ]
    }
   ],
   "source": [
    "for i in range(1,10):\n",
    "    ans = 2 * i\n",
    "    print(f'2 * {i} = {ans}')\n",
    "else:\n",
    "    print('2단종료')"
   ]
  },
  {
   "cell_type": "markdown",
   "id": "bd248bf8-13c3-495e-ab2f-07e60ae0ec1c",
   "metadata": {},
   "source": [
    "---"
   ]
  },
  {
   "cell_type": "markdown",
   "id": "c255343a-4dbb-4305-94f1-39cb642c7194",
   "metadata": {},
   "source": [
    "## 09.2 while 반복문\n"
   ]
  },
  {
   "cell_type": "markdown",
   "id": "5fba48f2-a719-4d85-ad25-3f00eaf270bf",
   "metadata": {},
   "source": [
    "- while문이 포함하고 있는 조건검사\n",
    "- 조건이 True이면 while문 블록 내 코드 실행 후 다시 수행\n",
    "- 조건이 False이면 else블록 실행 후 while문 반복 종료\n",
    "\n",
    "<pre>\n",
    "while 조건:\n",
    "    실행코드\n",
    "else:\n",
    "    실행코드\n",
    "</pre>"
   ]
  },
  {
   "cell_type": "markdown",
   "id": "f0663380-927a-41db-9f3e-e1d462004061",
   "metadata": {},
   "source": [
    "while 무한반복\n",
    "\n",
    "- 반드시 while문 내 if문을 이용한 종료조건 추가\n",
    "\n",
    "<pre>\n",
    "while True:\n",
    "    실행코드\n",
    "    if 종료조건:\n",
    "        break\n",
    "</pre>"
   ]
  },
  {
   "cell_type": "markdown",
   "id": "7c43b172-0f37-4201-88e1-457f76c5205d",
   "metadata": {},
   "source": [
    "### 실습"
   ]
  },
  {
   "cell_type": "code",
   "execution_count": 21,
   "id": "37407a33-e9c6-473b-bfb8-bff328d85aba",
   "metadata": {},
   "outputs": [
    {
     "name": "stdout",
     "output_type": "stream",
     "text": [
      "0\n",
      "1\n",
      "2\n",
      "3\n",
      "4\n",
      "5\n",
      "6\n",
      "7\n",
      "8\n",
      "9\n",
      "a가 10이므로 종료합니다.\n"
     ]
    }
   ],
   "source": [
    "a = 0\n",
    "while a < 10:\n",
    "    print(a)\n",
    "    a += 1\n",
    "else:\n",
    "    print(f'a가 {a}이므로 종료합니다.')"
   ]
  },
  {
   "cell_type": "code",
   "execution_count": 31,
   "id": "6b80fb2f-1dcc-4988-abc9-b6a1dd95cf91",
   "metadata": {},
   "outputs": [
    {
     "name": "stdout",
     "output_type": "stream",
     "text": [
      "3\n",
      "6\n",
      "9\n",
      "12\n",
      "15\n",
      "18\n",
      "21\n",
      "24\n",
      "27\n",
      "30\n",
      "33\n",
      "36\n",
      "39\n",
      "42\n",
      "45\n",
      "48\n",
      "51\n",
      "54\n",
      "57\n",
      "60\n",
      "63\n",
      "66\n",
      "69\n",
      "72\n",
      "75\n",
      "78\n",
      "81\n",
      "84\n",
      "87\n",
      "90\n",
      "93\n",
      "96\n",
      "99\n",
      "102\n"
     ]
    }
   ],
   "source": [
    "x = 0\n",
    "\n",
    "# 3의 배수를 먼저 출력\n",
    "# 조건에 만족할시 종료 (102가 나온 이유는 덧셈이 먼저 수행되었기 때문)\n",
    "while True :\n",
    "    x += 3\n",
    "    print(x)\n",
    "    \n",
    "    if x > 100 and x %3 == 0 :\n",
    "        break"
   ]
  },
  {
   "cell_type": "markdown",
   "id": "5c1238b7-2982-4829-8276-ed4616bd95a3",
   "metadata": {},
   "source": [
    "---"
   ]
  },
  {
   "cell_type": "markdown",
   "id": "09d0bc96-7226-4fa2-b500-e865e6cdb780",
   "metadata": {},
   "source": [
    "## 09.3 리스트 컴프리헨션"
   ]
  },
  {
   "cell_type": "markdown",
   "id": "2bb94b46-c8ce-4524-aaa8-7c4d242d2ca1",
   "metadata": {},
   "source": [
    "- 리스트 각 원소들에 대해 연산을 수행하여 업데이트\n",
    "\n",
    "<pre>\n",
    "[표현식 for 변수 in 리스트 객체]\n",
    "</pre>\n",
    "\n",
    "<pre>\n",
    "[표현식 for 변수 in 리스트 객체 if 조건식]\n",
    "</pre>"
   ]
  },
  {
   "cell_type": "markdown",
   "id": "93b52a26-00d0-49d5-bd07-31c2d32e9ffd",
   "metadata": {},
   "source": [
    "### 실습"
   ]
  },
  {
   "cell_type": "code",
   "execution_count": 24,
   "id": "26df7fca-adf4-4ea1-873a-2c249a4d7323",
   "metadata": {},
   "outputs": [
    {
     "data": {
      "text/plain": [
       "[1, 2, 3, 4, 5, 6, 7, 8, 9, 10]"
      ]
     },
     "execution_count": 24,
     "metadata": {},
     "output_type": "execute_result"
    }
   ],
   "source": [
    "list1 = list(range(1,11))\n",
    "list1"
   ]
  },
  {
   "cell_type": "code",
   "execution_count": 25,
   "id": "9d21d669-9fcd-4d1c-863e-7546cfd63725",
   "metadata": {},
   "outputs": [
    {
     "data": {
      "text/plain": [
       "[2, 4, 6, 8, 10, 12, 14, 16, 18, 20]"
      ]
     },
     "execution_count": 25,
     "metadata": {},
     "output_type": "execute_result"
    }
   ],
   "source": [
    "list2 = [i*2 for i in list1]\n",
    "list2"
   ]
  },
  {
   "cell_type": "code",
   "execution_count": 26,
   "id": "519866dc-2883-4a6f-8a5f-9de0c9a1264f",
   "metadata": {},
   "outputs": [
    {
     "data": {
      "text/plain": [
       "[4, 16, 36, 64, 100]"
      ]
     },
     "execution_count": 26,
     "metadata": {},
     "output_type": "execute_result"
    }
   ],
   "source": [
    "list3 = [i**2 for i in list1 if i % 2== 0]\n",
    "list3"
   ]
  }
 ],
 "metadata": {
  "kernelspec": {
   "display_name": "Python 3",
   "language": "python",
   "name": "python3"
  },
  "language_info": {
   "codemirror_mode": {
    "name": "ipython",
    "version": 3
   },
   "file_extension": ".py",
   "mimetype": "text/x-python",
   "name": "python",
   "nbconvert_exporter": "python",
   "pygments_lexer": "ipython3",
   "version": "3.8.8"
  }
 },
 "nbformat": 4,
 "nbformat_minor": 5
}
