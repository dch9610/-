{
 "cells": [
  {
   "cell_type": "markdown",
   "id": "4824ca47-c300-466e-94e9-4f735da06b6b",
   "metadata": {},
   "source": [
    "# 07.파이썬 셋과 딕셔너리"
   ]
  },
  {
   "cell_type": "markdown",
   "id": "5ef6d4f5-a528-42b4-8798-727e56d1a438",
   "metadata": {},
   "source": [
    "---"
   ]
  },
  {
   "cell_type": "markdown",
   "id": "174c0cc3-1a06-4669-8f37-fba142bab437",
   "metadata": {},
   "source": [
    "## 07.1 파이썬 셋"
   ]
  },
  {
   "cell_type": "markdown",
   "id": "46226a10-4431-4154-b75c-546bdd9abd2b",
   "metadata": {},
   "source": [
    "- 중복을 허용하지 않고 원소들의 순서가 없어 인덱싱과 슬라이싱 불가\n",
    "- 집합연산을 하고자 할때 활용\n",
    "- remove() / pop() 함수는 사용가능\n",
    "    - 셋의 지정된 원소 / 마지막 원소 제거"
   ]
  },
  {
   "cell_type": "markdown",
   "id": "b35eca49-6d04-4e42-a217-abc63e9b93ef",
   "metadata": {},
   "source": [
    "### 실습"
   ]
  },
  {
   "cell_type": "code",
   "execution_count": 1,
   "id": "ac0c2c31-e112-4383-8eb8-4b9dd49d14e8",
   "metadata": {},
   "outputs": [
    {
     "data": {
      "text/plain": [
       "{'A', 'B', 'C', 'D', 'E', 'F'}"
      ]
     },
     "execution_count": 1,
     "metadata": {},
     "output_type": "execute_result"
    }
   ],
   "source": [
    "set1 = {'A','B','C','A','D','E','F','B'}\n",
    "set1"
   ]
  },
  {
   "cell_type": "code",
   "execution_count": 2,
   "id": "8bd48b81-a477-421e-896d-b2aca2f35abe",
   "metadata": {},
   "outputs": [
    {
     "ename": "TypeError",
     "evalue": "'set' object is not subscriptable",
     "output_type": "error",
     "traceback": [
      "\u001b[1;31m---------------------------------------------------------------------------\u001b[0m",
      "\u001b[1;31mTypeError\u001b[0m                                 Traceback (most recent call last)",
      "\u001b[1;32m<ipython-input-2-c38563f1af7a>\u001b[0m in \u001b[0;36m<module>\u001b[1;34m\u001b[0m\n\u001b[1;32m----> 1\u001b[1;33m \u001b[0mset1\u001b[0m\u001b[1;33m[\u001b[0m\u001b[1;36m0\u001b[0m\u001b[1;33m]\u001b[0m\u001b[1;33m\u001b[0m\u001b[1;33m\u001b[0m\u001b[0m\n\u001b[0m",
      "\u001b[1;31mTypeError\u001b[0m: 'set' object is not subscriptable"
     ]
    }
   ],
   "source": [
    "set1[0]"
   ]
  },
  {
   "cell_type": "code",
   "execution_count": 3,
   "id": "b46a3fa8-9447-4b9e-baec-69f2720d7860",
   "metadata": {},
   "outputs": [
    {
     "ename": "TypeError",
     "evalue": "'set' object is not subscriptable",
     "output_type": "error",
     "traceback": [
      "\u001b[1;31m---------------------------------------------------------------------------\u001b[0m",
      "\u001b[1;31mTypeError\u001b[0m                                 Traceback (most recent call last)",
      "\u001b[1;32m<ipython-input-3-ea280228e3f8>\u001b[0m in \u001b[0;36m<module>\u001b[1;34m\u001b[0m\n\u001b[1;32m----> 1\u001b[1;33m \u001b[0mset1\u001b[0m\u001b[1;33m[\u001b[0m\u001b[1;33m:\u001b[0m\u001b[1;36m5\u001b[0m\u001b[1;33m]\u001b[0m\u001b[1;33m\u001b[0m\u001b[1;33m\u001b[0m\u001b[0m\n\u001b[0m",
      "\u001b[1;31mTypeError\u001b[0m: 'set' object is not subscriptable"
     ]
    }
   ],
   "source": [
    "set1[:5]"
   ]
  },
  {
   "cell_type": "code",
   "execution_count": 4,
   "id": "da8fce65-0e77-458f-a04b-ef61f602b8ec",
   "metadata": {},
   "outputs": [
    {
     "data": {
      "text/plain": [
       "{'A', 'B', 'C', 'D', 'E', 'F', 'a'}"
      ]
     },
     "execution_count": 4,
     "metadata": {},
     "output_type": "execute_result"
    }
   ],
   "source": [
    "set1.add('a')\n",
    "set1"
   ]
  },
  {
   "cell_type": "code",
   "execution_count": 5,
   "id": "b7d97f49-817b-4fe0-a6e0-1accfd0d920b",
   "metadata": {},
   "outputs": [
    {
     "data": {
      "text/plain": [
       "{'A', 'B', 'C', 'D', 'E', 'F', 'a'}"
      ]
     },
     "execution_count": 5,
     "metadata": {},
     "output_type": "execute_result"
    }
   ],
   "source": [
    "set1.add('A')\n",
    "set1"
   ]
  },
  {
   "cell_type": "code",
   "execution_count": 6,
   "id": "8b75566b-e520-4474-91a0-006ef3806734",
   "metadata": {},
   "outputs": [
    {
     "data": {
      "text/plain": [
       "{'A', 'B', 'C', 'D', 'E', 'F'}"
      ]
     },
     "execution_count": 6,
     "metadata": {},
     "output_type": "execute_result"
    }
   ],
   "source": [
    "set1.remove('a')\n",
    "set1"
   ]
  },
  {
   "cell_type": "code",
   "execution_count": 7,
   "id": "ff4d6aa7-843e-4d6b-b3e6-d40ff7329e61",
   "metadata": {},
   "outputs": [
    {
     "data": {
      "text/plain": [
       "{'A', 'B', 'C', 'D', 'F'}"
      ]
     },
     "execution_count": 7,
     "metadata": {},
     "output_type": "execute_result"
    }
   ],
   "source": [
    "set1.pop()\n",
    "set1"
   ]
  },
  {
   "cell_type": "markdown",
   "id": "68c072a1-41e4-42e1-a2f6-4ce42fafc84d",
   "metadata": {},
   "source": [
    "---"
   ]
  },
  {
   "cell_type": "markdown",
   "id": "092802df-9967-481e-a972-e62e4a27062c",
   "metadata": {},
   "source": [
    "## 07.2 파이썬 셋 집합 연산"
   ]
  },
  {
   "cell_type": "markdown",
   "id": "56e31350-3caf-4876-b911-1825c5eeaa70",
   "metadata": {},
   "source": [
    "- 파이썬 셋은 교집합, 합집합, 차집합 등의 집합 연산자 및 연산 함수 기능\n",
    "- 교집합 연산\n",
    "    - '*' / intersection() 함수 (set1 & set2)\n",
    "    \n",
    "- 합집합 연산\n",
    "    - '|' / union() 함수 (set1 | set2)\n",
    "    \n",
    "- 차집합 연산 \n",
    "    - '-' / difference() 함수 (set1 - set2)"
   ]
  },
  {
   "cell_type": "markdown",
   "id": "e34ebd0b-7491-44f7-9d14-8a44b58962fe",
   "metadata": {},
   "source": [
    "- 대칭 차집합 연산 (전체 합집합에서 교집합을 뺀것)\n",
    "    - ^ / symmetric_difference() 함수 (set1 ^ set2)"
   ]
  },
  {
   "cell_type": "markdown",
   "id": "c1e7050b-038d-4272-8bd7-0053b319ce45",
   "metadata": {},
   "source": [
    "### 실습"
   ]
  },
  {
   "cell_type": "code",
   "execution_count": 10,
   "id": "467c111d-bdcc-4bbe-9ee3-e1abe31e6c99",
   "metadata": {},
   "outputs": [],
   "source": [
    "set1 = {'A','B','C','D','E','F'}\n",
    "set2 = {'B','D','G','H'}"
   ]
  },
  {
   "cell_type": "code",
   "execution_count": 13,
   "id": "00b50e6c-87f2-4089-9fb8-f2dcdac45043",
   "metadata": {},
   "outputs": [
    {
     "name": "stdout",
     "output_type": "stream",
     "text": [
      "{'B', 'D'}\n",
      "{'B', 'D'}\n"
     ]
    }
   ],
   "source": [
    "# 교집합\n",
    "print(set1 & set2)\n",
    "print(set1.intersection(set2))"
   ]
  },
  {
   "cell_type": "code",
   "execution_count": 15,
   "id": "4a80d107-96bb-48f0-bea1-9f5b46e2ec89",
   "metadata": {},
   "outputs": [
    {
     "name": "stdout",
     "output_type": "stream",
     "text": [
      "{'E', 'B', 'A', 'F', 'G', 'D', 'C', 'H'}\n",
      "{'E', 'B', 'A', 'F', 'G', 'D', 'C', 'H'}\n"
     ]
    }
   ],
   "source": [
    "# 합집합\n",
    "print(set1 | set2)\n",
    "print(set1.union(set2))"
   ]
  },
  {
   "cell_type": "code",
   "execution_count": 14,
   "id": "7b5637d7-fc21-4e9e-8ee4-54b0b7b4b3c0",
   "metadata": {},
   "outputs": [
    {
     "name": "stdout",
     "output_type": "stream",
     "text": [
      "{'C', 'E', 'A', 'F'}\n",
      "{'C', 'E', 'A', 'F'}\n"
     ]
    }
   ],
   "source": [
    "# 차집합\n",
    "print(set1 - set2)\n",
    "print(set1.difference(set2))"
   ]
  },
  {
   "cell_type": "code",
   "execution_count": 16,
   "id": "8c40359c-26b2-4cba-b997-693ba797eec9",
   "metadata": {},
   "outputs": [
    {
     "name": "stdout",
     "output_type": "stream",
     "text": [
      "{'E', 'A', 'F', 'G', 'C', 'H'}\n",
      "{'E', 'A', 'F', 'G', 'C', 'H'}\n"
     ]
    }
   ],
   "source": [
    "# 대칭 차집합 (합집합 - 교집합)\n",
    "print(set1 ^ set2)\n",
    "print(set1.symmetric_difference(set2))"
   ]
  },
  {
   "cell_type": "markdown",
   "id": "bbbf6717-71c4-48f9-8c3e-04a117dc60e0",
   "metadata": {},
   "source": [
    "---"
   ]
  },
  {
   "cell_type": "markdown",
   "id": "d102e2c2-2c05-46e5-b7bf-cc5abb5eb8d8",
   "metadata": {},
   "source": [
    "## 07.3 파이썬 딕셔너리"
   ]
  },
  {
   "cell_type": "markdown",
   "id": "ad8c6984-21e3-4b3f-baf1-97cd72bcc2b9",
   "metadata": {},
   "source": [
    "<pre>\n",
    "딕셔너리 변수 = {\n",
    "    key1 : value1,\n",
    "    key2 : value2\n",
    "}\n",
    "</pre>"
   ]
  },
  {
   "cell_type": "markdown",
   "id": "db0e03a0-d326-4818-af09-f1b3a056ffb3",
   "metadata": {},
   "source": [
    "- 딕셔너리 원소 추가\n",
    "    - ex) 중간고사['국어'] = 95\n",
    "- 딕셔너리 원소 확인 및 변경\n",
    "    - ex) 중간고사['영어']"
   ]
  },
  {
   "cell_type": "markdown",
   "id": "6f105a8a-6830-4676-afb5-fa7893843bb7",
   "metadata": {},
   "source": [
    "- 딕셔너리 keys() : 키의 값만 추출\n",
    "    - ex) list(중간고사.keys())\n",
    "- 딕셔너리  values() : 값만 추출\n",
    "    - ex) list(중간고사.values())\n",
    "- 딕셔너리 items() : 키와 값이 튜플형태로 추출\n",
    "    - ex) list(중간고사.items())"
   ]
  },
  {
   "cell_type": "markdown",
   "id": "1509921c-a7c6-433e-9049-22608059db15",
   "metadata": {},
   "source": [
    "- 딕셔너리 원소 삭제 (키의 값을 입력하여 삭제)\n",
    "    - ex) 중간고사.pop('국어')"
   ]
  },
  {
   "cell_type": "markdown",
   "id": "2e4cdf9b-9a72-44f2-9899-9e2ac6ffc99e",
   "metadata": {},
   "source": [
    "### 실습"
   ]
  },
  {
   "cell_type": "code",
   "execution_count": 8,
   "id": "e1c13454-3296-4145-862e-0174976e599a",
   "metadata": {},
   "outputs": [
    {
     "data": {
      "text/plain": [
       "{'수학': 100, '영어': 90}"
      ]
     },
     "execution_count": 8,
     "metadata": {},
     "output_type": "execute_result"
    }
   ],
   "source": [
    "중간고사 = {\n",
    "    \"수학\" : 100,\n",
    "    \"영어\" : 90\n",
    "}\n",
    "중간고사"
   ]
  },
  {
   "cell_type": "code",
   "execution_count": 9,
   "id": "c4f9e718-bd3f-4af2-b587-48052eae4b4d",
   "metadata": {},
   "outputs": [
    {
     "data": {
      "text/plain": [
       "{'수학': 100, '영어': 90, '국어': 95}"
      ]
     },
     "execution_count": 9,
     "metadata": {},
     "output_type": "execute_result"
    }
   ],
   "source": [
    "중간고사['국어'] = 95\n",
    "중간고사"
   ]
  },
  {
   "cell_type": "code",
   "execution_count": 17,
   "id": "0885b236-6d6b-4f5d-bc4e-e4fa96ff4eb8",
   "metadata": {},
   "outputs": [
    {
     "data": {
      "text/plain": [
       "90"
      ]
     },
     "execution_count": 17,
     "metadata": {},
     "output_type": "execute_result"
    }
   ],
   "source": [
    "중간고사['영어']"
   ]
  },
  {
   "cell_type": "code",
   "execution_count": 18,
   "id": "4ecf1ca3-d998-48d6-bfa2-01d260b11057",
   "metadata": {},
   "outputs": [
    {
     "data": {
      "text/plain": [
       "{'수학': 100, '영어': 95, '국어': 95}"
      ]
     },
     "execution_count": 18,
     "metadata": {},
     "output_type": "execute_result"
    }
   ],
   "source": [
    "중간고사['영어'] = 95\n",
    "중간고사"
   ]
  },
  {
   "cell_type": "code",
   "execution_count": 19,
   "id": "f6be0a8f-faf7-4b77-93b0-79c6cd05a67f",
   "metadata": {},
   "outputs": [
    {
     "data": {
      "text/plain": [
       "['수학', '영어', '국어']"
      ]
     },
     "execution_count": 19,
     "metadata": {},
     "output_type": "execute_result"
    }
   ],
   "source": [
    "list(중간고사.keys())"
   ]
  },
  {
   "cell_type": "code",
   "execution_count": 20,
   "id": "1647aa22-4c65-4523-8755-8e9cfc6bcd92",
   "metadata": {},
   "outputs": [
    {
     "data": {
      "text/plain": [
       "[100, 95, 95]"
      ]
     },
     "execution_count": 20,
     "metadata": {},
     "output_type": "execute_result"
    }
   ],
   "source": [
    "list(중간고사.values())"
   ]
  },
  {
   "cell_type": "code",
   "execution_count": 21,
   "id": "c3472746-ba08-4393-b194-1dc50ff237a5",
   "metadata": {},
   "outputs": [
    {
     "data": {
      "text/plain": [
       "[('수학', 100), ('영어', 95), ('국어', 95)]"
      ]
     },
     "execution_count": 21,
     "metadata": {},
     "output_type": "execute_result"
    }
   ],
   "source": [
    "list(중간고사.items())"
   ]
  },
  {
   "cell_type": "code",
   "execution_count": 22,
   "id": "7f5a3309-98e0-4865-b6ec-33fd85e5f02e",
   "metadata": {},
   "outputs": [
    {
     "data": {
      "text/plain": [
       "{'수학': 100, '국어': 95}"
      ]
     },
     "execution_count": 22,
     "metadata": {},
     "output_type": "execute_result"
    }
   ],
   "source": [
    "중간고사.pop('영어')\n",
    "중간고사"
   ]
  }
 ],
 "metadata": {
  "kernelspec": {
   "display_name": "Python 3",
   "language": "python",
   "name": "python3"
  },
  "language_info": {
   "codemirror_mode": {
    "name": "ipython",
    "version": 3
   },
   "file_extension": ".py",
   "mimetype": "text/x-python",
   "name": "python",
   "nbconvert_exporter": "python",
   "pygments_lexer": "ipython3",
   "version": "3.8.8"
  }
 },
 "nbformat": 4,
 "nbformat_minor": 5
}
