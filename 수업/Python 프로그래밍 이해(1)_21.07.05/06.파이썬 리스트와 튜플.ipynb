{
 "cells": [
  {
   "cell_type": "markdown",
   "id": "37881e08-4d27-4a24-b681-c88bd11f1ee7",
   "metadata": {},
   "source": [
    "## 06-1 파이썬 리스트\n"
   ]
  },
  {
   "cell_type": "markdown",
   "id": "ceb0942e-68f8-43b0-a160-cabf1b232def",
   "metadata": {},
   "source": [
    "- 여러개의 엘리먼트를 가지는 형태\n",
    "- 리스트와 리스트 결합연산\n",
    "    -  '+'를 이용\n",
    "    \n",
    "- 원소 존재여부 확인을 위한 in 연산\n",
    "\n",
    "- 리스트의 원소 변경\n",
    "    - 변수[변경하고자하는 인덱스] = 변경 값\n",
    " \n",
    " \n",
    "- len() 함수 : 리스트이 원소 수 계산\n",
    "\n",
    "- count() 함수 : 특정 값이 리스트 내 포함된 갯수 계산\n",
    " \n",
    "- append() 함수 : 리스트의 마지막에 원소 추가\n",
    "    - .append(원소)\n",
    "\n",
    "- insert() 함수 : 리스트의 지정된 인덱스 위치에 원소 삽입\n",
    "    - .insert(인덱스 위치, 원소)\n",
    "\n",
    "- pop() 함수 : 리스트의 지정된 인덱스의 원소 추출\n",
    "    - .pop(인덱스 위치)\n",
    "    \n",
    "- remove() 함수 : 리스트의 지정된 원소 제거\n",
    "    - .remove(지정된 원소 제거)\n",
    "    \n",
    "- sort() 함수 : 리스트 원소를 순서에 따라 정렬\n",
    "    - .sort(reverse=True) : 역정렬"
   ]
  },
  {
   "cell_type": "markdown",
   "id": "c83d95dc-c8c9-451c-a001-4af2d3b18523",
   "metadata": {},
   "source": [
    "---"
   ]
  },
  {
   "cell_type": "markdown",
   "id": "a30e57ce-f2e2-4a13-8514-c50841617739",
   "metadata": {},
   "source": [
    "## 06-2 파이썬 리스트 인덱싱과 슬라이싱"
   ]
  },
  {
   "cell_type": "markdown",
   "id": "3809fc81-1a00-42a6-a073-8cd3ed9066fa",
   "metadata": {},
   "source": [
    "### 실습"
   ]
  },
  {
   "cell_type": "code",
   "execution_count": 1,
   "id": "97ef9c67-7388-4ab0-9746-f733215837f5",
   "metadata": {},
   "outputs": [],
   "source": [
    "letters = ['A','B','C','D','E','F']"
   ]
  },
  {
   "cell_type": "code",
   "execution_count": 2,
   "id": "f78ca349-ccd7-4920-b75c-c4fa47da43de",
   "metadata": {},
   "outputs": [],
   "source": [
    "letter1 = ['a','b','c']\n",
    "letter2 = ['d','e','f']"
   ]
  },
  {
   "cell_type": "code",
   "execution_count": 3,
   "id": "f8688804-4e64-4330-8a6a-e2198815e8b1",
   "metadata": {},
   "outputs": [
    {
     "data": {
      "text/plain": [
       "['a', 'b', 'c', 'd', 'e', 'f']"
      ]
     },
     "execution_count": 3,
     "metadata": {},
     "output_type": "execute_result"
    }
   ],
   "source": [
    "letter1 + letter2"
   ]
  },
  {
   "cell_type": "code",
   "execution_count": 4,
   "id": "25cadedf-3ed5-4f68-859d-ca271d78c5a3",
   "metadata": {},
   "outputs": [
    {
     "name": "stdout",
     "output_type": "stream",
     "text": [
      "False\n",
      "True\n"
     ]
    }
   ],
   "source": [
    "print('A' in letter1) \n",
    "print('a' in letter1)"
   ]
  },
  {
   "cell_type": "code",
   "execution_count": 5,
   "id": "929a60ad-6597-45e6-b566-3110be83af02",
   "metadata": {},
   "outputs": [
    {
     "name": "stdout",
     "output_type": "stream",
     "text": [
      "['a', 'B', 'C', 'D', 'E', 'f']\n"
     ]
    }
   ],
   "source": [
    "letters[0] = 'a'\n",
    "letters[5] = 'f'\n",
    "print(letters)"
   ]
  },
  {
   "cell_type": "code",
   "execution_count": 6,
   "id": "df9128dc-ebd7-49ed-98e5-9a236adc3639",
   "metadata": {},
   "outputs": [
    {
     "data": {
      "text/plain": [
       "6"
      ]
     },
     "execution_count": 6,
     "metadata": {},
     "output_type": "execute_result"
    }
   ],
   "source": [
    "len(letters)"
   ]
  },
  {
   "cell_type": "code",
   "execution_count": 7,
   "id": "a4dbd33f-9695-4e00-ae75-a3f5965fd769",
   "metadata": {},
   "outputs": [
    {
     "data": {
      "text/plain": [
       "1"
      ]
     },
     "execution_count": 7,
     "metadata": {},
     "output_type": "execute_result"
    }
   ],
   "source": [
    "letters.count('B')"
   ]
  },
  {
   "cell_type": "code",
   "execution_count": 8,
   "id": "1f36c9a3-889f-4d85-8601-f8b46754b17c",
   "metadata": {},
   "outputs": [],
   "source": [
    "letters.append('G')"
   ]
  },
  {
   "cell_type": "code",
   "execution_count": 9,
   "id": "fff472f8-8b83-47af-8272-7957afa0d36c",
   "metadata": {},
   "outputs": [],
   "source": [
    "letters.insert(2,'c')"
   ]
  },
  {
   "cell_type": "code",
   "execution_count": 10,
   "id": "053fd9e7-9f7c-4d93-8f06-d093904b44a1",
   "metadata": {},
   "outputs": [
    {
     "name": "stdout",
     "output_type": "stream",
     "text": [
      "['a', 'B', 'c', 'C', 'D', 'E', 'f', 'G']\n"
     ]
    }
   ],
   "source": [
    "print(letters)"
   ]
  },
  {
   "cell_type": "code",
   "execution_count": 11,
   "id": "c1e6f469-334d-4e9a-a080-8a9726bfe7ba",
   "metadata": {},
   "outputs": [
    {
     "name": "stdout",
     "output_type": "stream",
     "text": [
      "['a', 'B', 'C', 'D', 'E', 'f', 'G']\n"
     ]
    }
   ],
   "source": [
    "# 2번째 인덱스 위치 원소 제거\n",
    "letters.pop(2)\n",
    "print(letters)"
   ]
  },
  {
   "cell_type": "code",
   "execution_count": 12,
   "id": "da0c5493-0dd2-413d-b3d3-f31572d690ca",
   "metadata": {},
   "outputs": [
    {
     "name": "stdout",
     "output_type": "stream",
     "text": [
      "['a', 'B', 'C', 'D', 'E', 'f']\n"
     ]
    }
   ],
   "source": [
    "letters.remove('G')\n",
    "print(letters)"
   ]
  },
  {
   "cell_type": "code",
   "execution_count": 13,
   "id": "5b382168-b9ff-4bc9-919e-bf256aa53d00",
   "metadata": {},
   "outputs": [
    {
     "name": "stdout",
     "output_type": "stream",
     "text": [
      "['B', 'C', 'D', 'E', 'a', 'f']\n",
      "['f', 'a', 'E', 'D', 'C', 'B']\n"
     ]
    }
   ],
   "source": [
    "# 대문자를 우선순위\n",
    "letters.sort()\n",
    "print(letters)\n",
    "\n",
    "# 역정렬\n",
    "letters.sort(reverse=True)\n",
    "print(letters)"
   ]
  },
  {
   "cell_type": "code",
   "execution_count": 14,
   "id": "ec41b22e-7dc1-4649-94e7-e1174ce2d3bf",
   "metadata": {},
   "outputs": [
    {
     "name": "stdout",
     "output_type": "stream",
     "text": [
      "['f', 'a', 'E']\n",
      "['D', 'C', 'B']\n",
      "['f', 'E', 'C']\n",
      "['B', 'D', 'a']\n"
     ]
    }
   ],
   "source": [
    "print(letters[:3])\n",
    "print(letters[3:])\n",
    "print(letters[::2])\n",
    "\n",
    "# step에 -가 붙을경우 뒤에서부터 시작\n",
    "print(letters[::-2])"
   ]
  },
  {
   "cell_type": "markdown",
   "id": "9034720b-8153-4cf2-a055-47ed2ffbb327",
   "metadata": {},
   "source": [
    "---"
   ]
  },
  {
   "cell_type": "markdown",
   "id": "b2cb7375-950c-4a0e-ba4c-c858325a7f30",
   "metadata": {},
   "source": [
    "## 06-3 파이썬 튜플"
   ]
  },
  {
   "cell_type": "markdown",
   "id": "c49f5a99-709f-46c2-a1eb-be982f5f18f5",
   "metadata": {},
   "source": [
    "- 리스트와 유사한 형태이나 원소 변경이 불가하다.\n",
    "- 튜플은 index() 함수와 count() 함수만 사용 가능\n",
    "\n",
    "- 튜플은 list() 함수를 사용하여 리스트로 변환 가능\n",
    "- 리스트는 tuple() 함수를 사용하여 튜플로 변환 가능"
   ]
  },
  {
   "cell_type": "markdown",
   "id": "59324413-effc-46e6-8226-d213fa24cf73",
   "metadata": {},
   "source": [
    "### 실습"
   ]
  },
  {
   "cell_type": "code",
   "execution_count": 15,
   "id": "db5e7210-7c7c-41ff-b57d-15eeef355a05",
   "metadata": {},
   "outputs": [
    {
     "name": "stdout",
     "output_type": "stream",
     "text": [
      "('A', 'B', 'C', 'D', 'E', 'F')\n"
     ]
    }
   ],
   "source": [
    "tuple1 = ('A','B','C','D','E','F')\n",
    "print(tuple1)"
   ]
  },
  {
   "cell_type": "code",
   "execution_count": 16,
   "id": "db327976-6015-4df5-b47f-e36aa6f1dfdd",
   "metadata": {},
   "outputs": [
    {
     "data": {
      "text/plain": [
       "2"
      ]
     },
     "execution_count": 16,
     "metadata": {},
     "output_type": "execute_result"
    }
   ],
   "source": [
    "tuple1.index('C')"
   ]
  },
  {
   "cell_type": "code",
   "execution_count": 17,
   "id": "8831ffe1-aeba-48f3-a13d-9828d8741558",
   "metadata": {},
   "outputs": [
    {
     "data": {
      "text/plain": [
       "1"
      ]
     },
     "execution_count": 17,
     "metadata": {},
     "output_type": "execute_result"
    }
   ],
   "source": [
    "tuple1.count('A')"
   ]
  },
  {
   "cell_type": "code",
   "execution_count": 18,
   "id": "9106227a-5aa9-4143-b6ef-60a86ac66c55",
   "metadata": {},
   "outputs": [
    {
     "data": {
      "text/plain": [
       "['A', 'B', 'C', 'D', 'E', 'F', 'a']"
      ]
     },
     "execution_count": 18,
     "metadata": {},
     "output_type": "execute_result"
    }
   ],
   "source": [
    "# 튜플에서 리스트로 형변환\n",
    "list1 = list(tuple1)\n",
    "list1.append('a')\n",
    "list1"
   ]
  },
  {
   "cell_type": "code",
   "execution_count": 19,
   "id": "5845bd5e-766b-47aa-9bd8-e797e0a462a1",
   "metadata": {},
   "outputs": [
    {
     "data": {
      "text/plain": [
       "('A', 'B', 'C', 'D', 'E', 'F', 'a')"
      ]
     },
     "execution_count": 19,
     "metadata": {},
     "output_type": "execute_result"
    }
   ],
   "source": [
    "# 리스트에서 튜플로 형변환\n",
    "tuple2 = tuple(list1)\n",
    "tuple2"
   ]
  }
 ],
 "metadata": {
  "kernelspec": {
   "display_name": "Python 3",
   "language": "python",
   "name": "python3"
  },
  "language_info": {
   "codemirror_mode": {
    "name": "ipython",
    "version": 3
   },
   "file_extension": ".py",
   "mimetype": "text/x-python",
   "name": "python",
   "nbconvert_exporter": "python",
   "pygments_lexer": "ipython3",
   "version": "3.8.8"
  },
  "toc-autonumbering": false,
  "toc-showcode": true,
  "toc-showmarkdowntxt": false
 },
 "nbformat": 4,
 "nbformat_minor": 5
}
