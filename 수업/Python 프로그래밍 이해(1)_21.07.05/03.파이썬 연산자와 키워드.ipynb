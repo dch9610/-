{
 "cells": [
  {
   "cell_type": "markdown",
   "id": "245d6753-85e9-4b66-8cd8-2570726940c9",
   "metadata": {},
   "source": [
    "# 03-1. 파이썬 연산자 "
   ]
  },
  {
   "cell_type": "markdown",
   "id": "cc51392f-279d-424c-9a5d-c0fdc8ff55ae",
   "metadata": {},
   "source": [
    "## 파이썬 들여쓰기\n",
    "- 들여쓰기는 함수 몸체, 조건문 루프, 클래스 등 다양한 코드 블록을 표현\n",
    "- 들여쓰기로 탭을 사용할 수 있지만 권장하지 않으며, 스페이스 4칸을 권장\n",
    "- 코드 블록의 시작은 콜론(:)\n",
    "- 들여쓰기를 기준으로 들여쓰기가 없는 곳이 코드 블록의 끝"
   ]
  },
  {
   "cell_type": "markdown",
   "id": "db6d1fcd-8112-49d5-b24f-13a2a2ffc0f2",
   "metadata": {},
   "source": [
    "## 파이썬 연산자"
   ]
  },
  {
   "cell_type": "code",
   "execution_count": 4,
   "id": "f0e27470-dd41-4d4c-9d16-dfd49e52a8d7",
   "metadata": {},
   "outputs": [
    {
     "data": {
      "text/plain": [
       "6"
      ]
     },
     "execution_count": 4,
     "metadata": {},
     "output_type": "execute_result"
    }
   ],
   "source": [
    "# 더하기\n",
    "4 + 2"
   ]
  },
  {
   "cell_type": "code",
   "execution_count": 5,
   "id": "149154b4-1d46-40f5-88d5-2ae39724de4f",
   "metadata": {},
   "outputs": [
    {
     "data": {
      "text/plain": [
       "2"
      ]
     },
     "execution_count": 5,
     "metadata": {},
     "output_type": "execute_result"
    }
   ],
   "source": [
    "# 빼기 \n",
    "4 -2"
   ]
  },
  {
   "cell_type": "code",
   "execution_count": 6,
   "id": "07d488f3-7e1e-4d97-b8c9-5982662a9e3d",
   "metadata": {},
   "outputs": [
    {
     "data": {
      "text/plain": [
       "8"
      ]
     },
     "execution_count": 6,
     "metadata": {},
     "output_type": "execute_result"
    }
   ],
   "source": [
    "# 곱하기 \n",
    "4 * 2"
   ]
  },
  {
   "cell_type": "code",
   "execution_count": 7,
   "id": "12ca10c5-51ec-469c-85b7-5975cbe116ac",
   "metadata": {},
   "outputs": [
    {
     "data": {
      "text/plain": [
       "2.0"
      ]
     },
     "execution_count": 7,
     "metadata": {},
     "output_type": "execute_result"
    }
   ],
   "source": [
    "# 나누기\n",
    "4 / 2"
   ]
  },
  {
   "cell_type": "code",
   "execution_count": 8,
   "id": "8d18a30d-c992-4711-b89c-9d841fe7ea74",
   "metadata": {},
   "outputs": [
    {
     "data": {
      "text/plain": [
       "16"
      ]
     },
     "execution_count": 8,
     "metadata": {},
     "output_type": "execute_result"
    }
   ],
   "source": [
    "# 제곱\n",
    "4 ** 2"
   ]
  },
  {
   "cell_type": "code",
   "execution_count": 9,
   "id": "6b642b58-69a4-4da5-8256-c4c8dcc44d9a",
   "metadata": {},
   "outputs": [
    {
     "data": {
      "text/plain": [
       "1"
      ]
     },
     "execution_count": 9,
     "metadata": {},
     "output_type": "execute_result"
    }
   ],
   "source": [
    "# 정수몫\n",
    "4 // 3"
   ]
  },
  {
   "cell_type": "code",
   "execution_count": 10,
   "id": "6d28cfdd-dc22-4884-ae23-b5f0e1568869",
   "metadata": {},
   "outputs": [
    {
     "data": {
      "text/plain": [
       "1"
      ]
     },
     "execution_count": 10,
     "metadata": {},
     "output_type": "execute_result"
    }
   ],
   "source": [
    "# 나머지 \n",
    "4 % 3"
   ]
  },
  {
   "cell_type": "markdown",
   "id": "65bc29ab-50f8-41db-9f0b-b1e47105a91b",
   "metadata": {},
   "source": [
    "---"
   ]
  },
  {
   "cell_type": "markdown",
   "id": "ee079675-a894-405f-9957-720d46ad9547",
   "metadata": {},
   "source": [
    "## 파이썬 주석문\n",
    "- ctrl + /\n",
    "- '#' 사용"
   ]
  },
  {
   "cell_type": "code",
   "execution_count": 13,
   "id": "96da7dd2-5e71-4549-a444-298099ca4152",
   "metadata": {},
   "outputs": [
    {
     "name": "stdout",
     "output_type": "stream",
     "text": [
      "1\n"
     ]
    }
   ],
   "source": [
    "'''\n",
    "파이썬\n",
    "블럭\n",
    "주석문\n",
    "'''\n",
    "\n",
    "print(1)"
   ]
  },
  {
   "cell_type": "markdown",
   "id": "199879dd-f443-4794-ba6f-15726807ce9f",
   "metadata": {},
   "source": [
    "---"
   ]
  },
  {
   "cell_type": "markdown",
   "id": "0551d0d9-ae1d-4eaf-9874-60d1d4a1ca34",
   "metadata": {},
   "source": [
    "## 들여쓰기"
   ]
  },
  {
   "cell_type": "code",
   "execution_count": 15,
   "id": "57986cac-6726-49ae-b43d-0ce848b4aee4",
   "metadata": {},
   "outputs": [
    {
     "name": "stdout",
     "output_type": "stream",
     "text": [
      "true\n"
     ]
    }
   ],
   "source": [
    "a = True\n",
    "if a:\n",
    "    print('true')\n",
    "else:\n",
    "    print('false')"
   ]
  },
  {
   "cell_type": "markdown",
   "id": "0799103d-79cc-4415-899c-3743d24e09b8",
   "metadata": {},
   "source": [
    "### Java\n",
    "<pre>\n",
    "boolean a = True;\n",
    "if(a){\n",
    "    System.out.printIn(\"True\");\n",
    "    System.out.printIn(\"True end..\");\n",
    "}\n",
    "else{\n",
    "    System.out.printIn(\"False\")\n",
    "}\n",
    "</pre>"
   ]
  },
  {
   "cell_type": "markdown",
   "id": "8174534c-0a82-431e-9ac9-304a05e5d314",
   "metadata": {},
   "source": [
    "---"
   ]
  },
  {
   "cell_type": "markdown",
   "id": "3a0b261d-1e75-4b22-9170-06db976adc08",
   "metadata": {},
   "source": [
    "# 03-2 파이썬키워드"
   ]
  },
  {
   "cell_type": "markdown",
   "id": "52cbe150-fe0e-444b-a457-4fa3c50deee5",
   "metadata": {},
   "source": [
    "## 파이썬 키워드(예약어)\n",
    "- 파이썬 문법에서 이미 예약어로 사용하고 있기 때문에 개발자가 변수명, 함수명 등 식별자로 사용 불가\n",
    "- 예약어는 진한 녹색으로 표시됨"
   ]
  },
  {
   "cell_type": "markdown",
   "id": "1dea5a53-b799-458e-901b-634396d10ff6",
   "metadata": {},
   "source": [
    "---"
   ]
  },
  {
   "cell_type": "markdown",
   "id": "4681e839-bf8f-4810-b59d-88cd3efd5130",
   "metadata": {},
   "source": [
    "## 03-3 파이썬 내장함수\n",
    "- 파이썬에서 기본적으로 제공되는 함수\n",
    "- 내장함수는 흐린 녹색으로 펴시"
   ]
  },
  {
   "cell_type": "code",
   "execution_count": 42,
   "id": "8495cc4b-42c0-4515-8a40-cf0f1a0c387d",
   "metadata": {},
   "outputs": [
    {
     "name": "stdout",
     "output_type": "stream",
     "text": [
      "a,bc "
     ]
    }
   ],
   "source": [
    "# sep로 구분하여 출력\n",
    "# end는 마지막에 출력할 기호 지정0\n",
    "print('a','bc',sep=',', end=' ')"
   ]
  },
  {
   "cell_type": "code",
   "execution_count": 22,
   "id": "cc492de2-8b43-49a8-aaf8-93b5f19b6b25",
   "metadata": {},
   "outputs": [
    {
     "data": {
      "text/plain": [
       "'Hello worldPython'"
      ]
     },
     "execution_count": 22,
     "metadata": {},
     "output_type": "execute_result"
    }
   ],
   "source": [
    "# jupyrter lab에서는 cel 변수명만 입력해도 출력 가능\n",
    "Hello = 'Hello worldPython'\n",
    "Hello"
   ]
  },
  {
   "cell_type": "markdown",
   "id": "d0e586f7-1259-4212-a785-c654c1144600",
   "metadata": {},
   "source": [
    "### round 함수\n",
    "- 소수점 이하 자리값에 대한 반올림 함수"
   ]
  },
  {
   "cell_type": "code",
   "execution_count": 23,
   "id": "6f23fc56-30e8-4523-9153-1ad5f34be6d6",
   "metadata": {},
   "outputs": [
    {
     "data": {
      "text/plain": [
       "3.14"
      ]
     },
     "execution_count": 23,
     "metadata": {},
     "output_type": "execute_result"
    }
   ],
   "source": [
    "round(3.1432523,2)"
   ]
  },
  {
   "cell_type": "markdown",
   "id": "80fb8c80-625e-4f3d-b5b2-bd65091ab8ec",
   "metadata": {},
   "source": [
    "### 기타 내장함수"
   ]
  },
  {
   "cell_type": "code",
   "execution_count": 24,
   "id": "d568a6ab-558e-4d95-b421-e24ed18fc801",
   "metadata": {},
   "outputs": [
    {
     "data": {
      "text/plain": [
       "1000"
      ]
     },
     "execution_count": 24,
     "metadata": {},
     "output_type": "execute_result"
    }
   ],
   "source": [
    "# 최대값\n",
    "max(100, 1000,20)"
   ]
  },
  {
   "cell_type": "code",
   "execution_count": 25,
   "id": "eecd54bd-1135-4e92-a1d5-3632c0f49884",
   "metadata": {},
   "outputs": [
    {
     "data": {
      "text/plain": [
       "20"
      ]
     },
     "execution_count": 25,
     "metadata": {},
     "output_type": "execute_result"
    }
   ],
   "source": [
    "# 최소값\n",
    "min(100, 1000, 20)"
   ]
  },
  {
   "cell_type": "code",
   "execution_count": 26,
   "id": "bb86d948-de25-45e5-a50a-3230fd7b2d8b",
   "metadata": {},
   "outputs": [
    {
     "data": {
      "text/plain": [
       "16"
      ]
     },
     "execution_count": 26,
     "metadata": {},
     "output_type": "execute_result"
    }
   ],
   "source": [
    "# 제곱하는 함수\n",
    "pow(2,4)"
   ]
  },
  {
   "cell_type": "code",
   "execution_count": 27,
   "id": "f70bcd6f-698a-466a-876f-58a94cce921c",
   "metadata": {},
   "outputs": [
    {
     "data": {
      "text/plain": [
       "8"
      ]
     },
     "execution_count": 27,
     "metadata": {},
     "output_type": "execute_result"
    }
   ],
   "source": [
    "# 문자열 길이 파악 (공백포함)\n",
    "len(\"Hello Wo\")"
   ]
  },
  {
   "cell_type": "markdown",
   "id": "25eb6904-738e-4d14-8372-1ea4fc032245",
   "metadata": {},
   "source": [
    "### input 함수"
   ]
  },
  {
   "cell_type": "code",
   "execution_count": 32,
   "id": "e81fc7de-aa14-4f3b-a376-04c9d924effd",
   "metadata": {},
   "outputs": [
    {
     "name": "stdin",
     "output_type": "stream",
     "text": [
      "사용 가능 프로그래밍 언어를 입력하세요:  python, C\n"
     ]
    },
    {
     "name": "stdout",
     "output_type": "stream",
     "text": [
      "사용가능한 프로그래밍 언어는 :  python, C\n"
     ]
    }
   ],
   "source": [
    "a = input('사용 가능 프로그래밍 언어를 입력하세요: ')\n",
    "print('사용가능한 프로그래밍 언어는 : ',a)"
   ]
  },
  {
   "cell_type": "markdown",
   "id": "dec42439-29be-4ea9-b718-2c18601b8af0",
   "metadata": {},
   "source": [
    "---"
   ]
  },
  {
   "cell_type": "code",
   "execution_count": 41,
   "id": "775c4503-7684-42f2-98ac-b9bad09c3398",
   "metadata": {},
   "outputs": [
    {
     "data": {
      "text/plain": [
       "'a'"
      ]
     },
     "execution_count": 41,
     "metadata": {},
     "output_type": "execute_result"
    }
   ],
   "source": [
    "# zip 각 위치에 있는 값을 하나씩 묶어서 생성\n",
    "list(zip('abc','123','456'))[0][0]"
   ]
  },
  {
   "cell_type": "code",
   "execution_count": 38,
   "id": "b061e790-6afb-43dc-803b-ab9bdc3739e9",
   "metadata": {},
   "outputs": [
    {
     "data": {
      "text/plain": [
       "{('a', '1', '4'), ('b', '2', '5'), ('c', '3', '6')}"
      ]
     },
     "execution_count": 38,
     "metadata": {},
     "output_type": "execute_result"
    }
   ],
   "source": [
    "set(zip('abc','123','456'))"
   ]
  }
 ],
 "metadata": {
  "kernelspec": {
   "display_name": "Python 3",
   "language": "python",
   "name": "python3"
  },
  "language_info": {
   "codemirror_mode": {
    "name": "ipython",
    "version": 3
   },
   "file_extension": ".py",
   "mimetype": "text/x-python",
   "name": "python",
   "nbconvert_exporter": "python",
   "pygments_lexer": "ipython3",
   "version": "3.8.8"
  }
 },
 "nbformat": 4,
 "nbformat_minor": 5
}
