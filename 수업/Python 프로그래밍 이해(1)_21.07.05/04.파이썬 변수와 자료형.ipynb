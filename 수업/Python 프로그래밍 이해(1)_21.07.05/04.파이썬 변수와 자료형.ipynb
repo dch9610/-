{
 "cells": [
  {
   "cell_type": "markdown",
   "id": "345eca47-5bf2-4501-b131-c3ac69b04215",
   "metadata": {},
   "source": [
    "## 04-1 파이썬 변수\n",
    "- 데이터(숫자, 문자 등)를 저장하기 위한 메모리 영역에 대한 명명\n",
    "- 첫글자는 숫자로 시작불가 (_와 영문, 한글 등으로 시작가능)\n",
    "- 공백이나 특수문자, 문장 분호는 변수명으로 사용불가\n",
    "- 대소문자 구별"
   ]
  },
  {
   "cell_type": "markdown",
   "id": "1f199292-cab8-4eaa-8f61-1030297716e5",
   "metadata": {},
   "source": [
    "### 파이썬 변수와 연산\n",
    "- 여러 변수 동시 할당\n",
    "    - a = b = 10 \n",
    "- 여러 변수 값 교환 (swap)\n",
    "    - a,b = b,a로 간단하게 표현가능"
   ]
  },
  {
   "cell_type": "markdown",
   "id": "19d37a50-bd08-4f75-805e-f8e03f3ea06a",
   "metadata": {},
   "source": [
    "## 실습"
   ]
  },
  {
   "cell_type": "code",
   "execution_count": 15,
   "id": "bc129b3e-95ad-48d9-8193-4a0e3515938d",
   "metadata": {},
   "outputs": [
    {
     "name": "stdout",
     "output_type": "stream",
     "text": [
      "0\n"
     ]
    }
   ],
   "source": [
    "num = 0\n",
    "print(num)"
   ]
  },
  {
   "cell_type": "code",
   "execution_count": 16,
   "id": "c5ac6874-9ac0-4f45-92f1-bab403d1425f",
   "metadata": {},
   "outputs": [
    {
     "name": "stdout",
     "output_type": "stream",
     "text": [
      "hello\n"
     ]
    }
   ],
   "source": [
    "헬로 = 'hello'\n",
    "print(헬로)"
   ]
  },
  {
   "cell_type": "code",
   "execution_count": 17,
   "id": "5614ac72-4216-4ff2-b9f7-85fca2a26ba8",
   "metadata": {},
   "outputs": [
    {
     "name": "stdout",
     "output_type": "stream",
     "text": [
      "3\n"
     ]
    }
   ],
   "source": [
    "_3 = 3\n",
    "print(_3)"
   ]
  },
  {
   "cell_type": "code",
   "execution_count": 18,
   "id": "0fc58c9d-a4f4-473f-9375-92ede85d21fe",
   "metadata": {},
   "outputs": [
    {
     "ename": "SyntaxError",
     "evalue": "invalid syntax (<ipython-input-18-b70061b7014c>, line 2)",
     "output_type": "error",
     "traceback": [
      "\u001b[1;36m  File \u001b[1;32m\"<ipython-input-18-b70061b7014c>\"\u001b[1;36m, line \u001b[1;32m2\u001b[0m\n\u001b[1;33m    3hello = 4\u001b[0m\n\u001b[1;37m     ^\u001b[0m\n\u001b[1;31mSyntaxError\u001b[0m\u001b[1;31m:\u001b[0m invalid syntax\n"
     ]
    }
   ],
   "source": [
    "# 변수명 앞에 숫자가 오면 에러\n",
    "3hello = 4\n",
    "print(3hello)"
   ]
  },
  {
   "cell_type": "code",
   "execution_count": 19,
   "id": "d95949b4-a339-41a0-a9c0-9d511e1108c9",
   "metadata": {},
   "outputs": [
    {
     "name": "stdout",
     "output_type": "stream",
     "text": [
      "10 5\n",
      "sum: 15\n"
     ]
    }
   ],
   "source": [
    "num1 = 10 \n",
    "num2 = 5\n",
    "print(num1, num2)\n",
    "print('sum:',num1 + num2)"
   ]
  },
  {
   "cell_type": "code",
   "execution_count": 20,
   "id": "127b72ac-cf28-4b12-b100-515b546bf2d0",
   "metadata": {},
   "outputs": [
    {
     "name": "stdout",
     "output_type": "stream",
     "text": [
      "10 10\n"
     ]
    }
   ],
   "source": [
    "# 여러변수 동시 할당\n",
    "a = b = 10\n",
    "print(a,b)"
   ]
  },
  {
   "cell_type": "code",
   "execution_count": 21,
   "id": "ec8d6149-27b6-4b8e-a022-260747bbfbd3",
   "metadata": {},
   "outputs": [
    {
     "name": "stdout",
     "output_type": "stream",
     "text": [
      "10 5\n",
      "5 10\n",
      "10 5\n"
     ]
    }
   ],
   "source": [
    "a = 10; b = 5\n",
    "print(a,b)\n",
    "\n",
    "# swap\n",
    "temp = a; a = b; b = temp;\n",
    "print(a,b)\n",
    "\n",
    "a,b = b,a\n",
    "print(a,b)"
   ]
  },
  {
   "cell_type": "markdown",
   "id": "ee71da59-966e-4289-998f-7b792688e29e",
   "metadata": {},
   "source": [
    "---"
   ]
  },
  {
   "cell_type": "markdown",
   "id": "815a21af-8209-4364-852c-745285a08c43",
   "metadata": {},
   "source": [
    "## 04-2 파이썬 자료형\n",
    "- 숫자자료형 : int, float, complex\n",
    "- 불리언 자료형 : bool(True, False)\n",
    "- 컬렉터 자료형 : str, list, tuple, dict, set"
   ]
  },
  {
   "cell_type": "code",
   "execution_count": 22,
   "id": "208d494e-2a0f-48c9-a572-6d050ca88121",
   "metadata": {},
   "outputs": [
    {
     "name": "stdout",
     "output_type": "stream",
     "text": [
      "1700000.0\n"
     ]
    }
   ],
   "source": [
    "# 지수표현\n",
    "amount = 17e5 # 17x10의 5승\n",
    "print(amount)"
   ]
  },
  {
   "cell_type": "markdown",
   "id": "bef81368-c1f6-447a-8b97-614d4ccc975a",
   "metadata": {},
   "source": [
    "### 파이썬 집합 자료형\n",
    "- 튜플 : (..)\n",
    "- set :  {..}\n",
    "- 딕셔너리 : key - value 형태로 저장"
   ]
  },
  {
   "cell_type": "markdown",
   "id": "9bd0cb36-b2ef-4548-955a-a4100b189c08",
   "metadata": {},
   "source": [
    "## 실습"
   ]
  },
  {
   "cell_type": "code",
   "execution_count": 23,
   "id": "272c6807-600a-4d0b-aead-792d015d19fa",
   "metadata": {},
   "outputs": [
    {
     "name": "stdout",
     "output_type": "stream",
     "text": [
      "1000\n",
      "<class 'int'>\n"
     ]
    }
   ],
   "source": [
    "price = 1000\n",
    "print(price)\n",
    "print(type(price))"
   ]
  },
  {
   "cell_type": "code",
   "execution_count": 24,
   "id": "dceee065-3949-4a97-a9f0-c489aa016339",
   "metadata": {},
   "outputs": [
    {
     "name": "stdout",
     "output_type": "stream",
     "text": [
      "1000.5\n",
      "<class 'float'>\n"
     ]
    }
   ],
   "source": [
    "price = 1000.5\n",
    "print(price)\n",
    "print(type(price))"
   ]
  },
  {
   "cell_type": "code",
   "execution_count": 25,
   "id": "b91b0d3d-37a8-4e4c-a2c9-86055768af73",
   "metadata": {},
   "outputs": [
    {
     "name": "stdout",
     "output_type": "stream",
     "text": [
      "1500000.0\n",
      "<class 'float'>\n"
     ]
    }
   ],
   "source": [
    "amount = 15e5\n",
    "print(amount)\n",
    "print(type(amount))"
   ]
  },
  {
   "cell_type": "code",
   "execution_count": 27,
   "id": "49daa139-67cd-4e8c-a207-b446ce7674a4",
   "metadata": {},
   "outputs": [
    {
     "name": "stdout",
     "output_type": "stream",
     "text": [
      "True False\n",
      "<class 'bool'>\n"
     ]
    }
   ],
   "source": [
    "a = True; b=False\n",
    "print(a,b)\n",
    "print(type(a))"
   ]
  },
  {
   "cell_type": "code",
   "execution_count": 28,
   "id": "e8ec7b3c-9222-4251-b376-65fc988ed619",
   "metadata": {},
   "outputs": [
    {
     "name": "stdout",
     "output_type": "stream",
     "text": [
      "Hello\n",
      "<class 'str'>\n"
     ]
    }
   ],
   "source": [
    "a = 'Hello'\n",
    "print(a)\n",
    "print(type(a))"
   ]
  },
  {
   "cell_type": "code",
   "execution_count": 29,
   "id": "512cc2a7-95a1-4621-812b-f39c48d96bff",
   "metadata": {},
   "outputs": [
    {
     "name": "stdout",
     "output_type": "stream",
     "text": [
      "[1, 2, 3, 4, 5]\n",
      "<class 'list'>\n"
     ]
    }
   ],
   "source": [
    "list = [1,2,3,4,5]\n",
    "print(list)\n",
    "print(type(list))"
   ]
  },
  {
   "cell_type": "code",
   "execution_count": 30,
   "id": "49a72066-dfc1-4249-a709-7113205ffe60",
   "metadata": {},
   "outputs": [
    {
     "name": "stdout",
     "output_type": "stream",
     "text": [
      "(1, 2, 3, 4, 5)\n",
      "<class 'tuple'>\n"
     ]
    }
   ],
   "source": [
    "tuple = (1,2,3,4,5)\n",
    "print(tuple)\n",
    "print(type(tuple))"
   ]
  },
  {
   "cell_type": "code",
   "execution_count": 31,
   "id": "577cc2c6-ea3f-4a68-8ec4-d2780960ef15",
   "metadata": {},
   "outputs": [
    {
     "name": "stdout",
     "output_type": "stream",
     "text": [
      "{1, 2, 3, 4, 5}\n",
      "<class 'set'>\n"
     ]
    }
   ],
   "source": [
    "set = {1,2,3,4,5}\n",
    "print(set)\n",
    "print(type(set))"
   ]
  },
  {
   "cell_type": "code",
   "execution_count": 33,
   "id": "cfe58a61-8d7f-472a-8a3d-c85382dea09c",
   "metadata": {},
   "outputs": [
    {
     "name": "stdout",
     "output_type": "stream",
     "text": [
      "{'a': 1, 'b': 2, 'c': 3}\n",
      "<class 'dict'>\n"
     ]
    }
   ],
   "source": [
    "dic = {'a':1, 'b':2, 'c':3}\n",
    "print(dic)\n",
    "print(type(dic))"
   ]
  },
  {
   "cell_type": "markdown",
   "id": "a4eed3cf-dcfa-4fe3-a724-53b8ff7d2ff8",
   "metadata": {},
   "source": [
    "---"
   ]
  },
  {
   "cell_type": "markdown",
   "id": "f69f2721-3180-4c31-bb53-d1c5af6306f1",
   "metadata": {},
   "source": [
    "## 04-3 파이썬 형변환\n",
    "- 묵시적 형변환 : 연산을 수행하여 형변환\n",
    "- 명시적 형변환 : 개발자가 직접 코드를 작성하여 형변환"
   ]
  },
  {
   "cell_type": "markdown",
   "id": "97c3ed0f-e39b-4e2f-a4cf-a09e95adc6f3",
   "metadata": {},
   "source": [
    "### 실습"
   ]
  },
  {
   "cell_type": "code",
   "execution_count": 36,
   "id": "1247ebdd-d079-4c7d-86a8-6ce2f1e541fb",
   "metadata": {},
   "outputs": [
    {
     "name": "stdout",
     "output_type": "stream",
     "text": [
      "10000\n",
      "<class 'int'>\n",
      "--------------------\n",
      "500.0\n",
      "<class 'float'>\n"
     ]
    }
   ],
   "source": [
    "# 묵시적 형변환\n",
    "price = 10000\n",
    "print(price)\n",
    "print(type(price))\n",
    "print('-'*20)\n",
    "price = 10000 * 0.05\n",
    "print(price)\n",
    "print(type(price))"
   ]
  },
  {
   "cell_type": "code",
   "execution_count": 37,
   "id": "6e65f16d-0834-431c-b956-b44d5fe35f6f",
   "metadata": {},
   "outputs": [
    {
     "name": "stdout",
     "output_type": "stream",
     "text": [
      "11\n",
      "<class 'int'>\n",
      "--------------------\n",
      "2.75\n",
      "<class 'float'>\n"
     ]
    }
   ],
   "source": [
    "price2 = 11\n",
    "print(price2)\n",
    "print(type(price2))\n",
    "print('-'*20)\n",
    "price2 = 11 / 4\n",
    "print(price2)\n",
    "print(type(price2))"
   ]
  },
  {
   "cell_type": "code",
   "execution_count": 38,
   "id": "20c1667f-c69f-4cec-83aa-7fadd63a0e15",
   "metadata": {},
   "outputs": [
    {
     "name": "stdout",
     "output_type": "stream",
     "text": [
      "3.14\n",
      "<class 'float'>\n",
      "--------------------\n",
      "3\n",
      "<class 'int'>\n"
     ]
    }
   ],
   "source": [
    "# 명시적 형변환\n",
    "f1 = 3.14\n",
    "print(f1)\n",
    "print(type(f1))\n",
    "print('-'*20)\n",
    "i1 = int(f1)\n",
    "print(i1)\n",
    "print(type(i1))"
   ]
  },
  {
   "cell_type": "code",
   "execution_count": 39,
   "id": "6a13b18d-8f55-4b5e-b755-728c1efa19e8",
   "metadata": {},
   "outputs": [
    {
     "name": "stdout",
     "output_type": "stream",
     "text": [
      "12345\n",
      "<class 'str'>\n",
      "--------------------\n",
      "12345\n",
      "<class 'int'>\n"
     ]
    }
   ],
   "source": [
    "s1 ='12345'\n",
    "print(s1)\n",
    "print(type(s1))\n",
    "print('-'*20)\n",
    "i1 = int(s1)\n",
    "print(i1)\n",
    "print(type(i1))"
   ]
  },
  {
   "cell_type": "code",
   "execution_count": 40,
   "id": "ad58acea-f5c7-4d3b-b5ed-1d2914018e94",
   "metadata": {},
   "outputs": [
    {
     "name": "stdout",
     "output_type": "stream",
     "text": [
      "12345a\n",
      "<class 'str'>\n",
      "--------------------\n"
     ]
    },
    {
     "ename": "ValueError",
     "evalue": "invalid literal for int() with base 10: '12345a'",
     "output_type": "error",
     "traceback": [
      "\u001b[1;31m---------------------------------------------------------------------------\u001b[0m",
      "\u001b[1;31mValueError\u001b[0m                                Traceback (most recent call last)",
      "\u001b[1;32m<ipython-input-40-e660c9ffe334>\u001b[0m in \u001b[0;36m<module>\u001b[1;34m\u001b[0m\n\u001b[0;32m      3\u001b[0m \u001b[0mprint\u001b[0m\u001b[1;33m(\u001b[0m\u001b[0mtype\u001b[0m\u001b[1;33m(\u001b[0m\u001b[0ms2\u001b[0m\u001b[1;33m)\u001b[0m\u001b[1;33m)\u001b[0m\u001b[1;33m\u001b[0m\u001b[1;33m\u001b[0m\u001b[0m\n\u001b[0;32m      4\u001b[0m \u001b[0mprint\u001b[0m\u001b[1;33m(\u001b[0m\u001b[1;34m'-'\u001b[0m\u001b[1;33m*\u001b[0m\u001b[1;36m20\u001b[0m\u001b[1;33m)\u001b[0m\u001b[1;33m\u001b[0m\u001b[1;33m\u001b[0m\u001b[0m\n\u001b[1;32m----> 5\u001b[1;33m \u001b[0mi2\u001b[0m \u001b[1;33m=\u001b[0m \u001b[0mint\u001b[0m\u001b[1;33m(\u001b[0m\u001b[0ms2\u001b[0m\u001b[1;33m)\u001b[0m\u001b[1;33m\u001b[0m\u001b[1;33m\u001b[0m\u001b[0m\n\u001b[0m\u001b[0;32m      6\u001b[0m \u001b[0mprint\u001b[0m\u001b[1;33m(\u001b[0m\u001b[0mi2\u001b[0m\u001b[1;33m)\u001b[0m\u001b[1;33m\u001b[0m\u001b[1;33m\u001b[0m\u001b[0m\n\u001b[0;32m      7\u001b[0m \u001b[0mprint\u001b[0m\u001b[1;33m(\u001b[0m\u001b[0mtype\u001b[0m\u001b[1;33m(\u001b[0m\u001b[0mi2\u001b[0m\u001b[1;33m)\u001b[0m\u001b[1;33m)\u001b[0m\u001b[1;33m\u001b[0m\u001b[1;33m\u001b[0m\u001b[0m\n",
      "\u001b[1;31mValueError\u001b[0m: invalid literal for int() with base 10: '12345a'"
     ]
    }
   ],
   "source": [
    "# 에러 발생 : int() 형변환은 숫자형만 가능, 공백은 예외로 처리\n",
    "s2 ='12345a'\n",
    "print(s2)\n",
    "print(type(s2))\n",
    "print('-'*20)\n",
    "i2 = int(s2)\n",
    "print(i2)\n",
    "print(type(i2))"
   ]
  },
  {
   "cell_type": "code",
   "execution_count": 41,
   "id": "a1f2e249-0a70-4a52-b18e-0f290b04fd60",
   "metadata": {},
   "outputs": [
    {
     "name": "stdout",
     "output_type": "stream",
     "text": [
      "100\n",
      "<class 'int'>\n",
      "--------------------\n",
      "100.0\n",
      "<class 'float'>\n"
     ]
    }
   ],
   "source": [
    "i1 = 100\n",
    "print(i1)\n",
    "print(type(i1))\n",
    "print('-'*20)\n",
    "f1 = float(i1)\n",
    "print(f1)\n",
    "print(type(f1))"
   ]
  },
  {
   "cell_type": "code",
   "execution_count": 42,
   "id": "5f47cc58-3c1f-42b5-9700-5b8a381336c5",
   "metadata": {},
   "outputs": [
    {
     "name": "stdout",
     "output_type": "stream",
     "text": [
      "3.14\n",
      "<class 'str'>\n",
      "--------------------\n",
      "3.14\n",
      "<class 'float'>\n"
     ]
    }
   ],
   "source": [
    "s1 = '3.14'\n",
    "print(s1)\n",
    "print(type(s1))\n",
    "print('-'*20)\n",
    "f1 = float(s1)\n",
    "print(f1)\n",
    "print(type(f1))"
   ]
  },
  {
   "cell_type": "code",
   "execution_count": null,
   "id": "eeeab460-83d6-414b-b71e-f1a5a076bdb3",
   "metadata": {},
   "outputs": [],
   "source": []
  }
 ],
 "metadata": {
  "kernelspec": {
   "display_name": "Python 3",
   "language": "python",
   "name": "python3"
  },
  "language_info": {
   "codemirror_mode": {
    "name": "ipython",
    "version": 3
   },
   "file_extension": ".py",
   "mimetype": "text/x-python",
   "name": "python",
   "nbconvert_exporter": "python",
   "pygments_lexer": "ipython3",
   "version": "3.8.8"
  }
 },
 "nbformat": 4,
 "nbformat_minor": 5
}
