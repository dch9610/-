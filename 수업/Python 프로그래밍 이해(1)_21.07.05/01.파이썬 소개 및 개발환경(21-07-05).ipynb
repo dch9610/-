{
 "cells": [
  {
   "cell_type": "markdown",
   "id": "110559a2",
   "metadata": {},
   "source": [
    "# 01.파이썬 소개 및 개발환경"
   ]
  },
  {
   "cell_type": "markdown",
   "id": "686e8378",
   "metadata": {},
   "source": [
    "## 파이썬 특징\n",
    "1. 플랫폼 독립적\n",
    "2. 메모리 관리등이 불필요한 고수준 언어\n",
    "3. 멀티 패러다임 언어(절차형, 객체지향, 함수형 언어)\n",
    "4. 인터프리터 언어\n",
    "5. 동적 타이핑(런타임 시점에서 자료형 검사) 언어\n",
    "6. 유니코드를 지원하여 한글변수 사용가능"
   ]
  },
  {
   "cell_type": "markdown",
   "id": "e5a88bce",
   "metadata": {},
   "source": [
    "# 02. 파이썬 개발도구"
   ]
  },
  {
   "cell_type": "markdown",
   "id": "de1535c5",
   "metadata": {},
   "source": [
    "## 파이썬 개발도구 사용\n",
    "- 편집모드 : 입력셀 활성화 및 커서 깜빡임, 코드입력 및 마크다운 입력가능\n",
    "- 명령모드 : 입력셀 비활성화"
   ]
  }
 ],
 "metadata": {
  "kernelspec": {
   "display_name": "Python 3",
   "language": "python",
   "name": "python3"
  },
  "language_info": {
   "codemirror_mode": {
    "name": "ipython",
    "version": 3
   },
   "file_extension": ".py",
   "mimetype": "text/x-python",
   "name": "python",
   "nbconvert_exporter": "python",
   "pygments_lexer": "ipython3",
   "version": "3.8.8"
  }
 },
 "nbformat": 4,
 "nbformat_minor": 5
}
