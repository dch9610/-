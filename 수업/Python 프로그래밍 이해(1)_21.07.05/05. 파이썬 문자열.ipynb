{
 "cells": [
  {
   "cell_type": "markdown",
   "id": "9d867909-4c93-4134-9ede-cc7bf398bd37",
   "metadata": {},
   "source": [
    "## 05-1 파이썬 문자열\n",
    "- 문자열 인덱스 : 0부터 시작, 역인덱스는 끝이 -1\n",
    "- 슬라이싱 : 특정 범위내에 있는 문자열을 추출\n",
    "    - a[시작인덱스:종료인덱스:step]\n",
    "    - 역정렬을 빠르게 적용가능"
   ]
  },
  {
   "cell_type": "markdown",
   "id": "ac8732c6-1249-4f78-b73c-6f5dbd175727",
   "metadata": {},
   "source": [
    "### 실습"
   ]
  },
  {
   "cell_type": "code",
   "execution_count": 1,
   "id": "d3707af0-1f80-4276-88ad-4c3983bb1b9f",
   "metadata": {},
   "outputs": [
    {
     "name": "stdout",
     "output_type": "stream",
     "text": [
      "파이썬\n",
      "문자열\n"
     ]
    }
   ],
   "source": [
    "a = '파이썬'\n",
    "print(a)\n",
    "b = '문자열'\n",
    "print(b)"
   ]
  },
  {
   "cell_type": "code",
   "execution_count": 2,
   "id": "5cd9df08-ae44-4491-8a0f-013e1f79251e",
   "metadata": {},
   "outputs": [
    {
     "name": "stdout",
     "output_type": "stream",
     "text": [
      "\n",
      "빅데이터 청년인턴\n",
      "1일차 수업\n",
      "\n"
     ]
    }
   ],
   "source": [
    "c = '''\n",
    "빅데이터 청년인턴\n",
    "1일차 수업\n",
    "'''\n",
    "print(c)"
   ]
  },
  {
   "cell_type": "code",
   "execution_count": 6,
   "id": "2ddd8029-f5b9-4679-a47f-c3eaf66be0e7",
   "metadata": {},
   "outputs": [
    {
     "name": "stdout",
     "output_type": "stream",
     "text": [
      "파이썬3\n",
      "********************\n"
     ]
    }
   ],
   "source": [
    "# '파이썬' + 3 에러\n",
    "d = '파이썬'+ str(3)\n",
    "print(d)\n",
    "print('*'*20)"
   ]
  },
  {
   "cell_type": "code",
   "execution_count": 7,
   "id": "3882f43e-087f-4209-b549-24bea897a430",
   "metadata": {},
   "outputs": [
    {
     "name": "stdout",
     "output_type": "stream",
     "text": [
      "H\n",
      "e\n",
      "l\n",
      "l\n",
      "o\n",
      " \n",
      "W\n",
      "o\n",
      "r\n",
      "l\n",
      "d\n",
      "!\n"
     ]
    }
   ],
   "source": [
    "a = \"Hello World!\"\n",
    "for i in range(len(a)):\n",
    "    print(a[i])\n",
    "    "
   ]
  },
  {
   "cell_type": "code",
   "execution_count": 11,
   "id": "b2bea946-bf76-4b34-8780-ef3a55ba54eb",
   "metadata": {},
   "outputs": [
    {
     "data": {
      "text/plain": [
       "'Hello'"
      ]
     },
     "execution_count": 11,
     "metadata": {},
     "output_type": "execute_result"
    }
   ],
   "source": [
    "a[:5]"
   ]
  },
  {
   "cell_type": "code",
   "execution_count": 10,
   "id": "0d241e37-0b6c-4527-81fa-7dfc9d18eaa0",
   "metadata": {},
   "outputs": [
    {
     "data": {
      "text/plain": [
       "'lo'"
      ]
     },
     "execution_count": 10,
     "metadata": {},
     "output_type": "execute_result"
    }
   ],
   "source": [
    "a[3:5]"
   ]
  },
  {
   "cell_type": "code",
   "execution_count": 12,
   "id": "9219faf3-55ae-4833-93da-9b13db42b21c",
   "metadata": {},
   "outputs": [
    {
     "data": {
      "text/plain": [
       "'Hlo'"
      ]
     },
     "execution_count": 12,
     "metadata": {},
     "output_type": "execute_result"
    }
   ],
   "source": [
    "# 0의 위치에서 5 인덱스까지 2단계씩 출력\n",
    "a[:5:2]"
   ]
  },
  {
   "cell_type": "code",
   "execution_count": 8,
   "id": "bba3bc90-923b-425d-9d9a-72599c603bde",
   "metadata": {},
   "outputs": [
    {
     "data": {
      "text/plain": [
       "'!'"
      ]
     },
     "execution_count": 8,
     "metadata": {},
     "output_type": "execute_result"
    }
   ],
   "source": [
    "# 역인덱스\n",
    "a[-1]"
   ]
  },
  {
   "cell_type": "code",
   "execution_count": 9,
   "id": "7c497c1f-a60b-4768-a682-800c4f836e31",
   "metadata": {},
   "outputs": [
    {
     "data": {
      "text/plain": [
       "'!dlroW olleH'"
      ]
     },
     "execution_count": 9,
     "metadata": {},
     "output_type": "execute_result"
    }
   ],
   "source": [
    "# 역정렬\n",
    "a[::-1]"
   ]
  },
  {
   "cell_type": "code",
   "execution_count": 13,
   "id": "f5b3302a-ed53-4ee6-85a4-664668cca7d3",
   "metadata": {},
   "outputs": [
    {
     "data": {
      "text/plain": [
       "'!lo le'"
      ]
     },
     "execution_count": 13,
     "metadata": {},
     "output_type": "execute_result"
    }
   ],
   "source": [
    "a[::-2]"
   ]
  },
  {
   "cell_type": "markdown",
   "id": "ce2267d3-07aa-4d44-a41d-c18b72c52fe2",
   "metadata": {},
   "source": [
    "---"
   ]
  },
  {
   "cell_type": "markdown",
   "id": "442984ab-d57b-4ef1-a654-290317dd8b67",
   "metadata": {},
   "source": [
    "## 05-2 파이썬 문자열 함수\n",
    "- len() 함수 : 문자열의 길이 계산 함수\n",
    "\n",
    "- join() 함수 : 지정된 문자로 문자열을 연결\n",
    "    - '-'.join(\"Hello\")\n",
    "    \n",
    "- split() 함수 : 지정된 문자기준으로 분할하여 리스트로 반환\n",
    "    - 인자가 없으면 공백을 기준으로 분할\n",
    "    - 'Hello-World\".split('-')\n",
    "    \n",
    "- strip() 함수 : 지정된 문자를 문자열로부터 제거\n",
    "    - .strip(제거하고 싶은 문자)\n",
    "    \n",
    "- replace() 함수 : 문자열내 특정 문자를 다른 문자로 대체\n",
    "    - .replace(문자열내 특정문자, 대체할 문자)\n",
    "    \n",
    "- startsWith(), endsWith() 함수 특정문자열로 시작/ 종료 여부 검사\n",
    "\n",
    "- count() 함수 : 문자열 내 지정된 문자의 갯수\n",
    "    - .count(문자)\n",
    "- index() / find() 함수 : 문자열 내 지정된 문자/문자열 위치 인덱스\n",
    "    - .index(문자, 문자인덱스) : 문자인덱스 이후로 찾고자 하는 문자의 인덱스를 출력\n",
    "    - 없을 경우 -1을 출력\n",
    "    \n",
    "- capitalize() / lower() / upper() 함수\n",
    "    - 문자열 첫글자만 대문자 : capitalize\n",
    "    - 문자열 전체 소문자 : lower\n",
    "    - 문자열 전체 대문자 : upper"
   ]
  },
  {
   "cell_type": "markdown",
   "id": "6bdce643-29ff-49d9-a507-805d9e7f035f",
   "metadata": {},
   "source": [
    "### 문자열 in 연산자\n",
    "- 문자열 내 특정 문자열이 포함 여부를 bool 자료형으로 반환\n",
    "    - A in B : A 문자열이 B 문자열 내 포함 여부"
   ]
  },
  {
   "cell_type": "markdown",
   "id": "f67639f4-0316-42f8-b90f-3de7b4014b96",
   "metadata": {},
   "source": [
    "### 실습"
   ]
  },
  {
   "cell_type": "code",
   "execution_count": 14,
   "id": "75118b7e-b9b2-4259-a9f4-aed2e2a5ac18",
   "metadata": {},
   "outputs": [
    {
     "data": {
      "text/plain": [
       "16"
      ]
     },
     "execution_count": 14,
     "metadata": {},
     "output_type": "execute_result"
    }
   ],
   "source": [
    "a = \"HelloworldPython\"\n",
    "len(a)"
   ]
  },
  {
   "cell_type": "code",
   "execution_count": 15,
   "id": "6f85eaf4-cad1-4174-9b29-ef9ff4ab0b9b",
   "metadata": {},
   "outputs": [
    {
     "data": {
      "text/plain": [
       "'H-e-l-l-o-w-o-r-l-d-P-y-t-h-o-n'"
      ]
     },
     "execution_count": 15,
     "metadata": {},
     "output_type": "execute_result"
    }
   ],
   "source": [
    "'-'.join(a)"
   ]
  },
  {
   "cell_type": "code",
   "execution_count": 16,
   "id": "4855d6d2-945f-4f9d-a459-07ef0064ecbe",
   "metadata": {},
   "outputs": [
    {
     "data": {
      "text/plain": [
       "'1,2,3,4,5'"
      ]
     },
     "execution_count": 16,
     "metadata": {},
     "output_type": "execute_result"
    }
   ],
   "source": [
    "','.join('12345')"
   ]
  },
  {
   "cell_type": "code",
   "execution_count": 17,
   "id": "cf0194a4-7fd9-4cc7-a956-ab310c3537d5",
   "metadata": {},
   "outputs": [
    {
     "data": {
      "text/plain": [
       "['Hello', 'World', 'Python']"
      ]
     },
     "execution_count": 17,
     "metadata": {},
     "output_type": "execute_result"
    }
   ],
   "source": [
    "'Hello-World-Python'.split('-')"
   ]
  },
  {
   "cell_type": "code",
   "execution_count": 18,
   "id": "fba3e013-2ac7-4228-95de-0a6067e24330",
   "metadata": {},
   "outputs": [
    {
     "data": {
      "text/plain": [
       "['서울시', '마포구', '상암동']"
      ]
     },
     "execution_count": 18,
     "metadata": {},
     "output_type": "execute_result"
    }
   ],
   "source": [
    "'서울시 마포구 상암동'.split()"
   ]
  },
  {
   "cell_type": "code",
   "execution_count": 20,
   "id": "467a190a-e46c-4ded-a2f8-05a6e96196a9",
   "metadata": {},
   "outputs": [
    {
     "data": {
      "text/plain": [
       "'문자열 정리'"
      ]
     },
     "execution_count": 20,
     "metadata": {},
     "output_type": "execute_result"
    }
   ],
   "source": [
    "text = '\\t 문자열 정리 \\n'\n",
    "text.strip()"
   ]
  },
  {
   "cell_type": "code",
   "execution_count": 21,
   "id": "97180356-1405-43ce-9794-e2442fe09797",
   "metadata": {},
   "outputs": [
    {
     "data": {
      "text/plain": [
       "'21-07-05'"
      ]
     },
     "execution_count": 21,
     "metadata": {},
     "output_type": "execute_result"
    }
   ],
   "source": [
    "birth_day = '21/07/05'\n",
    "birth_day.replace('/','-')"
   ]
  },
  {
   "cell_type": "code",
   "execution_count": 22,
   "id": "645d7b41-f405-4530-8539-d98e3e70bdef",
   "metadata": {},
   "outputs": [],
   "source": [
    "b = 'Hello World Python'"
   ]
  },
  {
   "cell_type": "code",
   "execution_count": 26,
   "id": "ae32b583-8d7b-4139-9595-56a2053c8a2d",
   "metadata": {},
   "outputs": [
    {
     "name": "stdout",
     "output_type": "stream",
     "text": [
      "True\n",
      "False\n",
      "True\n"
     ]
    }
   ],
   "source": [
    "print(b.startswith('Hello'))\n",
    "print(b.startswith('hello'))\n",
    "print(b.endswith('Python'))"
   ]
  },
  {
   "cell_type": "code",
   "execution_count": 31,
   "id": "69111233-8ed9-440a-bc9e-c16a17ae7f85",
   "metadata": {},
   "outputs": [
    {
     "name": "stdout",
     "output_type": "stream",
     "text": [
      "3\n",
      "1\n"
     ]
    }
   ],
   "source": [
    "print(b.count('o'))\n",
    "print(b.count('Python'))"
   ]
  },
  {
   "cell_type": "code",
   "execution_count": 33,
   "id": "b89449ca-1142-433c-88f4-9bef0524700b",
   "metadata": {},
   "outputs": [
    {
     "name": "stdout",
     "output_type": "stream",
     "text": [
      "4\n",
      "7\n"
     ]
    }
   ],
   "source": [
    "print(b.index('o'))\n",
    "print(b.index('o', 5)) # 인덱스 번호 5이상에서 'o' 인덱스 위치를 출력"
   ]
  },
  {
   "cell_type": "code",
   "execution_count": 38,
   "id": "8065363e-7c21-4d5f-9d95-6fed5520a8d7",
   "metadata": {},
   "outputs": [
    {
     "name": "stdout",
     "output_type": "stream",
     "text": [
      "12\n",
      "12\n"
     ]
    }
   ],
   "source": [
    "print(b.find('Python')) # 문자열의 시작 인덱스 값을 추출\n",
    "print(b.find('P'))"
   ]
  },
  {
   "cell_type": "code",
   "execution_count": 35,
   "id": "67cfa624-20e3-4485-9fcf-d79d8564aabb",
   "metadata": {},
   "outputs": [
    {
     "name": "stdout",
     "output_type": "stream",
     "text": [
      "Hello world python\n",
      "hello world python\n",
      "HELLO WORLD PYTHON\n"
     ]
    }
   ],
   "source": [
    "print(b.capitalize())\n",
    "print(b.lower())\n",
    "print(b.upper())"
   ]
  },
  {
   "cell_type": "code",
   "execution_count": 36,
   "id": "bb0e0e92-8ad3-4a14-b469-b19b77e35442",
   "metadata": {},
   "outputs": [
    {
     "data": {
      "text/plain": [
       "True"
      ]
     },
     "execution_count": 36,
     "metadata": {},
     "output_type": "execute_result"
    }
   ],
   "source": [
    "'Python' in b"
   ]
  },
  {
   "cell_type": "code",
   "execution_count": 37,
   "id": "8244ff7b-32cc-41bc-9d4e-ecd171406f9d",
   "metadata": {},
   "outputs": [
    {
     "data": {
      "text/plain": [
       "False"
      ]
     },
     "execution_count": 37,
     "metadata": {},
     "output_type": "execute_result"
    }
   ],
   "source": [
    "'JAVA' in b"
   ]
  },
  {
   "cell_type": "markdown",
   "id": "d68b6f94-01b7-40ab-9c4e-9d3ad3a0a522",
   "metadata": {},
   "source": [
    "---"
   ]
  },
  {
   "cell_type": "markdown",
   "id": "9949c076-4d72-4726-8c57-59988f71901b",
   "metadata": {},
   "source": [
    "## 05-3 파이썬 문자열 포맷팅\n",
    "- 문자열을 가공처리하고자 할때 포맷팅을 사용\n",
    "    - f\"{변수1},{변수2},{변수3}\"의 방식을 사용 "
   ]
  },
  {
   "cell_type": "markdown",
   "id": "efd3e73e-0db1-49a1-8824-35518cee96f2",
   "metadata": {},
   "source": [
    "### 실습"
   ]
  },
  {
   "cell_type": "code",
   "execution_count": 52,
   "id": "4422f2be-0036-4dfb-9cf6-5bf215f758cc",
   "metadata": {},
   "outputs": [
    {
     "name": "stdout",
     "output_type": "stream",
     "text": [
      "이름은 홍길동이고, 나이는 25, num은 10입니다\n",
      "이름은 홍길동이고, 나이는 25, num은 10입니다\n"
     ]
    }
   ],
   "source": [
    "name, age, num = '홍길동', 25, 10\n",
    "\n",
    "print(\"이름은 {}이고, 나이는 {}, num은 {}입니다\".format(name, age, num))\n",
    "print(f'이름은 {name}이고, 나이는 {age:02d}, num은 {num}입니다')"
   ]
  },
  {
   "cell_type": "code",
   "execution_count": 53,
   "id": "1bf06b06-9ad8-459e-ab6b-84f547cf3e45",
   "metadata": {},
   "outputs": [
    {
     "name": "stdout",
     "output_type": "stream",
     "text": [
      "한 해의 시작은 01 월이다\n",
      "한 해의 끝은 12 월이다\n"
     ]
    }
   ],
   "source": [
    "jan, dec = 1,12\n",
    "\n",
    "# {:02d} : 2자리로 출력\n",
    "print(f\"한 해의 시작은 {jan:02d} 월이다\")\n",
    "print(\"한 해의 끝은 {:02d} 월이다\".format(dec))"
   ]
  },
  {
   "cell_type": "code",
   "execution_count": 56,
   "id": "5553f066-b651-4c7a-a351-b52cec4a7ac5",
   "metadata": {},
   "outputs": [
    {
     "data": {
      "text/plain": [
       "'123,456,789'"
      ]
     },
     "execution_count": 56,
     "metadata": {},
     "output_type": "execute_result"
    }
   ],
   "source": [
    "# 금액과 관련된 포맷팅 \n",
    "val = 123456789\n",
    "money = \"{:,}\"\n",
    "money.format(val)"
   ]
  },
  {
   "cell_type": "code",
   "execution_count": 47,
   "id": "5d2abeea-ef11-49a1-8eee-4a3ffd55c41f",
   "metadata": {},
   "outputs": [
    {
     "data": {
      "text/plain": [
       "'3, 3.000000, 3.0, 3.14, 33.33%'"
      ]
     },
     "execution_count": 47,
     "metadata": {},
     "output_type": "execute_result"
    }
   ],
   "source": [
    "\"{}, {:f}, {:.1f}, {:.2f}, {:.2%}\".format(3,3,3,3.1415,1/3)"
   ]
  },
  {
   "cell_type": "code",
   "execution_count": null,
   "id": "2fef8f96-d2a5-4ef0-90f3-335791aea3c0",
   "metadata": {},
   "outputs": [],
   "source": []
  }
 ],
 "metadata": {
  "kernelspec": {
   "display_name": "Python 3",
   "language": "python",
   "name": "python3"
  },
  "language_info": {
   "codemirror_mode": {
    "name": "ipython",
    "version": 3
   },
   "file_extension": ".py",
   "mimetype": "text/x-python",
   "name": "python",
   "nbconvert_exporter": "python",
   "pygments_lexer": "ipython3",
   "version": "3.8.8"
  }
 },
 "nbformat": 4,
 "nbformat_minor": 5
}
