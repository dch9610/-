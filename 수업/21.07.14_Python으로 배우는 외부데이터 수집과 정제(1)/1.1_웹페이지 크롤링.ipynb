{
 "cells": [
  {
   "cell_type": "markdown",
   "id": "da7d5deb-9d3e-4ca0-801e-1e769257d9f2",
   "metadata": {},
   "source": [
    "# 1.1 웹페이지 크롤링\n",
    "---"
   ]
  },
  {
   "cell_type": "markdown",
   "id": "a1939ae1-ce1e-49d4-b37f-e325ed0c4797",
   "metadata": {},
   "source": [
    "- 웹페이지 추출시 HTTP 헤더와 HTML의 meta 태그를 기반으로 인코딩 방식을 판별 필요\n",
    "- 표준 라이브러리 urlib.request 모듈을 사용하여 웹페이지 추출\n",
    "- urlib.request에 포함돼 있는 urlopen() 함수에 URL을 지정하면 웹페이지 추출가능\n",
    "- HTTP 헤더를 변경 불가, Basic 인증 사용을 위한 복잡한 처리 필요\n",
    "- HTTP 헤더 변경 및 Basic 인증을 위해 urlib 대신 Requests 모듈 사용 필요"
   ]
  },
  {
   "cell_type": "markdown",
   "id": "7d81219f-4c10-4850-b979-b284102989e1",
   "metadata": {},
   "source": [
    "#### 2.4.1.1 urllib 실습"
   ]
  },
  {
   "cell_type": "code",
   "execution_count": 1,
   "id": "e6b53c3c-4ab7-4303-96da-4e89a69a1303",
   "metadata": {},
   "outputs": [],
   "source": [
    "from urllib.request import urlopen"
   ]
  },
  {
   "cell_type": "code",
   "execution_count": 2,
   "id": "e3be92db-7860-4115-9365-0ea6b12ce5df",
   "metadata": {},
   "outputs": [],
   "source": [
    "f = urlopen('http://hanbit.co.kr')"
   ]
  },
  {
   "cell_type": "code",
   "execution_count": 4,
   "id": "cfdfe786-e805-4e37-abad-f15d3eb6bbc9",
   "metadata": {},
   "outputs": [
    {
     "data": {
      "text/plain": [
       "http.client.HTTPResponse"
      ]
     },
     "execution_count": 4,
     "metadata": {},
     "output_type": "execute_result"
    }
   ],
   "source": [
    "# urlopen() 함수는 HTTPResponse 자료형의 객체를 반환\n",
    "# 파일 객체이므로 open() 함수로 반환되는 파일객체처럼 핸들링\n",
    "type(f)"
   ]
  },
  {
   "cell_type": "code",
   "execution_count": 9,
   "id": "09018b3b-f270-45d1-ac9a-542ec8622963",
   "metadata": {},
   "outputs": [],
   "source": [
    "# read() 메서드로 HTTP 응답 본문을 추출\n",
    "# HTTP 연결은 자동으로 close되므로 별도의 close 함수 X\n",
    "# f.read()"
   ]
  },
  {
   "cell_type": "code",
   "execution_count": 7,
   "id": "a593e714-47b4-41f6-9126-5cc087e279fe",
   "metadata": {},
   "outputs": [
    {
     "data": {
      "text/plain": [
       "200"
      ]
     },
     "execution_count": 7,
     "metadata": {},
     "output_type": "execute_result"
    }
   ],
   "source": [
    "f.status"
   ]
  },
  {
   "cell_type": "code",
   "execution_count": 8,
   "id": "209f50cc-a089-4e90-ac0d-558c7d4c644b",
   "metadata": {},
   "outputs": [
    {
     "data": {
      "text/plain": [
       "'text/html; charset=UTF-8'"
      ]
     },
     "execution_count": 8,
     "metadata": {},
     "output_type": "execute_result"
    }
   ],
   "source": [
    "f.getheader('Content-Type')"
   ]
  },
  {
   "cell_type": "markdown",
   "id": "fb1a5282-859d-4b0a-99af-7f2811c9cf49",
   "metadata": {},
   "source": [
    "- HTTPRespone.read() 메서드로 추출할 수 있는 HTTPResponse 본문은 bytes 자료형\n",
    "\n",
    "- 문자열로 다루려면 문자 코드를 지정해서 디코딩 필요\n",
    "- 최근에는 HTML5의 기본 인코딩 방식인 UTF-8 전제로 디코딩 가능\n",
    "- 한국어 사이트를 크롤링 시 여러가지 인코딩이 혼합되어 있을 수 있으므로 HTTP 헤더를 참조해서 적절한 인코딩 방식으로 디코딩 필요"
   ]
  },
  {
   "cell_type": "markdown",
   "id": "d6a3b6e4-6fc3-488c-a843-60f721c27863",
   "metadata": {},
   "source": [
    "---"
   ]
  },
  {
   "cell_type": "markdown",
   "id": "a6a967f6-3712-40b4-9a62-9c2ec8e5fb1d",
   "metadata": {},
   "source": [
    "## HTTP 헤더에서 인코딩 방식 추출"
   ]
  },
  {
   "cell_type": "markdown",
   "id": "d83ca5a5-bc64-4087-8661-304ac9d16d7a",
   "metadata": {},
   "source": [
    "- HTTP 응답의 Content-Type 헤더를 참조하면 해당 페이지의 인코딩 방식을 확인 가능\n",
    "\n",
    "- 한국어가 포함된 페이지의 일반적인 Content-Type 헤더\n",
    "    - text/html\n",
    "    - text/html; charset = UTF-8\n",
    "    - text/html; charset = EUC-KR\n",
    "    \n",
    "- UTF-8과 EUC-KR이 해당 페이지의 인코딩 방식\n",
    "- 인코딩이 명시돼 있지 않은 경우 UTF-8로 간주\n",
    "- HTTPMessage 객체의 get_content_charset() 메서드를 사용하여 인코딩 추출가능"
   ]
  },
  {
   "cell_type": "code",
   "execution_count": 10,
   "id": "0d7b7cd5-50ba-426b-917e-6ae45da06513",
   "metadata": {},
   "outputs": [],
   "source": [
    "import sys\n",
    "from urllib.request import urlopen"
   ]
  },
  {
   "cell_type": "code",
   "execution_count": 11,
   "id": "e17c305c-92dc-4920-bf2b-230c4bf21498",
   "metadata": {},
   "outputs": [],
   "source": [
    "f = urlopen('http://www.hanbit.co.kr/store/books/full_book_list.html')"
   ]
  },
  {
   "cell_type": "code",
   "execution_count": 12,
   "id": "3e1a0162-562a-43b9-838a-66f5f9520b2f",
   "metadata": {},
   "outputs": [],
   "source": [
    "# HTTP 헤더를 기반으로 인코딩 방식을 추출\n",
    "encoding = f.info(). get_content_charset(failobj=\"utf-8\")"
   ]
  },
  {
   "cell_type": "code",
   "execution_count": 13,
   "id": "5a02798f-ed69-49ff-b3e5-8aa14bf0232c",
   "metadata": {},
   "outputs": [
    {
     "name": "stdout",
     "output_type": "stream",
     "text": [
      "encoding: utf-8\n"
     ]
    }
   ],
   "source": [
    "# 인코딩 방식을 표준 오류에 출력\n",
    "print('encoding:', encoding)"
   ]
  },
  {
   "cell_type": "code",
   "execution_count": 14,
   "id": "bb467cf0-a3f2-4257-8991-9b46dc018e43",
   "metadata": {},
   "outputs": [],
   "source": [
    "# 추출한 인코딩 방식으로 디코딩\n",
    "text = f.read().decode(encoding)"
   ]
  },
  {
   "cell_type": "code",
   "execution_count": 16,
   "id": "dc252d64-4220-43ed-9635-b0d863fd3e25",
   "metadata": {},
   "outputs": [],
   "source": [
    "# 웹 페이지의 내용을 표준 출력에 출력\n",
    "# print(text)"
   ]
  },
  {
   "cell_type": "markdown",
   "id": "cd703f4f-e0b1-4dcf-af59-39bbb26a84f6",
   "metadata": {},
   "source": [
    "---"
   ]
  },
  {
   "cell_type": "markdown",
   "id": "40161419-9ed1-4550-9762-eb35b70f3c2f",
   "metadata": {},
   "source": [
    "## meta 태그에서 인코딩 방식 추출\n"
   ]
  },
  {
   "cell_type": "markdown",
   "id": "c22e9f92-1d2a-48f1-98e6-c52df9c939ec",
   "metadata": {},
   "source": [
    "- 웹 서버 설정에 따라 HTTP 헤덩의 Content-Type 인코딩과 실제 사용되고 있는 인코딩 형식 상이\n",
    "- 브라우저는 HTML 내부의 meta 태그 또는 응답 본분의 바이트열 확인을 통해 최종 인코딩 방식 결정 및 화면 출력\n",
    "- 디코딩 처리에서 UnicodeDecodeError 발생 시 이러한 방식으로 구현 가능\n",
    "- HTML meta에 명시되는 인코딩 형식\n",
    "    - \"<meta charset='utf-8'>\"\n",
    "    - \"<meta ... ; charset='EUC_KR\">\""
   ]
  },
  {
   "cell_type": "code",
   "execution_count": 28,
   "id": "41609220-12eb-4f06-ac69-7f72083651b3",
   "metadata": {},
   "outputs": [],
   "source": [
    "import re\n",
    "import sys\n",
    "from urllib.request import urlopen"
   ]
  },
  {
   "cell_type": "code",
   "execution_count": 29,
   "id": "6872f9c5-317b-439b-8b6a-e4f30d0d7cef",
   "metadata": {},
   "outputs": [],
   "source": [
    "f = urlopen('http://www.hanbit.co.kr/store/books/full_book_list.html')\n",
    "# bytes 자료형의 응답 본문을 일단 변수에 저장\n",
    "bytes_content=f.read()"
   ]
  },
  {
   "cell_type": "code",
   "execution_count": 30,
   "id": "2ee5f07a-9214-4e24-9bd6-804e7672d4be",
   "metadata": {},
   "outputs": [],
   "source": [
    "# charset은 HTML의 앞부분에 적혀 있는 경우가 많으므로\n",
    "# 응답 본문의 앞부분 1024바이트를 ASCII 문자로 디코딩해줍니다.\n",
    "scanned_text = bytes_content[:1024].decode('ascii', errors='replace')"
   ]
  },
  {
   "cell_type": "code",
   "execution_count": 33,
   "id": "c5c19032-993a-4edb-a960-0bcae1932cad",
   "metadata": {},
   "outputs": [],
   "source": [
    "# 디코딩한 문자열에서 정규 표현식으로 charset 값을 추출\n",
    "match = re.search(r'charset=[\"\\']?([\\w-]+)', scanned_text)"
   ]
  },
  {
   "cell_type": "code",
   "execution_count": 34,
   "id": "9a59d0a6-a3aa-4bac-8647-387586aedf7e",
   "metadata": {},
   "outputs": [
    {
     "data": {
      "text/plain": [
       "'utf-8'"
      ]
     },
     "execution_count": 34,
     "metadata": {},
     "output_type": "execute_result"
    }
   ],
   "source": [
    "match.group(1)"
   ]
  },
  {
   "cell_type": "code",
   "execution_count": 35,
   "id": "81903739-4c36-41c9-8048-9acd439de245",
   "metadata": {},
   "outputs": [],
   "source": [
    "if match:\n",
    "    encoding=match.group(1)\n",
    "else:\n",
    "    # charset이 명시돼 있지 않으면 UTF-8을 사용\n",
    "    encoding='utf-8'"
   ]
  },
  {
   "cell_type": "code",
   "execution_count": 36,
   "id": "bde081a8-7a78-452e-999a-3c915131ea89",
   "metadata": {},
   "outputs": [
    {
     "name": "stderr",
     "output_type": "stream",
     "text": [
      "encoding: utf-8\n"
     ]
    }
   ],
   "source": [
    "# 추출한 인코딩을 표준 오류에 출력\n",
    "print('encoding:',encoding,file=sys.stderr)"
   ]
  },
  {
   "cell_type": "code",
   "execution_count": 38,
   "id": "9f7a8daa-6e4e-4390-933c-a6868b9e954f",
   "metadata": {},
   "outputs": [],
   "source": [
    "# 추출한 인코딩으로 다시 디코딩\n",
    "text=bytes_content.decode(encoding)\n",
    "# 응답 본문을 표준 출력에 출려\n",
    "# print(text)"
   ]
  }
 ],
 "metadata": {
  "kernelspec": {
   "display_name": "Python 3",
   "language": "python",
   "name": "python3"
  },
  "language_info": {
   "codemirror_mode": {
    "name": "ipython",
    "version": 3
   },
   "file_extension": ".py",
   "mimetype": "text/x-python",
   "name": "python",
   "nbconvert_exporter": "python",
   "pygments_lexer": "ipython3",
   "version": "3.8.8"
  }
 },
 "nbformat": 4,
 "nbformat_minor": 5
}
