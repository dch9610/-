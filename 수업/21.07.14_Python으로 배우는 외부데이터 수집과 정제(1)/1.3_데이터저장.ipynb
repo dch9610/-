{
 "cells": [
  {
   "cell_type": "markdown",
   "id": "0a277cbf-f1bd-458a-9b91-e10463902286",
   "metadata": {},
   "source": [
    "# 1.3 데이터저장\n",
    "---"
   ]
  },
  {
   "cell_type": "markdown",
   "id": "637b7aa5-b770-4cea-8086-d4c047fe7f20",
   "metadata": {},
   "source": [
    "| 인코딩 방식 | encoding값 | 특징 |\n",
    "|---|:---:|---:|\n",
    "| UTF-8 | 'utf-8' | 유니코드 문자를 사용할 수 있지만 엑셀에서 문제 발생 |\n",
    "| EUC_KR | 'cp949' | 엑셀에서 문제없지만 사용할 수 있는 문자가 한정적 |\n"
   ]
  },
  {
   "cell_type": "markdown",
   "id": "5e045e4d-5eaa-4de1-87a3-97a79d81aca1",
   "metadata": {},
   "source": [
    "## CSV형식으로 저장"
   ]
  },
  {
   "cell_type": "markdown",
   "id": "0c8e5d86-4b22-41b0-9043-577dda06ddbb",
   "metadata": {},
   "source": [
    "- 하나의 레코드를 한 라인에 저장하는 텍스트 포맷 파일\n",
    "- 각 라인의 컬럼값은 쉼표 등의 구분자를 사용\n",
    "- 데이터 내에 쉼표 등의 구분자 사용하는 문자가 포함되어 있다면 파싱 시 문제 발생\n",
    "- 데이터 내에 쉼표 등의 문자가 포함되어 있는 경우 TSV형식 사용 필요"
   ]
  },
  {
   "cell_type": "markdown",
   "id": "2423d88b-ceab-4c61-9214-539fe3f064e8",
   "metadata": {},
   "source": [
    "### 2.6.1.1 save_csv 실습"
   ]
  },
  {
   "cell_type": "code",
   "execution_count": 1,
   "id": "cf36cd03-e9de-4ead-8261-4db7b6b501fa",
   "metadata": {},
   "outputs": [],
   "source": [
    "import csv"
   ]
  },
  {
   "cell_type": "code",
   "execution_count": 2,
   "id": "94f71dd5-430b-488b-bcad-b52cc59efa09",
   "metadata": {},
   "outputs": [],
   "source": [
    "# 파일을 엽니다. newline=''으로 줄바꿈 코드의 자동 변환을 제어합니다.\n",
    "with open('top_cities.csv', 'w', newline='', encoding='utf-8') as f:\n",
    "    # csv.writer는 파일 객체를 매개변수로 지정합니다.\n",
    "    writer = csv.writer(f)  \n",
    "    \n",
    "    # 첫 번째 줄에는 헤더를 작성\n",
    "    # 두번째 매개변수에 필드명 리스트를 지정\n",
    "    writer.writerow(['rank', 'city', 'population'])  \n",
    "    \n",
    "    # writerows()에 리스트를 전달하면 여러 개의 값을 출력합니다.\n",
    "    writer.writerows([\n",
    "        [1, '상하이', 24150000],\n",
    "        [2, '카라치', 23500000],\n",
    "        [3, '베이징', 21516000],\n",
    "        [4, '텐진', 14722100],\n",
    "        [5, '이스탄불', 14160467],\n",
    "    ])"
   ]
  },
  {
   "cell_type": "markdown",
   "id": "8ec58d18-7a53-4469-8ef0-32fec25a208c",
   "metadata": {},
   "source": [
    "### 2.6.1.2 save_csv_dict 실습"
   ]
  },
  {
   "cell_type": "code",
   "execution_count": 3,
   "id": "1f02625b-395f-44e9-8a43-9b2c6273551e",
   "metadata": {},
   "outputs": [],
   "source": [
    "import csv"
   ]
  },
  {
   "cell_type": "code",
   "execution_count": 5,
   "id": "b3f91f25-999c-4e3d-b952-30c97df83df5",
   "metadata": {},
   "outputs": [],
   "source": [
    "with open('top_cities_dict.csv', 'w', newline='', encoding='utf-8') as f:\n",
    "    # 첫 번째 매개변수에 파일 객체\n",
    "    # 두 번째 매개변수에 필드 이름 리스트를 지정합니다.\n",
    "    writer = csv.DictWriter(f, ['rank', 'city', 'population'])\n",
    "      # 첫 번째 줄에 헤더를 입력합니다.\n",
    "    writer.writeheader()\n",
    "    # writerows()로 여러 개의 데이터를 딕셔너리 형태로 작성합니다.\n",
    "    writer.writerows([\n",
    "        {'rank': 1, 'city': '상하이', 'population': 24150000},\n",
    "        {'rank': 2, 'city': '카라치', 'population': 23500000},\n",
    "        {'rank': 3, 'city': '베이징', 'population': 21516000},\n",
    "        {'rank': 4, 'city': '텐진', 'population': 14722100},\n",
    "        {'rank': 5, 'city': '이스탄불', 'population': 14160467},\n",
    "    ])"
   ]
  },
  {
   "cell_type": "markdown",
   "id": "2f5538fd-80f3-4943-a851-6f2ab9dc6308",
   "metadata": {},
   "source": [
    "### 2.6.1.3 encoding_check 실습"
   ]
  },
  {
   "cell_type": "code",
   "execution_count": 6,
   "id": "efcc10f5-7102-4ce3-b74a-2fed6a001c2c",
   "metadata": {},
   "outputs": [],
   "source": [
    "import chardet"
   ]
  },
  {
   "cell_type": "code",
   "execution_count": 7,
   "id": "854aa9a9-89e0-407a-a919-fba63a37f27e",
   "metadata": {},
   "outputs": [],
   "source": [
    "char_dic = chardet.detect(open('top_cities.csv','rb').read())"
   ]
  },
  {
   "cell_type": "code",
   "execution_count": 9,
   "id": "4b63e8c4-b549-482f-a929-34a09c080b27",
   "metadata": {},
   "outputs": [
    {
     "data": {
      "text/plain": [
       "{'encoding': 'utf-8', 'confidence': 0.99, 'language': ''}"
      ]
     },
     "execution_count": 9,
     "metadata": {},
     "output_type": "execute_result"
    }
   ],
   "source": [
    "char_dic"
   ]
  },
  {
   "cell_type": "code",
   "execution_count": 8,
   "id": "2f66e362-abf4-4976-a0cf-b11dd1e6aa12",
   "metadata": {},
   "outputs": [
    {
     "data": {
      "text/plain": [
       "'utf-8'"
      ]
     },
     "execution_count": 8,
     "metadata": {},
     "output_type": "execute_result"
    }
   ],
   "source": [
    "char_dic['encoding']"
   ]
  },
  {
   "cell_type": "markdown",
   "id": "0b3a87a4-9ad7-466d-bf45-7452ec240ae8",
   "metadata": {},
   "source": [
    "---"
   ]
  },
  {
   "cell_type": "markdown",
   "id": "a67c49c7-ac21-41be-af84-1703298d6e74",
   "metadata": {},
   "source": [
    "## JSON 형식으로 저장"
   ]
  },
  {
   "cell_type": "markdown",
   "id": "123caa79-c5aa-49cc-84bd-698722330c05",
   "metadata": {},
   "source": [
    "- Key-value 형식의 데이터 객체를 저장, 전달하기 위해 텍스트 형식의 개방형 표준 포맷\n",
    "- 데이터 타입\n",
    "    - 문자열\n",
    "    - 숫자\n",
    "    - 객체(JSON Object)\n",
    "    - 배열\n",
    "    - 불리언"
   ]
  },
  {
   "cell_type": "markdown",
   "id": "3ce97aed-08fe-4875-a9f6-91e3d882312d",
   "metadata": {},
   "source": [
    "### 2.6.2.1 save_json 실습"
   ]
  },
  {
   "cell_type": "code",
   "execution_count": 11,
   "id": "c5953991-b580-464b-a519-b8e71834fb96",
   "metadata": {},
   "outputs": [],
   "source": [
    "import json"
   ]
  },
  {
   "cell_type": "code",
   "execution_count": 15,
   "id": "64d4fadc-6aca-4031-bfa5-d9a9e7205a74",
   "metadata": {},
   "outputs": [],
   "source": [
    "# 데이터 입력\n",
    "# 리스트 형식에 dict 값을 입력\n",
    "cities = [ \n",
    "{'rank': 1, 'city':'상하이', 'population': 24150000},\n",
    "{'rank': 2, 'city':'카라치', 'population': 23500000},\n",
    "{'rank': 3, 'city':'베이징', 'population': 21516000},\n",
    "{'rank': 4, 'city':'텐진', 'population': 14722100}, \n",
    "{'rank': 5, 'city':'이스탄불', 'population':14160467},\n",
    "]"
   ]
  },
  {
   "cell_type": "code",
   "execution_count": 13,
   "id": "9cdc41e4-5c9e-47da-97ba-73ef0c54253b",
   "metadata": {},
   "outputs": [],
   "source": [
    "# 쓰기 모드\n",
    "# dump : 파일 시스템에 저장하기 위한 json 라이브러리 함수\n",
    "with open('top_cities.json', 'w') as fw:\n",
    "    json.dump(cities, fw)"
   ]
  },
  {
   "cell_type": "code",
   "execution_count": 14,
   "id": "2a90ca5a-d90e-4d5e-8f10-edb8575982f1",
   "metadata": {},
   "outputs": [
    {
     "name": "stdout",
     "output_type": "stream",
     "text": [
      "[{'rank': 1, 'city': '상하이', 'population': 24150000}, {'rank': 2, 'city': '카라치', 'population': 23500000}, {'rank': 3, 'city': '베이징', 'population': 21516000}, {'rank': 4, 'city': '텐진', 'population': 14722100}, {'rank': 5, 'city': '이스탄불', 'population': 14160467}]\n"
     ]
    }
   ],
   "source": [
    "# 읽기 모드\n",
    "with open('top_cities.json', 'r') as fr:\n",
    "    json_file = json.load(fr)\n",
    "    print(json_file)"
   ]
  },
  {
   "cell_type": "code",
   "execution_count": 21,
   "id": "aa00f059-b5a6-49ad-9e0d-ceed1e1c99fa",
   "metadata": {},
   "outputs": [
    {
     "data": {
      "text/plain": [
       "list"
      ]
     },
     "execution_count": 21,
     "metadata": {},
     "output_type": "execute_result"
    }
   ],
   "source": [
    "type(cities)"
   ]
  },
  {
   "cell_type": "code",
   "execution_count": 20,
   "id": "c326639a-bc3e-4b94-ad42-5639190e60de",
   "metadata": {},
   "outputs": [
    {
     "data": {
      "text/plain": [
       "'카라치'"
      ]
     },
     "execution_count": 20,
     "metadata": {},
     "output_type": "execute_result"
    }
   ],
   "source": [
    "cities[1]['city']"
   ]
  },
  {
   "cell_type": "markdown",
   "id": "a92d3964-e275-408a-aca3-2e5013582f77",
   "metadata": {},
   "source": [
    "---"
   ]
  },
  {
   "cell_type": "markdown",
   "id": "5428d835-8731-4dee-b329-a273927a87f5",
   "metadata": {},
   "source": [
    "## SQLite3 DBMS로 저장"
   ]
  },
  {
   "cell_type": "markdown",
   "id": "bebf54ec-4fe1-4395-8070-00c505699f00",
   "metadata": {},
   "source": [
    "- 파일시스템 기반의 경량 관계형 DBMS\n",
    "- 경량 관계형 DBMS로 스마트폰 등의 embededed 환경에서 널리 사용\n",
    "- 대용량 데이터 및 트랜잭션 처리 부적합\n",
    "- 교육 목적, 경량 데이터 및 트랜잭션 처리"
   ]
  },
  {
   "cell_type": "markdown",
   "id": "15031e3f-a1f9-47f7-94d0-a08d1d3630d4",
   "metadata": {},
   "source": [
    "https://pandas.pydata.org/docs/reference/api/pandas.DataFrame.to_sql.html"
   ]
  },
  {
   "cell_type": "markdown",
   "id": "2735aa3e-6d03-4623-bca8-5729e3a51d0a",
   "metadata": {},
   "source": [
    "### 2.6.3.1 save_sqlite3 실습"
   ]
  },
  {
   "cell_type": "code",
   "execution_count": 22,
   "id": "500f6fe9-1f9c-4fe2-a1a5-4bd6a0477248",
   "metadata": {},
   "outputs": [],
   "source": [
    "import pandas as pd\n",
    "import sqlite3\n",
    "from pandas.io import sql\n",
    "import os"
   ]
  },
  {
   "cell_type": "code",
   "execution_count": 23,
   "id": "929e167a-aaa2-4870-a30d-91924be6d8b9",
   "metadata": {},
   "outputs": [],
   "source": [
    "DB_NAME = 'top_cities.db'\n",
    "TABLE_NAME = 'TOP_CITIES'"
   ]
  },
  {
   "cell_type": "code",
   "execution_count": 24,
   "id": "8f9bbd4d-469c-499c-9a58-6ce659cbd965",
   "metadata": {},
   "outputs": [],
   "source": [
    "# db에 저장\n",
    "def db_save(df, db_name, table_name):\n",
    "    with sqlite3.connect(db_name) as con:\n",
    "        try:\n",
    "            # to_sql(name = 테이블 이름, con = 객체에 대한 레거시 제공,index=DateFrame 인덱스를 열로 쓸것인지,\n",
    "            #        if_exists='fail, replace,append')\n",
    "            df.to_sql(name=table_name, con = con, index=False, if_exists='append')\n",
    "            # if_exists : {'fail', 'replace','append'} default : fail\n",
    "                # fail : ValueError를 발생\n",
    "                # replace : 새 값을 삽입하기 전에 테이블 삭제\n",
    "                # append : 기존 테이블에 새 값을 삽입\n",
    "        \n",
    "        except Exception as e:\n",
    "            print(str(e))\n",
    "        print(len(df),'건 저장완료..')"
   ]
  },
  {
   "cell_type": "code",
   "execution_count": 25,
   "id": "4ece896f-4d4e-4218-9a00-3bba0e214c8a",
   "metadata": {},
   "outputs": [],
   "source": [
    "# db 출력\n",
    "def db_select(db_name, table_name):\n",
    "    with sqlite3.connect(db_name) as con:\n",
    "        try:\n",
    "            query = \"SELECT * FROM {}\".format(table_name)\n",
    "            df = pd.read_sql(query, con = con)\n",
    "        except Exception as e:\n",
    "            print(str(e))\n",
    "        return df"
   ]
  },
  {
   "cell_type": "code",
   "execution_count": 26,
   "id": "28f304b8-3dbf-46ab-bc55-277f3c9f9553",
   "metadata": {},
   "outputs": [],
   "source": [
    "# db 삭제\n",
    "def db_delete(db_name, table_name):\n",
    "    with sqlite3.connect(db_name) as con:\n",
    "        try:\n",
    "            cur = con.cursor()\n",
    "            sql = 'DELETE FROM {}'.format(table_name)\n",
    "            cur.execute(sql)\n",
    "        except Exception as e:\n",
    "            print(str(e))"
   ]
  },
  {
   "cell_type": "code",
   "execution_count": 27,
   "id": "0571b4d6-8d04-4299-8465-67b7cc7e85db",
   "metadata": {},
   "outputs": [
    {
     "name": "stdout",
     "output_type": "stream",
     "text": [
      "5 건 저장완료..\n"
     ]
    }
   ],
   "source": [
    "top_cites = pd.read_csv('top_cities.csv')\n",
    "db_save(top_cites, DB_NAME, TABLE_NAME)"
   ]
  },
  {
   "cell_type": "code",
   "execution_count": 28,
   "id": "fa5cafce-cd4a-4ae3-9322-77482736ee21",
   "metadata": {},
   "outputs": [
    {
     "data": {
      "text/html": [
       "<div>\n",
       "<style scoped>\n",
       "    .dataframe tbody tr th:only-of-type {\n",
       "        vertical-align: middle;\n",
       "    }\n",
       "\n",
       "    .dataframe tbody tr th {\n",
       "        vertical-align: top;\n",
       "    }\n",
       "\n",
       "    .dataframe thead th {\n",
       "        text-align: right;\n",
       "    }\n",
       "</style>\n",
       "<table border=\"1\" class=\"dataframe\">\n",
       "  <thead>\n",
       "    <tr style=\"text-align: right;\">\n",
       "      <th></th>\n",
       "      <th>rank</th>\n",
       "      <th>city</th>\n",
       "      <th>population</th>\n",
       "    </tr>\n",
       "  </thead>\n",
       "  <tbody>\n",
       "    <tr>\n",
       "      <th>0</th>\n",
       "      <td>1</td>\n",
       "      <td>상하이</td>\n",
       "      <td>24150000</td>\n",
       "    </tr>\n",
       "    <tr>\n",
       "      <th>1</th>\n",
       "      <td>2</td>\n",
       "      <td>카라치</td>\n",
       "      <td>23500000</td>\n",
       "    </tr>\n",
       "    <tr>\n",
       "      <th>2</th>\n",
       "      <td>3</td>\n",
       "      <td>베이징</td>\n",
       "      <td>21516000</td>\n",
       "    </tr>\n",
       "    <tr>\n",
       "      <th>3</th>\n",
       "      <td>4</td>\n",
       "      <td>텐진</td>\n",
       "      <td>14722100</td>\n",
       "    </tr>\n",
       "    <tr>\n",
       "      <th>4</th>\n",
       "      <td>5</td>\n",
       "      <td>이스탄불</td>\n",
       "      <td>14160467</td>\n",
       "    </tr>\n",
       "  </tbody>\n",
       "</table>\n",
       "</div>"
      ],
      "text/plain": [
       "   rank  city  population\n",
       "0     1   상하이    24150000\n",
       "1     2   카라치    23500000\n",
       "2     3   베이징    21516000\n",
       "3     4    텐진    14722100\n",
       "4     5  이스탄불    14160467"
      ]
     },
     "execution_count": 28,
     "metadata": {},
     "output_type": "execute_result"
    }
   ],
   "source": [
    "df = db_select(DB_NAME, TABLE_NAME)\n",
    "df"
   ]
  }
 ],
 "metadata": {
  "kernelspec": {
   "display_name": "Python 3",
   "language": "python",
   "name": "python3"
  },
  "language_info": {
   "codemirror_mode": {
    "name": "ipython",
    "version": 3
   },
   "file_extension": ".py",
   "mimetype": "text/x-python",
   "name": "python",
   "nbconvert_exporter": "python",
   "pygments_lexer": "ipython3",
   "version": "3.8.8"
  }
 },
 "nbformat": 4,
 "nbformat_minor": 5
}
