{
 "cells": [
  {
   "cell_type": "markdown",
   "metadata": {},
   "source": [
    "# 1.1 기본 웹 크롤러\n",
    "---"
   ]
  },
  {
   "cell_type": "markdown",
   "metadata": {},
   "source": [
    "- Request로 웹 페이지를 추출하고, lxml로 웹페이지 스크래핑 및 sqlite3 DB에 데이터를 저장\n",
    "- 전형적인 목록/상세 패턴을 가진 웹사이트를 기반으로 도서 정보 추출 크롤러 제작"
   ]
  },
  {
   "cell_type": "markdown",
   "metadata": {},
   "source": [
    "- requests는 기본적으로 웹페이지를 가져오는 목적으로 사용되고, \n",
    "- lxml은 가져온 html 코드를 가지고 parsing하는 데에 사용 (기본적으로 구조를 분석하여 우리가 뽑아내기 쉽게 변환)"
   ]
  },
  {
   "cell_type": "markdown",
   "metadata": {},
   "source": [
    "#### 3.7.1.1 python_crawler_1 실습\n",
    "- 목록 페이지에서 상세 페이지로의 링크 목록을 추출"
   ]
  },
  {
   "cell_type": "code",
   "execution_count": 8,
   "metadata": {},
   "outputs": [],
   "source": [
    "import requests\n",
    "import lxml.html"
   ]
  },
  {
   "cell_type": "code",
   "execution_count": 21,
   "metadata": {},
   "outputs": [],
   "source": [
    "response = requests.get('http://www.hanbit.co.kr/store/books/new_book_list.html')\n",
    "root = lxml.html.fromstring(response.content) # html의 문서에 해당하는 부분"
   ]
  },
  {
   "cell_type": "code",
   "execution_count": 22,
   "metadata": {},
   "outputs": [
    {
     "data": {
      "text/plain": [
       "<Element html at 0x7fbe6f837b80>"
      ]
     },
     "execution_count": 22,
     "metadata": {},
     "output_type": "execute_result"
    }
   ],
   "source": [
    "root"
   ]
  },
  {
   "cell_type": "code",
   "execution_count": 23,
   "metadata": {},
   "outputs": [
    {
     "name": "stdout",
     "output_type": "stream",
     "text": [
      "/store/books/look.php?p_code=B7623190015\n",
      "/store/books/look.php?p_code=B7623190015\n",
      "/store/books/look.php?p_code=B4300598719\n",
      "javascript:;\n",
      "/store/books/look.php?p_code=B4300598719\n",
      "/store/books/look.php?p_code=B9108907099\n",
      "/store/books/look.php?p_code=B9108907099\n",
      "/store/books/look.php?p_code=B7015117381\n",
      "javascript:;\n",
      "/store/books/look.php?p_code=B7015117381\n",
      "/store/books/look.php?p_code=B7448632539\n",
      "javascript:;\n",
      "/store/books/look.php?p_code=B7448632539\n",
      "/store/books/look.php?p_code=B3148701816\n",
      "/store/books/look.php?p_code=B3148701816\n",
      "/store/books/look.php?p_code=B2591303726\n",
      "/store/books/look.php?p_code=B2591303726\n",
      "/store/books/look.php?p_code=B9602652686\n",
      "javascript:;\n",
      "/store/books/look.php?p_code=B9602652686\n",
      "/store/books/look.php?p_code=B7468885216\n",
      "javascript:;\n",
      "/store/books/look.php?p_code=B7468885216\n",
      "/store/books/look.php?p_code=B1108557246\n",
      "/store/books/look.php?p_code=B1108557246\n",
      "/store/books/look.php?p_code=B9354330938\n",
      "javascript:;\n",
      "/store/books/look.php?p_code=B9354330938\n",
      "/store/books/look.php?p_code=B3006151946\n",
      "/store/books/look.php?p_code=B3006151946\n",
      "/store/books/look.php?p_code=B2388883228\n",
      "/store/books/look.php?p_code=B2388883228\n",
      "/store/books/look.php?p_code=B4766499846\n",
      "/store/books/look.php?p_code=B4766499846\n",
      "/store/books/look.php?p_code=B1904486238\n",
      "/store/books/look.php?p_code=B1904486238\n",
      "/store/books/look.php?p_code=B9380943452\n",
      "javascript:;\n",
      "/store/books/look.php?p_code=B9380943452\n",
      "/store/books/look.php?p_code=B6918140228\n",
      "javascript:;\n",
      "/store/books/look.php?p_code=B6918140228\n",
      "/store/books/look.php?p_code=B3573121629\n",
      "javascript:;\n",
      "/store/books/look.php?p_code=B3573121629\n",
      "/store/books/look.php?p_code=B7132069963\n",
      "/store/books/look.php?p_code=B7132069963\n",
      "/store/books/look.php?p_code=B8742050283\n",
      "/store/books/look.php?p_code=B8742050283\n"
     ]
    }
   ],
   "source": [
    "# .view_box a 해당 css를 가져옴\n",
    "# a.get('href') : a href 부분을 추출\n",
    "for a in root.cssselect('.view_box a'):\n",
    "    url = a.get('href')\n",
    "    print(url)"
   ]
  },
  {
   "cell_type": "markdown",
   "metadata": {},
   "source": [
    "#### 3.7.1.2 python_crawler_2 실습\n",
    "- 'javascript'로 시작하는 목록 제거 필요\n",
    "- 상대 URL을 절대 URL로 변환 필요"
   ]
  },
  {
   "cell_type": "code",
   "execution_count": 24,
   "metadata": {},
   "outputs": [],
   "source": [
    "response = requests.get('http://www.hanbit.co.kr/store/books/new_book_list.html')\n",
    "root = lxml.html.fromstring(response.content)"
   ]
  },
  {
   "cell_type": "code",
   "execution_count": 25,
   "metadata": {},
   "outputs": [
    {
     "name": "stdout",
     "output_type": "stream",
     "text": [
      "https://www.hanbit.co.kr/store/books/look.php?p_code=B7623190015\n",
      "https://www.hanbit.co.kr/store/books/look.php?p_code=B4300598719\n",
      "https://www.hanbit.co.kr/store/books/look.php?p_code=B9108907099\n",
      "https://www.hanbit.co.kr/store/books/look.php?p_code=B7015117381\n",
      "https://www.hanbit.co.kr/store/books/look.php?p_code=B7448632539\n",
      "https://www.hanbit.co.kr/store/books/look.php?p_code=B3148701816\n",
      "https://www.hanbit.co.kr/store/books/look.php?p_code=B2591303726\n",
      "https://www.hanbit.co.kr/store/books/look.php?p_code=B9602652686\n",
      "https://www.hanbit.co.kr/store/books/look.php?p_code=B7468885216\n",
      "https://www.hanbit.co.kr/store/books/look.php?p_code=B1108557246\n",
      "https://www.hanbit.co.kr/store/books/look.php?p_code=B9354330938\n",
      "https://www.hanbit.co.kr/store/books/look.php?p_code=B3006151946\n",
      "https://www.hanbit.co.kr/store/books/look.php?p_code=B2388883228\n",
      "https://www.hanbit.co.kr/store/books/look.php?p_code=B4766499846\n",
      "https://www.hanbit.co.kr/store/books/look.php?p_code=B1904486238\n",
      "https://www.hanbit.co.kr/store/books/look.php?p_code=B9380943452\n",
      "https://www.hanbit.co.kr/store/books/look.php?p_code=B6918140228\n",
      "https://www.hanbit.co.kr/store/books/look.php?p_code=B3573121629\n",
      "https://www.hanbit.co.kr/store/books/look.php?p_code=B7132069963\n",
      "https://www.hanbit.co.kr/store/books/look.php?p_code=B8742050283\n"
     ]
    }
   ],
   "source": [
    "# 모든 링크를 절대 URL로 변환\n",
    "root.make_links_absolute(response.url)\n",
    "\n",
    "# 목록에서 javascript 제거\n",
    "for a in root.cssselect('.view_box .book_tit a'):\n",
    "    url = a.get('href')\n",
    "    print(url)"
   ]
  },
  {
   "cell_type": "code",
   "execution_count": null,
   "metadata": {},
   "outputs": [],
   "source": []
  }
 ],
 "metadata": {
  "kernelspec": {
   "display_name": "Python 3",
   "language": "python",
   "name": "python3"
  },
  "language_info": {
   "codemirror_mode": {
    "name": "ipython",
    "version": 3
   },
   "file_extension": ".py",
   "mimetype": "text/x-python",
   "name": "python",
   "nbconvert_exporter": "python",
   "pygments_lexer": "ipython3",
   "version": "3.8.5"
  }
 },
 "nbformat": 4,
 "nbformat_minor": 4
}
