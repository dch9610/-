{
 "cells": [
  {
   "cell_type": "markdown",
   "id": "0b9262cd-ff98-476a-a3d1-59cc58fcf40e",
   "metadata": {},
   "source": [
    "# 04.정규분포와 표준화\n",
    "p.247"
   ]
  },
  {
   "cell_type": "markdown",
   "id": "bda91a71-d8eb-4a0e-9d41-8836bcb6a418",
   "metadata": {},
   "source": [
    "---"
   ]
  },
  {
   "cell_type": "markdown",
   "id": "ea47c66f-3c43-425e-804c-313f1cf9f6b0",
   "metadata": {},
   "source": [
    "## 4.1 정규분포"
   ]
  },
  {
   "cell_type": "markdown",
   "id": "9d332a8e-0bcd-46d2-a07a-da6a08588ffc",
   "metadata": {},
   "source": [
    "- 정규분포(normal distribution) : 가우시안분포(Gaussian distribution)라고도 부르며 연속확률분포 중 하나\n",
    "    - 정규분포의 결정 : 평균($ \\mu $)과 표준편차($ \\sigma $)에 의해 결정  ($\\mathcal{N}(\\mu,\\sigma^2)$)"
   ]
  },
  {
   "cell_type": "markdown",
   "id": "e99ef8a5-d59a-4495-abc0-3daa29bf3a05",
   "metadata": {},
   "source": [
    "- 정규분포의 특징\n",
    "    - 평균을 중심으로 좌우대칭인 종모양이다.\n",
    "    - 양극단으로 갈수록 X축에 무한히 접근하지만 X축에 닿지는 않는다.\n",
    "    - 표준편차의 값이 클수록 완만한 경사\n",
    "    - 평균과 표준편차가 어떤 값을 갖더라도, 정규분포의 곡선과 X축 사이의 전체면적은 1이다."
   ]
  },
  {
   "cell_type": "markdown",
   "id": "87c70d63-50b5-4afd-9443-2c8e3a8793a9",
   "metadata": {},
   "source": [
    "## 4.2 중심극한정리"
   ]
  },
  {
   "cell_type": "markdown",
   "id": "3e0eea7b-6438-4ac3-8d5a-50f14544e10d",
   "metadata": {},
   "source": [
    "- 중심극한 정리 : 모집단에서 취한 표본의 평균값들의 분포는 평균값을 중심으로 하는 정규분포에 가까워진다.\n",
    "    - 한번 추출한 표본(sample)수가 클수록 정규분포의 중심은 모집단의 평균 값에 가까워짐\n",
    "    "
   ]
  },
  {
   "cell_type": "markdown",
   "id": "29743560-0981-43ae-adf1-526ce52097e9",
   "metadata": {},
   "source": [
    "## 4.3 표준화의 필요성"
   ]
  },
  {
   "cell_type": "markdown",
   "id": "53c2afad-c7e0-4e03-91ce-e2353dab888c",
   "metadata": {},
   "source": [
    "- 표준화 : 값의 스케일이 다른 두 변수가 있을때 스케일 차이를 제거하고, 각 관측값이 평균을 기준으로 얼마나 떨어져 있는지를 나타낼때 사용\n",
    "    "
   ]
  },
  {
   "cell_type": "markdown",
   "id": "4513cb35-ab41-4ee8-af72-cec84eea61c8",
   "metadata": {},
   "source": [
    "- 표준화 과정\n",
    "    1. 원래 값에서 평균을 뺀다\n",
    "        - 중심화 : 관측값에서 평균을 뺌\n",
    "        - 같은 점수라도 어느 쪽이 상대적으로 평균보다 큰 값인지 작은 값인지 확인가능\n",
    "        \n",
    "    2. 위의 결과값을 표준편차로 나눈다.\n",
    "        - 척도화(Scaling) : 얼마나 평균에서 먼 값인지가 상대적인 척도로 계산\n",
    "        - 표준화 식 : Z = $(X-\\mu)/\\sigma$"
   ]
  },
  {
   "cell_type": "markdown",
   "id": "006592af-4aef-4012-983e-d3fe08f8087b",
   "metadata": {},
   "source": [
    "## 4.4 표쥰정규분포"
   ]
  },
  {
   "cell_type": "markdown",
   "id": "dcddba72-a1a4-4c2a-833a-5a567e3d196b",
   "metadata": {},
   "source": [
    "- 표준정규분포 : 정규분포를 표준화\n",
    "    - 평균이 0이고, 표준편차가 1인 정규분포 N(0,$1^2$)\n",
    "    - X 대신 Z를 확률변수로 쓰기 때문에 Z-분포라고도 함\n",
    "    - 확률변수 Z가 취할 수 있는 값의 범위 : $-\\infty < Z < \\infty$\n",
    "    - 표준정규 곡선과 Z축 사이의 면적의 합은 1"
   ]
  },
  {
   "cell_type": "markdown",
   "id": "ee71e4ae-2e2a-456f-9795-8ab50a7e249f",
   "metadata": {},
   "source": [
    "## Summary"
   ]
  },
  {
   "cell_type": "markdown",
   "id": "dc1753fa-6b0f-4937-a4ae-a47e53b94574",
   "metadata": {},
   "source": [
    "- 정규분포의 모양은 평균과 표준편차에 의해서 결정되는데 그래프로 표현하면 좌우대칭의 종모양\n",
    "- 중심극한정리 : 모집단에서 취한 표본의 평균값들의 분포는 평균값을 중심으로 하는 정규분포에 가까워진다.\n",
    "- 표준화 : 값의 스케일이 다른 두 변수가 있을 때 스케일의 차이를 제거하고, 각 관측값이 평균을 기준으로 얼마나 떨어져 있는지를 나타낼때 사용\n",
    "- 표준정규분포 : 정규분포를 표준화시키면 평균이 0, 표준편차가 1인 정규분포로 됨\n",
    "    - X 대신 Z를 확률변수로 쓰기 때문에 Z-분포라고도 부름"
   ]
  }
 ],
 "metadata": {
  "kernelspec": {
   "display_name": "Python 3",
   "language": "python",
   "name": "python3"
  },
  "language_info": {
   "codemirror_mode": {
    "name": "ipython",
    "version": 3
   },
   "file_extension": ".py",
   "mimetype": "text/x-python",
   "name": "python",
   "nbconvert_exporter": "python",
   "pygments_lexer": "ipython3",
   "version": "3.8.8"
  }
 },
 "nbformat": 4,
 "nbformat_minor": 5
}
