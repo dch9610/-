{
 "cells": [
  {
   "cell_type": "markdown",
   "id": "7f1fbbfc-f8f2-46eb-bf72-dba6a9ce80d6",
   "metadata": {},
   "source": [
    "# 05.가설검정\n",
    "p.253"
   ]
  },
  {
   "cell_type": "markdown",
   "id": "7c3abfa3-cdc9-4097-9d43-81779988b1cf",
   "metadata": {},
   "source": [
    "## 5.1 귀무가설과 대립가설"
   ]
  },
  {
   "cell_type": "markdown",
   "id": "bcb6ba59-3f43-441e-9d9b-1abeaab85c24",
   "metadata": {},
   "source": [
    "- 통계적 가설 : 하나의 특정 주장을 모수를 이용해 나타낸 형태를 지칭\n",
    "- 귀무가설(null hypothesis) : 통계학에서 처음부터 버릴 것을 예상하는 가설\n",
    "    - ex) 새로운 감기 치료제로 치료한 환자의 평균 치료 기간에 변화가 없다\n",
    "- 대립가설(alternative hypothesis) : 연구자가 연구를 통해 입증되기를 기대하는 예상이나 주장하는 내용\n",
    "    - ex) 새로운 감기 치료제로 치료한 환자의 평균 치료 기간에 변화가 있다.\n",
    "    - 단측 대립가설 : 관련성을 결정할 때, 그 방향이 미리 어느 한쪽으로 결정되어 있는 경우\n",
    "    - 양측 대립가설 : '차이가 존재하는가?'라는 면에서만 관심, 그 방향은 따지지 않는 가설\n",
    "\n",
    "<br>\n",
    "\n",
    "- 귀무가설 채택시 대립가설은 기각 | 귀무가설 기각시 대립가설이 채택"
   ]
  },
  {
   "cell_type": "markdown",
   "id": "2b68236a-75ed-4dc7-b297-a58005028e14",
   "metadata": {},
   "source": [
    "## 5.2 유의확률"
   ]
  },
  {
   "cell_type": "markdown",
   "id": "7c4c6167-bdd7-408f-97e9-68842529e85f",
   "metadata": {},
   "source": [
    "- 유의확률(p-value) : 실제로는 차이가 없는데 '우연히 집단 간의 차이가 있는 데이터가 추출되었을 확률'\n",
    "    - 유의확률이 크면 '집단 간 차이가 통계적으로 유의하지 않다'고 해석\n",
    "        - 귀무가설이 채택되고, 대립가설은 기각\n",
    "    - 유의확률이 작다면 '집단 간 차이가 통계적으로 유의하다'고 해석\n",
    "        - 귀무가설이 기각되고, 대립가설이 채택\n",
    "        \n",
    "<br>\n",
    "\n",
    "- 유의확률 판단 기준\n",
    "    - 유의수준(significance level) : 일반적으로 0.05로 사용(절대기준 아님)\n",
    "    - 1-유의수준 신뢰구간 또는 신뢰수준\n",
    "    - 0.05가 유의수준이라면 95% 신뢰 수준을 기준으로 한다는 의미"
   ]
  },
  {
   "cell_type": "markdown",
   "id": "a20ef2c9-dae5-48f6-91de-8611a95112b5",
   "metadata": {},
   "source": [
    "## 5.3 t-검정"
   ]
  },
  {
   "cell_type": "markdown",
   "id": "73d46478-73ef-4fcc-8b6c-b18fc073e0a1",
   "metadata": {},
   "source": [
    "- 가설 검정 : 모집단에 대한 가설을 설정한 후에 표본 관찰을 통해 그 가설의 채택 여부를 결정하는 분석 방법\n",
    "    - 귀무가설과 대립가설 중에 하나를 선택하는 과정\n",
    "    - 귀무가설이 옳다는 전제하에 p-value를 구한 후\n",
    "        - 유의수준보다 크면 귀무가설을 채택하고, 작으면 귀무가설을 기각\n",
    "\n",
    "- t-검정(t-test) : 두 집단이 유의하게 차이가 있는지를 판별할 때 표본의 평균값을 활용하는 검정\n",
    "    - 비교 대상이 같은 집간 -> 대응 이표본 t-검정\n",
    "    - 비교 대상이 다른 집단 -> 독립 이표본 t-검정\n",
    "    - 하나의 모집단에서 추출한 표본으로 모집단의 모수 추정 -> 일표본 t-검정"
   ]
  },
  {
   "cell_type": "markdown",
   "id": "0986cce4-7cfe-46c6-a4f2-e83b2ef33b68",
   "metadata": {},
   "source": [
    "- t-검정의 가정 : 두 모집단은 정규분포를 따른다\n",
    "    \n",
    "- t-검정의 과정 \n",
    "    1. t-value와 자유도(n-1)를 구한다. 여기에서 n은 표본의 수를 의미\n",
    "    2. 자유도의 t-분포를 구한다.\n",
    "    3. t-분포에서 t-value의 위치를 찾아 p-value를 계산한다.\n",
    "    4. p-value를 유의수준(0.05)와 비교\n",
    "    \n",
    "**p-value가 유의수준보다 작다면 귀무가설을 기각하고 대립가설을 채택**"
   ]
  },
  {
   "cell_type": "markdown",
   "id": "1d716c63-21a0-4809-88b0-c1926317ff8a",
   "metadata": {},
   "source": [
    "## 5.4 ANOVA"
   ]
  },
  {
   "cell_type": "markdown",
   "id": "d6c47dcd-a344-4e08-8cff-f0ded150ba6e",
   "metadata": {},
   "source": [
    "- 분산분석(analysis of variance, ANOVA) : 집단 간 또는 집단 내의 차이를 검정하는데 표본의 분산을 활용하는 검정\n"
   ]
  },
  {
   "cell_type": "markdown",
   "id": "21957815-22a5-4923-a809-784994829693",
   "metadata": {},
   "source": [
    "- 집단 간 분산과 집단 내 분산의 비를 f-value(f통계량)라고 하고 이를 f-검정에서 활용\n",
    "- 분산의 비 : f-value = $집단 간 분산 / 집단 내 분산$"
   ]
  },
  {
   "cell_type": "markdown",
   "id": "bf2c8358-31ef-44b9-ad1f-a2c0e8c1f544",
   "metadata": {},
   "source": [
    "- 분산 분석의 기본 가정\n",
    "    - 가정 1 : 각 집단에 해당되는 모집단의 분포는 정규분포\n",
    "    - 가정 2 : 각 집단에 해당되는 모집단의 분산이 같다.\n",
    "    - 가정 3 : 각 모집단 내에서의 오차나 모집단 간의 오차는 서로 독립적이다."
   ]
  },
  {
   "cell_type": "markdown",
   "id": "52c43534-efa1-483d-8ba8-181b3b87f635",
   "metadata": {},
   "source": [
    "- t-검정의 과정 \n",
    "    1. t-value와 자유도(n-1)를 구한다. 여기에서 n은 표본의 수를 의미\n",
    "    2. 자유도의 t-분포를 구한다.\n",
    "    3. t-분포에서 t-value의 위치를 찾아 p-value를 계산한다.\n",
    "    4. p-value를 유의수준(0.05)와 비교"
   ]
  },
  {
   "cell_type": "markdown",
   "id": "f22977f8-185c-42f3-b6ea-8cf62b477f15",
   "metadata": {},
   "source": [
    "## 5.5 가설 검정의 결과와 오류\n",
    "- 1종 오류 : 귀무가설이 사실인데 귀무가설을 기각했을때의 오류\n",
    "- 2종 오류 : 반대로 대립가설이 사실인데 귀무가설을 채택했을 때 오류"
   ]
  },
  {
   "cell_type": "markdown",
   "id": "5fa80a3d-e011-446f-a392-a92973a57d44",
   "metadata": {},
   "source": [
    "## Summary"
   ]
  },
  {
   "cell_type": "markdown",
   "id": "2e38ac66-1229-47f9-b6c2-4e0cbfff9eef",
   "metadata": {},
   "source": [
    "- 귀무가설은 '차이가 없거나 의미있는 차이가 없다'를 기본 전제로 하는 가설\n",
    "- 대립가설은 '차이가 있다'고 보는 가설로써 연구자가 입증되기를 기대하는 가설\n",
    "- 유의확률 : 실제로는 차이가 없는데 우연히 집단 간의 차이가 있는 데이터가 추출되었을 확률\n",
    "- 유의수준 : 유의확률값을 '크다' 또는 '작다'로 판단하는 기준\n",
    "- t-검정 : 두 집단이 유의하게 차이가 있는지를 판별할 때 표본의 평균값을 활용하는 검정\n",
    "- ANOVA : 집단 간 차이를 검정하는데 표본의 분산을 활용하는 검정"
   ]
  },
  {
   "cell_type": "code",
   "execution_count": null,
   "id": "98cb4b06-7076-4698-bf03-8cac270c1ef8",
   "metadata": {},
   "outputs": [],
   "source": []
  }
 ],
 "metadata": {
  "kernelspec": {
   "display_name": "Python 3",
   "language": "python",
   "name": "python3"
  },
  "language_info": {
   "codemirror_mode": {
    "name": "ipython",
    "version": 3
   },
   "file_extension": ".py",
   "mimetype": "text/x-python",
   "name": "python",
   "nbconvert_exporter": "python",
   "pygments_lexer": "ipython3",
   "version": "3.8.8"
  }
 },
 "nbformat": 4,
 "nbformat_minor": 5
}
