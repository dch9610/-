{
 "cells": [
  {
   "cell_type": "markdown",
   "id": "2e675965-db8a-4173-bd43-5e153432f56b",
   "metadata": {},
   "source": [
    "# 01. 빅데이터 시각화 이해"
   ]
  },
  {
   "cell_type": "markdown",
   "id": "780e6bc0-71f9-42c2-8de0-95883240c42a",
   "metadata": {},
   "source": [
    "---"
   ]
  },
  {
   "cell_type": "markdown",
   "id": "5e1c2a1e-37ee-450f-881c-fefba9011231",
   "metadata": {},
   "source": [
    "## 데이터시각화란"
   ]
  },
  {
   "cell_type": "markdown",
   "id": "d7b6529a-53a3-44a7-a6e2-93f5d05d63d0",
   "metadata": {},
   "source": [
    "- 광범위하게 분산된 방대한 양의 자료를 분석해 한눈에 볼 수 있도록 도표나 차트등으로 정리\n",
    "\n",
    "- 얻을수 있는 효과\n",
    "    - 자료로부터 정보를 습득하는 시간 절검\n",
    "    - 자료를 습득하는 사람들의 흥미를 유발, 정보의 빠른 확산\n",
    "    - 자료를 기억하는데 도움"
   ]
  },
  {
   "cell_type": "markdown",
   "id": "763fa8f8-2164-4176-b7a6-faec5d60dda3",
   "metadata": {},
   "source": [
    "- 데이터 시각화 활용 목적\n",
    "    1. 탐색적 문제해결(EDA) : 데이터 분석을 위한 데이터 패턴, 주요변수, 특징확인\n",
    "    2. 현상의 해석 : 현상을 시각적으로 표현하고 데이터로부터 인사이트 발굴\n",
    "    3. 시각적 스토리텔링 : 분석된 데이터의 효과적인 전달/설득\n",
    "    \n",
    "1. 분석요건 정의\n",
    "2. 분석모델링\n",
    "3. 분석 및 검증\n",
    "4. 결과해석/전달"
   ]
  },
  {
   "cell_type": "markdown",
   "id": "c5319ba1-7f2a-4cc0-b923-6601939a7021",
   "metadata": {},
   "source": [
    "### 분석프로세스"
   ]
  },
  {
   "cell_type": "markdown",
   "id": "62eee887-bda7-4429-8b28-8f6d303df576",
   "metadata": {},
   "source": [
    "[![Vue](/image/분석 프로세스.png)]"
   ]
  },
  {
   "cell_type": "markdown",
   "id": "34b607a7-2db1-442a-827f-2f9ea0d855dd",
   "metadata": {},
   "source": [
    "---"
   ]
  },
  {
   "cell_type": "markdown",
   "id": "acec20ce-0c4f-466b-8ac7-b4a17139c8d9",
   "metadata": {},
   "source": [
    "### 빅데이터 시각화 특징과 요건"
   ]
  },
  {
   "cell_type": "markdown",
   "id": "7ca0e564-ede3-4e5e-af6f-273ff1ee2e27",
   "metadata": {},
   "source": [
    "- 빅데이터 시각화 특징\n",
    "    - 데이터를 기반으로 객관적 표현에 초점\n",
    "    - 정보형 메시지를 전달하기 위한 시각화\n",
    "    - 양적 정보 디자인으로 정보의 내용과 환경이 복잡\n",
    "    - 데이터를 기초로 해석된 의미의 설득형 메시지 전달의 경우 유용\n",
    "    \n",
    "- 빅데이터 시각화 요건\n",
    "    - 표현이 다차원적\n",
    "    - 시각표현이 병행되어야 함"
   ]
  },
  {
   "cell_type": "markdown",
   "id": "3f91a495-e5ce-42ad-8d47-c2c785539c25",
   "metadata": {},
   "source": [
    "### 빅데이터 시각화 프로세스"
   ]
  },
  {
   "cell_type": "markdown",
   "id": "10defab6-9e3e-45e0-8dca-3efe6b1c93d5",
   "metadata": {},
   "source": [
    "- 단계\n",
    "1. 정보의 구조화 \n",
    "    - 데이터 수집 및 탐색\n",
    "    - 데이터 분류하기\n",
    "    - 데이터 배열하기\n",
    "    - 데이터 재배열\n",
    "    - 다양한 빅데이터 시각화툴 사용\n",
    "2. 정보의 시각화\n",
    "    - 전문가 수준의 툴을 이용 다양한 데이터를 시각화\n",
    "    - 어떤 이유로, 왜 쓰는지, 어떻게 표현하는지가 중요한 요소(그래프의 효율적인 이용관점)\n",
    "\n",
    "3. 정보 시각표현\n",
    "    - 시각적으로 다듬거나 시각 표현을 극대화하는 방안\n"
   ]
  },
  {
   "cell_type": "markdown",
   "id": "a45c7f88-584b-4635-a57a-4d79de1bd9f0",
   "metadata": {},
   "source": [
    "---"
   ]
  },
  {
   "cell_type": "markdown",
   "id": "20096e58-cff9-454c-a3f4-70999e76e34f",
   "metadata": {},
   "source": [
    "### 시각화 표현 분류"
   ]
  },
  {
   "cell_type": "markdown",
   "id": "bfb8fe33-93e6-440c-9420-031e0bc62492",
   "metadata": {},
   "source": [
    "- 시간 시각화\n",
    "    - 막대, 누적 막대, 점 그래프\n",
    "    \n",
    "- 비율(분포) 시각화\n",
    "    - 파이, 도넛 차트\n",
    "    - 트리맵\n",
    "    - 누적 연속 그래프\n",
    "\n",
    "- 관계 시각화\n",
    "    - 스캐터 플롯\n",
    "    - 버블 차트(3개 변수)\n",
    "    - 히스토그램\n",
    "    \n",
    "- 비교 시각화\n",
    "    - 히트맵\n",
    "    - 체르노프 페이스\n",
    "    - 스타차트\n",
    "    - 평행 좌표계\n",
    "    - 다차원 척도법\n",
    "\n",
    "- 공간 시각화\n",
    "    - 지도 매핑"
   ]
  },
  {
   "cell_type": "markdown",
   "id": "c5d7f632-faa2-4b1c-abd0-d6ed76ceb576",
   "metadata": {},
   "source": [
    "**Tableau, D3JS 이용**"
   ]
  },
  {
   "cell_type": "code",
   "execution_count": null,
   "id": "2e423023-ff4d-436b-803e-a69fc559160d",
   "metadata": {},
   "outputs": [],
   "source": []
  },
  {
   "cell_type": "markdown",
   "id": "d83e6f90-f3e7-4a34-97d1-b11b0014108f",
   "metadata": {},
   "source": [
    "---"
   ]
  },
  {
   "cell_type": "markdown",
   "id": "e98a90f2-84c1-4d0e-8640-402f424fac6d",
   "metadata": {},
   "source": [
    "# 2. 데이터 시각화 원리"
   ]
  },
  {
   "cell_type": "markdown",
   "id": "d126041b-dfef-47a0-8d41-3af8b73b16aa",
   "metadata": {},
   "source": [
    "## 전주의적 속성"
   ]
  },
  {
   "cell_type": "markdown",
   "id": "cfeb37f7-e4b8-4e50-89b7-27348f27263b",
   "metadata": {},
   "source": [
    "- 우리가 의식적으로 노력하지 않아도 한눈에 패턴을 알아채는 시각적 속성"
   ]
  },
  {
   "cell_type": "markdown",
   "id": "7dd191c9-1a94-4378-93ef-9281592065ad",
   "metadata": {},
   "source": [
    "- 속성 요소\n",
    "    - 색상, 색조\n",
    "    - 방향, 길이, 너비, 크기, 형태, 곡률 등\n",
    "    - 공간적 그룹핑\n",
    "    - 이동"
   ]
  },
  {
   "cell_type": "markdown",
   "id": "a16d5462-a14f-4f71-be50-1995aae51c2f",
   "metadata": {},
   "source": [
    "**데이터 시각화는 단순히 시각적 표현만을 의미하는 것이 아닌, 데이터의 정제, 구조화, 분석 등의 전체 과정을 포함하는 의미**"
   ]
  },
  {
   "cell_type": "markdown",
   "id": "f2c66465-3b96-4247-8f6b-3be327c4466e",
   "metadata": {},
   "source": [
    "## 데이터 유형 분류"
   ]
  },
  {
   "cell_type": "markdown",
   "id": "7becff9f-e977-48c7-a39c-6247b56b6fac",
   "metadata": {},
   "source": [
    "- 수치형/ 정량적 데이터 \n",
    "    - 연속형 데이터 :  측정해서 얻을 수 있는 데이터(계량치) ex) 시간, 온도, 무게, 길이 등\n",
    "    - 이산형 데이터 : 헤아려서 얻을 수 있는 데이터(계수치) ex) 불량품수, 사고건수, 매출액 등\n",
    "    - 연속형 데이터가 이산형 데이터보다 많은 정보량을 제공\n",
    "    - 이산형 데이터는 각 범주에 속한 데이터의 개수만 알 수가 있으며, 연속형 데이터로 변환이 불가\n",
    "     **데이터의 척도를 어떻게 정하느냐에 따라 이산형 데이터도 될 수 있고 연속형데이터도 될수 있다**\n",
    "     \n",
    "<br>\n",
    "\n",
    "- 범주형 데이터\n",
    "    - 순서형 데이터 : 범주간에 순서가 주어지는 데이터 ex) 학점, 평가등급, 선호도, 년도 등\n",
    "    - 명목형 데이터 : 범주간에 순서가 없고 동등한 우선순위를 갖는 데이터 ex) 지역, 성별, 메뉴, 분야, 업종 등"
   ]
  },
  {
   "cell_type": "code",
   "execution_count": null,
   "id": "38f13a80-5f98-4e0a-b461-32d3fdbb981d",
   "metadata": {},
   "outputs": [],
   "source": []
  },
  {
   "cell_type": "markdown",
   "id": "7a8aee78-6479-4b76-aadd-4505894d7574",
   "metadata": {},
   "source": [
    "---"
   ]
  },
  {
   "cell_type": "markdown",
   "id": "8844f22f-ea8a-4463-9b46-af90f18df9ad",
   "metadata": {},
   "source": [
    "# 시각적 속성"
   ]
  },
  {
   "cell_type": "markdown",
   "id": "8159a4b7-164d-47d7-931c-469bb08eb1ef",
   "metadata": {},
   "source": [
    "- Visual Mask : 표현되는 차원에 따라 **점,선,면**으로 표현되는 시각적 기호\n",
    "- 시각적 속성\n",
    "    - 점 : Position, Color, Shape, Size\n",
    "    - 선 : Length, Tilt, Color\n",
    "    - 면 : Area, Color, Angle"
   ]
  },
  {
   "cell_type": "markdown",
   "id": "847dc5c6-9160-40ac-b694-838e52d6d5eb",
   "metadata": {},
   "source": [
    "- 정량적 데이터 시각적 속성 : Position, Length, Slope, Angle\n",
    "- 순서형 데이터 시각적 속성 : Area, Intenstity\n",
    "- 명목형 데이터 시각적 속성 : Color, Shape\n",
    "\n",
    "**정량적데이터가 다른 데이터들에 비해 효과적임**"
   ]
  },
  {
   "cell_type": "markdown",
   "id": "96159f96-767d-46a3-860d-79f2115a99c6",
   "metadata": {},
   "source": [
    "## 다양한 그래프"
   ]
  },
  {
   "cell_type": "markdown",
   "id": "9e0ac944-3579-4ae8-97a4-72c5892e81f1",
   "metadata": {},
   "source": [
    "### 1. 점 그래프"
   ]
  },
  {
   "cell_type": "markdown",
   "id": "6ae64ed5-19f2-49b9-85f9-e7de78cbda51",
   "metadata": {},
   "source": [
    "- **x축에 범주형과 수치형 데이터 모두 사용**\n",
    "- 각 척도는 수평축(X축)과 수직축(Y축) 상의 위치를 사용하여 규약화\n",
    "- 산포도는 서로 다른 두 척도를 비교하는데 사용, **두가지 변수 간의 관계를 관찰할때 유용**"
   ]
  },
  {
   "cell_type": "markdown",
   "id": "9463054e-bda7-40ab-8514-b3433034b7fa",
   "metadata": {},
   "source": [
    "### 2. 선 그래프"
   ]
  },
  {
   "cell_type": "markdown",
   "id": "1880a670-a2ac-41f4-b730-e3a31a33223f",
   "metadata": {},
   "source": [
    "- 연속되는 데이터의 변화\n",
    "- 수평축(X축) : 주로 시계열 데이터 사용\n",
    "- 수직축(Y축) : 척도인 수치형 데이터를 표현\n",
    "- 선의 높이와 경사로 추세를 확인\n",
    "- 점과 함께 점선 그래프로 표현가능"
   ]
  },
  {
   "cell_type": "markdown",
   "id": "889b8186-42d6-4ead-ba24-747dd90e3836",
   "metadata": {},
   "source": [
    "### 3.막대 그래프"
   ]
  },
  {
   "cell_type": "markdown",
   "id": "b006f27c-b3c3-4945-bfc2-63e565a17af6",
   "metadata": {},
   "source": [
    "- X축(카테고리, 범주형)에 따라 Y축(값축)길이로 척도를 나타냄\n",
    "- 막대 정렬\n",
    "    - 범주형 데이터가 상호 동등한 레벨의 명목형 데이터일 경우, 값축의 값의 순서대로 정렬하는 것이 하눈에 데이터간의 비교를 쉽게 해줌\n",
    "    - 카테고리 축의 범주형 데이터가 시계열데이터 등의 순서형 데이터(Ordered Data)일 경우, 명목형 데이터의 순서에 따라 막대를 배치\n",
    "    \n",
    "- 최소/최대 항목을 찾을 때 흔히 사용\n",
    "    - 값의 순서대로 정렬했을 때 의미를 찾기가 용이"
   ]
  },
  {
   "cell_type": "markdown",
   "id": "c4620d11-e455-482f-be4b-d55e7f6c1314",
   "metadata": {},
   "source": [
    "### 4. 박스 플롯 & 히스토그램 (분포)"
   ]
  },
  {
   "cell_type": "markdown",
   "id": "5557b0b5-0050-4ce0-8b2c-aca1fac0cc08",
   "metadata": {},
   "source": [
    "- 변수의 분포를 함축하여 보여주는 핵심 값들을 시각화 표현\n",
    "- 해당 변수의 대략적인 범위 및 분포를 쉽게 확인가능\n",
    "- 중간값의 위치에 따라 skewness유추가능\n",
    "\n",
    "<br>\n",
    "\n",
    "- 평균, 최빈값을 유추하기 어렵기에 히스토그램 그래프를 같이 활용"
   ]
  },
  {
   "cell_type": "markdown",
   "id": "6acc21ee-2558-46ee-bfcc-952dbecdd4e3",
   "metadata": {},
   "source": [
    "---"
   ]
  },
  {
   "cell_type": "markdown",
   "id": "d0150b76-14c7-4d87-addc-28785973319b",
   "metadata": {},
   "source": [
    "# 시간 시각화"
   ]
  },
  {
   "cell_type": "markdown",
   "id": "5aef9946-423d-40ec-b0a0-2ff2fde90fcd",
   "metadata": {},
   "source": [
    "- 시간 시각화 : 시간에 따른 데이터의 변화를 표현하며 트렌드, 즉 경향성을 파악\n",
    "- 얻을 수 있는 효과 : 시간의 전후 관계를 감안하면 값의 의미를 더 분명하게 이해 가능\n",
    "- 시간 데이터의 분류\n",
    "    - 분절형 : 데이터의 특정 시점 또는 특정 시간 구간 값 ex) 연도별 현황\n",
    "    - 연속형 : 기온 변화 같은 데이터 ex) 시간간격이 짧은 기온 변화\n",
    "    \n",
    "- 시간 데이터 시각화 방법\n",
    "    - 막대, 누적 막대, 단어들의 바차트, 점 그래프\n",
    "    - 연속형 데이터"
   ]
  },
  {
   "cell_type": "markdown",
   "id": "31ec4909-8e37-4292-8653-78c6b97cbfa4",
   "metadata": {},
   "source": [
    "### 막대 그래프"
   ]
  },
  {
   "cell_type": "markdown",
   "id": "709d5092-092b-414b-9a5d-6c2c4eb385be",
   "metadata": {},
   "source": [
    "- 특징\n",
    "    - 분절형 시간 시각화\n",
    "    - 값들이 뚜렷한 차이를 보이는 경우\n",
    "    - 수치를 길이로 표현해 절대값을 갖는 막대를 배치\n",
    "        - 시간에 따른 트렌드와 경향성을 확인\n",
    "        \n",
    "- 해석\n",
    "    - 시간축 : 시간 순서대로 정렬된 시간의 특정 시점을 나타냄\n",
    "    - 값추 : 그래프의 크기, 범위를 나타냄\n",
    "    \n",
    "- 유의점\n",
    "    - 막대 값들의 차이가 미미하거나 표시할 값의 수가 많은 경우, 비교가 쉽지 않음\n",
    "    - 시각적 차이를 강조하기 위해 막대에 다양한 색상 적용\n",
    "    "
   ]
  },
  {
   "cell_type": "markdown",
   "id": "a5a05a49-7cf8-47d4-a56f-7c1dc9e077ac",
   "metadata": {},
   "source": [
    "### 누적 막대 그래프"
   ]
  },
  {
   "cell_type": "markdown",
   "id": "c2c82d64-c504-45e3-a4e6-3b184e661b1a",
   "metadata": {},
   "source": [
    "- 특징\n",
    "    - 일반적인 막대그래프와 거의 비슷\n",
    "    - 한 구간에 해당하는 막대가 누적\n",
    "    - 한 구간이 몇 개의 세부 항목으로 나뉘면서도 전체의 합이 의미가 있을 때 사용\n",
    "    - 한 구간의 각 세부항목은 질감/색상으로 구분\n",
    "    \n",
    "- 해석\n",
    "    - 시간축 : 시간 순서대로 정렬된 시간의 특정 시점을 나타냄\n",
    "    - 값축 : 그래프의 크기, 범위를 나타냄\n",
    "    - 막대 구간 분할 : 세부항목의 분포 비율을 나타냄\n",
    "    \n",
    "- 유의점 \n",
    "    - 세부항목이 너무 많은 경우 세부 항목에 대한 의미를 발견하기가 어려움"
   ]
  },
  {
   "cell_type": "markdown",
   "id": "107b2410-13cd-4c4c-983e-3eee2763286c",
   "metadata": {},
   "source": [
    "### 점 그래프"
   ]
  },
  {
   "cell_type": "markdown",
   "id": "09ec2e9d-c2f5-45ef-9f7e-56cf0a02ac13",
   "metadata": {},
   "source": [
    "- 특징\n",
    "    - 면적을 표시할 필요가 없어서 적은 공간에 표현 가능\n",
    "    - 두 변수의 연관 관계를 보여줄 때 사용\n",
    "    \n",
    "- 해석\n",
    "    - 시간축 : 시간 순서대로 정렬된 시간의 특정 시점을 나타냄\n",
    "    - 값축 : 그래프의 값을 표시\n",
    "    - 점 : 하나의 점은 X-Y축 좌표의 위치로 표시\n",
    "    \n",
    "- 활용 예\n",
    "    - 월별 공항 이용객 수, 월별 아이스크림 판매 건수"
   ]
  },
  {
   "cell_type": "markdown",
   "id": "4e0bb16b-da2d-4848-9906-d900113db64e",
   "metadata": {},
   "source": [
    "### 점,선 그래프"
   ]
  },
  {
   "cell_type": "markdown",
   "id": "e54fa03e-9f98-44c5-8bdc-f813eecd0a0f",
   "metadata": {},
   "source": [
    "- 특징\n",
    "    - 선으로 표현되는 연속적인 데이터가 끊임없이 변화하는 현상의 추이를 확인\n",
    "    - 변수의 변화, 트렌드, 변화율 정보가 중요한 경우 사용\n",
    "\n",
    "- 해석\n",
    "    - 점 : 하나의 점은 X-Y축 좌표의 위치로 표시\n",
    "    - 선분 : 노드를 연결하는 선으로 노드 간의 변화 추이를 보여줌\n",
    "    \n",
    "- 활용 예\n",
    "    - 월별 아이스크림 판매량 증가 추이"
   ]
  },
  {
   "cell_type": "code",
   "execution_count": null,
   "id": "31c370d9-a0e1-459f-a7c3-cb817979e7fb",
   "metadata": {},
   "outputs": [],
   "source": []
  },
  {
   "cell_type": "code",
   "execution_count": null,
   "id": "a08180c4-d864-4cc5-9c2c-9acdfc75ec31",
   "metadata": {},
   "outputs": [],
   "source": []
  },
  {
   "cell_type": "markdown",
   "id": "9b999b85-9b4a-49f6-a706-f7be809a6fad",
   "metadata": {},
   "source": [
    "---"
   ]
  },
  {
   "cell_type": "markdown",
   "id": "fc39eadc-b8d3-4834-8e71-3cea307ef127",
   "metadata": {},
   "source": [
    "# 비율 시각화"
   ]
  },
  {
   "cell_type": "markdown",
   "id": "b628f8a2-c4dd-412a-9367-06d7c8d3ab8e",
   "metadata": {},
   "source": [
    "- 비율 시각화\n",
    "    - 전체의 관점에서 부분간의 관계를 보여줌\n",
    "    - 비율데이터는 부분을 전부 합치면 1또는 100%가 됨\n",
    "\n",
    "<br>\n",
    "\n",
    "- 얻을 수 있는 효과\n",
    "    - 전체와 부분의 관계, 전체에서 각 부분요소가 차지하는 비율, 최대/최소 영향 요소 도출 가능\n",
    "\n",
    "<br>\n",
    "\n",
    "- 비율 데이터의 특성\n",
    "    - 일반적인 특성은 최대, 최소, 전체분포로 분류\n",
    "    - 순서정렬에서 양 끝을 취하는 경우 최대와 최소라 함\n",
    "\n",
    "<br>\n",
    "\n",
    "- 비율데이터 시각화 기법\n",
    "    - 파이차트, 도넛차트, 트리맵, 누적연속 그래프\n",
    "   "
   ]
  },
  {
   "cell_type": "markdown",
   "id": "acedc9b0-7769-45b8-b679-3aeb20ac7485",
   "metadata": {},
   "source": [
    "### 원(Pie) 그래프"
   ]
  },
  {
   "cell_type": "markdown",
   "id": "fd1c850b-bf12-4057-9eb4-5df8f4850fa7",
   "metadata": {},
   "source": [
    "- 특징\n",
    "    - 부분과 부분 간의 비율을 알아보는데 사용\n",
    "    - 분포의 정도를 총합 100%로 나타내서 부분간의 관계를 보여줌\n",
    "    - 육안으로 면적 가늠 후 그래프 해석이 쉽지 않음\n",
    "    \n",
    "- 해석\n",
    "    - 조각의 각도, 데이터의 값을 전체 360도에 비례하는 각도로 표현\n",
    "    - 조각, 파이의 한 부분은 하나의 분류 또는 데이터 수치 의미\n",
    "    \n",
    "- 유의점\n",
    "    - 최대한 구성요소를 제한하고 내용을 설명하기 위한 텍스트와 %를 포함하는 것이 좋음"
   ]
  },
  {
   "cell_type": "markdown",
   "id": "44cc6469-cad5-4b64-9e9d-a59dde088181",
   "metadata": {},
   "source": [
    "### 도넛(Dount) 차트"
   ]
  },
  {
   "cell_type": "markdown",
   "id": "fa45785a-85c7-44ca-839f-eb25ca59e43e",
   "metadata": {},
   "source": [
    "- 특징 \n",
    "    - 원그래프와 마찬가지로 수치를 각도로 표현\n",
    "    - 중심부를 잘라낸 도넛모양\n",
    "    \n",
    "- 해석\n",
    "    - 조각의 길이 : 조각의 면적에 해당하는 수치\n",
    "       \n",
    "       \n",
    "- 유의점\n",
    "    - 중심의 구멍 때문에 조각에 해당하는 수치는 '조각의 면적'이 아닌 '조각의 길이'로 표현"
   ]
  },
  {
   "cell_type": "markdown",
   "id": "027afb9f-3438-4eec-8cfe-d05bf2cedc0c",
   "metadata": {},
   "source": [
    "### 트리맵(Treemap)차트"
   ]
  },
  {
   "cell_type": "markdown",
   "id": "f622b9d2-6605-4bac-a6da-a0a84ac39e04",
   "metadata": {},
   "source": [
    "- 특징\n",
    "    - 영역 기반의 시각화\n",
    "    - 각 사각형의 크기가 수치를 나타냄\n",
    "    - 한 사각형을 포함하고 있는 바깥의 영역은 그 사각형이 포함된 대분류, 내부의 사각형은 내부적인 세부 분류를 의미\n",
    " \n",
    "- 활용\n",
    "    - 위계구조 기반 데이터나 트리구조 데이터 표현에 유용 (단순 분류별 분포시각화에도 사용가능)\n",
    "    - 1차분류 -> 2차분류 등 의 분류과정을 거쳐야함"
   ]
  },
  {
   "cell_type": "markdown",
   "id": "d429d6fa-b446-462c-8681-fbd25ec4ee52",
   "metadata": {},
   "source": [
    "### 누적연속 그래프|"
   ]
  },
  {
   "cell_type": "markdown",
   "id": "eacf33e3-dfb0-4b7d-b7b1-dea8a53db60a",
   "metadata": {},
   "source": [
    "- 특징 \n",
    "    - 몇 개의 시계열 그래프를 쌓아 올려 빈 공간을 채워가는 것\n",
    "    - 누적 영역 그래프에서 한 시점의 세로 단면을 가져오면 그 시점의 분포를 볼 수 있음"
   ]
  },
  {
   "cell_type": "code",
   "execution_count": null,
   "id": "f3ae803d-545e-44c8-b83a-2ab7762fc3ce",
   "metadata": {},
   "outputs": [],
   "source": []
  },
  {
   "cell_type": "markdown",
   "id": "e39acdbf-3d74-4234-bc58-d9b4fe47bf59",
   "metadata": {},
   "source": [
    "---"
   ]
  },
  {
   "cell_type": "markdown",
   "id": "d9ba8240-3c3d-40d9-be3c-272cce442447",
   "metadata": {},
   "source": [
    "# 관계 시각화"
   ]
  },
  {
   "cell_type": "markdown",
   "id": "6b6439ce-11fa-458b-acdb-1be02be1d928",
   "metadata": {},
   "source": [
    "- 관계 시각화\n",
    "    - 데이터 간의 상관관계를 알면 한 수치의 변화를 통해 다른 수치의 변화를 예측할 수 있음\n",
    "    - 변수(인자)간의 상관관계를 시각적으로 보여주는 시각화 기법\n",
    "    \n",
    "- 얻을 수 있는 효과\n",
    "    - 인자(변수)간의 상관관계를 이용하여 한 수치의 변화를 모니터링하여 다른 수치의 변화 예측에 이용\n",
    "    \n",
    "- 관계데이터 시각화 기법\n",
    "    - 산점도\n",
    "    - 멀티플 산점도\n",
    "    - 히스토그램\n",
    "    - 버블차트"
   ]
  },
  {
   "cell_type": "markdown",
   "id": "5a2e86cd-860d-4281-a5da-bac33eed8f48",
   "metadata": {},
   "source": [
    "### 산점도 그래프"
   ]
  },
  {
   "cell_type": "markdown",
   "id": "22b71e04-eff1-493f-89fa-208b6435488d",
   "metadata": {},
   "source": [
    "- 특징\n",
    "    - 두 데이터 항목의 공통변이를 나타내는 2차원도표\n",
    "    - 가로축과 세로축의 변수값에 대응하는 점을 좌표에 배치하여 상관관계를 확인\n",
    "\n",
    "- 관계 해석\n",
    "    - 점들이 오른쪽 위로 상승 추세 -> 양의 상관관계\n",
    "    - 점이 오른쪽 아래로 하강 추세 -> 음의 상관관계\n",
    "    - 점의 배치에 패턴이 보이지 않음 -> 상관관계 없음\n",
    "    \n",
    "- 활용\n",
    "    - 데이터가 얼마나 분포됐는지 또는 데이터 포인트들 간의 관련 여부 이해에 도움\n",
    "    - 데이터 분포에 존재하는 패턴의 신속한 식별\n",
    "    - 데이터 포인트가 많을 때 특히 유용"
   ]
  },
  {
   "cell_type": "markdown",
   "id": "1b713614-0dd3-4708-a390-b84c823a6bee",
   "metadata": {},
   "source": [
    "### 버블 차트"
   ]
  },
  {
   "cell_type": "markdown",
   "id": "cca58935-95d1-4bfd-be36-57bd50f20285",
   "metadata": {},
   "source": [
    "- 특징 \n",
    "    - 3가지 요소의 상관관계를 표현할 수 있는 방법\n",
    "    - 가로축 변수, 세로축 변수, 버블의 크기\n",
    "    \n",
    "- 활용\n",
    "    - 수십 또는 수백 개의 값을 갖거나 값들이 몇자릿수씩 차이가 나는 데이터 세트에 유용\n",
    "    - 특정 값들을 다양한 크기의 버블로 시각적인 표현을 하고자 할때도 사용가능\n",
    "\n",
    "- 예시 설명\n",
    "    - 분석데이터 : 청소년 학교폭력 경험비율 조사자료\n",
    "    - 가로축 : 학교폭력피해경험비율\n",
    "    - 세로축 : 학교폭력가해경험비율\n",
    "    - 버블크기 : 총 응답자수(그룹집단의 총수)\n",
    "    - 버블종류(색) : 그룹집단"
   ]
  },
  {
   "cell_type": "markdown",
   "id": "ff7363d9-e6e3-405a-a13b-0a5878eb6896",
   "metadata": {},
   "source": [
    "### 히스토그램 차트"
   ]
  },
  {
   "cell_type": "markdown",
   "id": "a0159f1d-0ecb-4342-ad65-7bcf5a68cb67",
   "metadata": {},
   "source": [
    "- 특징\n",
    "    - 평균값을 중심으로 양 옆으로 점진적인 감소 모양을 보이는 종곡선\n",
    "    - 계급을 가로축에, 도수를 세로축에 나타낸뒤, 각 계급의 크기를 가로의 길이로, 도수를 세로의 길이로 하는 직사각형을 차례로 그려서 표현\n",
    "    - 가로축과 세로축은 연속적임\n",
    "    \n",
    "- 데이터 해석\n",
    "    - 왼쪽으로 치우친 모양 : 데이터가 전체 범위에서 수치가 낮은 쪽에 몰려있음\n",
    "    - 오른쪽에 치우친 모양 : 높은 쪽에 몰려있음\n",
    "    - 수평선 형태 : 균일한 분포를 의미\n",
    "    - 막대의 높이는 빈도, 폭은 의미가 거의 없음\n",
    "    - 계급의 크기는 직사각형의 가로의 길이\n",
    "    - 도수의 크기는 세로의 길이"
   ]
  },
  {
   "cell_type": "code",
   "execution_count": null,
   "id": "ff2de25f-59d4-48ea-a4bf-eca9d4a7d31c",
   "metadata": {},
   "outputs": [],
   "source": []
  },
  {
   "cell_type": "markdown",
   "id": "720a3776-7904-41a4-a59a-6dcf3aea3b0d",
   "metadata": {},
   "source": [
    "---"
   ]
  },
  {
   "cell_type": "markdown",
   "id": "5f93c242-dcad-47c7-ba51-3d8fac80b60a",
   "metadata": {},
   "source": [
    "# 비교 시각화"
   ]
  },
  {
   "cell_type": "markdown",
   "id": "0b0125b1-d41a-4769-b737-16dc5f0c40e5",
   "metadata": {},
   "source": [
    "- 필요한 이유\n",
    "    - 여러 개의 변수를 다뤄야할때 마주하는 첫번째 난관 -> 시작점을 찾는 것\n",
    "    - 많은 데이터를 끊임없이 생각하다 보면 너무 많은 변수와 세부 분류에 압도되어 분석이 어려워짐\n",
    "    \n",
    "- 비교 시각화\n",
    "    - 데이터를 전체적으로 한눈에 볼 수 있도록 값을 색으로 나타내는 방법으로 시각화\n",
    "    \n",
    "- 얻을 수 있는 효과\n",
    "    - 모든 데이터를 한번에 흝어본 다음 흥미로운 점을 짚고 다른 점을 찾아가는 방향을 제시 해줄수 있음\n",
    "    - 여러 변수의 비교가 가능\n",
    "    \n",
    "- 비교시각화 기법\n",
    "    - 히트맵, 히트행렬, 체르노프 페이스, 스타차트/나이팅게일 차트, 평행 좌표계"
   ]
  },
  {
   "cell_type": "markdown",
   "id": "74c903ea-2875-4c7b-a0b3-33311fcc5509",
   "metadata": {},
   "source": [
    "### 히트맵"
   ]
  },
  {
   "cell_type": "markdown",
   "id": "eaf27b7b-81a5-4a52-80d8-570df0c2b7e5",
   "metadata": {},
   "source": [
    "- 특징\n",
    "    - 여러가지 변수를 비교 가능\n",
    "    - 한 칸의 색상으로 데이터 값을 표현\n",
    "    \n",
    "- 해석\n",
    "    - 하나의 대상에 해당하는 한 행을 왼쪽 -> 오른쪽으로 보면서 모든 변수를 파악가능\n",
    "    - 변수에 대응하는 한 열을 위 -> 아래로 읽을 수 있음\n",
    "\n",
    "- 유의점\n",
    "    - 데이터가 지나치게 많을 경우 혼란스러울 수 있음\n",
    "    - 적당한 색상 선택, 약간의 정렬과정을 거쳐야함\n",
    "    \n",
    "- 예시 데이터\n",
    "    - 스포츠의 개인기록\n",
    "    \n",
    "  "
   ]
  },
  {
   "cell_type": "markdown",
   "id": "dc8fb5f8-2f35-406f-9f6b-94ad8ff55167",
   "metadata": {},
   "source": [
    "### 스타차트(방사형차트) / 나이팅게일 차트"
   ]
  },
  {
   "cell_type": "markdown",
   "id": "2fad5dd7-bb2d-4f8c-bd99-0375e0a52678",
   "metadata": {},
   "source": [
    "- 특징\n",
    "    - 거미줄 차트 또는 방사형 차트\n",
    "    - 중앙에서 외부 링까지 이어지는 몇개의 축을 그리고, 전체 공간에서 하나의 변수마다 축 위의 중앙으로부터의 거리로 수치를 나타냄\n",
    "    - 중심점 : 축이 나타내는 최소값\n",
    "    - 바깥점 : 가장 먼 끝은 최대값을 나타냄"
   ]
  },
  {
   "cell_type": "markdown",
   "id": "d4eba708-b657-463b-b24c-b0ca8b634a5d",
   "metadata": {},
   "source": [
    "- 나이팅게일 차트 특징\n",
    "    - '면적'에 따라 데이터를 비교\n",
    "    - 2차원이면서 다차원데이터를 표현\n",
    "    - 퍼센트를 각도로 표현하는 파이차트와 다름"
   ]
  },
  {
   "cell_type": "markdown",
   "id": "c1d7aa7a-654e-4d3f-bb05-eead10d7ddd8",
   "metadata": {},
   "source": [
    "### 평행 좌표계"
   ]
  },
  {
   "cell_type": "markdown",
   "id": "63f2a155-c045-4c92-979e-3ee4fd2ffbb4",
   "metadata": {},
   "source": [
    "- 특징\n",
    "    - 대상이 많은 데이터에서 집단적인 경향성을 쉽게 알아볼수 있게 해줌\n",
    "    - 여러 축을 평행으로 배치해서 만듦\n",
    "    - Y축에서 윗부분은 변수 값 범위의 최대값, 아래는 변수 값 범위의 최소값\n",
    "    - 측정 대상은 변수 값에 따라 위아래로 이어지는 연결선으로 그려짐\n",
    "    \n",
    "- 활용 \n",
    "    - 데이터 분석의 초기 단계에 많은 변수들 중 변수들 간의 경향을 찾을 때 유용\n",
    "    - 주로 디자인 적용하여 경향성을 시각적으로 설득력 있게 전달시에 활용\n",
    "    \n",
    "    "
   ]
  },
  {
   "cell_type": "markdown",
   "id": "f3cfe9fa-5ea0-47c0-ac95-3ebfd55ca0a3",
   "metadata": {},
   "source": [
    "### 다차원 척도법"
   ]
  },
  {
   "cell_type": "markdown",
   "id": "a61b1277-1b5b-43ef-b6ba-6f0bdae8f9b3",
   "metadata": {},
   "source": [
    "- 특징\n",
    "    - 데이터세트상의 개별 데이터간의 유사도를 바탕으로 시각화\n",
    "    -대상에 대한 선호도를 나타내는 데이터 대상과 대상 사이의 적당한 성질과 차원을 분류\n",
    "    \n",
    "    \n",
    "- 활용\n",
    "    - 표현하고자 하는 객체간 간격이 발생하는 거리 행렬을 포함하는 데이터 시각화에 유용\n",
    "    - 유사성이 작은 대상끼리는 멀리, 유사성이 큰 대상끼리는 가까이 위치시킴\n",
    "    - 데이터 속에 잠재된 패턴을 분석\n",
    "    - 분류를 시각적으로 표시\n",
    "    \n",
    "- 활용 예\n",
    "    - 온라인 게임의 장르별 거리 및 위치 모형 파악"
   ]
  },
  {
   "cell_type": "code",
   "execution_count": null,
   "id": "38d31f09-8034-436e-b78c-d02c2b2f7032",
   "metadata": {},
   "outputs": [],
   "source": []
  },
  {
   "cell_type": "markdown",
   "id": "dd26886f-8e48-46f3-8e21-ad2e0fb38f70",
   "metadata": {},
   "source": [
    "---"
   ]
  },
  {
   "cell_type": "markdown",
   "id": "5d5ef6a7-8f60-4dd6-9f25-bffbcce6d73a",
   "metadata": {},
   "source": [
    "# 빅데이터 시각화 유의점"
   ]
  },
  {
   "cell_type": "markdown",
   "id": "2b8ee391-e6f8-41fe-8529-5df0e252e51e",
   "metadata": {},
   "source": [
    "1. '보는 사람 관점에서' 데이터 시각화의 원리를 이해하라\n",
    "2. 데이터 속성과 활용 목적에 따른 그래프를 선택하라\n",
    "3. **그래프는 보는 사람마다 다르게 해석한다. 강조점을 표현하라**\n",
    "4. 해석과 시사점이 빠진 그래프는 무의미하다.\n",
    "5. 지도 그래프가 항상 좋은 것은 아니다. 통계 그래프와 같이 사용하라"
   ]
  }
 ],
 "metadata": {
  "kernelspec": {
   "display_name": "Python 3",
   "language": "python",
   "name": "python3"
  },
  "language_info": {
   "codemirror_mode": {
    "name": "ipython",
    "version": 3
   },
   "file_extension": ".py",
   "mimetype": "text/x-python",
   "name": "python",
   "nbconvert_exporter": "python",
   "pygments_lexer": "ipython3",
   "version": "3.8.8"
  }
 },
 "nbformat": 4,
 "nbformat_minor": 5
}
