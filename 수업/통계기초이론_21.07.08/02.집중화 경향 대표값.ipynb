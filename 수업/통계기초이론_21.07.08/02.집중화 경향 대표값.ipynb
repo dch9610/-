{
 "cells": [
  {
   "cell_type": "markdown",
   "id": "194d2067-0c5d-44c2-8b0d-dfc7d2ff6fae",
   "metadata": {},
   "source": [
    "# 02.기초 통계량과 확률(1) : 집중화 경향 대표값"
   ]
  },
  {
   "cell_type": "markdown",
   "id": "536c9d23-be07-44dc-9868-a74aa53d6b7c",
   "metadata": {},
   "source": [
    "---"
   ]
  },
  {
   "cell_type": "markdown",
   "id": "2213b7e0-966a-479f-9b4e-377623624280",
   "metadata": {},
   "source": [
    "## 2.1 집중화 경향 대표값 : 평균"
   ]
  },
  {
   "cell_type": "markdown",
   "id": "13e88deb-dae8-47be-9624-fa58a10160d0",
   "metadata": {},
   "source": [
    "- 평균(mean, 산술평균) : 주어진 수의 합을 수의 개수로 나눈 값\n",
    "    - 이상치의 영향을 많이 받음"
   ]
  },
  {
   "cell_type": "markdown",
   "id": "1e7d5dfd-11e5-4dcb-9ee8-251fe2b29af8",
   "metadata": {},
   "source": [
    "## 2.2 집중화 경향 대표값 : 중앙값"
   ]
  },
  {
   "cell_type": "markdown",
   "id": "d0c547fa-548d-4f6e-804b-7918e57b8958",
   "metadata": {},
   "source": [
    "- 중앙값 : 어떤 주어진 값들을 크기의 순서대로 정렬했을 때, 가장 중앙에 위치하는 값"
   ]
  },
  {
   "cell_type": "markdown",
   "id": "1e3be1e6-7a01-4ddf-9213-18f4c27b0ccf",
   "metadata": {},
   "source": [
    "## 2.3 집중화 경향 대표값 : 최빈값 "
   ]
  },
  {
   "cell_type": "markdown",
   "id": "7c1a6e45-6dc3-47a3-9773-61254c28a46d",
   "metadata": {},
   "source": [
    "- 최빈값(mode) : 가장 많이 관측되는 수, 즉 주어진 값 중에서 가장 자주 나오는 값"
   ]
  },
  {
   "cell_type": "markdown",
   "id": "85a3c082-e1a8-4ebf-b10b-4e8f7e46d855",
   "metadata": {},
   "source": [
    "---"
   ]
  },
  {
   "cell_type": "markdown",
   "id": "be0443c0-a5ae-452f-b080-0529e5bb6885",
   "metadata": {},
   "source": []
  },
  {
   "cell_type": "markdown",
   "id": "a9fca122-1da3-4c55-878d-1de51951a21f",
   "metadata": {},
   "source": []
  },
  {
   "cell_type": "markdown",
   "id": "fe12fb6a-8347-4b1d-ad7f-4aa14bc74acb",
   "metadata": {},
   "source": [
    "# 02.기초 통계량과 확률(1) : 분산도"
   ]
  },
  {
   "cell_type": "markdown",
   "id": "57b3002e-44d9-4c51-b7bc-be304a487aaf",
   "metadata": {},
   "source": [
    "---"
   ]
  },
  {
   "cell_type": "markdown",
   "id": "8154cc4a-d4c6-4d7e-b1e0-7912643ed9a8",
   "metadata": {},
   "source": [
    "## 2.4 분산도 : 범위와 평균편차"
   ]
  },
  {
   "cell_type": "markdown",
   "id": "a4833892-4851-48e6-a340-9ddf2d908c06",
   "metadata": {},
   "source": [
    "- 분산도 : 데이터가 흩어져 있는 정도\n",
    "- 범위(range) : 단순히 최대값과 최소값의 차를 나타내는 값 (분포의 양상은 설명하지 못함)\n",
    "- 평균편차(mean deviation) : 절대편차라고도 부르며 평균과 개별 관측값 사이 거리의 평균 \n",
    "    - (각 측정치에서 전체 평균을 뺀 절대값으로 표시되는 편차의 평균)"
   ]
  },
  {
   "cell_type": "markdown",
   "id": "18ec1bea-06a1-42bc-83f9-a740f8f1d16c",
   "metadata": {},
   "source": [
    "## 2.5 분산도 : 분산"
   ]
  },
  {
   "cell_type": "markdown",
   "id": "dd5b2699-aaab-4964-adff-daee72b6f2b7",
   "metadata": {},
   "source": [
    "- 분산(variance) : 각 관측값에서 전체 평균을 뺀 값의 제곱의 평균을 말함\n",
    "    - 평균편차가 유용하긴 하지만 분산이 분포의 양상을 더 잘 설명"
   ]
  },
  {
   "cell_type": "markdown",
   "id": "c49d8422-d76d-4bf7-936e-f23eed2642f8",
   "metadata": {},
   "source": [
    "## 2.6 : 표준편차"
   ]
  },
  {
   "cell_type": "markdown",
   "id": "4356db90-d9e4-434d-92d4-d697917414aa",
   "metadata": {},
   "source": [
    "- 표준편차(standard deviation) : 편차를 제곱하면 단위가 없어지는 분산의 단점을 해결하기 위하여 분산에 제곱근을 하여 원래 단위로 돌리기 위한 값\n"
   ]
  },
  {
   "cell_type": "markdown",
   "id": "b536d380-3b8c-4e43-b445-16fd2742704d",
   "metadata": {},
   "source": [
    "- 모집단의 표준편차 : $\\sigma$\n",
    "- 표본의 표준편차 : $\\mathcal{S}$"
   ]
  },
  {
   "cell_type": "markdown",
   "id": "0330006a-9542-4d78-8610-abd8095c740c",
   "metadata": {},
   "source": [
    "## Summary"
   ]
  },
  {
   "cell_type": "markdown",
   "id": "438931ff-ec06-4e3b-b1bc-76027acb9353",
   "metadata": {},
   "source": [
    "- 평균 : 주어진 수의 합을 수의 개수로 나눈 값 (집중화 경향을 나타내는 척도로 많이 사용)\n",
    "- 중앙값 : 어떤 주어진 값들을 크기의 순서대로 정렬했을때 가장 중앙에 위치하는 값\n",
    "- 최빈값 : 가장 많이 관측되는 수\n",
    "- 분산도 : 데이터가 흩어져 있는 정도 / 범위, 평균편차, 분산, 표준편차 등이 있다.\n",
    "    - 범위 : 단순히 최대값과 최소값의 차를 나타내는 값으로 분포의 양상은 설명하지 못한다.\n",
    "    - 평균편차 : 평균과 개별 관측값 사이 거리의 평균\n",
    "    - 분산도 : 분산은 분포의 양상을 평균편차보다 잘 설명하기 때문에 더 유용하고 널리 사용\n",
    "    - 표준편차 : 분산에 제곱근을 하면 원래의 단위로 값을 돌릴 수 있다."
   ]
  }
 ],
 "metadata": {
  "kernelspec": {
   "display_name": "Python 3",
   "language": "python",
   "name": "python3"
  },
  "language_info": {
   "codemirror_mode": {
    "name": "ipython",
    "version": 3
   },
   "file_extension": ".py",
   "mimetype": "text/x-python",
   "name": "python",
   "nbconvert_exporter": "python",
   "pygments_lexer": "ipython3",
   "version": "3.8.8"
  }
 },
 "nbformat": 4,
 "nbformat_minor": 5
}
