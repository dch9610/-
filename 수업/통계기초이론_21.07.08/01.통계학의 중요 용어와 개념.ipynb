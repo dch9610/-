{
 "cells": [
  {
   "cell_type": "markdown",
   "id": "9cbbbe55-fab2-44c4-bf41-ea45534109c9",
   "metadata": {},
   "source": [
    "# 통계학의 중요 용어와 개념"
   ]
  },
  {
   "cell_type": "markdown",
   "id": "a7267ddc-a13f-4e99-9c6f-43237f341276",
   "metadata": {},
   "source": [
    "---"
   ]
  },
  {
   "cell_type": "markdown",
   "id": "7c604a05-4364-40bc-896f-6fa31d808eea",
   "metadata": {},
   "source": [
    "## 1.1 모집단과 표본"
   ]
  },
  {
   "cell_type": "markdown",
   "id": "3143ceac-ab31-4d2a-b57f-14f39db87b18",
   "metadata": {},
   "source": [
    "- 모집단(population) : 정보를 얻고자 하는 관심 대상의 전체 집합을 말함\n",
    "- 표본(sample) : 전체 집합의 데이터를 수집하는것이 불가능하여 모집단 데이터의 일부만 수집 \n"
   ]
  },
  {
   "cell_type": "markdown",
   "id": "35f6d3de-65e6-4805-b468-24066f02ae5c",
   "metadata": {},
   "source": [
    "## 1.2 모수와 통계량"
   ]
  },
  {
   "cell_type": "markdown",
   "id": "97e92385-35dd-42ec-b190-cf7768294ed7",
   "metadata": {},
   "source": [
    "- 모수(parameters) : 모집단의 특성을 수치로 나타낸 것\n",
    "- 통계량(statistic) : 표본의 특성을 수치로 나타낸 것\n",
    "\n",
    "표본을 추출하여 표본의 통계량으로 모집단의 모수를 추정하는 이유 : 모집단의 모든 값에 대한 전수조사가 실용적이지 않거나 불가능한 경우"
   ]
  },
  {
   "cell_type": "markdown",
   "id": "c3bd4b2e-1d76-4f10-8d50-c7ea4281853d",
   "metadata": {},
   "source": [
    "## 1.3 변수와 관측값"
   ]
  },
  {
   "cell_type": "markdown",
   "id": "9a541c6c-f885-4499-9572-3f131a772278",
   "metadata": {},
   "source": [
    "- 행 : 각각의 데이터를 관측한 관측값에 해당\n",
    "- 열 = 변수 : 관측 대상에 따라 데이터가 변할 수 있음\n",
    "\n",
    "* 통계학의 변수를 다른 용어로 차원이라 부름 (변수가 늘어날때마다 다 차원이 늘어난다고 할 수 있음)"
   ]
  },
  {
   "cell_type": "markdown",
   "id": "23d86b02-26e2-4eab-acb0-8e5343f79e62",
   "metadata": {},
   "source": [
    "## 1.4 양적 변수와 질적 변수"
   ]
  },
  {
   "cell_type": "markdown",
   "id": "1f88ced5-a105-47ba-9d1a-e40b6c446207",
   "metadata": {},
   "source": [
    "- 양적 변수 : 크기, 무게, 점수, 인구 수, 기온 등 수치로 나타낼수 있는 변수\n",
    "    - 연속형 변수 : 주어진 범위 내에서 모든 연속적인 값을 취할 수 있는 변수 (키, 무게, 기온 등)\n",
    "    - 이산형 변수 : 정수값만 취할 수 있는 변수 (주문수량, 자녀 수 등)\n",
    "\n",
    "<br>\n",
    "\n",
    "- 질적 변수 : 성별, 거주지 등 수치로 나타낼 수 없는 변수"
   ]
  },
  {
   "cell_type": "markdown",
   "id": "93ed4685-3123-4922-9cdf-52cbf682d503",
   "metadata": {},
   "source": [
    "## 1.5 측정 수준"
   ]
  },
  {
   "cell_type": "markdown",
   "id": "340ff9db-31ec-4586-8084-fdf7df6e9c82",
   "metadata": {},
   "source": [
    "**측정 수준에 따라 분석 방법이 다름 -> 측정 수준을 정확히 아는 것이 중요**"
   ]
  },
  {
   "cell_type": "markdown",
   "id": "be307c02-e854-4dd3-b5f6-6eab0f5d6c12",
   "metadata": {},
   "source": [
    "- 등간척도 또는 구간척도 : 측정 대상의 순서 뿐만 아니라 순서 사이의 간격을 알 수 있고, 그 차이를 계산할 수 있는 척도 \n",
    "    - (온도, IQ등, 10도와 20도의 차이를 계산 할수 있지만 두배더 더운것은 아님)\n",
    "- 비율척도 : 구간 척도의 특징에 추가로 데이터 간 비율 계산도 가능한 척도로 모든 통계적 분석이 가능 \n",
    "    - (무게,거리, 자녀수등)"
   ]
  },
  {
   "cell_type": "markdown",
   "id": "714c1e2d-b64a-4246-9170-c1dedc19be0d",
   "metadata": {},
   "source": [
    "## 1.6 단순랜덤추출, 계통추출\n"
   ]
  },
  {
   "cell_type": "markdown",
   "id": "51643245-d983-43de-9797-a336b9906fa7",
   "metadata": {},
   "source": [
    "- 단순랜덤추출 : 모집단 전체 데이터에서 각 데이터가 표본으로 선택될 확률을 동일하게 갖도록 설계하는 표본 추출방법\n",
    "    - 문제점 : 가장 간단하지만 모든 개체가 추출 이전에 확인되어야하고 표시되어야하기 때문에 비용이 많이 듬\n",
    "    - 유형 : 복원추출, 비복원추출\n",
    "\n",
    "<br>\n",
    "\n",
    "- 계통추출 : 첫 번째 요소를 무작위로 선정한 후 목록의 매번 k번째 요소를 표본으로 선정하는 표집방법\n",
    "    - 문제점 : 주기성을 띄고 있다면, 매우 편향된 표본을 얻게 됨"
   ]
  },
  {
   "cell_type": "markdown",
   "id": "6c8fce17-83b0-44b8-8fd3-7e2c03130041",
   "metadata": {},
   "source": [
    "## 1.7 층화추출, 집락추출"
   ]
  },
  {
   "cell_type": "markdown",
   "id": "42362894-a9a3-4c9b-8974-0d93517feaa1",
   "metadata": {},
   "source": [
    "- 층화추출(Stratified Sampling) : 모집단을 먼저 중복되지 않도록 층으로 나눈 다음 각 층에서 표본을 추출하는 방법\n",
    "    - 장점 : 전체 모집단 뿐만 아니라 각 층의 특성에 대한 추정도 할 수 있음\n",
    "    - 각 층으로부터 표본을 추출할 때 단순임의추출 방법을 쓸 수도 있고 계통추출등 다른 추출 방법을 쓸 수 있음\n",
    "    - 필요에 따라 각 층을 다시 하위층으로 나누어 추출하는 다단계 층화추출을 하기도 함\n",
    "    \n",
    "<br>\n",
    "\n",
    "- 집락추출(Cluster Sampling) : 임의로 몇 개의 집단을 골라 표본을 임의로 추출하는 방법\n",
    "    - 모집단이 몇 개의 집단(cluster)으로 구성되어 있는 경우 사용할 수 있음\n",
    "    - 다단계 표집 방법 : 그 표본에 대하여 다시 집단을 나누고, 그 집단 중 임의로 몇 개의 집단을 선택하는 과정을 몇 단계 거친 후, 마지막으로 선정된 각 집단에서 표본을 추출\n",
    "    "
   ]
  },
  {
   "cell_type": "markdown",
   "id": "78dc48eb-68ed-4dfd-8e12-4d5690606772",
   "metadata": {},
   "source": [
    "## Summary"
   ]
  },
  {
   "cell_type": "markdown",
   "id": "1ba89522-f95d-422e-bd7b-c694ca6132cf",
   "metadata": {},
   "source": [
    "- 모집단이란 정보를 얻고자 하는 관심 대상의 전체 집합을 의미\n",
    "- 표본은 모집단의 부분 집합\n",
    "- 모집단의 특성을 수치로 나타낸 것을 모수\n",
    "- 표본의 특성을 수치로 나타낸 것을 통계량\n",
    "\n",
    "<br>\n",
    "\n",
    "- 데이터의 측정 수준에 따라 명목척도, 서열척도, 등간척도, 비율척도로 구분\n",
    "    - 명목척도 : 관측 대상의 특성을 분류하는 척도\n",
    "    - 서열척도 또는 순서척도 : 크고 작음 등 순서가 표현되는 척도\n",
    "    - 등간척도 또는 구간척도 : 측정 대상의 순서 뿐만 아니라 순서사이의 간격과 그 차이를 계산할 수 있는 척도\n",
    "    - 비율척도 : 구간척도의 특징에 추가로 데이터 간 비율 계산도 가능한 척도\n",
    "        "
   ]
  }
 ],
 "metadata": {
  "kernelspec": {
   "display_name": "Python 3",
   "language": "python",
   "name": "python3"
  },
  "language_info": {
   "codemirror_mode": {
    "name": "ipython",
    "version": 3
   },
   "file_extension": ".py",
   "mimetype": "text/x-python",
   "name": "python",
   "nbconvert_exporter": "python",
   "pygments_lexer": "ipython3",
   "version": "3.8.8"
  }
 },
 "nbformat": 4,
 "nbformat_minor": 5
}
