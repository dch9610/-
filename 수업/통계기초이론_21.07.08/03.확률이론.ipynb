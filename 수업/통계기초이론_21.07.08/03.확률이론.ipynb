{
 "cells": [
  {
   "cell_type": "markdown",
   "id": "e771f52a-4640-46db-9700-33af3db5a696",
   "metadata": {},
   "source": [
    "# 확률이론\n",
    "p.242"
   ]
  },
  {
   "cell_type": "markdown",
   "id": "df6a4b9b-4094-4607-8d78-d10e29a85667",
   "metadata": {},
   "source": [
    "---"
   ]
  },
  {
   "cell_type": "markdown",
   "id": "a8a90cc0-5563-424f-bd5a-d429eb07d3ab",
   "metadata": {},
   "source": [
    "## 3.1 확률 개념"
   ]
  },
  {
   "cell_type": "markdown",
   "id": "c5fc0ee9-4e00-47bd-bd0b-23d24d61a394",
   "metadata": {},
   "source": [
    "- 확률이 100%에 가까울수록 발생할 가능성이 많은 것이고, 확률이 0%에 가까울수록 발생할 가능성이 없다는 의미\n",
    "    - 발생할 가능성이 있는 전체 경우ㅅ의 수를 부분 집합인 사건 A 경우의 수로 나누어 계산\n",
    "    - 동등발생정의 : 2가지 경우의 수가 있을때, 각각이 나올 가능성이 동일하다는 가정\n",
    "    - 경험적인 확률 : 모의 실험을 수없이 반복하여 구한 확률"
   ]
  },
  {
   "cell_type": "markdown",
   "id": "339f2f04-444e-45de-99f2-5ca91901a3e1",
   "metadata": {},
   "source": [
    "## 3.2 조건부 확률"
   ]
  },
  {
   "cell_type": "markdown",
   "id": "d3d0ea76-ec89-4bcd-bcf3-c343dd45327b",
   "metadata": {},
   "source": [
    "사건 B가 일어났을때, A의 조건부 확률 : \n",
    "    두 사건 A,B에 대하여 사건 B가 일어났다는 조건에서 사건 A가 일어날 확률"
   ]
  },
  {
   "cell_type": "markdown",
   "id": "5f2ca899-f80e-4b00-a25c-5ee9d4f9594a",
   "metadata": {},
   "source": [
    "## 3.3 독립사건과 종속사건"
   ]
  },
  {
   "cell_type": "markdown",
   "id": "3e556363-5edc-415d-846a-9e422c5c79e0",
   "metadata": {},
   "source": [
    "- 종속사건(dependent event) : 한 사건의 발생이 다음에 발생할 사건에 영향을 주는 경우\n",
    "- 독립사건(independent event) : 처음에 어떤 결과가 나왔느냐 하는 것이 다음에 어떤 사건이 발생할 확률에 아무 영향을 주지 않는 경우"
   ]
  },
  {
   "cell_type": "markdown",
   "id": "e2626165-8c3b-4840-99d6-d0b48cfb3afa",
   "metadata": {},
   "source": [
    "## 3.4 이산확률변수와 연속확률변수"
   ]
  },
  {
   "cell_type": "markdown",
   "id": "4cf9bcbe-1dab-4e5e-9193-47e157787861",
   "metadata": {},
   "source": [
    "- 이산확률변수 : 표본 공간에서 모든 사건을 정수와 일대일로 대응할 수 있는 변량을 가지는 변수\n",
    "- 연속확률변수 : 어떤 구간의 모든 실수값을 가지는 확률변수"
   ]
  },
  {
   "cell_type": "markdown",
   "id": "5d002b48-9702-49a8-a4ee-a69e539d2862",
   "metadata": {},
   "source": [
    "## 3.5 확률분포와 확률함수"
   ]
  },
  {
   "cell_type": "markdown",
   "id": "c99014ca-cc11-4481-9048-dab040844f43",
   "metadata": {},
   "source": [
    "- 이산확률분포 : 이산확률변수가 가지는 확률분포\n",
    "    - 이산확률 함수(=확률질량함수) P(Xi)\n",
    "    - 막대그래프의 높이로 각 확률변수의 확률 표현"
   ]
  },
  {
   "cell_type": "markdown",
   "id": "0f06368a-1f40-44d7-a66a-cc42d40634b4",
   "metadata": {},
   "source": [
    "- 연속확률분포 : 연속확률변수가 가지는 확률분포\n",
    "    - 확률밀도함수를 통해 분포를 표현할 수 있음\n",
    "    - 연속확률분포에서 확률계산 : 밀도 함수 f(x)와 X축 사이의 어느 구간의 넓이"
   ]
  },
  {
   "cell_type": "markdown",
   "id": "24e89af1-f8ee-47d6-b2e7-9f1c5f572bfd",
   "metadata": {},
   "source": [
    "## 3.6 기대값"
   ]
  },
  {
   "cell_type": "markdown",
   "id": "5aa403ea-0e44-4088-9aa1-41cc571e4b6d",
   "metadata": {},
   "source": [
    "- 기대값 : 각 사건이 벌어졌을 때의 이득(확률변수)과 그 사건이 벌어질 확률을 곱한 것을 전체 사건에 대해 합한 값으로 어떤 확률적 사건에 대한 평균\n",
    "\n",
    "<br>\n",
    "\n",
    "ex) 동전을 한 번 던져서 앞면이 나오면 친구에게 500원을 주기로 하고, 뒷면이 나오면 1000원을 받기로 했다. 동전을 던졌을 때의 기대값은 얼마일까?\n",
    "<pre>\n",
    "E(X) = P(앞면) x -500 + P(뒷면)  x 1000\n",
    "       = 0.5 x -500 + 0.5 x 1000\n",
    "       = -250 + 500\n",
    "       = 250\n",
    "</pre>"
   ]
  },
  {
   "cell_type": "markdown",
   "id": "2a0639e6-3640-4c03-b235-366aaeda243f",
   "metadata": {},
   "source": [
    "## Summary"
   ]
  },
  {
   "cell_type": "markdown",
   "id": "0e3d6f32-044b-44c7-a17b-9d5a27ab06ab",
   "metadata": {},
   "source": [
    "- 사건 B가 일어났을 때, A의 조건부 확률 : 사건 B가 일어났을때 사건 A가 일어날 확률\n",
    "- 종속사건 : 한 사건의 발생이 다음에 발생할 사건에 영향을 주는 경우\n",
    "- 독립사건 : 처음에 어떤 결과가 나왔느냐 하는 것이 다음에 어떤 사건이 발생할 확률에 아무 영향을 주지 않는 경우\n",
    "- 이산확률변수 : 표본공간에서 모든 사건을 정수와 일대일로 대응할 수 있는 변량을 가지는 변수\n",
    "- 연속확률변수 : 어떤 구간의 모든 실수값을 가지는 확률변수\n",
    "- 기대값 : 각 사건이 벌어졌을 때의 이득(확률변수)과 그 사건이 벌어질 확률을 곱한 것을 전체 사건에 대해 합한 값으로 어떤 확률적 사건에 대한 평균"
   ]
  }
 ],
 "metadata": {
  "kernelspec": {
   "display_name": "Python 3",
   "language": "python",
   "name": "python3"
  },
  "language_info": {
   "codemirror_mode": {
    "name": "ipython",
    "version": 3
   },
   "file_extension": ".py",
   "mimetype": "text/x-python",
   "name": "python",
   "nbconvert_exporter": "python",
   "pygments_lexer": "ipython3",
   "version": "3.8.8"
  }
 },
 "nbformat": 4,
 "nbformat_minor": 5
}
